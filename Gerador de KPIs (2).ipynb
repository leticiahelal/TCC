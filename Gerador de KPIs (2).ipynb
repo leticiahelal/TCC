{
 "cells": [
  {
   "cell_type": "code",
   "execution_count": 2,
   "metadata": {},
   "outputs": [],
   "source": [
    "from flask import Flask, jsonify\n",
    "import oracledb\n",
    "import numpy as np \n",
    "import os\n",
    "import json\n",
    "from datetime import datetime\n",
    "import pandas as pd\n",
    "\n",
    "import plotly.graph_objects as go\n",
    "from plotly.subplots import make_subplots\n",
    "import base64\n",
    "import locale\n",
    "from fpdf import FPDF"
   ]
  },
  {
   "cell_type": "code",
   "execution_count": 3,
   "metadata": {},
   "outputs": [],
   "source": [
    "# Conexão ao banco de dados\n",
    "\n",
    "# Criando o DataFrame com os dados e os nomes das colunas \n",
    "df = pd.DataFrame(rows, columns=columns)"
   ]
  },
  {
   "cell_type": "code",
   "execution_count": 5,
   "metadata": {},
   "outputs": [
    {
     "name": "stdout",
     "output_type": "stream",
     "text": [
      "Index(['OEE_APONTAMENTO', 'FAB_PROGRAMADO_OP', 'OP', 'CODGER2', 'PRODUTO',\n",
      "       'DATAENTRADA', 'DATA_INICIO_OPERACAO', 'DATASAIDA', 'QUANT_PROG',\n",
      "       'QUANT_APONTADA', 'QUANT_PERDA', 'QUANT_APONTADA_SALDO',\n",
      "       'COD_UNIDADE_OPERATIVA', 'UNIDADE_OPERATIVA', 'REPETIR_APONTAMENTO',\n",
      "       'FATOR_DIVISAO', 'REVOGADO', 'ENVIO_REBATIDA', 'CARRINHO_PRODUCAO',\n",
      "       'OEE_CELULA_MANUFATURA', 'CODGER', 'PERDA', 'NOME_FAMILIA',\n",
      "       'UNIDADE_OPERATIVA_DESTINO_POSSIVEL',\n",
      "       'UNIDADE_OPERATIVA_DESTINO_EFETIVA'],\n",
      "      dtype='object')\n"
     ]
    }
   ],
   "source": [
    "print(df.columns)"
   ]
  },
  {
   "cell_type": "code",
   "execution_count": 6,
   "metadata": {},
   "outputs": [],
   "source": [
    "df = df.drop(['UNIDADE_OPERATIVA_DESTINO_POSSIVEL','UNIDADE_OPERATIVA_DESTINO_EFETIVA',\n",
    "              'FATOR_DIVISAO', 'REPETIR_APONTAMENTO','REVOGADO', 'ENVIO_REBATIDA','OEE_CELULA_MANUFATURA','CARRINHO_PRODUCAO'], axis=1)"
   ]
  },
  {
   "cell_type": "code",
   "execution_count": 7,
   "metadata": {},
   "outputs": [
    {
     "data": {
      "text/html": [
       "<div>\n",
       "<style scoped>\n",
       "    .dataframe tbody tr th:only-of-type {\n",
       "        vertical-align: middle;\n",
       "    }\n",
       "\n",
       "    .dataframe tbody tr th {\n",
       "        vertical-align: top;\n",
       "    }\n",
       "\n",
       "    .dataframe thead th {\n",
       "        text-align: right;\n",
       "    }\n",
       "</style>\n",
       "<table border=\"1\" class=\"dataframe\">\n",
       "  <thead>\n",
       "    <tr style=\"text-align: right;\">\n",
       "      <th></th>\n",
       "      <th>OEE_APONTAMENTO</th>\n",
       "      <th>FAB_PROGRAMADO_OP</th>\n",
       "      <th>OP</th>\n",
       "      <th>CODGER2</th>\n",
       "      <th>PRODUTO</th>\n",
       "      <th>DATAENTRADA</th>\n",
       "      <th>DATA_INICIO_OPERACAO</th>\n",
       "      <th>DATASAIDA</th>\n",
       "      <th>QUANT_PROG</th>\n",
       "      <th>QUANT_APONTADA</th>\n",
       "      <th>QUANT_PERDA</th>\n",
       "      <th>QUANT_APONTADA_SALDO</th>\n",
       "      <th>COD_UNIDADE_OPERATIVA</th>\n",
       "      <th>UNIDADE_OPERATIVA</th>\n",
       "      <th>CODGER</th>\n",
       "      <th>PERDA</th>\n",
       "      <th>NOME_FAMILIA</th>\n",
       "    </tr>\n",
       "  </thead>\n",
       "  <tbody>\n",
       "    <tr>\n",
       "      <th>0</th>\n",
       "      <td>250304</td>\n",
       "      <td>1876352</td>\n",
       "      <td>103102</td>\n",
       "      <td>01.12.1084</td>\n",
       "      <td>VW960.02P</td>\n",
       "      <td>2024-08-14 16:36:21</td>\n",
       "      <td>NaT</td>\n",
       "      <td>2024-08-14 16:36:21</td>\n",
       "      <td>57.0</td>\n",
       "      <td>5.0</td>\n",
       "      <td>0.0</td>\n",
       "      <td>52.0</td>\n",
       "      <td>42</td>\n",
       "      <td>CORTE / PLASMA / MAQ-281</td>\n",
       "      <td>01.12.1084</td>\n",
       "      <td>0.0</td>\n",
       "      <td>PARABOLICA</td>\n",
       "    </tr>\n",
       "    <tr>\n",
       "      <th>1</th>\n",
       "      <td>250328</td>\n",
       "      <td>1876321</td>\n",
       "      <td>103102</td>\n",
       "      <td>01.12.1081</td>\n",
       "      <td>VW940.01P</td>\n",
       "      <td>2024-08-14 16:47:15</td>\n",
       "      <td>NaT</td>\n",
       "      <td>2024-08-14 16:47:15</td>\n",
       "      <td>23.0</td>\n",
       "      <td>1.0</td>\n",
       "      <td>0.0</td>\n",
       "      <td>22.0</td>\n",
       "      <td>42</td>\n",
       "      <td>CORTE / PLASMA / MAQ-281</td>\n",
       "      <td>01.12.1081</td>\n",
       "      <td>0.0</td>\n",
       "      <td>PARABOLICA</td>\n",
       "    </tr>\n",
       "    <tr>\n",
       "      <th>2</th>\n",
       "      <td>250331</td>\n",
       "      <td>1876321</td>\n",
       "      <td>103102</td>\n",
       "      <td>01.12.1081</td>\n",
       "      <td>VW940.01P</td>\n",
       "      <td>2024-08-14 16:48:42</td>\n",
       "      <td>NaT</td>\n",
       "      <td>2024-08-14 16:48:42</td>\n",
       "      <td>23.0</td>\n",
       "      <td>1.0</td>\n",
       "      <td>0.0</td>\n",
       "      <td>22.0</td>\n",
       "      <td>42</td>\n",
       "      <td>CORTE / PLASMA / MAQ-281</td>\n",
       "      <td>01.12.1081</td>\n",
       "      <td>0.0</td>\n",
       "      <td>PARABOLICA</td>\n",
       "    </tr>\n",
       "    <tr>\n",
       "      <th>3</th>\n",
       "      <td>250362</td>\n",
       "      <td>1876342</td>\n",
       "      <td>103102</td>\n",
       "      <td>01.12.1083</td>\n",
       "      <td>VW960.01P</td>\n",
       "      <td>2024-08-14 17:01:52</td>\n",
       "      <td>NaT</td>\n",
       "      <td>2024-08-14 17:01:52</td>\n",
       "      <td>12.0</td>\n",
       "      <td>1.0</td>\n",
       "      <td>0.0</td>\n",
       "      <td>11.0</td>\n",
       "      <td>42</td>\n",
       "      <td>CORTE / PLASMA / MAQ-281</td>\n",
       "      <td>01.12.1083</td>\n",
       "      <td>0.0</td>\n",
       "      <td>PARABOLICA</td>\n",
       "    </tr>\n",
       "    <tr>\n",
       "      <th>4</th>\n",
       "      <td>250374</td>\n",
       "      <td>1867912</td>\n",
       "      <td>102862</td>\n",
       "      <td>01.02.7801</td>\n",
       "      <td>NM2646.01</td>\n",
       "      <td>2024-08-14 23:05:28</td>\n",
       "      <td>NaT</td>\n",
       "      <td>2024-08-14 23:05:28</td>\n",
       "      <td>198.0</td>\n",
       "      <td>30.0</td>\n",
       "      <td>0.0</td>\n",
       "      <td>168.0</td>\n",
       "      <td>38</td>\n",
       "      <td>CORTE / CISALHAMENTO / MAQ-319</td>\n",
       "      <td>01.02.7801</td>\n",
       "      <td>0.0</td>\n",
       "      <td>MOLAS</td>\n",
       "    </tr>\n",
       "    <tr>\n",
       "      <th>...</th>\n",
       "      <td>...</td>\n",
       "      <td>...</td>\n",
       "      <td>...</td>\n",
       "      <td>...</td>\n",
       "      <td>...</td>\n",
       "      <td>...</td>\n",
       "      <td>...</td>\n",
       "      <td>...</td>\n",
       "      <td>...</td>\n",
       "      <td>...</td>\n",
       "      <td>...</td>\n",
       "      <td>...</td>\n",
       "      <td>...</td>\n",
       "      <td>...</td>\n",
       "      <td>...</td>\n",
       "      <td>...</td>\n",
       "      <td>...</td>\n",
       "    </tr>\n",
       "    <tr>\n",
       "      <th>429210</th>\n",
       "      <td>201989</td>\n",
       "      <td>1854088</td>\n",
       "      <td>102454</td>\n",
       "      <td>01.02.7275</td>\n",
       "      <td>RD851.01</td>\n",
       "      <td>2024-06-28 19:22:21</td>\n",
       "      <td>NaT</td>\n",
       "      <td>2024-06-28 19:22:21</td>\n",
       "      <td>395.0</td>\n",
       "      <td>5.0</td>\n",
       "      <td>0.0</td>\n",
       "      <td>390.0</td>\n",
       "      <td>39</td>\n",
       "      <td>CORTE / CISALHAMENTO / MAQ-409</td>\n",
       "      <td>01.02.7275</td>\n",
       "      <td>0.0</td>\n",
       "      <td>MOLAS</td>\n",
       "    </tr>\n",
       "    <tr>\n",
       "      <th>429211</th>\n",
       "      <td>175106</td>\n",
       "      <td>1821752</td>\n",
       "      <td>101492</td>\n",
       "      <td>03.01.7286</td>\n",
       "      <td>14.92.D.9736</td>\n",
       "      <td>2024-04-25 10:39:52</td>\n",
       "      <td>2024-11-13</td>\n",
       "      <td>2024-04-25 10:39:52</td>\n",
       "      <td>735.0</td>\n",
       "      <td>65.0</td>\n",
       "      <td>0.0</td>\n",
       "      <td>670.0</td>\n",
       "      <td>20</td>\n",
       "      <td>TRATAMENTO DE SUPERFICIE / INTERNO / KTL-001</td>\n",
       "      <td>03.01.7286</td>\n",
       "      <td>0.0</td>\n",
       "      <td>GRAMPOS</td>\n",
       "    </tr>\n",
       "    <tr>\n",
       "      <th>429212</th>\n",
       "      <td>116988</td>\n",
       "      <td>1763031</td>\n",
       "      <td>100029</td>\n",
       "      <td>01.02.1032</td>\n",
       "      <td>MB45.05</td>\n",
       "      <td>2023-11-10 13:01:45</td>\n",
       "      <td>NaT</td>\n",
       "      <td>2023-11-10 13:01:45</td>\n",
       "      <td>20.0</td>\n",
       "      <td>20.0</td>\n",
       "      <td>0.0</td>\n",
       "      <td>0.0</td>\n",
       "      <td>40</td>\n",
       "      <td>CORTE / CISALHAMENTO / MAQ-336</td>\n",
       "      <td>01.02.1032</td>\n",
       "      <td>0.0</td>\n",
       "      <td>MOLAS</td>\n",
       "    </tr>\n",
       "    <tr>\n",
       "      <th>429213</th>\n",
       "      <td>238893</td>\n",
       "      <td>1870111</td>\n",
       "      <td>102937</td>\n",
       "      <td>01.02.8799</td>\n",
       "      <td>IV60.02</td>\n",
       "      <td>2024-08-06 09:09:50</td>\n",
       "      <td>NaT</td>\n",
       "      <td>2024-08-06 09:09:50</td>\n",
       "      <td>53.0</td>\n",
       "      <td>1.0</td>\n",
       "      <td>0.0</td>\n",
       "      <td>52.0</td>\n",
       "      <td>39</td>\n",
       "      <td>CORTE / CISALHAMENTO / MAQ-409</td>\n",
       "      <td>01.02.8799</td>\n",
       "      <td>0.0</td>\n",
       "      <td>MOLAS</td>\n",
       "    </tr>\n",
       "    <tr>\n",
       "      <th>429214</th>\n",
       "      <td>224607</td>\n",
       "      <td>1858173</td>\n",
       "      <td>102560</td>\n",
       "      <td>03.01.0096</td>\n",
       "      <td>018.82.D.96</td>\n",
       "      <td>2024-07-23 08:44:08</td>\n",
       "      <td>2024-10-02</td>\n",
       "      <td>2024-07-23 08:44:08</td>\n",
       "      <td>450.0</td>\n",
       "      <td>11.0</td>\n",
       "      <td>0.0</td>\n",
       "      <td>439.0</td>\n",
       "      <td>32</td>\n",
       "      <td>EMBALAGEM / EMBALAGEM 1 / EMB-001</td>\n",
       "      <td>03.01.0096</td>\n",
       "      <td>0.0</td>\n",
       "      <td>GRAMPOS</td>\n",
       "    </tr>\n",
       "  </tbody>\n",
       "</table>\n",
       "<p>429215 rows × 17 columns</p>\n",
       "</div>"
      ],
      "text/plain": [
       "        OEE_APONTAMENTO  FAB_PROGRAMADO_OP      OP     CODGER2  \\\n",
       "0                250304            1876352  103102  01.12.1084   \n",
       "1                250328            1876321  103102  01.12.1081   \n",
       "2                250331            1876321  103102  01.12.1081   \n",
       "3                250362            1876342  103102  01.12.1083   \n",
       "4                250374            1867912  102862  01.02.7801   \n",
       "...                 ...                ...     ...         ...   \n",
       "429210           201989            1854088  102454  01.02.7275   \n",
       "429211           175106            1821752  101492  03.01.7286   \n",
       "429212           116988            1763031  100029  01.02.1032   \n",
       "429213           238893            1870111  102937  01.02.8799   \n",
       "429214           224607            1858173  102560  03.01.0096   \n",
       "\n",
       "                     PRODUTO         DATAENTRADA DATA_INICIO_OPERACAO  \\\n",
       "0       VW960.02P            2024-08-14 16:36:21                  NaT   \n",
       "1       VW940.01P            2024-08-14 16:47:15                  NaT   \n",
       "2       VW940.01P            2024-08-14 16:48:42                  NaT   \n",
       "3       VW960.01P            2024-08-14 17:01:52                  NaT   \n",
       "4       NM2646.01            2024-08-14 23:05:28                  NaT   \n",
       "...                      ...                 ...                  ...   \n",
       "429210  RD851.01             2024-06-28 19:22:21                  NaT   \n",
       "429211  14.92.D.9736         2024-04-25 10:39:52           2024-11-13   \n",
       "429212  MB45.05              2023-11-10 13:01:45                  NaT   \n",
       "429213  IV60.02              2024-08-06 09:09:50                  NaT   \n",
       "429214  018.82.D.96          2024-07-23 08:44:08           2024-10-02   \n",
       "\n",
       "                 DATASAIDA  QUANT_PROG  QUANT_APONTADA  QUANT_PERDA  \\\n",
       "0      2024-08-14 16:36:21        57.0             5.0          0.0   \n",
       "1      2024-08-14 16:47:15        23.0             1.0          0.0   \n",
       "2      2024-08-14 16:48:42        23.0             1.0          0.0   \n",
       "3      2024-08-14 17:01:52        12.0             1.0          0.0   \n",
       "4      2024-08-14 23:05:28       198.0            30.0          0.0   \n",
       "...                    ...         ...             ...          ...   \n",
       "429210 2024-06-28 19:22:21       395.0             5.0          0.0   \n",
       "429211 2024-04-25 10:39:52       735.0            65.0          0.0   \n",
       "429212 2023-11-10 13:01:45        20.0            20.0          0.0   \n",
       "429213 2024-08-06 09:09:50        53.0             1.0          0.0   \n",
       "429214 2024-07-23 08:44:08       450.0            11.0          0.0   \n",
       "\n",
       "        QUANT_APONTADA_SALDO  COD_UNIDADE_OPERATIVA  \\\n",
       "0                       52.0                     42   \n",
       "1                       22.0                     42   \n",
       "2                       22.0                     42   \n",
       "3                       11.0                     42   \n",
       "4                      168.0                     38   \n",
       "...                      ...                    ...   \n",
       "429210                 390.0                     39   \n",
       "429211                 670.0                     20   \n",
       "429212                   0.0                     40   \n",
       "429213                  52.0                     39   \n",
       "429214                 439.0                     32   \n",
       "\n",
       "                                   UNIDADE_OPERATIVA      CODGER  PERDA  \\\n",
       "0                           CORTE / PLASMA / MAQ-281  01.12.1084    0.0   \n",
       "1                           CORTE / PLASMA / MAQ-281  01.12.1081    0.0   \n",
       "2                           CORTE / PLASMA / MAQ-281  01.12.1081    0.0   \n",
       "3                           CORTE / PLASMA / MAQ-281  01.12.1083    0.0   \n",
       "4                     CORTE / CISALHAMENTO / MAQ-319  01.02.7801    0.0   \n",
       "...                                              ...         ...    ...   \n",
       "429210                CORTE / CISALHAMENTO / MAQ-409  01.02.7275    0.0   \n",
       "429211  TRATAMENTO DE SUPERFICIE / INTERNO / KTL-001  03.01.7286    0.0   \n",
       "429212                CORTE / CISALHAMENTO / MAQ-336  01.02.1032    0.0   \n",
       "429213                CORTE / CISALHAMENTO / MAQ-409  01.02.8799    0.0   \n",
       "429214             EMBALAGEM / EMBALAGEM 1 / EMB-001  03.01.0096    0.0   \n",
       "\n",
       "       NOME_FAMILIA  \n",
       "0        PARABOLICA  \n",
       "1        PARABOLICA  \n",
       "2        PARABOLICA  \n",
       "3        PARABOLICA  \n",
       "4             MOLAS  \n",
       "...             ...  \n",
       "429210        MOLAS  \n",
       "429211      GRAMPOS  \n",
       "429212        MOLAS  \n",
       "429213        MOLAS  \n",
       "429214      GRAMPOS  \n",
       "\n",
       "[429215 rows x 17 columns]"
      ]
     },
     "execution_count": 7,
     "metadata": {},
     "output_type": "execute_result"
    }
   ],
   "source": [
    "df"
   ]
  },
  {
   "cell_type": "code",
   "execution_count": 8,
   "metadata": {},
   "outputs": [],
   "source": [
    "# # Filtrar os dados para manter apenas a OP 104682\n",
    "# df = df[df['OP'] == 104682]"
   ]
  },
  {
   "cell_type": "code",
   "execution_count": 9,
   "metadata": {},
   "outputs": [
    {
     "name": "stdout",
     "output_type": "stream",
     "text": [
      "['PARABOLICA' 'MOLAS' 'GRAMPOS' 'AGULHAS' 'ESPIGOES'\n",
      " 'EXPANDER/CONJ EXPANDER' 'PINOS' 'BUCHAS OLHETE']\n"
     ]
    }
   ],
   "source": [
    "# Valores únicos na coluna 'NOME_FAMILIA'\n",
    "valores_unicos = df['NOME_FAMILIA'].unique()\n",
    "\n",
    "# Exibindo os valores únicos\n",
    "print(valores_unicos)"
   ]
  },
  {
   "cell_type": "code",
   "execution_count": 10,
   "metadata": {},
   "outputs": [],
   "source": [
    "# Filtra as famílias \n",
    "\n",
    "df1 = df[df['NOME_FAMILIA'].isin(['AGULHAS', 'GRAMPOS'])].copy()\n"
   ]
  },
  {
   "cell_type": "code",
   "execution_count": 11,
   "metadata": {},
   "outputs": [
    {
     "name": "stdout",
     "output_type": "stream",
     "text": [
      "Index(['OEE_APONTAMENTO', 'FAB_PROGRAMADO_OP', 'OP', 'CODGER2', 'PRODUTO',\n",
      "       'DATAENTRADA', 'DATA_INICIO_OPERACAO', 'DATASAIDA', 'QUANT_PROG',\n",
      "       'QUANT_APONTADA', 'QUANT_PERDA', 'QUANT_APONTADA_SALDO',\n",
      "       'COD_UNIDADE_OPERATIVA', 'UNIDADE_OPERATIVA', 'CODGER', 'PERDA',\n",
      "       'NOME_FAMILIA'],\n",
      "      dtype='object')\n"
     ]
    }
   ],
   "source": [
    "print(df1.columns)"
   ]
  },
  {
   "cell_type": "code",
   "execution_count": 12,
   "metadata": {},
   "outputs": [
    {
     "data": {
      "text/html": [
       "<div>\n",
       "<style scoped>\n",
       "    .dataframe tbody tr th:only-of-type {\n",
       "        vertical-align: middle;\n",
       "    }\n",
       "\n",
       "    .dataframe tbody tr th {\n",
       "        vertical-align: top;\n",
       "    }\n",
       "\n",
       "    .dataframe thead th {\n",
       "        text-align: right;\n",
       "    }\n",
       "</style>\n",
       "<table border=\"1\" class=\"dataframe\">\n",
       "  <thead>\n",
       "    <tr style=\"text-align: right;\">\n",
       "      <th></th>\n",
       "      <th>OEE_APONTAMENTO</th>\n",
       "      <th>FAB_PROGRAMADO_OP</th>\n",
       "      <th>OP</th>\n",
       "      <th>CODGER2</th>\n",
       "      <th>PRODUTO</th>\n",
       "      <th>DATAENTRADA</th>\n",
       "      <th>DATA_INICIO_OPERACAO</th>\n",
       "      <th>DATASAIDA</th>\n",
       "      <th>QUANT_PROG</th>\n",
       "      <th>QUANT_APONTADA</th>\n",
       "      <th>QUANT_PERDA</th>\n",
       "      <th>QUANT_APONTADA_SALDO</th>\n",
       "      <th>COD_UNIDADE_OPERATIVA</th>\n",
       "      <th>UNIDADE_OPERATIVA</th>\n",
       "      <th>CODGER</th>\n",
       "      <th>PERDA</th>\n",
       "      <th>NOME_FAMILIA</th>\n",
       "    </tr>\n",
       "  </thead>\n",
       "  <tbody>\n",
       "    <tr>\n",
       "      <th>429205</th>\n",
       "      <td>19946</td>\n",
       "      <td>1624939</td>\n",
       "      <td>95539</td>\n",
       "      <td>03.01.0073</td>\n",
       "      <td>018.82.D.73</td>\n",
       "      <td>2023-02-06 10:08:04</td>\n",
       "      <td>2024-10-02</td>\n",
       "      <td>2023-02-06 10:08:04</td>\n",
       "      <td>10.0</td>\n",
       "      <td>10.0</td>\n",
       "      <td>0.0</td>\n",
       "      <td>0.0</td>\n",
       "      <td>32</td>\n",
       "      <td>EMBALAGEM / EMBALAGEM 1 / EMB-001</td>\n",
       "      <td>03.01.0073</td>\n",
       "      <td>0.0</td>\n",
       "      <td>GRAMPOS</td>\n",
       "    </tr>\n",
       "    <tr>\n",
       "      <th>429206</th>\n",
       "      <td>60017</td>\n",
       "      <td>1700720</td>\n",
       "      <td>98494</td>\n",
       "      <td>03.01.7187</td>\n",
       "      <td>024.130.C.9580</td>\n",
       "      <td>2023-07-11 12:59:02</td>\n",
       "      <td>2024-10-02</td>\n",
       "      <td>2023-07-11 12:59:02</td>\n",
       "      <td>315.0</td>\n",
       "      <td>50.0</td>\n",
       "      <td>0.0</td>\n",
       "      <td>265.0</td>\n",
       "      <td>32</td>\n",
       "      <td>EMBALAGEM / EMBALAGEM 1 / EMB-001</td>\n",
       "      <td>03.01.7187</td>\n",
       "      <td>0.0</td>\n",
       "      <td>GRAMPOS</td>\n",
       "    </tr>\n",
       "    <tr>\n",
       "      <th>429207</th>\n",
       "      <td>187029</td>\n",
       "      <td>1838417</td>\n",
       "      <td>101991</td>\n",
       "      <td>03.01.0609</td>\n",
       "      <td>14.77.B.606</td>\n",
       "      <td>2024-06-05 13:28:32</td>\n",
       "      <td>2024-11-13</td>\n",
       "      <td>2024-06-05 13:28:32</td>\n",
       "      <td>5.0</td>\n",
       "      <td>5.0</td>\n",
       "      <td>0.0</td>\n",
       "      <td>0.0</td>\n",
       "      <td>20</td>\n",
       "      <td>TRATAMENTO DE SUPERFICIE / INTERNO / KTL-001</td>\n",
       "      <td>03.01.0609</td>\n",
       "      <td>0.0</td>\n",
       "      <td>GRAMPOS</td>\n",
       "    </tr>\n",
       "    <tr>\n",
       "      <th>429211</th>\n",
       "      <td>175106</td>\n",
       "      <td>1821752</td>\n",
       "      <td>101492</td>\n",
       "      <td>03.01.7286</td>\n",
       "      <td>14.92.D.9736</td>\n",
       "      <td>2024-04-25 10:39:52</td>\n",
       "      <td>2024-11-13</td>\n",
       "      <td>2024-04-25 10:39:52</td>\n",
       "      <td>735.0</td>\n",
       "      <td>65.0</td>\n",
       "      <td>0.0</td>\n",
       "      <td>670.0</td>\n",
       "      <td>20</td>\n",
       "      <td>TRATAMENTO DE SUPERFICIE / INTERNO / KTL-001</td>\n",
       "      <td>03.01.7286</td>\n",
       "      <td>0.0</td>\n",
       "      <td>GRAMPOS</td>\n",
       "    </tr>\n",
       "    <tr>\n",
       "      <th>429214</th>\n",
       "      <td>224607</td>\n",
       "      <td>1858173</td>\n",
       "      <td>102560</td>\n",
       "      <td>03.01.0096</td>\n",
       "      <td>018.82.D.96</td>\n",
       "      <td>2024-07-23 08:44:08</td>\n",
       "      <td>2024-10-02</td>\n",
       "      <td>2024-07-23 08:44:08</td>\n",
       "      <td>450.0</td>\n",
       "      <td>11.0</td>\n",
       "      <td>0.0</td>\n",
       "      <td>439.0</td>\n",
       "      <td>32</td>\n",
       "      <td>EMBALAGEM / EMBALAGEM 1 / EMB-001</td>\n",
       "      <td>03.01.0096</td>\n",
       "      <td>0.0</td>\n",
       "      <td>GRAMPOS</td>\n",
       "    </tr>\n",
       "  </tbody>\n",
       "</table>\n",
       "</div>"
      ],
      "text/plain": [
       "        OEE_APONTAMENTO  FAB_PROGRAMADO_OP      OP     CODGER2  \\\n",
       "429205            19946            1624939   95539  03.01.0073   \n",
       "429206            60017            1700720   98494  03.01.7187   \n",
       "429207           187029            1838417  101991  03.01.0609   \n",
       "429211           175106            1821752  101492  03.01.7286   \n",
       "429214           224607            1858173  102560  03.01.0096   \n",
       "\n",
       "                     PRODUTO         DATAENTRADA DATA_INICIO_OPERACAO  \\\n",
       "429205  018.82.D.73          2023-02-06 10:08:04           2024-10-02   \n",
       "429206  024.130.C.9580       2023-07-11 12:59:02           2024-10-02   \n",
       "429207  14.77.B.606          2024-06-05 13:28:32           2024-11-13   \n",
       "429211  14.92.D.9736         2024-04-25 10:39:52           2024-11-13   \n",
       "429214  018.82.D.96          2024-07-23 08:44:08           2024-10-02   \n",
       "\n",
       "                 DATASAIDA  QUANT_PROG  QUANT_APONTADA  QUANT_PERDA  \\\n",
       "429205 2023-02-06 10:08:04        10.0            10.0          0.0   \n",
       "429206 2023-07-11 12:59:02       315.0            50.0          0.0   \n",
       "429207 2024-06-05 13:28:32         5.0             5.0          0.0   \n",
       "429211 2024-04-25 10:39:52       735.0            65.0          0.0   \n",
       "429214 2024-07-23 08:44:08       450.0            11.0          0.0   \n",
       "\n",
       "        QUANT_APONTADA_SALDO  COD_UNIDADE_OPERATIVA  \\\n",
       "429205                   0.0                     32   \n",
       "429206                 265.0                     32   \n",
       "429207                   0.0                     20   \n",
       "429211                 670.0                     20   \n",
       "429214                 439.0                     32   \n",
       "\n",
       "                                   UNIDADE_OPERATIVA      CODGER  PERDA  \\\n",
       "429205             EMBALAGEM / EMBALAGEM 1 / EMB-001  03.01.0073    0.0   \n",
       "429206             EMBALAGEM / EMBALAGEM 1 / EMB-001  03.01.7187    0.0   \n",
       "429207  TRATAMENTO DE SUPERFICIE / INTERNO / KTL-001  03.01.0609    0.0   \n",
       "429211  TRATAMENTO DE SUPERFICIE / INTERNO / KTL-001  03.01.7286    0.0   \n",
       "429214             EMBALAGEM / EMBALAGEM 1 / EMB-001  03.01.0096    0.0   \n",
       "\n",
       "       NOME_FAMILIA  \n",
       "429205      GRAMPOS  \n",
       "429206      GRAMPOS  \n",
       "429207      GRAMPOS  \n",
       "429211      GRAMPOS  \n",
       "429214      GRAMPOS  "
      ]
     },
     "execution_count": 12,
     "metadata": {},
     "output_type": "execute_result"
    }
   ],
   "source": [
    "df1.tail(5)"
   ]
  },
  {
   "cell_type": "code",
   "execution_count": 13,
   "metadata": {},
   "outputs": [],
   "source": [
    "# Converte \"DATAENTRADA\" para datetime se necessário\n",
    "df1['DATAENTRADA'] = pd.to_datetime(df1['DATAENTRADA'])\n",
    "df1['DATASAIDA'] = pd.to_datetime(df1['DATASAIDA'])\n",
    "\n",
    "# Cria uma nova coluna \"Hora entrada\" e \"Data saida\"\n",
    "df1['Hora Entrada'] = df1['DATAENTRADA'].dt.time\n",
    "df1['Data Entrada'] = df1['DATAENTRADA'].dt.date\n",
    "\n",
    "df1['Hora Saida'] = df1['DATASAIDA'].dt.time\n",
    "df1['Data Saida'] = df1['DATASAIDA'].dt.date"
   ]
  },
  {
   "cell_type": "code",
   "execution_count": 14,
   "metadata": {},
   "outputs": [
    {
     "data": {
      "text/html": [
       "<div>\n",
       "<style scoped>\n",
       "    .dataframe tbody tr th:only-of-type {\n",
       "        vertical-align: middle;\n",
       "    }\n",
       "\n",
       "    .dataframe tbody tr th {\n",
       "        vertical-align: top;\n",
       "    }\n",
       "\n",
       "    .dataframe thead th {\n",
       "        text-align: right;\n",
       "    }\n",
       "</style>\n",
       "<table border=\"1\" class=\"dataframe\">\n",
       "  <thead>\n",
       "    <tr style=\"text-align: right;\">\n",
       "      <th></th>\n",
       "      <th>OEE_APONTAMENTO</th>\n",
       "      <th>FAB_PROGRAMADO_OP</th>\n",
       "      <th>OP</th>\n",
       "      <th>CODGER2</th>\n",
       "      <th>PRODUTO</th>\n",
       "      <th>DATAENTRADA</th>\n",
       "      <th>DATA_INICIO_OPERACAO</th>\n",
       "      <th>DATASAIDA</th>\n",
       "      <th>QUANT_PROG</th>\n",
       "      <th>QUANT_APONTADA</th>\n",
       "      <th>...</th>\n",
       "      <th>QUANT_APONTADA_SALDO</th>\n",
       "      <th>COD_UNIDADE_OPERATIVA</th>\n",
       "      <th>UNIDADE_OPERATIVA</th>\n",
       "      <th>CODGER</th>\n",
       "      <th>PERDA</th>\n",
       "      <th>NOME_FAMILIA</th>\n",
       "      <th>Hora Entrada</th>\n",
       "      <th>Data Entrada</th>\n",
       "      <th>Hora Saida</th>\n",
       "      <th>Data Saida</th>\n",
       "    </tr>\n",
       "  </thead>\n",
       "  <tbody>\n",
       "    <tr>\n",
       "      <th>429205</th>\n",
       "      <td>19946</td>\n",
       "      <td>1624939</td>\n",
       "      <td>95539</td>\n",
       "      <td>03.01.0073</td>\n",
       "      <td>018.82.D.73</td>\n",
       "      <td>2023-02-06 10:08:04</td>\n",
       "      <td>2024-10-02</td>\n",
       "      <td>2023-02-06 10:08:04</td>\n",
       "      <td>10.0</td>\n",
       "      <td>10.0</td>\n",
       "      <td>...</td>\n",
       "      <td>0.0</td>\n",
       "      <td>32</td>\n",
       "      <td>EMBALAGEM / EMBALAGEM 1 / EMB-001</td>\n",
       "      <td>03.01.0073</td>\n",
       "      <td>0.0</td>\n",
       "      <td>GRAMPOS</td>\n",
       "      <td>10:08:04</td>\n",
       "      <td>2023-02-06</td>\n",
       "      <td>10:08:04</td>\n",
       "      <td>2023-02-06</td>\n",
       "    </tr>\n",
       "    <tr>\n",
       "      <th>429206</th>\n",
       "      <td>60017</td>\n",
       "      <td>1700720</td>\n",
       "      <td>98494</td>\n",
       "      <td>03.01.7187</td>\n",
       "      <td>024.130.C.9580</td>\n",
       "      <td>2023-07-11 12:59:02</td>\n",
       "      <td>2024-10-02</td>\n",
       "      <td>2023-07-11 12:59:02</td>\n",
       "      <td>315.0</td>\n",
       "      <td>50.0</td>\n",
       "      <td>...</td>\n",
       "      <td>265.0</td>\n",
       "      <td>32</td>\n",
       "      <td>EMBALAGEM / EMBALAGEM 1 / EMB-001</td>\n",
       "      <td>03.01.7187</td>\n",
       "      <td>0.0</td>\n",
       "      <td>GRAMPOS</td>\n",
       "      <td>12:59:02</td>\n",
       "      <td>2023-07-11</td>\n",
       "      <td>12:59:02</td>\n",
       "      <td>2023-07-11</td>\n",
       "    </tr>\n",
       "    <tr>\n",
       "      <th>429207</th>\n",
       "      <td>187029</td>\n",
       "      <td>1838417</td>\n",
       "      <td>101991</td>\n",
       "      <td>03.01.0609</td>\n",
       "      <td>14.77.B.606</td>\n",
       "      <td>2024-06-05 13:28:32</td>\n",
       "      <td>2024-11-13</td>\n",
       "      <td>2024-06-05 13:28:32</td>\n",
       "      <td>5.0</td>\n",
       "      <td>5.0</td>\n",
       "      <td>...</td>\n",
       "      <td>0.0</td>\n",
       "      <td>20</td>\n",
       "      <td>TRATAMENTO DE SUPERFICIE / INTERNO / KTL-001</td>\n",
       "      <td>03.01.0609</td>\n",
       "      <td>0.0</td>\n",
       "      <td>GRAMPOS</td>\n",
       "      <td>13:28:32</td>\n",
       "      <td>2024-06-05</td>\n",
       "      <td>13:28:32</td>\n",
       "      <td>2024-06-05</td>\n",
       "    </tr>\n",
       "    <tr>\n",
       "      <th>429211</th>\n",
       "      <td>175106</td>\n",
       "      <td>1821752</td>\n",
       "      <td>101492</td>\n",
       "      <td>03.01.7286</td>\n",
       "      <td>14.92.D.9736</td>\n",
       "      <td>2024-04-25 10:39:52</td>\n",
       "      <td>2024-11-13</td>\n",
       "      <td>2024-04-25 10:39:52</td>\n",
       "      <td>735.0</td>\n",
       "      <td>65.0</td>\n",
       "      <td>...</td>\n",
       "      <td>670.0</td>\n",
       "      <td>20</td>\n",
       "      <td>TRATAMENTO DE SUPERFICIE / INTERNO / KTL-001</td>\n",
       "      <td>03.01.7286</td>\n",
       "      <td>0.0</td>\n",
       "      <td>GRAMPOS</td>\n",
       "      <td>10:39:52</td>\n",
       "      <td>2024-04-25</td>\n",
       "      <td>10:39:52</td>\n",
       "      <td>2024-04-25</td>\n",
       "    </tr>\n",
       "    <tr>\n",
       "      <th>429214</th>\n",
       "      <td>224607</td>\n",
       "      <td>1858173</td>\n",
       "      <td>102560</td>\n",
       "      <td>03.01.0096</td>\n",
       "      <td>018.82.D.96</td>\n",
       "      <td>2024-07-23 08:44:08</td>\n",
       "      <td>2024-10-02</td>\n",
       "      <td>2024-07-23 08:44:08</td>\n",
       "      <td>450.0</td>\n",
       "      <td>11.0</td>\n",
       "      <td>...</td>\n",
       "      <td>439.0</td>\n",
       "      <td>32</td>\n",
       "      <td>EMBALAGEM / EMBALAGEM 1 / EMB-001</td>\n",
       "      <td>03.01.0096</td>\n",
       "      <td>0.0</td>\n",
       "      <td>GRAMPOS</td>\n",
       "      <td>08:44:08</td>\n",
       "      <td>2024-07-23</td>\n",
       "      <td>08:44:08</td>\n",
       "      <td>2024-07-23</td>\n",
       "    </tr>\n",
       "  </tbody>\n",
       "</table>\n",
       "<p>5 rows × 21 columns</p>\n",
       "</div>"
      ],
      "text/plain": [
       "        OEE_APONTAMENTO  FAB_PROGRAMADO_OP      OP     CODGER2  \\\n",
       "429205            19946            1624939   95539  03.01.0073   \n",
       "429206            60017            1700720   98494  03.01.7187   \n",
       "429207           187029            1838417  101991  03.01.0609   \n",
       "429211           175106            1821752  101492  03.01.7286   \n",
       "429214           224607            1858173  102560  03.01.0096   \n",
       "\n",
       "                     PRODUTO         DATAENTRADA DATA_INICIO_OPERACAO  \\\n",
       "429205  018.82.D.73          2023-02-06 10:08:04           2024-10-02   \n",
       "429206  024.130.C.9580       2023-07-11 12:59:02           2024-10-02   \n",
       "429207  14.77.B.606          2024-06-05 13:28:32           2024-11-13   \n",
       "429211  14.92.D.9736         2024-04-25 10:39:52           2024-11-13   \n",
       "429214  018.82.D.96          2024-07-23 08:44:08           2024-10-02   \n",
       "\n",
       "                 DATASAIDA  QUANT_PROG  QUANT_APONTADA  ...  \\\n",
       "429205 2023-02-06 10:08:04        10.0            10.0  ...   \n",
       "429206 2023-07-11 12:59:02       315.0            50.0  ...   \n",
       "429207 2024-06-05 13:28:32         5.0             5.0  ...   \n",
       "429211 2024-04-25 10:39:52       735.0            65.0  ...   \n",
       "429214 2024-07-23 08:44:08       450.0            11.0  ...   \n",
       "\n",
       "        QUANT_APONTADA_SALDO  COD_UNIDADE_OPERATIVA  \\\n",
       "429205                   0.0                     32   \n",
       "429206                 265.0                     32   \n",
       "429207                   0.0                     20   \n",
       "429211                 670.0                     20   \n",
       "429214                 439.0                     32   \n",
       "\n",
       "                                   UNIDADE_OPERATIVA      CODGER PERDA  \\\n",
       "429205             EMBALAGEM / EMBALAGEM 1 / EMB-001  03.01.0073   0.0   \n",
       "429206             EMBALAGEM / EMBALAGEM 1 / EMB-001  03.01.7187   0.0   \n",
       "429207  TRATAMENTO DE SUPERFICIE / INTERNO / KTL-001  03.01.0609   0.0   \n",
       "429211  TRATAMENTO DE SUPERFICIE / INTERNO / KTL-001  03.01.7286   0.0   \n",
       "429214             EMBALAGEM / EMBALAGEM 1 / EMB-001  03.01.0096   0.0   \n",
       "\n",
       "        NOME_FAMILIA Hora Entrada Data Entrada Hora Saida  Data Saida  \n",
       "429205       GRAMPOS     10:08:04   2023-02-06   10:08:04  2023-02-06  \n",
       "429206       GRAMPOS     12:59:02   2023-07-11   12:59:02  2023-07-11  \n",
       "429207       GRAMPOS     13:28:32   2024-06-05   13:28:32  2024-06-05  \n",
       "429211       GRAMPOS     10:39:52   2024-04-25   10:39:52  2024-04-25  \n",
       "429214       GRAMPOS     08:44:08   2024-07-23   08:44:08  2024-07-23  \n",
       "\n",
       "[5 rows x 21 columns]"
      ]
     },
     "execution_count": 14,
     "metadata": {},
     "output_type": "execute_result"
    }
   ],
   "source": [
    "df1.tail(5)"
   ]
  },
  {
   "cell_type": "code",
   "execution_count": 15,
   "metadata": {},
   "outputs": [],
   "source": [
    "# Renomeando colunas específicas\n",
    "df1 = df1.rename(columns={\n",
    "    'COD_UNIDADE_OPERATIVA': 'Cd.Unid.Op',\n",
    "    'FAB_PROGRAMADO_OP': 'Etiqueta', \n",
    "    'DATASAIDA': 'Data Saida',\n",
    "    'DATAENTRADA': 'Data Entrada',\n",
    "    'QUANT_APONTADA': 'Produzido',\n",
    "    'QUANT_PERDA': 'Perda',\n",
    "    'DATAENTRADA': 'Data_entrada+hora',\n",
    "    'DATASAIDA': 'Data_saida+hora'\n",
    "    \n",
    "})"
   ]
  },
  {
   "cell_type": "code",
   "execution_count": 16,
   "metadata": {},
   "outputs": [],
   "source": [
    "# Definir o mapeamento de 'Cd.Unid.Op' para 'Unidade'\n",
    "unidade_mapping = {\n",
    "    57: \"BASTIDOR\",\n",
    "    1: \"APONTAMENTO\",\n",
    "    5: \"APONTAMENTO\",\n",
    "    16: \"APONTAMENTO\",\n",
    "    17: \"APONTAMENTO\",\n",
    "    25: \"APONTAMENTO\",\n",
    "    3: \"CORTE\",\n",
    "    15: \"CORTE\",\n",
    "    64: \"CORTE\",\n",
    "    71: \"CONFERENCIA\",\n",
    "    10: \"DOBRA FRIA\",\n",
    "    11: \"DOBRA FRIA\",\n",
    "    12: \"DOBRA FRIA\",\n",
    "    37: \"DOBRA QUENTE\",\n",
    "    43: \"DOBRA QUENTE\",\n",
    "    9: \"DOBRA INTERMEDIARIA\",\n",
    "    66: \"DOBRA QUENTE\",\n",
    "    67: \"DOBRA QUENTE\",\n",
    "    32: \"EMBALAGEM\",\n",
    "    2: \"GRAVAÇÃO\",\n",
    "    4: \"GRAVAÇÃO\",\n",
    "    19: \"GRAVAÇÃO\",\n",
    "    6: \"LAMINAÇÃO\",\n",
    "    7: \"LAMINAÇÃO\",\n",
    "    8: \"LAMINAÇÃO\",\n",
    "    13: \"LAMINAÇÃO\",\n",
    "    14: \"LAMINAÇÃO\",\n",
    "    65: \"LAM. PÓS TRAT. TÉRMICO\",\n",
    "    21: \"MONTAGEM ACESSORIOS\",\n",
    "    49: \"AJUSTAGEM\",\n",
    "    63: \"TORNO\",\n",
    "    59: \"SAÍDA ACAB. EXTERNO NF\",\n",
    "    60: \"RECEB. ACAB. EXTERNO\",\n",
    "    20: \"KTL\",\n",
    "    61: \"OUTROS ACAB. SUP.\",\n",
    "    53: \"TRAT. TÉRMICO\",\n",
    "    54: \"TRAT. TÉRMICO\",\n",
    "    52: \"ACAB. EXTERNO\"\n",
    "}\n",
    "\n",
    "# Adicionar a nova coluna 'Unidade' ao DataFrame 'df1' com base no mapeamento\n",
    "df1['Unidade'] = df1['Cd.Unid.Op'].map(unidade_mapping)\n",
    "\n",
    "# # Exibir as primeiras linhas do DataFrame atualizado para ver a nova coluna 'Unidade'\n",
    "# import ace_tools as tools; tools.display_dataframe_to_user(\"DataFrame Atualizado com Unidade\", df1)\n",
    "\n",
    "# Garantir que as colunas de data estão no formato correto\n",
    "df1['Data Saida'] = pd.to_datetime(df1['Data Saida'], format='%d/%m/%Y')\n",
    "\n",
    "# Agrupar os dados por 'Data Saida' e 'Unidade', e somar a coluna 'Produzido'\n",
    "df_pivot = df1.groupby(['Data Saida', 'Unidade'])['Produzido'].sum().reset_index()\n",
    "\n",
    "# Criar uma tabela dinâmica (pivot) para organizar os dados como no exemplo\n",
    "df_pivot = df_pivot.pivot(index='Data Saida', columns='Unidade', values='Produzido')\n",
    "\n",
    "# Preencher valores NaN com 0 (caso necessário)\n",
    "df_pivot = df_pivot.fillna(0)\n",
    "\n"
   ]
  },
  {
   "cell_type": "code",
   "execution_count": 17,
   "metadata": {},
   "outputs": [
    {
     "data": {
      "text/html": [
       "<div>\n",
       "<style scoped>\n",
       "    .dataframe tbody tr th:only-of-type {\n",
       "        vertical-align: middle;\n",
       "    }\n",
       "\n",
       "    .dataframe tbody tr th {\n",
       "        vertical-align: top;\n",
       "    }\n",
       "\n",
       "    .dataframe thead th {\n",
       "        text-align: right;\n",
       "    }\n",
       "</style>\n",
       "<table border=\"1\" class=\"dataframe\">\n",
       "  <thead>\n",
       "    <tr style=\"text-align: right;\">\n",
       "      <th>Unidade</th>\n",
       "      <th>ACAB. EXTERNO</th>\n",
       "      <th>AJUSTAGEM</th>\n",
       "      <th>APONTAMENTO</th>\n",
       "      <th>BASTIDOR</th>\n",
       "      <th>CORTE</th>\n",
       "      <th>DOBRA FRIA</th>\n",
       "      <th>DOBRA INTERMEDIARIA</th>\n",
       "      <th>DOBRA QUENTE</th>\n",
       "      <th>EMBALAGEM</th>\n",
       "      <th>GRAVAÇÃO</th>\n",
       "      <th>KTL</th>\n",
       "      <th>LAM. PÓS TRAT. TÉRMICO</th>\n",
       "      <th>LAMINAÇÃO</th>\n",
       "      <th>MONTAGEM ACESSORIOS</th>\n",
       "      <th>OUTROS ACAB. SUP.</th>\n",
       "      <th>SAÍDA ACAB. EXTERNO NF</th>\n",
       "      <th>TORNO</th>\n",
       "      <th>TRAT. TÉRMICO</th>\n",
       "    </tr>\n",
       "    <tr>\n",
       "      <th>Data Saida</th>\n",
       "      <th></th>\n",
       "      <th></th>\n",
       "      <th></th>\n",
       "      <th></th>\n",
       "      <th></th>\n",
       "      <th></th>\n",
       "      <th></th>\n",
       "      <th></th>\n",
       "      <th></th>\n",
       "      <th></th>\n",
       "      <th></th>\n",
       "      <th></th>\n",
       "      <th></th>\n",
       "      <th></th>\n",
       "      <th></th>\n",
       "      <th></th>\n",
       "      <th></th>\n",
       "      <th></th>\n",
       "    </tr>\n",
       "  </thead>\n",
       "  <tbody>\n",
       "    <tr>\n",
       "      <th>2022-10-06</th>\n",
       "      <td>0.0</td>\n",
       "      <td>0.0</td>\n",
       "      <td>0.0</td>\n",
       "      <td>0.0</td>\n",
       "      <td>0.0</td>\n",
       "      <td>0.0</td>\n",
       "      <td>0.0</td>\n",
       "      <td>0.0</td>\n",
       "      <td>0.0</td>\n",
       "      <td>0.0</td>\n",
       "      <td>0.0</td>\n",
       "      <td>0.0</td>\n",
       "      <td>1583541.0</td>\n",
       "      <td>0.0</td>\n",
       "      <td>0.0</td>\n",
       "      <td>0.0</td>\n",
       "      <td>0.0</td>\n",
       "      <td>0.0</td>\n",
       "    </tr>\n",
       "    <tr>\n",
       "      <th>2022-10-07</th>\n",
       "      <td>0.0</td>\n",
       "      <td>0.0</td>\n",
       "      <td>0.0</td>\n",
       "      <td>0.0</td>\n",
       "      <td>0.0</td>\n",
       "      <td>2329.0</td>\n",
       "      <td>0.0</td>\n",
       "      <td>0.0</td>\n",
       "      <td>0.0</td>\n",
       "      <td>0.0</td>\n",
       "      <td>0.0</td>\n",
       "      <td>0.0</td>\n",
       "      <td>0.0</td>\n",
       "      <td>0.0</td>\n",
       "      <td>0.0</td>\n",
       "      <td>0.0</td>\n",
       "      <td>0.0</td>\n",
       "      <td>0.0</td>\n",
       "    </tr>\n",
       "    <tr>\n",
       "      <th>2022-10-13</th>\n",
       "      <td>0.0</td>\n",
       "      <td>0.0</td>\n",
       "      <td>0.0</td>\n",
       "      <td>0.0</td>\n",
       "      <td>0.0</td>\n",
       "      <td>1402.0</td>\n",
       "      <td>0.0</td>\n",
       "      <td>0.0</td>\n",
       "      <td>0.0</td>\n",
       "      <td>0.0</td>\n",
       "      <td>0.0</td>\n",
       "      <td>0.0</td>\n",
       "      <td>0.0</td>\n",
       "      <td>0.0</td>\n",
       "      <td>0.0</td>\n",
       "      <td>0.0</td>\n",
       "      <td>0.0</td>\n",
       "      <td>0.0</td>\n",
       "    </tr>\n",
       "    <tr>\n",
       "      <th>2022-10-14</th>\n",
       "      <td>0.0</td>\n",
       "      <td>0.0</td>\n",
       "      <td>0.0</td>\n",
       "      <td>0.0</td>\n",
       "      <td>0.0</td>\n",
       "      <td>1990.0</td>\n",
       "      <td>0.0</td>\n",
       "      <td>0.0</td>\n",
       "      <td>0.0</td>\n",
       "      <td>0.0</td>\n",
       "      <td>0.0</td>\n",
       "      <td>0.0</td>\n",
       "      <td>0.0</td>\n",
       "      <td>0.0</td>\n",
       "      <td>0.0</td>\n",
       "      <td>0.0</td>\n",
       "      <td>0.0</td>\n",
       "      <td>0.0</td>\n",
       "    </tr>\n",
       "    <tr>\n",
       "      <th>2022-10-18</th>\n",
       "      <td>0.0</td>\n",
       "      <td>0.0</td>\n",
       "      <td>0.0</td>\n",
       "      <td>0.0</td>\n",
       "      <td>320.0</td>\n",
       "      <td>0.0</td>\n",
       "      <td>0.0</td>\n",
       "      <td>0.0</td>\n",
       "      <td>0.0</td>\n",
       "      <td>0.0</td>\n",
       "      <td>0.0</td>\n",
       "      <td>0.0</td>\n",
       "      <td>0.0</td>\n",
       "      <td>0.0</td>\n",
       "      <td>0.0</td>\n",
       "      <td>0.0</td>\n",
       "      <td>0.0</td>\n",
       "      <td>0.0</td>\n",
       "    </tr>\n",
       "    <tr>\n",
       "      <th>...</th>\n",
       "      <td>...</td>\n",
       "      <td>...</td>\n",
       "      <td>...</td>\n",
       "      <td>...</td>\n",
       "      <td>...</td>\n",
       "      <td>...</td>\n",
       "      <td>...</td>\n",
       "      <td>...</td>\n",
       "      <td>...</td>\n",
       "      <td>...</td>\n",
       "      <td>...</td>\n",
       "      <td>...</td>\n",
       "      <td>...</td>\n",
       "      <td>...</td>\n",
       "      <td>...</td>\n",
       "      <td>...</td>\n",
       "      <td>...</td>\n",
       "      <td>...</td>\n",
       "    </tr>\n",
       "    <tr>\n",
       "      <th>2025-03-14</th>\n",
       "      <td>0.0</td>\n",
       "      <td>1589.0</td>\n",
       "      <td>5045.0</td>\n",
       "      <td>0.0</td>\n",
       "      <td>5473.0</td>\n",
       "      <td>2760.0</td>\n",
       "      <td>0.0</td>\n",
       "      <td>1737.0</td>\n",
       "      <td>2510.0</td>\n",
       "      <td>6456.0</td>\n",
       "      <td>2680.0</td>\n",
       "      <td>0.0</td>\n",
       "      <td>4013.0</td>\n",
       "      <td>0.0</td>\n",
       "      <td>0.0</td>\n",
       "      <td>0.0</td>\n",
       "      <td>0.0</td>\n",
       "      <td>3780.0</td>\n",
       "    </tr>\n",
       "    <tr>\n",
       "      <th>2025-03-15</th>\n",
       "      <td>0.0</td>\n",
       "      <td>0.0</td>\n",
       "      <td>1656.0</td>\n",
       "      <td>0.0</td>\n",
       "      <td>1870.0</td>\n",
       "      <td>0.0</td>\n",
       "      <td>0.0</td>\n",
       "      <td>1521.0</td>\n",
       "      <td>0.0</td>\n",
       "      <td>1615.0</td>\n",
       "      <td>0.0</td>\n",
       "      <td>0.0</td>\n",
       "      <td>0.0</td>\n",
       "      <td>0.0</td>\n",
       "      <td>0.0</td>\n",
       "      <td>0.0</td>\n",
       "      <td>0.0</td>\n",
       "      <td>572.0</td>\n",
       "    </tr>\n",
       "    <tr>\n",
       "      <th>2025-03-17</th>\n",
       "      <td>0.0</td>\n",
       "      <td>2117.0</td>\n",
       "      <td>3061.0</td>\n",
       "      <td>175.0</td>\n",
       "      <td>4835.0</td>\n",
       "      <td>3385.0</td>\n",
       "      <td>0.0</td>\n",
       "      <td>2277.0</td>\n",
       "      <td>2090.0</td>\n",
       "      <td>3256.0</td>\n",
       "      <td>1250.0</td>\n",
       "      <td>0.0</td>\n",
       "      <td>5611.0</td>\n",
       "      <td>0.0</td>\n",
       "      <td>0.0</td>\n",
       "      <td>0.0</td>\n",
       "      <td>0.0</td>\n",
       "      <td>3434.0</td>\n",
       "    </tr>\n",
       "    <tr>\n",
       "      <th>2025-03-18</th>\n",
       "      <td>0.0</td>\n",
       "      <td>2360.0</td>\n",
       "      <td>1656.0</td>\n",
       "      <td>549.0</td>\n",
       "      <td>3703.0</td>\n",
       "      <td>1928.0</td>\n",
       "      <td>0.0</td>\n",
       "      <td>1791.0</td>\n",
       "      <td>3602.0</td>\n",
       "      <td>3325.0</td>\n",
       "      <td>4732.0</td>\n",
       "      <td>0.0</td>\n",
       "      <td>3908.0</td>\n",
       "      <td>0.0</td>\n",
       "      <td>0.0</td>\n",
       "      <td>0.0</td>\n",
       "      <td>0.0</td>\n",
       "      <td>4520.0</td>\n",
       "    </tr>\n",
       "    <tr>\n",
       "      <th>2025-03-19</th>\n",
       "      <td>0.0</td>\n",
       "      <td>344.0</td>\n",
       "      <td>1412.0</td>\n",
       "      <td>460.0</td>\n",
       "      <td>2449.0</td>\n",
       "      <td>751.0</td>\n",
       "      <td>0.0</td>\n",
       "      <td>632.0</td>\n",
       "      <td>888.0</td>\n",
       "      <td>1523.0</td>\n",
       "      <td>1063.0</td>\n",
       "      <td>0.0</td>\n",
       "      <td>1766.0</td>\n",
       "      <td>0.0</td>\n",
       "      <td>0.0</td>\n",
       "      <td>0.0</td>\n",
       "      <td>0.0</td>\n",
       "      <td>1896.0</td>\n",
       "    </tr>\n",
       "  </tbody>\n",
       "</table>\n",
       "<p>597 rows × 18 columns</p>\n",
       "</div>"
      ],
      "text/plain": [
       "Unidade     ACAB. EXTERNO  AJUSTAGEM  APONTAMENTO  BASTIDOR   CORTE  \\\n",
       "Data Saida                                                            \n",
       "2022-10-06            0.0        0.0          0.0       0.0     0.0   \n",
       "2022-10-07            0.0        0.0          0.0       0.0     0.0   \n",
       "2022-10-13            0.0        0.0          0.0       0.0     0.0   \n",
       "2022-10-14            0.0        0.0          0.0       0.0     0.0   \n",
       "2022-10-18            0.0        0.0          0.0       0.0   320.0   \n",
       "...                   ...        ...          ...       ...     ...   \n",
       "2025-03-14            0.0     1589.0       5045.0       0.0  5473.0   \n",
       "2025-03-15            0.0        0.0       1656.0       0.0  1870.0   \n",
       "2025-03-17            0.0     2117.0       3061.0     175.0  4835.0   \n",
       "2025-03-18            0.0     2360.0       1656.0     549.0  3703.0   \n",
       "2025-03-19            0.0      344.0       1412.0     460.0  2449.0   \n",
       "\n",
       "Unidade     DOBRA FRIA  DOBRA INTERMEDIARIA  DOBRA QUENTE  EMBALAGEM  \\\n",
       "Data Saida                                                             \n",
       "2022-10-06         0.0                  0.0           0.0        0.0   \n",
       "2022-10-07      2329.0                  0.0           0.0        0.0   \n",
       "2022-10-13      1402.0                  0.0           0.0        0.0   \n",
       "2022-10-14      1990.0                  0.0           0.0        0.0   \n",
       "2022-10-18         0.0                  0.0           0.0        0.0   \n",
       "...                ...                  ...           ...        ...   \n",
       "2025-03-14      2760.0                  0.0        1737.0     2510.0   \n",
       "2025-03-15         0.0                  0.0        1521.0        0.0   \n",
       "2025-03-17      3385.0                  0.0        2277.0     2090.0   \n",
       "2025-03-18      1928.0                  0.0        1791.0     3602.0   \n",
       "2025-03-19       751.0                  0.0         632.0      888.0   \n",
       "\n",
       "Unidade     GRAVAÇÃO     KTL  LAM. PÓS TRAT. TÉRMICO  LAMINAÇÃO  \\\n",
       "Data Saida                                                        \n",
       "2022-10-06       0.0     0.0                     0.0  1583541.0   \n",
       "2022-10-07       0.0     0.0                     0.0        0.0   \n",
       "2022-10-13       0.0     0.0                     0.0        0.0   \n",
       "2022-10-14       0.0     0.0                     0.0        0.0   \n",
       "2022-10-18       0.0     0.0                     0.0        0.0   \n",
       "...              ...     ...                     ...        ...   \n",
       "2025-03-14    6456.0  2680.0                     0.0     4013.0   \n",
       "2025-03-15    1615.0     0.0                     0.0        0.0   \n",
       "2025-03-17    3256.0  1250.0                     0.0     5611.0   \n",
       "2025-03-18    3325.0  4732.0                     0.0     3908.0   \n",
       "2025-03-19    1523.0  1063.0                     0.0     1766.0   \n",
       "\n",
       "Unidade     MONTAGEM ACESSORIOS  OUTROS ACAB. SUP.  SAÍDA ACAB. EXTERNO NF  \\\n",
       "Data Saida                                                                   \n",
       "2022-10-06                  0.0                0.0                     0.0   \n",
       "2022-10-07                  0.0                0.0                     0.0   \n",
       "2022-10-13                  0.0                0.0                     0.0   \n",
       "2022-10-14                  0.0                0.0                     0.0   \n",
       "2022-10-18                  0.0                0.0                     0.0   \n",
       "...                         ...                ...                     ...   \n",
       "2025-03-14                  0.0                0.0                     0.0   \n",
       "2025-03-15                  0.0                0.0                     0.0   \n",
       "2025-03-17                  0.0                0.0                     0.0   \n",
       "2025-03-18                  0.0                0.0                     0.0   \n",
       "2025-03-19                  0.0                0.0                     0.0   \n",
       "\n",
       "Unidade     TORNO  TRAT. TÉRMICO  \n",
       "Data Saida                        \n",
       "2022-10-06    0.0            0.0  \n",
       "2022-10-07    0.0            0.0  \n",
       "2022-10-13    0.0            0.0  \n",
       "2022-10-14    0.0            0.0  \n",
       "2022-10-18    0.0            0.0  \n",
       "...           ...            ...  \n",
       "2025-03-14    0.0         3780.0  \n",
       "2025-03-15    0.0          572.0  \n",
       "2025-03-17    0.0         3434.0  \n",
       "2025-03-18    0.0         4520.0  \n",
       "2025-03-19    0.0         1896.0  \n",
       "\n",
       "[597 rows x 18 columns]"
      ]
     },
     "execution_count": 17,
     "metadata": {},
     "output_type": "execute_result"
    }
   ],
   "source": [
    "df_pivot"
   ]
  },
  {
   "cell_type": "code",
   "execution_count": 18,
   "metadata": {},
   "outputs": [],
   "source": [
    "# tabela dinamica com produção total do dia \n",
    "\n",
    "# Garantir que as colunas de data estão no formato correto\n",
    "df1['Data Saida'] = pd.to_datetime(df1['Data Saida'], format='%d/%m/%Y')\n",
    "\n",
    "# Filtrar as linhas onde 'Produzido' e 'Perda' são diferentes\n",
    "df_filtrado = df1[df1['Produzido'] != df1['Perda']]\n",
    "\n",
    "# Agrupar os dados por 'Data Saida' e 'Unidade', e somar a coluna 'Produzido'\n",
    "df_pivot = df_filtrado.groupby(['Data Saida', 'Unidade'])['Produzido'].sum().reset_index()\n",
    "\n",
    "# Criar uma tabela dinâmica (pivot) para organizar os dados\n",
    "df_pivot = df_pivot.pivot(index='Data Saida', columns='Unidade', values='Produzido')\n",
    "\n",
    "# Preencher valores NaN com 0 (caso necessário)\n",
    "df_pivot_produção = df_pivot.fillna(0)"
   ]
  },
  {
   "cell_type": "code",
   "execution_count": 19,
   "metadata": {},
   "outputs": [
    {
     "data": {
      "text/html": [
       "<div>\n",
       "<style scoped>\n",
       "    .dataframe tbody tr th:only-of-type {\n",
       "        vertical-align: middle;\n",
       "    }\n",
       "\n",
       "    .dataframe tbody tr th {\n",
       "        vertical-align: top;\n",
       "    }\n",
       "\n",
       "    .dataframe thead th {\n",
       "        text-align: right;\n",
       "    }\n",
       "</style>\n",
       "<table border=\"1\" class=\"dataframe\">\n",
       "  <thead>\n",
       "    <tr style=\"text-align: right;\">\n",
       "      <th>Unidade</th>\n",
       "      <th>ACAB. EXTERNO</th>\n",
       "      <th>AJUSTAGEM</th>\n",
       "      <th>APONTAMENTO</th>\n",
       "      <th>BASTIDOR</th>\n",
       "      <th>CORTE</th>\n",
       "      <th>DOBRA FRIA</th>\n",
       "      <th>DOBRA INTERMEDIARIA</th>\n",
       "      <th>DOBRA QUENTE</th>\n",
       "      <th>EMBALAGEM</th>\n",
       "      <th>GRAVAÇÃO</th>\n",
       "      <th>KTL</th>\n",
       "      <th>LAM. PÓS TRAT. TÉRMICO</th>\n",
       "      <th>LAMINAÇÃO</th>\n",
       "      <th>MONTAGEM ACESSORIOS</th>\n",
       "      <th>OUTROS ACAB. SUP.</th>\n",
       "      <th>SAÍDA ACAB. EXTERNO NF</th>\n",
       "      <th>TORNO</th>\n",
       "      <th>TRAT. TÉRMICO</th>\n",
       "    </tr>\n",
       "    <tr>\n",
       "      <th>Data Saida</th>\n",
       "      <th></th>\n",
       "      <th></th>\n",
       "      <th></th>\n",
       "      <th></th>\n",
       "      <th></th>\n",
       "      <th></th>\n",
       "      <th></th>\n",
       "      <th></th>\n",
       "      <th></th>\n",
       "      <th></th>\n",
       "      <th></th>\n",
       "      <th></th>\n",
       "      <th></th>\n",
       "      <th></th>\n",
       "      <th></th>\n",
       "      <th></th>\n",
       "      <th></th>\n",
       "      <th></th>\n",
       "    </tr>\n",
       "  </thead>\n",
       "  <tbody>\n",
       "    <tr>\n",
       "      <th>2022-10-06</th>\n",
       "      <td>0.0</td>\n",
       "      <td>0.0</td>\n",
       "      <td>0.0</td>\n",
       "      <td>0.0</td>\n",
       "      <td>0.0</td>\n",
       "      <td>0.0</td>\n",
       "      <td>0.0</td>\n",
       "      <td>0.0</td>\n",
       "      <td>0.0</td>\n",
       "      <td>0.0</td>\n",
       "      <td>0.0</td>\n",
       "      <td>0.0</td>\n",
       "      <td>1583541.0</td>\n",
       "      <td>0.0</td>\n",
       "      <td>0.0</td>\n",
       "      <td>0.0</td>\n",
       "      <td>0.0</td>\n",
       "      <td>0.0</td>\n",
       "    </tr>\n",
       "    <tr>\n",
       "      <th>2022-10-07</th>\n",
       "      <td>0.0</td>\n",
       "      <td>0.0</td>\n",
       "      <td>0.0</td>\n",
       "      <td>0.0</td>\n",
       "      <td>0.0</td>\n",
       "      <td>2329.0</td>\n",
       "      <td>0.0</td>\n",
       "      <td>0.0</td>\n",
       "      <td>0.0</td>\n",
       "      <td>0.0</td>\n",
       "      <td>0.0</td>\n",
       "      <td>0.0</td>\n",
       "      <td>0.0</td>\n",
       "      <td>0.0</td>\n",
       "      <td>0.0</td>\n",
       "      <td>0.0</td>\n",
       "      <td>0.0</td>\n",
       "      <td>0.0</td>\n",
       "    </tr>\n",
       "    <tr>\n",
       "      <th>2022-10-13</th>\n",
       "      <td>0.0</td>\n",
       "      <td>0.0</td>\n",
       "      <td>0.0</td>\n",
       "      <td>0.0</td>\n",
       "      <td>0.0</td>\n",
       "      <td>1402.0</td>\n",
       "      <td>0.0</td>\n",
       "      <td>0.0</td>\n",
       "      <td>0.0</td>\n",
       "      <td>0.0</td>\n",
       "      <td>0.0</td>\n",
       "      <td>0.0</td>\n",
       "      <td>0.0</td>\n",
       "      <td>0.0</td>\n",
       "      <td>0.0</td>\n",
       "      <td>0.0</td>\n",
       "      <td>0.0</td>\n",
       "      <td>0.0</td>\n",
       "    </tr>\n",
       "    <tr>\n",
       "      <th>2022-10-14</th>\n",
       "      <td>0.0</td>\n",
       "      <td>0.0</td>\n",
       "      <td>0.0</td>\n",
       "      <td>0.0</td>\n",
       "      <td>0.0</td>\n",
       "      <td>1990.0</td>\n",
       "      <td>0.0</td>\n",
       "      <td>0.0</td>\n",
       "      <td>0.0</td>\n",
       "      <td>0.0</td>\n",
       "      <td>0.0</td>\n",
       "      <td>0.0</td>\n",
       "      <td>0.0</td>\n",
       "      <td>0.0</td>\n",
       "      <td>0.0</td>\n",
       "      <td>0.0</td>\n",
       "      <td>0.0</td>\n",
       "      <td>0.0</td>\n",
       "    </tr>\n",
       "    <tr>\n",
       "      <th>2022-10-18</th>\n",
       "      <td>0.0</td>\n",
       "      <td>0.0</td>\n",
       "      <td>0.0</td>\n",
       "      <td>0.0</td>\n",
       "      <td>320.0</td>\n",
       "      <td>0.0</td>\n",
       "      <td>0.0</td>\n",
       "      <td>0.0</td>\n",
       "      <td>0.0</td>\n",
       "      <td>0.0</td>\n",
       "      <td>0.0</td>\n",
       "      <td>0.0</td>\n",
       "      <td>0.0</td>\n",
       "      <td>0.0</td>\n",
       "      <td>0.0</td>\n",
       "      <td>0.0</td>\n",
       "      <td>0.0</td>\n",
       "      <td>0.0</td>\n",
       "    </tr>\n",
       "    <tr>\n",
       "      <th>...</th>\n",
       "      <td>...</td>\n",
       "      <td>...</td>\n",
       "      <td>...</td>\n",
       "      <td>...</td>\n",
       "      <td>...</td>\n",
       "      <td>...</td>\n",
       "      <td>...</td>\n",
       "      <td>...</td>\n",
       "      <td>...</td>\n",
       "      <td>...</td>\n",
       "      <td>...</td>\n",
       "      <td>...</td>\n",
       "      <td>...</td>\n",
       "      <td>...</td>\n",
       "      <td>...</td>\n",
       "      <td>...</td>\n",
       "      <td>...</td>\n",
       "      <td>...</td>\n",
       "    </tr>\n",
       "    <tr>\n",
       "      <th>2025-03-14</th>\n",
       "      <td>0.0</td>\n",
       "      <td>1589.0</td>\n",
       "      <td>5045.0</td>\n",
       "      <td>0.0</td>\n",
       "      <td>5473.0</td>\n",
       "      <td>2760.0</td>\n",
       "      <td>0.0</td>\n",
       "      <td>1737.0</td>\n",
       "      <td>2425.0</td>\n",
       "      <td>6456.0</td>\n",
       "      <td>2680.0</td>\n",
       "      <td>0.0</td>\n",
       "      <td>4013.0</td>\n",
       "      <td>0.0</td>\n",
       "      <td>0.0</td>\n",
       "      <td>0.0</td>\n",
       "      <td>0.0</td>\n",
       "      <td>3744.0</td>\n",
       "    </tr>\n",
       "    <tr>\n",
       "      <th>2025-03-15</th>\n",
       "      <td>0.0</td>\n",
       "      <td>0.0</td>\n",
       "      <td>1656.0</td>\n",
       "      <td>0.0</td>\n",
       "      <td>1870.0</td>\n",
       "      <td>0.0</td>\n",
       "      <td>0.0</td>\n",
       "      <td>1521.0</td>\n",
       "      <td>0.0</td>\n",
       "      <td>1615.0</td>\n",
       "      <td>0.0</td>\n",
       "      <td>0.0</td>\n",
       "      <td>0.0</td>\n",
       "      <td>0.0</td>\n",
       "      <td>0.0</td>\n",
       "      <td>0.0</td>\n",
       "      <td>0.0</td>\n",
       "      <td>572.0</td>\n",
       "    </tr>\n",
       "    <tr>\n",
       "      <th>2025-03-17</th>\n",
       "      <td>0.0</td>\n",
       "      <td>2117.0</td>\n",
       "      <td>3061.0</td>\n",
       "      <td>175.0</td>\n",
       "      <td>4835.0</td>\n",
       "      <td>3385.0</td>\n",
       "      <td>0.0</td>\n",
       "      <td>2277.0</td>\n",
       "      <td>2090.0</td>\n",
       "      <td>3256.0</td>\n",
       "      <td>1250.0</td>\n",
       "      <td>0.0</td>\n",
       "      <td>5611.0</td>\n",
       "      <td>0.0</td>\n",
       "      <td>0.0</td>\n",
       "      <td>0.0</td>\n",
       "      <td>0.0</td>\n",
       "      <td>3434.0</td>\n",
       "    </tr>\n",
       "    <tr>\n",
       "      <th>2025-03-18</th>\n",
       "      <td>0.0</td>\n",
       "      <td>2360.0</td>\n",
       "      <td>1656.0</td>\n",
       "      <td>549.0</td>\n",
       "      <td>3703.0</td>\n",
       "      <td>1928.0</td>\n",
       "      <td>0.0</td>\n",
       "      <td>1791.0</td>\n",
       "      <td>2754.0</td>\n",
       "      <td>3325.0</td>\n",
       "      <td>4732.0</td>\n",
       "      <td>0.0</td>\n",
       "      <td>3908.0</td>\n",
       "      <td>0.0</td>\n",
       "      <td>0.0</td>\n",
       "      <td>0.0</td>\n",
       "      <td>0.0</td>\n",
       "      <td>4520.0</td>\n",
       "    </tr>\n",
       "    <tr>\n",
       "      <th>2025-03-19</th>\n",
       "      <td>0.0</td>\n",
       "      <td>344.0</td>\n",
       "      <td>1412.0</td>\n",
       "      <td>460.0</td>\n",
       "      <td>2449.0</td>\n",
       "      <td>751.0</td>\n",
       "      <td>0.0</td>\n",
       "      <td>632.0</td>\n",
       "      <td>863.0</td>\n",
       "      <td>1523.0</td>\n",
       "      <td>1063.0</td>\n",
       "      <td>0.0</td>\n",
       "      <td>1766.0</td>\n",
       "      <td>0.0</td>\n",
       "      <td>0.0</td>\n",
       "      <td>0.0</td>\n",
       "      <td>0.0</td>\n",
       "      <td>1896.0</td>\n",
       "    </tr>\n",
       "  </tbody>\n",
       "</table>\n",
       "<p>597 rows × 18 columns</p>\n",
       "</div>"
      ],
      "text/plain": [
       "Unidade     ACAB. EXTERNO  AJUSTAGEM  APONTAMENTO  BASTIDOR   CORTE  \\\n",
       "Data Saida                                                            \n",
       "2022-10-06            0.0        0.0          0.0       0.0     0.0   \n",
       "2022-10-07            0.0        0.0          0.0       0.0     0.0   \n",
       "2022-10-13            0.0        0.0          0.0       0.0     0.0   \n",
       "2022-10-14            0.0        0.0          0.0       0.0     0.0   \n",
       "2022-10-18            0.0        0.0          0.0       0.0   320.0   \n",
       "...                   ...        ...          ...       ...     ...   \n",
       "2025-03-14            0.0     1589.0       5045.0       0.0  5473.0   \n",
       "2025-03-15            0.0        0.0       1656.0       0.0  1870.0   \n",
       "2025-03-17            0.0     2117.0       3061.0     175.0  4835.0   \n",
       "2025-03-18            0.0     2360.0       1656.0     549.0  3703.0   \n",
       "2025-03-19            0.0      344.0       1412.0     460.0  2449.0   \n",
       "\n",
       "Unidade     DOBRA FRIA  DOBRA INTERMEDIARIA  DOBRA QUENTE  EMBALAGEM  \\\n",
       "Data Saida                                                             \n",
       "2022-10-06         0.0                  0.0           0.0        0.0   \n",
       "2022-10-07      2329.0                  0.0           0.0        0.0   \n",
       "2022-10-13      1402.0                  0.0           0.0        0.0   \n",
       "2022-10-14      1990.0                  0.0           0.0        0.0   \n",
       "2022-10-18         0.0                  0.0           0.0        0.0   \n",
       "...                ...                  ...           ...        ...   \n",
       "2025-03-14      2760.0                  0.0        1737.0     2425.0   \n",
       "2025-03-15         0.0                  0.0        1521.0        0.0   \n",
       "2025-03-17      3385.0                  0.0        2277.0     2090.0   \n",
       "2025-03-18      1928.0                  0.0        1791.0     2754.0   \n",
       "2025-03-19       751.0                  0.0         632.0      863.0   \n",
       "\n",
       "Unidade     GRAVAÇÃO     KTL  LAM. PÓS TRAT. TÉRMICO  LAMINAÇÃO  \\\n",
       "Data Saida                                                        \n",
       "2022-10-06       0.0     0.0                     0.0  1583541.0   \n",
       "2022-10-07       0.0     0.0                     0.0        0.0   \n",
       "2022-10-13       0.0     0.0                     0.0        0.0   \n",
       "2022-10-14       0.0     0.0                     0.0        0.0   \n",
       "2022-10-18       0.0     0.0                     0.0        0.0   \n",
       "...              ...     ...                     ...        ...   \n",
       "2025-03-14    6456.0  2680.0                     0.0     4013.0   \n",
       "2025-03-15    1615.0     0.0                     0.0        0.0   \n",
       "2025-03-17    3256.0  1250.0                     0.0     5611.0   \n",
       "2025-03-18    3325.0  4732.0                     0.0     3908.0   \n",
       "2025-03-19    1523.0  1063.0                     0.0     1766.0   \n",
       "\n",
       "Unidade     MONTAGEM ACESSORIOS  OUTROS ACAB. SUP.  SAÍDA ACAB. EXTERNO NF  \\\n",
       "Data Saida                                                                   \n",
       "2022-10-06                  0.0                0.0                     0.0   \n",
       "2022-10-07                  0.0                0.0                     0.0   \n",
       "2022-10-13                  0.0                0.0                     0.0   \n",
       "2022-10-14                  0.0                0.0                     0.0   \n",
       "2022-10-18                  0.0                0.0                     0.0   \n",
       "...                         ...                ...                     ...   \n",
       "2025-03-14                  0.0                0.0                     0.0   \n",
       "2025-03-15                  0.0                0.0                     0.0   \n",
       "2025-03-17                  0.0                0.0                     0.0   \n",
       "2025-03-18                  0.0                0.0                     0.0   \n",
       "2025-03-19                  0.0                0.0                     0.0   \n",
       "\n",
       "Unidade     TORNO  TRAT. TÉRMICO  \n",
       "Data Saida                        \n",
       "2022-10-06    0.0            0.0  \n",
       "2022-10-07    0.0            0.0  \n",
       "2022-10-13    0.0            0.0  \n",
       "2022-10-14    0.0            0.0  \n",
       "2022-10-18    0.0            0.0  \n",
       "...           ...            ...  \n",
       "2025-03-14    0.0         3744.0  \n",
       "2025-03-15    0.0          572.0  \n",
       "2025-03-17    0.0         3434.0  \n",
       "2025-03-18    0.0         4520.0  \n",
       "2025-03-19    0.0         1896.0  \n",
       "\n",
       "[597 rows x 18 columns]"
      ]
     },
     "execution_count": 19,
     "metadata": {},
     "output_type": "execute_result"
    }
   ],
   "source": [
    "df_pivot_produção"
   ]
  },
  {
   "cell_type": "code",
   "execution_count": 20,
   "metadata": {},
   "outputs": [
    {
     "name": "stderr",
     "output_type": "stream",
     "text": [
      "C:\\Users\\HP\\AppData\\Local\\Temp\\ipykernel_15800\\1528609992.py:51: UserWarning: Could not infer format, so each element will be parsed individually, falling back to `dateutil`. To ensure parsing is consistent and as-expected, please specify a format.\n",
      "  df1['Data_entrada+hora'] = pd.to_datetime(df1['Data Entrada'].astype(str) + ' ' + df1['Hora Entrada'].astype(str))\n"
     ]
    }
   ],
   "source": [
    "# Garantir que 'Data Entrada' e 'Hora Entrada' estejam no formato correto\n",
    "df1['Data Entrada'] = pd.to_datetime(df1['Data Entrada'], format='%d/%m/%Y', errors='coerce')\n",
    "df1['Hora Entrada'] = pd.to_datetime(df1['Hora Entrada'], format='%H:%M:%S', errors='coerce').dt.time\n",
    "\n",
    "# Criar a coluna unificada 'Data_entrada+hora' combinando 'Data Entrada' e 'Hora Entrada'\n",
    "df1['Data_entrada+hora'] = pd.to_datetime(df1['Data Entrada'].astype(str) + ' ' + df1['Hora Entrada'].astype(str))\n",
    "\n",
    "# Verificar se existem duplicatas no DataFrame original com base em 'Data_entrada+hora', 'Cd.Unid.Op', e 'Etiqueta'\n",
    "duplicatas = df1[df1.duplicated(subset=['Data_entrada+hora', 'Cd.Unid.Op', 'Etiqueta'], keep=False)]\n",
    "\n",
    "\n",
    "# Remover as duplicatas com base nas colunas 'Data_entrada+hora', 'Cd.Unid.Op', e 'Etiqueta'\n",
    "df1_unique = df1.drop_duplicates(subset=['Data_entrada+hora', 'Cd.Unid.Op', 'Etiqueta']).copy()\n",
    "\n",
    "# Usar .loc[] para modificar o DataFrame sem gerar o warning\n",
    "df1_unique.loc[:, 'Data'] = df1_unique['Data_entrada+hora'].dt.date\n",
    "\n",
    "# Certificar-se de que não há mais duplicatas antes de continuar\n",
    "#print(\"Verificando duplicatas após remoção:\")\n",
    "duplicatas_restantes = df1_unique[df1_unique.duplicated(subset=['Data_entrada+hora', 'Cd.Unid.Op', 'Etiqueta'], keep=False)]\n",
    "#print(duplicatas_restantes)\n",
    "\n",
    "# Agrupa por 'Cd.Unid.Op' e 'Data' e calcula o menor e o maior horário de entrada por unidade, sem duplicatas\n",
    "min_max_time = df1_unique.groupby(['Cd.Unid.Op', 'Data']).agg(\n",
    "    menor_horario=('Data_entrada+hora', 'min'),\n",
    "    maior_horario=('Data_saida+hora', 'max')\n",
    ").reset_index()\n",
    "\n",
    "# Calcula o tempo de produção como a diferença entre o maior e menor horário\n",
    "min_max_time['Tempo_programado'] = (min_max_time['maior_horario'] - min_max_time['menor_horario']).dt.total_seconds()\n",
    "\n",
    "\n",
    "# Mapear os códigos de unidade para os nomes de unidade\n",
    "min_max_time['Unidade'] = min_max_time['Cd.Unid.Op'].map(unidade_mapping)\n",
    "\n",
    "# Agrupar e somar o 'Tempo_programado' para garantir que não haja duplicatas\n",
    "min_max_time_agg = min_max_time.groupby(['Data', 'Unidade'])['Tempo_programado'].sum().reset_index()\n",
    "\n",
    "# Criar a tabela dinâmica\n",
    "df_tempo_programado = min_max_time_agg.pivot(index='Data', columns='Unidade', values='Tempo_programado')\n",
    "\n",
    "# Preencher valores NaN com 0 (caso necessário)\n",
    "df_tempo_programado = df_tempo_programado.fillna(0)\n",
    "\n",
    "# Garantir que 'Data Entrada' e 'Hora Entrada' estejam no formato correto\n",
    "df1['Data Entrada'] = pd.to_datetime(df1['Data Entrada'], format='%d/%m/%Y', errors='coerce')\n",
    "df1['Hora Entrada'] = pd.to_datetime(df1['Hora Entrada'], format='%H:%M:%S', errors='coerce')\n",
    "df1['Hora Saida'] = pd.to_datetime(df1['Hora Saida'], format='%H:%M:%S', errors='coerce')\n",
    "\n",
    "# Criar a coluna unificada 'Data_entrada+hora' combinando 'Data Entrada' e 'Hora Entrada'\n",
    "df1['Data_entrada+hora'] = pd.to_datetime(df1['Data Entrada'].astype(str) + ' ' + df1['Hora Entrada'].astype(str))\n",
    "\n",
    "# Remover duplicatas com base em 'Data_entrada+hora', 'Cd.Unid.Op', e 'Etiqueta' antes de calcular as horas produzidas\n",
    "df1_unique_produzidas = df1.drop_duplicates(subset=['Data_entrada+hora', 'Cd.Unid.Op', 'Etiqueta']).copy()\n",
    "\n",
    "# Calcular a diferença de horas entre \"Hora Entrada\" e \"Hora Saida\" para o DataFrame sem duplicatas\n",
    "df1_unique_produzidas['Horas Produzidas'] = (df1_unique_produzidas['Hora Saida'] - df1_unique_produzidas['Hora Entrada']).dt.total_seconds()\n",
    "\n",
    "# Agrupar os dados por 'Data Saida' e 'Unidade', somando as horas produzidas sem duplicatas\n",
    "df_horas_pivot = df1_unique_produzidas.groupby(['Data Saida', 'Unidade'])['Horas Produzidas'].sum().reset_index()\n",
    "\n",
    "# Converter a coluna 'Data Saida' para o formato de data\n",
    "df_horas_pivot['Data Saida'] = pd.to_datetime(df_horas_pivot['Data Saida'], format='%d/%m/%Y', errors='coerce')\n",
    "\n",
    "# Criar uma tabela dinâmica para organizar os dados por dia e setor\n",
    "df_horas_pivot = df_horas_pivot.pivot(index='Data Saida', columns='Unidade', values='Horas Produzidas')\n",
    "\n",
    "# Preencher valores NaN com 0\n",
    "df_tempo_produzido = df_horas_pivot.fillna(0)\n",
    "\n"
   ]
  },
  {
   "cell_type": "code",
   "execution_count": 21,
   "metadata": {},
   "outputs": [
    {
     "data": {
      "text/html": [
       "<div>\n",
       "<style scoped>\n",
       "    .dataframe tbody tr th:only-of-type {\n",
       "        vertical-align: middle;\n",
       "    }\n",
       "\n",
       "    .dataframe tbody tr th {\n",
       "        vertical-align: top;\n",
       "    }\n",
       "\n",
       "    .dataframe thead th {\n",
       "        text-align: right;\n",
       "    }\n",
       "</style>\n",
       "<table border=\"1\" class=\"dataframe\">\n",
       "  <thead>\n",
       "    <tr style=\"text-align: right;\">\n",
       "      <th>Unidade</th>\n",
       "      <th>ACAB. EXTERNO</th>\n",
       "      <th>AJUSTAGEM</th>\n",
       "      <th>APONTAMENTO</th>\n",
       "      <th>BASTIDOR</th>\n",
       "      <th>CORTE</th>\n",
       "      <th>DOBRA FRIA</th>\n",
       "      <th>DOBRA INTERMEDIARIA</th>\n",
       "      <th>DOBRA QUENTE</th>\n",
       "      <th>EMBALAGEM</th>\n",
       "      <th>GRAVAÇÃO</th>\n",
       "      <th>KTL</th>\n",
       "      <th>LAM. PÓS TRAT. TÉRMICO</th>\n",
       "      <th>LAMINAÇÃO</th>\n",
       "      <th>MONTAGEM ACESSORIOS</th>\n",
       "      <th>OUTROS ACAB. SUP.</th>\n",
       "      <th>SAÍDA ACAB. EXTERNO NF</th>\n",
       "      <th>TORNO</th>\n",
       "      <th>TRAT. TÉRMICO</th>\n",
       "    </tr>\n",
       "    <tr>\n",
       "      <th>Data Saida</th>\n",
       "      <th></th>\n",
       "      <th></th>\n",
       "      <th></th>\n",
       "      <th></th>\n",
       "      <th></th>\n",
       "      <th></th>\n",
       "      <th></th>\n",
       "      <th></th>\n",
       "      <th></th>\n",
       "      <th></th>\n",
       "      <th></th>\n",
       "      <th></th>\n",
       "      <th></th>\n",
       "      <th></th>\n",
       "      <th></th>\n",
       "      <th></th>\n",
       "      <th></th>\n",
       "      <th></th>\n",
       "    </tr>\n",
       "  </thead>\n",
       "  <tbody>\n",
       "    <tr>\n",
       "      <th>2022-10-06</th>\n",
       "      <td>0.0</td>\n",
       "      <td>0.0</td>\n",
       "      <td>0.0</td>\n",
       "      <td>0.0</td>\n",
       "      <td>0.0</td>\n",
       "      <td>0.0</td>\n",
       "      <td>0.0</td>\n",
       "      <td>0.0</td>\n",
       "      <td>0.0</td>\n",
       "      <td>0.0</td>\n",
       "      <td>0.0</td>\n",
       "      <td>0.0</td>\n",
       "      <td>6366.0</td>\n",
       "      <td>0.0</td>\n",
       "      <td>0.0</td>\n",
       "      <td>0.0</td>\n",
       "      <td>0.0</td>\n",
       "      <td>0.0</td>\n",
       "    </tr>\n",
       "    <tr>\n",
       "      <th>2022-10-07</th>\n",
       "      <td>0.0</td>\n",
       "      <td>0.0</td>\n",
       "      <td>0.0</td>\n",
       "      <td>0.0</td>\n",
       "      <td>0.0</td>\n",
       "      <td>14933.0</td>\n",
       "      <td>0.0</td>\n",
       "      <td>0.0</td>\n",
       "      <td>0.0</td>\n",
       "      <td>0.0</td>\n",
       "      <td>0.0</td>\n",
       "      <td>0.0</td>\n",
       "      <td>0.0</td>\n",
       "      <td>0.0</td>\n",
       "      <td>0.0</td>\n",
       "      <td>0.0</td>\n",
       "      <td>0.0</td>\n",
       "      <td>0.0</td>\n",
       "    </tr>\n",
       "    <tr>\n",
       "      <th>2022-10-13</th>\n",
       "      <td>0.0</td>\n",
       "      <td>0.0</td>\n",
       "      <td>0.0</td>\n",
       "      <td>0.0</td>\n",
       "      <td>0.0</td>\n",
       "      <td>19457.0</td>\n",
       "      <td>0.0</td>\n",
       "      <td>0.0</td>\n",
       "      <td>0.0</td>\n",
       "      <td>0.0</td>\n",
       "      <td>0.0</td>\n",
       "      <td>0.0</td>\n",
       "      <td>0.0</td>\n",
       "      <td>0.0</td>\n",
       "      <td>0.0</td>\n",
       "      <td>0.0</td>\n",
       "      <td>0.0</td>\n",
       "      <td>0.0</td>\n",
       "    </tr>\n",
       "    <tr>\n",
       "      <th>2022-10-14</th>\n",
       "      <td>0.0</td>\n",
       "      <td>0.0</td>\n",
       "      <td>0.0</td>\n",
       "      <td>0.0</td>\n",
       "      <td>0.0</td>\n",
       "      <td>18647.0</td>\n",
       "      <td>0.0</td>\n",
       "      <td>0.0</td>\n",
       "      <td>0.0</td>\n",
       "      <td>0.0</td>\n",
       "      <td>0.0</td>\n",
       "      <td>0.0</td>\n",
       "      <td>0.0</td>\n",
       "      <td>0.0</td>\n",
       "      <td>0.0</td>\n",
       "      <td>0.0</td>\n",
       "      <td>0.0</td>\n",
       "      <td>0.0</td>\n",
       "    </tr>\n",
       "    <tr>\n",
       "      <th>2022-10-18</th>\n",
       "      <td>0.0</td>\n",
       "      <td>0.0</td>\n",
       "      <td>0.0</td>\n",
       "      <td>0.0</td>\n",
       "      <td>23.0</td>\n",
       "      <td>0.0</td>\n",
       "      <td>0.0</td>\n",
       "      <td>0.0</td>\n",
       "      <td>0.0</td>\n",
       "      <td>0.0</td>\n",
       "      <td>0.0</td>\n",
       "      <td>0.0</td>\n",
       "      <td>0.0</td>\n",
       "      <td>0.0</td>\n",
       "      <td>0.0</td>\n",
       "      <td>0.0</td>\n",
       "      <td>0.0</td>\n",
       "      <td>0.0</td>\n",
       "    </tr>\n",
       "    <tr>\n",
       "      <th>...</th>\n",
       "      <td>...</td>\n",
       "      <td>...</td>\n",
       "      <td>...</td>\n",
       "      <td>...</td>\n",
       "      <td>...</td>\n",
       "      <td>...</td>\n",
       "      <td>...</td>\n",
       "      <td>...</td>\n",
       "      <td>...</td>\n",
       "      <td>...</td>\n",
       "      <td>...</td>\n",
       "      <td>...</td>\n",
       "      <td>...</td>\n",
       "      <td>...</td>\n",
       "      <td>...</td>\n",
       "      <td>...</td>\n",
       "      <td>...</td>\n",
       "      <td>...</td>\n",
       "    </tr>\n",
       "    <tr>\n",
       "      <th>2025-03-14</th>\n",
       "      <td>0.0</td>\n",
       "      <td>16.0</td>\n",
       "      <td>31177.0</td>\n",
       "      <td>0.0</td>\n",
       "      <td>0.0</td>\n",
       "      <td>781.0</td>\n",
       "      <td>0.0</td>\n",
       "      <td>37797.0</td>\n",
       "      <td>24.0</td>\n",
       "      <td>39.0</td>\n",
       "      <td>6.0</td>\n",
       "      <td>0.0</td>\n",
       "      <td>33322.0</td>\n",
       "      <td>0.0</td>\n",
       "      <td>0.0</td>\n",
       "      <td>0.0</td>\n",
       "      <td>0.0</td>\n",
       "      <td>38.0</td>\n",
       "    </tr>\n",
       "    <tr>\n",
       "      <th>2025-03-15</th>\n",
       "      <td>0.0</td>\n",
       "      <td>0.0</td>\n",
       "      <td>1896.0</td>\n",
       "      <td>0.0</td>\n",
       "      <td>0.0</td>\n",
       "      <td>0.0</td>\n",
       "      <td>0.0</td>\n",
       "      <td>21.0</td>\n",
       "      <td>0.0</td>\n",
       "      <td>7.0</td>\n",
       "      <td>0.0</td>\n",
       "      <td>0.0</td>\n",
       "      <td>0.0</td>\n",
       "      <td>0.0</td>\n",
       "      <td>0.0</td>\n",
       "      <td>0.0</td>\n",
       "      <td>0.0</td>\n",
       "      <td>1.0</td>\n",
       "    </tr>\n",
       "    <tr>\n",
       "      <th>2025-03-17</th>\n",
       "      <td>0.0</td>\n",
       "      <td>19.0</td>\n",
       "      <td>27796.0</td>\n",
       "      <td>2.0</td>\n",
       "      <td>0.0</td>\n",
       "      <td>33.0</td>\n",
       "      <td>0.0</td>\n",
       "      <td>18874.0</td>\n",
       "      <td>48.0</td>\n",
       "      <td>70.0</td>\n",
       "      <td>2.0</td>\n",
       "      <td>0.0</td>\n",
       "      <td>33789.0</td>\n",
       "      <td>0.0</td>\n",
       "      <td>0.0</td>\n",
       "      <td>0.0</td>\n",
       "      <td>0.0</td>\n",
       "      <td>40.0</td>\n",
       "    </tr>\n",
       "    <tr>\n",
       "      <th>2025-03-18</th>\n",
       "      <td>0.0</td>\n",
       "      <td>29.0</td>\n",
       "      <td>11250.0</td>\n",
       "      <td>25.0</td>\n",
       "      <td>0.0</td>\n",
       "      <td>80.0</td>\n",
       "      <td>0.0</td>\n",
       "      <td>25964.0</td>\n",
       "      <td>30.0</td>\n",
       "      <td>114.0</td>\n",
       "      <td>19.0</td>\n",
       "      <td>0.0</td>\n",
       "      <td>30063.0</td>\n",
       "      <td>0.0</td>\n",
       "      <td>0.0</td>\n",
       "      <td>0.0</td>\n",
       "      <td>0.0</td>\n",
       "      <td>73.0</td>\n",
       "    </tr>\n",
       "    <tr>\n",
       "      <th>2025-03-19</th>\n",
       "      <td>0.0</td>\n",
       "      <td>3.0</td>\n",
       "      <td>10375.0</td>\n",
       "      <td>24.0</td>\n",
       "      <td>0.0</td>\n",
       "      <td>37.0</td>\n",
       "      <td>0.0</td>\n",
       "      <td>7472.0</td>\n",
       "      <td>4.0</td>\n",
       "      <td>371.0</td>\n",
       "      <td>14.0</td>\n",
       "      <td>0.0</td>\n",
       "      <td>9205.0</td>\n",
       "      <td>0.0</td>\n",
       "      <td>0.0</td>\n",
       "      <td>0.0</td>\n",
       "      <td>0.0</td>\n",
       "      <td>14.0</td>\n",
       "    </tr>\n",
       "  </tbody>\n",
       "</table>\n",
       "<p>597 rows × 18 columns</p>\n",
       "</div>"
      ],
      "text/plain": [
       "Unidade     ACAB. EXTERNO  AJUSTAGEM  APONTAMENTO  BASTIDOR  CORTE  \\\n",
       "Data Saida                                                           \n",
       "2022-10-06            0.0        0.0          0.0       0.0    0.0   \n",
       "2022-10-07            0.0        0.0          0.0       0.0    0.0   \n",
       "2022-10-13            0.0        0.0          0.0       0.0    0.0   \n",
       "2022-10-14            0.0        0.0          0.0       0.0    0.0   \n",
       "2022-10-18            0.0        0.0          0.0       0.0   23.0   \n",
       "...                   ...        ...          ...       ...    ...   \n",
       "2025-03-14            0.0       16.0      31177.0       0.0    0.0   \n",
       "2025-03-15            0.0        0.0       1896.0       0.0    0.0   \n",
       "2025-03-17            0.0       19.0      27796.0       2.0    0.0   \n",
       "2025-03-18            0.0       29.0      11250.0      25.0    0.0   \n",
       "2025-03-19            0.0        3.0      10375.0      24.0    0.0   \n",
       "\n",
       "Unidade     DOBRA FRIA  DOBRA INTERMEDIARIA  DOBRA QUENTE  EMBALAGEM  \\\n",
       "Data Saida                                                             \n",
       "2022-10-06         0.0                  0.0           0.0        0.0   \n",
       "2022-10-07     14933.0                  0.0           0.0        0.0   \n",
       "2022-10-13     19457.0                  0.0           0.0        0.0   \n",
       "2022-10-14     18647.0                  0.0           0.0        0.0   \n",
       "2022-10-18         0.0                  0.0           0.0        0.0   \n",
       "...                ...                  ...           ...        ...   \n",
       "2025-03-14       781.0                  0.0       37797.0       24.0   \n",
       "2025-03-15         0.0                  0.0          21.0        0.0   \n",
       "2025-03-17        33.0                  0.0       18874.0       48.0   \n",
       "2025-03-18        80.0                  0.0       25964.0       30.0   \n",
       "2025-03-19        37.0                  0.0        7472.0        4.0   \n",
       "\n",
       "Unidade     GRAVAÇÃO   KTL  LAM. PÓS TRAT. TÉRMICO  LAMINAÇÃO  \\\n",
       "Data Saida                                                      \n",
       "2022-10-06       0.0   0.0                     0.0     6366.0   \n",
       "2022-10-07       0.0   0.0                     0.0        0.0   \n",
       "2022-10-13       0.0   0.0                     0.0        0.0   \n",
       "2022-10-14       0.0   0.0                     0.0        0.0   \n",
       "2022-10-18       0.0   0.0                     0.0        0.0   \n",
       "...              ...   ...                     ...        ...   \n",
       "2025-03-14      39.0   6.0                     0.0    33322.0   \n",
       "2025-03-15       7.0   0.0                     0.0        0.0   \n",
       "2025-03-17      70.0   2.0                     0.0    33789.0   \n",
       "2025-03-18     114.0  19.0                     0.0    30063.0   \n",
       "2025-03-19     371.0  14.0                     0.0     9205.0   \n",
       "\n",
       "Unidade     MONTAGEM ACESSORIOS  OUTROS ACAB. SUP.  SAÍDA ACAB. EXTERNO NF  \\\n",
       "Data Saida                                                                   \n",
       "2022-10-06                  0.0                0.0                     0.0   \n",
       "2022-10-07                  0.0                0.0                     0.0   \n",
       "2022-10-13                  0.0                0.0                     0.0   \n",
       "2022-10-14                  0.0                0.0                     0.0   \n",
       "2022-10-18                  0.0                0.0                     0.0   \n",
       "...                         ...                ...                     ...   \n",
       "2025-03-14                  0.0                0.0                     0.0   \n",
       "2025-03-15                  0.0                0.0                     0.0   \n",
       "2025-03-17                  0.0                0.0                     0.0   \n",
       "2025-03-18                  0.0                0.0                     0.0   \n",
       "2025-03-19                  0.0                0.0                     0.0   \n",
       "\n",
       "Unidade     TORNO  TRAT. TÉRMICO  \n",
       "Data Saida                        \n",
       "2022-10-06    0.0            0.0  \n",
       "2022-10-07    0.0            0.0  \n",
       "2022-10-13    0.0            0.0  \n",
       "2022-10-14    0.0            0.0  \n",
       "2022-10-18    0.0            0.0  \n",
       "...           ...            ...  \n",
       "2025-03-14    0.0           38.0  \n",
       "2025-03-15    0.0            1.0  \n",
       "2025-03-17    0.0           40.0  \n",
       "2025-03-18    0.0           73.0  \n",
       "2025-03-19    0.0           14.0  \n",
       "\n",
       "[597 rows x 18 columns]"
      ]
     },
     "execution_count": 21,
     "metadata": {},
     "output_type": "execute_result"
    }
   ],
   "source": [
    "df_tempo_produzido"
   ]
  },
  {
   "cell_type": "code",
   "execution_count": 59,
   "metadata": {},
   "outputs": [
    {
     "name": "stderr",
     "output_type": "stream",
     "text": [
      "C:\\Users\\HP\\AppData\\Local\\Temp\\ipykernel_15800\\1423139288.py:28: FutureWarning:\n",
      "\n",
      "DataFrame.applymap has been deprecated. Use DataFrame.map instead.\n",
      "\n"
     ]
    },
    {
     "data": {
      "text/html": [
       "<div>\n",
       "<style scoped>\n",
       "    .dataframe tbody tr th:only-of-type {\n",
       "        vertical-align: middle;\n",
       "    }\n",
       "\n",
       "    .dataframe tbody tr th {\n",
       "        vertical-align: top;\n",
       "    }\n",
       "\n",
       "    .dataframe thead th {\n",
       "        text-align: right;\n",
       "    }\n",
       "</style>\n",
       "<table border=\"1\" class=\"dataframe\">\n",
       "  <thead>\n",
       "    <tr style=\"text-align: right;\">\n",
       "      <th>Unidade</th>\n",
       "      <th>ACAB. EXTERNO</th>\n",
       "      <th>AJUSTAGEM</th>\n",
       "      <th>APONTAMENTO</th>\n",
       "      <th>BASTIDOR</th>\n",
       "      <th>CORTE</th>\n",
       "      <th>DOBRA FRIA</th>\n",
       "      <th>DOBRA INTERMEDIARIA</th>\n",
       "      <th>DOBRA QUENTE</th>\n",
       "      <th>EMBALAGEM</th>\n",
       "      <th>GRAVAÇÃO</th>\n",
       "      <th>KTL</th>\n",
       "      <th>LAM. PÓS TRAT. TÉRMICO</th>\n",
       "      <th>LAMINAÇÃO</th>\n",
       "      <th>MONTAGEM ACESSORIOS</th>\n",
       "      <th>OUTROS ACAB. SUP.</th>\n",
       "      <th>SAÍDA ACAB. EXTERNO NF</th>\n",
       "      <th>TORNO</th>\n",
       "      <th>TRAT. TÉRMICO</th>\n",
       "    </tr>\n",
       "    <tr>\n",
       "      <th>Data Saida</th>\n",
       "      <th></th>\n",
       "      <th></th>\n",
       "      <th></th>\n",
       "      <th></th>\n",
       "      <th></th>\n",
       "      <th></th>\n",
       "      <th></th>\n",
       "      <th></th>\n",
       "      <th></th>\n",
       "      <th></th>\n",
       "      <th></th>\n",
       "      <th></th>\n",
       "      <th></th>\n",
       "      <th></th>\n",
       "      <th></th>\n",
       "      <th></th>\n",
       "      <th></th>\n",
       "      <th></th>\n",
       "    </tr>\n",
       "  </thead>\n",
       "  <tbody>\n",
       "    <tr>\n",
       "      <th>2022-10-06</th>\n",
       "      <td>0.0</td>\n",
       "      <td>0.0</td>\n",
       "      <td>0.0</td>\n",
       "      <td>NaN</td>\n",
       "      <td>0.00</td>\n",
       "      <td>0.0</td>\n",
       "      <td>NaN</td>\n",
       "      <td>0.0</td>\n",
       "      <td>0.0</td>\n",
       "      <td>0.0</td>\n",
       "      <td>0.0</td>\n",
       "      <td>NaN</td>\n",
       "      <td>6366.0</td>\n",
       "      <td>NaN</td>\n",
       "      <td>NaN</td>\n",
       "      <td>NaN</td>\n",
       "      <td>0.0</td>\n",
       "      <td>0.0</td>\n",
       "    </tr>\n",
       "    <tr>\n",
       "      <th>2022-10-07</th>\n",
       "      <td>0.0</td>\n",
       "      <td>0.0</td>\n",
       "      <td>0.0</td>\n",
       "      <td>NaN</td>\n",
       "      <td>0.00</td>\n",
       "      <td>14933.0</td>\n",
       "      <td>NaN</td>\n",
       "      <td>0.0</td>\n",
       "      <td>0.0</td>\n",
       "      <td>0.0</td>\n",
       "      <td>0.0</td>\n",
       "      <td>NaN</td>\n",
       "      <td>0.0</td>\n",
       "      <td>NaN</td>\n",
       "      <td>NaN</td>\n",
       "      <td>NaN</td>\n",
       "      <td>0.0</td>\n",
       "      <td>0.0</td>\n",
       "    </tr>\n",
       "    <tr>\n",
       "      <th>2022-10-13</th>\n",
       "      <td>0.0</td>\n",
       "      <td>0.0</td>\n",
       "      <td>0.0</td>\n",
       "      <td>NaN</td>\n",
       "      <td>0.00</td>\n",
       "      <td>19457.0</td>\n",
       "      <td>NaN</td>\n",
       "      <td>0.0</td>\n",
       "      <td>0.0</td>\n",
       "      <td>0.0</td>\n",
       "      <td>0.0</td>\n",
       "      <td>NaN</td>\n",
       "      <td>0.0</td>\n",
       "      <td>NaN</td>\n",
       "      <td>NaN</td>\n",
       "      <td>NaN</td>\n",
       "      <td>0.0</td>\n",
       "      <td>0.0</td>\n",
       "    </tr>\n",
       "    <tr>\n",
       "      <th>2022-10-14</th>\n",
       "      <td>0.0</td>\n",
       "      <td>0.0</td>\n",
       "      <td>0.0</td>\n",
       "      <td>NaN</td>\n",
       "      <td>0.00</td>\n",
       "      <td>18647.0</td>\n",
       "      <td>NaN</td>\n",
       "      <td>0.0</td>\n",
       "      <td>0.0</td>\n",
       "      <td>0.0</td>\n",
       "      <td>0.0</td>\n",
       "      <td>NaN</td>\n",
       "      <td>0.0</td>\n",
       "      <td>NaN</td>\n",
       "      <td>NaN</td>\n",
       "      <td>NaN</td>\n",
       "      <td>0.0</td>\n",
       "      <td>0.0</td>\n",
       "    </tr>\n",
       "    <tr>\n",
       "      <th>2022-10-18</th>\n",
       "      <td>0.0</td>\n",
       "      <td>0.0</td>\n",
       "      <td>0.0</td>\n",
       "      <td>NaN</td>\n",
       "      <td>23.00</td>\n",
       "      <td>0.0</td>\n",
       "      <td>NaN</td>\n",
       "      <td>0.0</td>\n",
       "      <td>0.0</td>\n",
       "      <td>0.0</td>\n",
       "      <td>0.0</td>\n",
       "      <td>NaN</td>\n",
       "      <td>0.0</td>\n",
       "      <td>NaN</td>\n",
       "      <td>NaN</td>\n",
       "      <td>NaN</td>\n",
       "      <td>0.0</td>\n",
       "      <td>0.0</td>\n",
       "    </tr>\n",
       "    <tr>\n",
       "      <th>...</th>\n",
       "      <td>...</td>\n",
       "      <td>...</td>\n",
       "      <td>...</td>\n",
       "      <td>...</td>\n",
       "      <td>...</td>\n",
       "      <td>...</td>\n",
       "      <td>...</td>\n",
       "      <td>...</td>\n",
       "      <td>...</td>\n",
       "      <td>...</td>\n",
       "      <td>...</td>\n",
       "      <td>...</td>\n",
       "      <td>...</td>\n",
       "      <td>...</td>\n",
       "      <td>...</td>\n",
       "      <td>...</td>\n",
       "      <td>...</td>\n",
       "      <td>...</td>\n",
       "    </tr>\n",
       "    <tr>\n",
       "      <th>2025-03-14</th>\n",
       "      <td>0.0</td>\n",
       "      <td>16.0</td>\n",
       "      <td>31177.0</td>\n",
       "      <td>NaN</td>\n",
       "      <td>33440.03</td>\n",
       "      <td>781.0</td>\n",
       "      <td>NaN</td>\n",
       "      <td>37797.0</td>\n",
       "      <td>24.0</td>\n",
       "      <td>39.0</td>\n",
       "      <td>19296.0</td>\n",
       "      <td>NaN</td>\n",
       "      <td>33322.0</td>\n",
       "      <td>NaN</td>\n",
       "      <td>NaN</td>\n",
       "      <td>NaN</td>\n",
       "      <td>0.0</td>\n",
       "      <td>38.0</td>\n",
       "    </tr>\n",
       "    <tr>\n",
       "      <th>2025-03-15</th>\n",
       "      <td>0.0</td>\n",
       "      <td>0.0</td>\n",
       "      <td>1896.0</td>\n",
       "      <td>NaN</td>\n",
       "      <td>11425.70</td>\n",
       "      <td>0.0</td>\n",
       "      <td>NaN</td>\n",
       "      <td>21.0</td>\n",
       "      <td>0.0</td>\n",
       "      <td>12112.5</td>\n",
       "      <td>0.0</td>\n",
       "      <td>NaN</td>\n",
       "      <td>0.0</td>\n",
       "      <td>NaN</td>\n",
       "      <td>NaN</td>\n",
       "      <td>NaN</td>\n",
       "      <td>0.0</td>\n",
       "      <td>10296.0</td>\n",
       "    </tr>\n",
       "    <tr>\n",
       "      <th>2025-03-17</th>\n",
       "      <td>0.0</td>\n",
       "      <td>19.0</td>\n",
       "      <td>27796.0</td>\n",
       "      <td>NaN</td>\n",
       "      <td>29541.85</td>\n",
       "      <td>33.0</td>\n",
       "      <td>NaN</td>\n",
       "      <td>18874.0</td>\n",
       "      <td>48.0</td>\n",
       "      <td>70.0</td>\n",
       "      <td>9000.0</td>\n",
       "      <td>NaN</td>\n",
       "      <td>33789.0</td>\n",
       "      <td>NaN</td>\n",
       "      <td>NaN</td>\n",
       "      <td>NaN</td>\n",
       "      <td>0.0</td>\n",
       "      <td>40.0</td>\n",
       "    </tr>\n",
       "    <tr>\n",
       "      <th>2025-03-18</th>\n",
       "      <td>0.0</td>\n",
       "      <td>29.0</td>\n",
       "      <td>11250.0</td>\n",
       "      <td>25.0</td>\n",
       "      <td>22625.33</td>\n",
       "      <td>80.0</td>\n",
       "      <td>NaN</td>\n",
       "      <td>25964.0</td>\n",
       "      <td>30.0</td>\n",
       "      <td>114.0</td>\n",
       "      <td>19.0</td>\n",
       "      <td>NaN</td>\n",
       "      <td>30063.0</td>\n",
       "      <td>NaN</td>\n",
       "      <td>NaN</td>\n",
       "      <td>NaN</td>\n",
       "      <td>0.0</td>\n",
       "      <td>73.0</td>\n",
       "    </tr>\n",
       "    <tr>\n",
       "      <th>2025-03-19</th>\n",
       "      <td>0.0</td>\n",
       "      <td>2064.0</td>\n",
       "      <td>10375.0</td>\n",
       "      <td>24.0</td>\n",
       "      <td>14963.39</td>\n",
       "      <td>37.0</td>\n",
       "      <td>NaN</td>\n",
       "      <td>7472.0</td>\n",
       "      <td>6213.6</td>\n",
       "      <td>371.0</td>\n",
       "      <td>7653.6</td>\n",
       "      <td>NaN</td>\n",
       "      <td>9205.0</td>\n",
       "      <td>NaN</td>\n",
       "      <td>NaN</td>\n",
       "      <td>NaN</td>\n",
       "      <td>0.0</td>\n",
       "      <td>34128.0</td>\n",
       "    </tr>\n",
       "  </tbody>\n",
       "</table>\n",
       "<p>597 rows × 18 columns</p>\n",
       "</div>"
      ],
      "text/plain": [
       "Unidade     ACAB. EXTERNO  AJUSTAGEM  APONTAMENTO  BASTIDOR     CORTE  \\\n",
       "Data Saida                                                              \n",
       "2022-10-06            0.0        0.0          0.0       NaN      0.00   \n",
       "2022-10-07            0.0        0.0          0.0       NaN      0.00   \n",
       "2022-10-13            0.0        0.0          0.0       NaN      0.00   \n",
       "2022-10-14            0.0        0.0          0.0       NaN      0.00   \n",
       "2022-10-18            0.0        0.0          0.0       NaN     23.00   \n",
       "...                   ...        ...          ...       ...       ...   \n",
       "2025-03-14            0.0       16.0      31177.0       NaN  33440.03   \n",
       "2025-03-15            0.0        0.0       1896.0       NaN  11425.70   \n",
       "2025-03-17            0.0       19.0      27796.0       NaN  29541.85   \n",
       "2025-03-18            0.0       29.0      11250.0      25.0  22625.33   \n",
       "2025-03-19            0.0     2064.0      10375.0      24.0  14963.39   \n",
       "\n",
       "Unidade     DOBRA FRIA  DOBRA INTERMEDIARIA  DOBRA QUENTE  EMBALAGEM  \\\n",
       "Data Saida                                                             \n",
       "2022-10-06         0.0                  NaN           0.0        0.0   \n",
       "2022-10-07     14933.0                  NaN           0.0        0.0   \n",
       "2022-10-13     19457.0                  NaN           0.0        0.0   \n",
       "2022-10-14     18647.0                  NaN           0.0        0.0   \n",
       "2022-10-18         0.0                  NaN           0.0        0.0   \n",
       "...                ...                  ...           ...        ...   \n",
       "2025-03-14       781.0                  NaN       37797.0       24.0   \n",
       "2025-03-15         0.0                  NaN          21.0        0.0   \n",
       "2025-03-17        33.0                  NaN       18874.0       48.0   \n",
       "2025-03-18        80.0                  NaN       25964.0       30.0   \n",
       "2025-03-19        37.0                  NaN        7472.0     6213.6   \n",
       "\n",
       "Unidade     GRAVAÇÃO      KTL  LAM. PÓS TRAT. TÉRMICO  LAMINAÇÃO  \\\n",
       "Data Saida                                                         \n",
       "2022-10-06       0.0      0.0                     NaN     6366.0   \n",
       "2022-10-07       0.0      0.0                     NaN        0.0   \n",
       "2022-10-13       0.0      0.0                     NaN        0.0   \n",
       "2022-10-14       0.0      0.0                     NaN        0.0   \n",
       "2022-10-18       0.0      0.0                     NaN        0.0   \n",
       "...              ...      ...                     ...        ...   \n",
       "2025-03-14      39.0  19296.0                     NaN    33322.0   \n",
       "2025-03-15   12112.5      0.0                     NaN        0.0   \n",
       "2025-03-17      70.0   9000.0                     NaN    33789.0   \n",
       "2025-03-18     114.0     19.0                     NaN    30063.0   \n",
       "2025-03-19     371.0   7653.6                     NaN     9205.0   \n",
       "\n",
       "Unidade     MONTAGEM ACESSORIOS  OUTROS ACAB. SUP.  SAÍDA ACAB. EXTERNO NF  \\\n",
       "Data Saida                                                                   \n",
       "2022-10-06                  NaN                NaN                     NaN   \n",
       "2022-10-07                  NaN                NaN                     NaN   \n",
       "2022-10-13                  NaN                NaN                     NaN   \n",
       "2022-10-14                  NaN                NaN                     NaN   \n",
       "2022-10-18                  NaN                NaN                     NaN   \n",
       "...                         ...                ...                     ...   \n",
       "2025-03-14                  NaN                NaN                     NaN   \n",
       "2025-03-15                  NaN                NaN                     NaN   \n",
       "2025-03-17                  NaN                NaN                     NaN   \n",
       "2025-03-18                  NaN                NaN                     NaN   \n",
       "2025-03-19                  NaN                NaN                     NaN   \n",
       "\n",
       "Unidade     TORNO  TRAT. TÉRMICO  \n",
       "Data Saida                        \n",
       "2022-10-06    0.0            0.0  \n",
       "2022-10-07    0.0            0.0  \n",
       "2022-10-13    0.0            0.0  \n",
       "2022-10-14    0.0            0.0  \n",
       "2022-10-18    0.0            0.0  \n",
       "...           ...            ...  \n",
       "2025-03-14    0.0           38.0  \n",
       "2025-03-15    0.0        10296.0  \n",
       "2025-03-17    0.0           40.0  \n",
       "2025-03-18    0.0           73.0  \n",
       "2025-03-19    0.0        34128.0  \n",
       "\n",
       "[597 rows x 18 columns]"
      ]
     },
     "execution_count": 59,
     "metadata": {},
     "output_type": "execute_result"
    }
   ],
   "source": [
    "#nova linha de código para analise de ajuste em horas produzidas\n",
    "#SE TEMPO PRODUZIDO < 5 SEGUNDOS\n",
    "#USAR O CICLO TEÓRICO x QUANTIDADE PRODUZIDA\n",
    "#definir ciclo de cada setor (SEGUNDOS)\n",
    "\n",
    "ciclos_teoricos= {\n",
    "    'CORTE': 6.11,\n",
    "    'GRAVAÇÃO': 7.5,\n",
    "    'APONTAMENTO': 9.00,\n",
    "    'LAMINAÇÃO': 11.05 ,\n",
    "    'DOBRA FRIA': 8.00 ,\n",
    "    'DOBRA QUENTE': 12 ,\n",
    "    'TRAT. TÉRMICO': 18 ,\n",
    "    'AJUSTAGEM': 6 ,\n",
    "    'ACAB. EXTERNO': 9 ,\n",
    "    'KTL': 7.2 ,\n",
    "    'EMBALAGEM': 7.2,\n",
    "    'TORNO': 55.38\n",
    "}\n",
    "\n",
    "# Converter o dicionário de ciclos teóricos em um DataFrame alinhado ao df_pivot_produção\n",
    "df_ciclo_teorico = pd.DataFrame([ciclos_teoricos], index=df_tempo_produzido.index).reindex(columns=df_tempo_produzido.columns)\n",
    "\n",
    "# Aplicar a lógica de substituição\n",
    "df_tempo_produzido_corrigido = df_tempo_produzido.copy()\n",
    "\n",
    "# Substituir os valores menores que 4 segundos\n",
    "df_tempo_produzido_corrigido = df_tempo_produzido_corrigido.applymap(\n",
    "    lambda x: x if x >= 15 else np.nan\n",
    ")\n",
    "\n",
    "# Preencher os valores NaN com df_pivot_produção * ciclo_teorico\n",
    "df_tempo_produzido_corrigido.fillna(df_pivot_produção * df_ciclo_teorico, inplace=True)\n",
    "\n",
    "# Visualizar a saída corrigida\n",
    "(df_tempo_produzido_corrigido)\n",
    "\n"
   ]
  },
  {
   "cell_type": "code",
   "execution_count": 43,
   "metadata": {},
   "outputs": [
    {
     "data": {
      "text/html": [
       "<div>\n",
       "<style scoped>\n",
       "    .dataframe tbody tr th:only-of-type {\n",
       "        vertical-align: middle;\n",
       "    }\n",
       "\n",
       "    .dataframe tbody tr th {\n",
       "        vertical-align: top;\n",
       "    }\n",
       "\n",
       "    .dataframe thead th {\n",
       "        text-align: right;\n",
       "    }\n",
       "</style>\n",
       "<table border=\"1\" class=\"dataframe\">\n",
       "  <thead>\n",
       "    <tr style=\"text-align: right;\">\n",
       "      <th>Unidade</th>\n",
       "      <th>ACAB. EXTERNO</th>\n",
       "      <th>AJUSTAGEM</th>\n",
       "      <th>APONTAMENTO</th>\n",
       "      <th>BASTIDOR</th>\n",
       "      <th>CORTE</th>\n",
       "      <th>DOBRA FRIA</th>\n",
       "      <th>DOBRA INTERMEDIARIA</th>\n",
       "      <th>DOBRA QUENTE</th>\n",
       "      <th>EMBALAGEM</th>\n",
       "      <th>GRAVAÇÃO</th>\n",
       "      <th>KTL</th>\n",
       "      <th>LAM. PÓS TRAT. TÉRMICO</th>\n",
       "      <th>LAMINAÇÃO</th>\n",
       "      <th>MONTAGEM ACESSORIOS</th>\n",
       "      <th>OUTROS ACAB. SUP.</th>\n",
       "      <th>SAÍDA ACAB. EXTERNO NF</th>\n",
       "      <th>TORNO</th>\n",
       "      <th>TRAT. TÉRMICO</th>\n",
       "    </tr>\n",
       "    <tr>\n",
       "      <th>Data</th>\n",
       "      <th></th>\n",
       "      <th></th>\n",
       "      <th></th>\n",
       "      <th></th>\n",
       "      <th></th>\n",
       "      <th></th>\n",
       "      <th></th>\n",
       "      <th></th>\n",
       "      <th></th>\n",
       "      <th></th>\n",
       "      <th></th>\n",
       "      <th></th>\n",
       "      <th></th>\n",
       "      <th></th>\n",
       "      <th></th>\n",
       "      <th></th>\n",
       "      <th></th>\n",
       "      <th></th>\n",
       "    </tr>\n",
       "  </thead>\n",
       "  <tbody>\n",
       "    <tr>\n",
       "      <th>2022-10-06</th>\n",
       "      <td>0.0</td>\n",
       "      <td>0.00</td>\n",
       "      <td>0.00</td>\n",
       "      <td>0.00</td>\n",
       "      <td>0.00</td>\n",
       "      <td>0.00</td>\n",
       "      <td>0.0</td>\n",
       "      <td>0.00</td>\n",
       "      <td>0.00</td>\n",
       "      <td>0.00</td>\n",
       "      <td>0.00</td>\n",
       "      <td>0.0</td>\n",
       "      <td>28.64</td>\n",
       "      <td>0.0</td>\n",
       "      <td>0.0</td>\n",
       "      <td>0.0</td>\n",
       "      <td>0.0</td>\n",
       "      <td>0.00</td>\n",
       "    </tr>\n",
       "    <tr>\n",
       "      <th>2022-10-07</th>\n",
       "      <td>0.0</td>\n",
       "      <td>0.00</td>\n",
       "      <td>0.00</td>\n",
       "      <td>0.00</td>\n",
       "      <td>0.00</td>\n",
       "      <td>46.98</td>\n",
       "      <td>0.0</td>\n",
       "      <td>0.00</td>\n",
       "      <td>0.00</td>\n",
       "      <td>0.00</td>\n",
       "      <td>0.00</td>\n",
       "      <td>0.0</td>\n",
       "      <td>0.00</td>\n",
       "      <td>0.0</td>\n",
       "      <td>0.0</td>\n",
       "      <td>0.0</td>\n",
       "      <td>0.0</td>\n",
       "      <td>0.00</td>\n",
       "    </tr>\n",
       "    <tr>\n",
       "      <th>2022-10-13</th>\n",
       "      <td>0.0</td>\n",
       "      <td>0.00</td>\n",
       "      <td>0.00</td>\n",
       "      <td>0.00</td>\n",
       "      <td>0.00</td>\n",
       "      <td>79.70</td>\n",
       "      <td>0.0</td>\n",
       "      <td>0.00</td>\n",
       "      <td>0.00</td>\n",
       "      <td>0.00</td>\n",
       "      <td>0.00</td>\n",
       "      <td>0.0</td>\n",
       "      <td>0.00</td>\n",
       "      <td>0.0</td>\n",
       "      <td>0.0</td>\n",
       "      <td>0.0</td>\n",
       "      <td>0.0</td>\n",
       "      <td>0.00</td>\n",
       "    </tr>\n",
       "    <tr>\n",
       "      <th>2022-10-14</th>\n",
       "      <td>0.0</td>\n",
       "      <td>0.00</td>\n",
       "      <td>0.00</td>\n",
       "      <td>0.00</td>\n",
       "      <td>0.00</td>\n",
       "      <td>62.65</td>\n",
       "      <td>0.0</td>\n",
       "      <td>0.00</td>\n",
       "      <td>0.00</td>\n",
       "      <td>0.00</td>\n",
       "      <td>0.00</td>\n",
       "      <td>0.0</td>\n",
       "      <td>0.00</td>\n",
       "      <td>0.0</td>\n",
       "      <td>0.0</td>\n",
       "      <td>0.0</td>\n",
       "      <td>0.0</td>\n",
       "      <td>0.00</td>\n",
       "    </tr>\n",
       "    <tr>\n",
       "      <th>2022-10-18</th>\n",
       "      <td>0.0</td>\n",
       "      <td>0.00</td>\n",
       "      <td>0.00</td>\n",
       "      <td>0.00</td>\n",
       "      <td>0.58</td>\n",
       "      <td>0.00</td>\n",
       "      <td>0.0</td>\n",
       "      <td>0.00</td>\n",
       "      <td>0.00</td>\n",
       "      <td>0.00</td>\n",
       "      <td>0.00</td>\n",
       "      <td>0.0</td>\n",
       "      <td>0.00</td>\n",
       "      <td>0.0</td>\n",
       "      <td>0.0</td>\n",
       "      <td>0.0</td>\n",
       "      <td>0.0</td>\n",
       "      <td>0.00</td>\n",
       "    </tr>\n",
       "    <tr>\n",
       "      <th>...</th>\n",
       "      <td>...</td>\n",
       "      <td>...</td>\n",
       "      <td>...</td>\n",
       "      <td>...</td>\n",
       "      <td>...</td>\n",
       "      <td>...</td>\n",
       "      <td>...</td>\n",
       "      <td>...</td>\n",
       "      <td>...</td>\n",
       "      <td>...</td>\n",
       "      <td>...</td>\n",
       "      <td>...</td>\n",
       "      <td>...</td>\n",
       "      <td>...</td>\n",
       "      <td>...</td>\n",
       "      <td>...</td>\n",
       "      <td>...</td>\n",
       "      <td>...</td>\n",
       "    </tr>\n",
       "    <tr>\n",
       "      <th>2025-03-14</th>\n",
       "      <td>0.0</td>\n",
       "      <td>0.12</td>\n",
       "      <td>48.23</td>\n",
       "      <td>0.00</td>\n",
       "      <td>106.96</td>\n",
       "      <td>1.32</td>\n",
       "      <td>0.0</td>\n",
       "      <td>27.67</td>\n",
       "      <td>0.07</td>\n",
       "      <td>0.07</td>\n",
       "      <td>0.02</td>\n",
       "      <td>0.0</td>\n",
       "      <td>58.37</td>\n",
       "      <td>0.0</td>\n",
       "      <td>0.0</td>\n",
       "      <td>0.0</td>\n",
       "      <td>0.0</td>\n",
       "      <td>0.03</td>\n",
       "    </tr>\n",
       "    <tr>\n",
       "      <th>2025-03-15</th>\n",
       "      <td>0.0</td>\n",
       "      <td>0.00</td>\n",
       "      <td>15.08</td>\n",
       "      <td>0.00</td>\n",
       "      <td>48.23</td>\n",
       "      <td>0.00</td>\n",
       "      <td>0.0</td>\n",
       "      <td>0.05</td>\n",
       "      <td>0.00</td>\n",
       "      <td>0.06</td>\n",
       "      <td>0.00</td>\n",
       "      <td>0.0</td>\n",
       "      <td>0.00</td>\n",
       "      <td>0.0</td>\n",
       "      <td>0.0</td>\n",
       "      <td>0.0</td>\n",
       "      <td>0.0</td>\n",
       "      <td>2434.04</td>\n",
       "    </tr>\n",
       "    <tr>\n",
       "      <th>2025-03-17</th>\n",
       "      <td>0.0</td>\n",
       "      <td>0.07</td>\n",
       "      <td>80.80</td>\n",
       "      <td>0.00</td>\n",
       "      <td>52.07</td>\n",
       "      <td>0.09</td>\n",
       "      <td>0.0</td>\n",
       "      <td>21.02</td>\n",
       "      <td>0.15</td>\n",
       "      <td>0.13</td>\n",
       "      <td>45.50</td>\n",
       "      <td>0.0</td>\n",
       "      <td>34.87</td>\n",
       "      <td>0.0</td>\n",
       "      <td>0.0</td>\n",
       "      <td>0.0</td>\n",
       "      <td>0.0</td>\n",
       "      <td>0.04</td>\n",
       "    </tr>\n",
       "    <tr>\n",
       "      <th>2025-03-18</th>\n",
       "      <td>0.0</td>\n",
       "      <td>0.11</td>\n",
       "      <td>36.74</td>\n",
       "      <td>0.13</td>\n",
       "      <td>29.90</td>\n",
       "      <td>0.24</td>\n",
       "      <td>0.0</td>\n",
       "      <td>18.56</td>\n",
       "      <td>0.09</td>\n",
       "      <td>0.18</td>\n",
       "      <td>0.06</td>\n",
       "      <td>0.0</td>\n",
       "      <td>30.43</td>\n",
       "      <td>0.0</td>\n",
       "      <td>0.0</td>\n",
       "      <td>0.0</td>\n",
       "      <td>0.0</td>\n",
       "      <td>0.07</td>\n",
       "    </tr>\n",
       "    <tr>\n",
       "      <th>2025-03-19</th>\n",
       "      <td>0.0</td>\n",
       "      <td>34400.00</td>\n",
       "      <td>72.75</td>\n",
       "      <td>1.02</td>\n",
       "      <td>90.22</td>\n",
       "      <td>0.37</td>\n",
       "      <td>0.0</td>\n",
       "      <td>11.31</td>\n",
       "      <td>0.04</td>\n",
       "      <td>1.57</td>\n",
       "      <td>0.13</td>\n",
       "      <td>0.0</td>\n",
       "      <td>56.28</td>\n",
       "      <td>0.0</td>\n",
       "      <td>0.0</td>\n",
       "      <td>0.0</td>\n",
       "      <td>0.0</td>\n",
       "      <td>0.03</td>\n",
       "    </tr>\n",
       "  </tbody>\n",
       "</table>\n",
       "<p>597 rows × 18 columns</p>\n",
       "</div>"
      ],
      "text/plain": [
       "Unidade     ACAB. EXTERNO  AJUSTAGEM  APONTAMENTO  BASTIDOR   CORTE  \\\n",
       "Data                                                                  \n",
       "2022-10-06            0.0       0.00         0.00      0.00    0.00   \n",
       "2022-10-07            0.0       0.00         0.00      0.00    0.00   \n",
       "2022-10-13            0.0       0.00         0.00      0.00    0.00   \n",
       "2022-10-14            0.0       0.00         0.00      0.00    0.00   \n",
       "2022-10-18            0.0       0.00         0.00      0.00    0.58   \n",
       "...                   ...        ...          ...       ...     ...   \n",
       "2025-03-14            0.0       0.12        48.23      0.00  106.96   \n",
       "2025-03-15            0.0       0.00        15.08      0.00   48.23   \n",
       "2025-03-17            0.0       0.07        80.80      0.00   52.07   \n",
       "2025-03-18            0.0       0.11        36.74      0.13   29.90   \n",
       "2025-03-19            0.0   34400.00        72.75      1.02   90.22   \n",
       "\n",
       "Unidade     DOBRA FRIA  DOBRA INTERMEDIARIA  DOBRA QUENTE  EMBALAGEM  \\\n",
       "Data                                                                   \n",
       "2022-10-06        0.00                  0.0          0.00       0.00   \n",
       "2022-10-07       46.98                  0.0          0.00       0.00   \n",
       "2022-10-13       79.70                  0.0          0.00       0.00   \n",
       "2022-10-14       62.65                  0.0          0.00       0.00   \n",
       "2022-10-18        0.00                  0.0          0.00       0.00   \n",
       "...                ...                  ...           ...        ...   \n",
       "2025-03-14        1.32                  0.0         27.67       0.07   \n",
       "2025-03-15        0.00                  0.0          0.05       0.00   \n",
       "2025-03-17        0.09                  0.0         21.02       0.15   \n",
       "2025-03-18        0.24                  0.0         18.56       0.09   \n",
       "2025-03-19        0.37                  0.0         11.31       0.04   \n",
       "\n",
       "Unidade     GRAVAÇÃO    KTL  LAM. PÓS TRAT. TÉRMICO  LAMINAÇÃO  \\\n",
       "Data                                                             \n",
       "2022-10-06      0.00   0.00                     0.0      28.64   \n",
       "2022-10-07      0.00   0.00                     0.0       0.00   \n",
       "2022-10-13      0.00   0.00                     0.0       0.00   \n",
       "2022-10-14      0.00   0.00                     0.0       0.00   \n",
       "2022-10-18      0.00   0.00                     0.0       0.00   \n",
       "...              ...    ...                     ...        ...   \n",
       "2025-03-14      0.07   0.02                     0.0      58.37   \n",
       "2025-03-15      0.06   0.00                     0.0       0.00   \n",
       "2025-03-17      0.13  45.50                     0.0      34.87   \n",
       "2025-03-18      0.18   0.06                     0.0      30.43   \n",
       "2025-03-19      1.57   0.13                     0.0      56.28   \n",
       "\n",
       "Unidade     MONTAGEM ACESSORIOS  OUTROS ACAB. SUP.  SAÍDA ACAB. EXTERNO NF  \\\n",
       "Data                                                                         \n",
       "2022-10-06                  0.0                0.0                     0.0   \n",
       "2022-10-07                  0.0                0.0                     0.0   \n",
       "2022-10-13                  0.0                0.0                     0.0   \n",
       "2022-10-14                  0.0                0.0                     0.0   \n",
       "2022-10-18                  0.0                0.0                     0.0   \n",
       "...                         ...                ...                     ...   \n",
       "2025-03-14                  0.0                0.0                     0.0   \n",
       "2025-03-15                  0.0                0.0                     0.0   \n",
       "2025-03-17                  0.0                0.0                     0.0   \n",
       "2025-03-18                  0.0                0.0                     0.0   \n",
       "2025-03-19                  0.0                0.0                     0.0   \n",
       "\n",
       "Unidade     TORNO  TRAT. TÉRMICO  \n",
       "Data                              \n",
       "2022-10-06    0.0           0.00  \n",
       "2022-10-07    0.0           0.00  \n",
       "2022-10-13    0.0           0.00  \n",
       "2022-10-14    0.0           0.00  \n",
       "2022-10-18    0.0           0.00  \n",
       "...           ...            ...  \n",
       "2025-03-14    0.0           0.03  \n",
       "2025-03-15    0.0        2434.04  \n",
       "2025-03-17    0.0           0.04  \n",
       "2025-03-18    0.0           0.07  \n",
       "2025-03-19    0.0           0.03  \n",
       "\n",
       "[597 rows x 18 columns]"
      ]
     },
     "execution_count": 43,
     "metadata": {},
     "output_type": "execute_result"
    }
   ],
   "source": [
    "#DISPONIBILIDADE\n",
    "\n",
    "# Garantir que ambos os DataFrames estão com o mesmo índice e colunas\n",
    "df_tempo_produzido_corrigido = df_tempo_produzido_corrigido.reindex_like(df_tempo_programado)\n",
    "\n",
    "# Dividir diretamente os valores de 'Horas Produzidas' pelo 'Tempo Programado'\n",
    "df_disponibilidade = (df_tempo_produzido_corrigido / df_tempo_programado) * 100 #coloca em % \n",
    "df_disponibilidade = df_disponibilidade.round(2) #deixa apenas 2 casas decimais\n",
    "\n",
    "# Adicionar a coluna 'Disponibilidade' diretamente no DataFrame resultante\n",
    "df_disponibilidade.columns.name = 'Unidade'\n",
    "df_disponibilidade.index.name = 'Data'\n",
    "\n",
    "# Preencher valores NaN com 0\n",
    "df_disponibilidade = df_disponibilidade.fillna(0)\n",
    "df_disponibilidade"
   ]
  },
  {
   "cell_type": "code",
   "execution_count": 44,
   "metadata": {},
   "outputs": [],
   "source": [
    "#PERFOMANCE\n",
    "\n",
    "#definir ciclo de cada setor (SEGUNDOS)\n",
    "ciclos_teoricos= {\n",
    "    'CORTE': 6.11,\n",
    "    'GRAVAÇÃO': 7.5,\n",
    "    'APONTAMENTO': 9.00,\n",
    "    'LAMINAÇÃO': 11.05 ,\n",
    "    'DOBRA FRIA': 8.00 ,\n",
    "    'DOBRA QUENTE': 12 ,\n",
    "    'TRAT. TÉRMICO': 18 ,\n",
    "    'AJUSTAGEM': 6 ,\n",
    "    'ACAB. EXTERNO': 9 ,\n",
    "    'KTL': 7.2 ,\n",
    "    'EMBALAGEM': 7.2,\n",
    "    'TORNO': 55.38\n",
    "}\n",
    "\n",
    "# Criar uma nova tabela para armazenar a performance\n",
    "df_performance = df_tempo_produzido.copy()  # Usar a tabela de horas produzidas\n",
    "\n",
    "# Calcular a performance para cada setor\n",
    "for setor in df_performance.columns:\n",
    "    ciclo_teorico = ciclos_teoricos.get(setor, 1)  # Ciclo teórico do setor\n",
    "    # Calcular performance = (produção * ciclo teórico) / horas produzidas\n",
    "    df_performance[setor] = (((df_pivot_produção[setor] * ciclo_teorico) / (df_tempo_produzido_corrigido[setor])))*100  # Converter horas para segundos\n",
    "    df_performance[setor] = df_performance[setor].round(2)  # Arredondar para 2 casas decimais\n",
    "    \n",
    "\n",
    "# Exibir o resultado da performance\n",
    "(df_performance.head())\n",
    "\n",
    "df_performance=df_performance.fillna(0)\n"
   ]
  },
  {
   "cell_type": "code",
   "execution_count": 45,
   "metadata": {},
   "outputs": [],
   "source": [
    "#Qualidade\n",
    "\n",
    "#nova tabela dinamica com o saldo (produção-perda) \n",
    "# Garantir que as colunas necessárias estão presentes\n",
    "# Criar uma nova coluna 'Saldo' com a fórmula: Saldo = Produzido - Perda\n",
    "\n",
    "df1['Saldo'] = df1['Produzido'] - df1['Perda']\n",
    "\n",
    "# Gerar a tabela dinâmica com base no 'Saldo' por dia e setor\n",
    "df_saldo_pivot = df1.groupby(['Data Saida', 'Unidade'])['Saldo'].sum().reset_index()\n",
    "\n",
    "# Converter a coluna 'Data Saida' para o formato de data correto\n",
    "df_saldo_pivot['Data Saida'] = pd.to_datetime(df_saldo_pivot['Data Saida'], format='%d/%m/%Y', errors='coerce')\n",
    "\n",
    "# Criar uma tabela dinâmica para organizar os dados de saldo por dia e setor\n",
    "df_saldo_pivot = df_saldo_pivot.pivot(index='Data Saida', columns='Unidade', values='Saldo')\n",
    "\n",
    "# Preencher valores NaN com 0 (caso necessário)\n",
    "df_saldo_pivot = df_saldo_pivot.fillna(0)\n",
    "\n",
    "# Criar uma nova tabela para armazenar a qualidade\n",
    "df_qualidade = df_saldo_pivot.copy()\n",
    "\n",
    "# Calcular a qualidade para cada setor\n",
    "for setor in df_qualidade.columns:\n",
    "    # Qualidade = Saldo / Produção Total (da tabela dinâmica de produção)\n",
    "    df_qualidade[setor] = (df_saldo_pivot[setor] / df_pivot[setor]) * 100\n",
    "    df_qualidade[setor] = df_qualidade[setor].round(2)  # Arredondar para 2 casas decimais\n",
    "\n",
    "\n",
    "# Preencher valores NaN com 0 (caso necessário)\n",
    "df_qualidade = df_qualidade.fillna(0)\n",
    "\n",
    "# # Exibir o resultado da qualidade\n",
    "# (df_qualidade.())"
   ]
  },
  {
   "cell_type": "code",
   "execution_count": 46,
   "metadata": {},
   "outputs": [
    {
     "data": {
      "text/html": [
       "<div>\n",
       "<style scoped>\n",
       "    .dataframe tbody tr th:only-of-type {\n",
       "        vertical-align: middle;\n",
       "    }\n",
       "\n",
       "    .dataframe tbody tr th {\n",
       "        vertical-align: top;\n",
       "    }\n",
       "\n",
       "    .dataframe thead th {\n",
       "        text-align: right;\n",
       "    }\n",
       "</style>\n",
       "<table border=\"1\" class=\"dataframe\">\n",
       "  <thead>\n",
       "    <tr style=\"text-align: right;\">\n",
       "      <th>Unidade</th>\n",
       "      <th>ACAB. EXTERNO</th>\n",
       "      <th>AJUSTAGEM</th>\n",
       "      <th>APONTAMENTO</th>\n",
       "      <th>BASTIDOR</th>\n",
       "      <th>CORTE</th>\n",
       "      <th>DOBRA FRIA</th>\n",
       "      <th>DOBRA INTERMEDIARIA</th>\n",
       "      <th>DOBRA QUENTE</th>\n",
       "      <th>EMBALAGEM</th>\n",
       "      <th>GRAVAÇÃO</th>\n",
       "      <th>KTL</th>\n",
       "      <th>LAM. PÓS TRAT. TÉRMICO</th>\n",
       "      <th>LAMINAÇÃO</th>\n",
       "      <th>MONTAGEM ACESSORIOS</th>\n",
       "      <th>OUTROS ACAB. SUP.</th>\n",
       "      <th>SAÍDA ACAB. EXTERNO NF</th>\n",
       "      <th>TORNO</th>\n",
       "      <th>TRAT. TÉRMICO</th>\n",
       "    </tr>\n",
       "    <tr>\n",
       "      <th>Data</th>\n",
       "      <th></th>\n",
       "      <th></th>\n",
       "      <th></th>\n",
       "      <th></th>\n",
       "      <th></th>\n",
       "      <th></th>\n",
       "      <th></th>\n",
       "      <th></th>\n",
       "      <th></th>\n",
       "      <th></th>\n",
       "      <th></th>\n",
       "      <th></th>\n",
       "      <th></th>\n",
       "      <th></th>\n",
       "      <th></th>\n",
       "      <th></th>\n",
       "      <th></th>\n",
       "      <th></th>\n",
       "    </tr>\n",
       "  </thead>\n",
       "  <tbody>\n",
       "    <tr>\n",
       "      <th>2022-10-06</th>\n",
       "      <td>0.0</td>\n",
       "      <td>0.00</td>\n",
       "      <td>0.00</td>\n",
       "      <td>0.00</td>\n",
       "      <td>0.00</td>\n",
       "      <td>0.00</td>\n",
       "      <td>0.0</td>\n",
       "      <td>0.00</td>\n",
       "      <td>0.00</td>\n",
       "      <td>0.00</td>\n",
       "      <td>0.00</td>\n",
       "      <td>0.0</td>\n",
       "      <td>0.00</td>\n",
       "      <td>0.0</td>\n",
       "      <td>0.0</td>\n",
       "      <td>0.0</td>\n",
       "      <td>0.0</td>\n",
       "      <td>0.00</td>\n",
       "    </tr>\n",
       "    <tr>\n",
       "      <th>2022-10-07</th>\n",
       "      <td>0.0</td>\n",
       "      <td>0.00</td>\n",
       "      <td>0.00</td>\n",
       "      <td>0.00</td>\n",
       "      <td>0.00</td>\n",
       "      <td>0.00</td>\n",
       "      <td>0.0</td>\n",
       "      <td>0.00</td>\n",
       "      <td>0.00</td>\n",
       "      <td>0.00</td>\n",
       "      <td>0.00</td>\n",
       "      <td>0.0</td>\n",
       "      <td>0.00</td>\n",
       "      <td>0.0</td>\n",
       "      <td>0.0</td>\n",
       "      <td>0.0</td>\n",
       "      <td>0.0</td>\n",
       "      <td>0.00</td>\n",
       "    </tr>\n",
       "    <tr>\n",
       "      <th>2022-10-13</th>\n",
       "      <td>0.0</td>\n",
       "      <td>0.00</td>\n",
       "      <td>0.00</td>\n",
       "      <td>0.00</td>\n",
       "      <td>0.00</td>\n",
       "      <td>0.00</td>\n",
       "      <td>0.0</td>\n",
       "      <td>0.00</td>\n",
       "      <td>0.00</td>\n",
       "      <td>0.00</td>\n",
       "      <td>0.00</td>\n",
       "      <td>0.0</td>\n",
       "      <td>0.00</td>\n",
       "      <td>0.0</td>\n",
       "      <td>0.0</td>\n",
       "      <td>0.0</td>\n",
       "      <td>0.0</td>\n",
       "      <td>0.00</td>\n",
       "    </tr>\n",
       "    <tr>\n",
       "      <th>2022-10-14</th>\n",
       "      <td>0.0</td>\n",
       "      <td>0.00</td>\n",
       "      <td>0.00</td>\n",
       "      <td>0.00</td>\n",
       "      <td>0.00</td>\n",
       "      <td>0.00</td>\n",
       "      <td>0.0</td>\n",
       "      <td>0.00</td>\n",
       "      <td>0.00</td>\n",
       "      <td>0.00</td>\n",
       "      <td>0.00</td>\n",
       "      <td>0.0</td>\n",
       "      <td>0.00</td>\n",
       "      <td>0.0</td>\n",
       "      <td>0.0</td>\n",
       "      <td>0.0</td>\n",
       "      <td>0.0</td>\n",
       "      <td>0.00</td>\n",
       "    </tr>\n",
       "    <tr>\n",
       "      <th>2022-10-18</th>\n",
       "      <td>0.0</td>\n",
       "      <td>0.00</td>\n",
       "      <td>0.00</td>\n",
       "      <td>0.00</td>\n",
       "      <td>0.00</td>\n",
       "      <td>0.00</td>\n",
       "      <td>0.0</td>\n",
       "      <td>0.00</td>\n",
       "      <td>0.00</td>\n",
       "      <td>0.00</td>\n",
       "      <td>0.00</td>\n",
       "      <td>0.0</td>\n",
       "      <td>0.00</td>\n",
       "      <td>0.0</td>\n",
       "      <td>0.0</td>\n",
       "      <td>0.0</td>\n",
       "      <td>0.0</td>\n",
       "      <td>0.00</td>\n",
       "    </tr>\n",
       "    <tr>\n",
       "      <th>...</th>\n",
       "      <td>...</td>\n",
       "      <td>...</td>\n",
       "      <td>...</td>\n",
       "      <td>...</td>\n",
       "      <td>...</td>\n",
       "      <td>...</td>\n",
       "      <td>...</td>\n",
       "      <td>...</td>\n",
       "      <td>...</td>\n",
       "      <td>...</td>\n",
       "      <td>...</td>\n",
       "      <td>...</td>\n",
       "      <td>...</td>\n",
       "      <td>...</td>\n",
       "      <td>...</td>\n",
       "      <td>...</td>\n",
       "      <td>...</td>\n",
       "      <td>...</td>\n",
       "    </tr>\n",
       "    <tr>\n",
       "      <th>2025-03-14</th>\n",
       "      <td>0.0</td>\n",
       "      <td>71.50</td>\n",
       "      <td>70.24</td>\n",
       "      <td>0.00</td>\n",
       "      <td>106.96</td>\n",
       "      <td>37.32</td>\n",
       "      <td>0.0</td>\n",
       "      <td>14.54</td>\n",
       "      <td>50.93</td>\n",
       "      <td>86.91</td>\n",
       "      <td>64.32</td>\n",
       "      <td>0.0</td>\n",
       "      <td>77.68</td>\n",
       "      <td>0.0</td>\n",
       "      <td>0.0</td>\n",
       "      <td>0.0</td>\n",
       "      <td>0.0</td>\n",
       "      <td>53.20</td>\n",
       "    </tr>\n",
       "    <tr>\n",
       "      <th>2025-03-15</th>\n",
       "      <td>0.0</td>\n",
       "      <td>0.00</td>\n",
       "      <td>0.00</td>\n",
       "      <td>0.00</td>\n",
       "      <td>0.00</td>\n",
       "      <td>0.00</td>\n",
       "      <td>0.0</td>\n",
       "      <td>0.00</td>\n",
       "      <td>0.00</td>\n",
       "      <td>0.00</td>\n",
       "      <td>0.00</td>\n",
       "      <td>0.0</td>\n",
       "      <td>0.00</td>\n",
       "      <td>0.0</td>\n",
       "      <td>0.0</td>\n",
       "      <td>0.0</td>\n",
       "      <td>0.0</td>\n",
       "      <td>0.00</td>\n",
       "    </tr>\n",
       "    <tr>\n",
       "      <th>2025-03-17</th>\n",
       "      <td>0.0</td>\n",
       "      <td>46.80</td>\n",
       "      <td>80.08</td>\n",
       "      <td>0.00</td>\n",
       "      <td>52.07</td>\n",
       "      <td>73.85</td>\n",
       "      <td>0.0</td>\n",
       "      <td>30.43</td>\n",
       "      <td>47.02</td>\n",
       "      <td>45.35</td>\n",
       "      <td>45.50</td>\n",
       "      <td>0.0</td>\n",
       "      <td>63.99</td>\n",
       "      <td>0.0</td>\n",
       "      <td>0.0</td>\n",
       "      <td>0.0</td>\n",
       "      <td>0.0</td>\n",
       "      <td>61.81</td>\n",
       "    </tr>\n",
       "    <tr>\n",
       "      <th>2025-03-18</th>\n",
       "      <td>0.0</td>\n",
       "      <td>53.71</td>\n",
       "      <td>48.67</td>\n",
       "      <td>2.85</td>\n",
       "      <td>29.90</td>\n",
       "      <td>46.27</td>\n",
       "      <td>0.0</td>\n",
       "      <td>15.36</td>\n",
       "      <td>59.49</td>\n",
       "      <td>39.38</td>\n",
       "      <td>107.59</td>\n",
       "      <td>0.0</td>\n",
       "      <td>43.71</td>\n",
       "      <td>0.0</td>\n",
       "      <td>0.0</td>\n",
       "      <td>0.0</td>\n",
       "      <td>0.0</td>\n",
       "      <td>78.02</td>\n",
       "    </tr>\n",
       "    <tr>\n",
       "      <th>2025-03-19</th>\n",
       "      <td>0.0</td>\n",
       "      <td>0.00</td>\n",
       "      <td>0.00</td>\n",
       "      <td>0.00</td>\n",
       "      <td>0.00</td>\n",
       "      <td>0.00</td>\n",
       "      <td>0.0</td>\n",
       "      <td>0.00</td>\n",
       "      <td>0.00</td>\n",
       "      <td>0.00</td>\n",
       "      <td>0.00</td>\n",
       "      <td>0.0</td>\n",
       "      <td>0.00</td>\n",
       "      <td>0.0</td>\n",
       "      <td>0.0</td>\n",
       "      <td>0.0</td>\n",
       "      <td>0.0</td>\n",
       "      <td>0.00</td>\n",
       "    </tr>\n",
       "  </tbody>\n",
       "</table>\n",
       "<p>597 rows × 18 columns</p>\n",
       "</div>"
      ],
      "text/plain": [
       "Unidade     ACAB. EXTERNO  AJUSTAGEM  APONTAMENTO  BASTIDOR   CORTE  \\\n",
       "Data                                                                  \n",
       "2022-10-06            0.0       0.00         0.00      0.00    0.00   \n",
       "2022-10-07            0.0       0.00         0.00      0.00    0.00   \n",
       "2022-10-13            0.0       0.00         0.00      0.00    0.00   \n",
       "2022-10-14            0.0       0.00         0.00      0.00    0.00   \n",
       "2022-10-18            0.0       0.00         0.00      0.00    0.00   \n",
       "...                   ...        ...          ...       ...     ...   \n",
       "2025-03-14            0.0      71.50        70.24      0.00  106.96   \n",
       "2025-03-15            0.0       0.00         0.00      0.00    0.00   \n",
       "2025-03-17            0.0      46.80        80.08      0.00   52.07   \n",
       "2025-03-18            0.0      53.71        48.67      2.85   29.90   \n",
       "2025-03-19            0.0       0.00         0.00      0.00    0.00   \n",
       "\n",
       "Unidade     DOBRA FRIA  DOBRA INTERMEDIARIA  DOBRA QUENTE  EMBALAGEM  \\\n",
       "Data                                                                   \n",
       "2022-10-06        0.00                  0.0          0.00       0.00   \n",
       "2022-10-07        0.00                  0.0          0.00       0.00   \n",
       "2022-10-13        0.00                  0.0          0.00       0.00   \n",
       "2022-10-14        0.00                  0.0          0.00       0.00   \n",
       "2022-10-18        0.00                  0.0          0.00       0.00   \n",
       "...                ...                  ...           ...        ...   \n",
       "2025-03-14       37.32                  0.0         14.54      50.93   \n",
       "2025-03-15        0.00                  0.0          0.00       0.00   \n",
       "2025-03-17       73.85                  0.0         30.43      47.02   \n",
       "2025-03-18       46.27                  0.0         15.36      59.49   \n",
       "2025-03-19        0.00                  0.0          0.00       0.00   \n",
       "\n",
       "Unidade     GRAVAÇÃO     KTL  LAM. PÓS TRAT. TÉRMICO  LAMINAÇÃO  \\\n",
       "Data                                                              \n",
       "2022-10-06      0.00    0.00                     0.0       0.00   \n",
       "2022-10-07      0.00    0.00                     0.0       0.00   \n",
       "2022-10-13      0.00    0.00                     0.0       0.00   \n",
       "2022-10-14      0.00    0.00                     0.0       0.00   \n",
       "2022-10-18      0.00    0.00                     0.0       0.00   \n",
       "...              ...     ...                     ...        ...   \n",
       "2025-03-14     86.91   64.32                     0.0      77.68   \n",
       "2025-03-15      0.00    0.00                     0.0       0.00   \n",
       "2025-03-17     45.35   45.50                     0.0      63.99   \n",
       "2025-03-18     39.38  107.59                     0.0      43.71   \n",
       "2025-03-19      0.00    0.00                     0.0       0.00   \n",
       "\n",
       "Unidade     MONTAGEM ACESSORIOS  OUTROS ACAB. SUP.  SAÍDA ACAB. EXTERNO NF  \\\n",
       "Data                                                                         \n",
       "2022-10-06                  0.0                0.0                     0.0   \n",
       "2022-10-07                  0.0                0.0                     0.0   \n",
       "2022-10-13                  0.0                0.0                     0.0   \n",
       "2022-10-14                  0.0                0.0                     0.0   \n",
       "2022-10-18                  0.0                0.0                     0.0   \n",
       "...                         ...                ...                     ...   \n",
       "2025-03-14                  0.0                0.0                     0.0   \n",
       "2025-03-15                  0.0                0.0                     0.0   \n",
       "2025-03-17                  0.0                0.0                     0.0   \n",
       "2025-03-18                  0.0                0.0                     0.0   \n",
       "2025-03-19                  0.0                0.0                     0.0   \n",
       "\n",
       "Unidade     TORNO  TRAT. TÉRMICO  \n",
       "Data                              \n",
       "2022-10-06    0.0           0.00  \n",
       "2022-10-07    0.0           0.00  \n",
       "2022-10-13    0.0           0.00  \n",
       "2022-10-14    0.0           0.00  \n",
       "2022-10-18    0.0           0.00  \n",
       "...           ...            ...  \n",
       "2025-03-14    0.0          53.20  \n",
       "2025-03-15    0.0           0.00  \n",
       "2025-03-17    0.0          61.81  \n",
       "2025-03-18    0.0          78.02  \n",
       "2025-03-19    0.0           0.00  \n",
       "\n",
       "[597 rows x 18 columns]"
      ]
     },
     "execution_count": 46,
     "metadata": {},
     "output_type": "execute_result"
    }
   ],
   "source": [
    "#OEE\n",
    "\n",
    "#nova tabela dinamica com o oee por dia de cada setor\n",
    "\n",
    "# Criar uma nova tabela para armazenar o OEE\n",
    "df_oee = pd.DataFrame(index=df_disponibilidade.index, columns=df_disponibilidade.columns)\n",
    "\n",
    "# Calcular o OEE para cada setor\n",
    "for setor in df_oee.columns:\n",
    "    # OEE = Disponibilidade * Performance * Qualidade\n",
    "    df_oee[setor] = ((df_disponibilidade[setor] * df_performance[setor] * df_qualidade[setor])) / 10000\n",
    "    df_oee[setor] = df_oee[setor].round(2)  # Arredondar para 2 casas decimais\n",
    "\n",
    "#nan com 0 \n",
    "\n",
    "df_oee = df_oee.fillna(0)\n",
    "\n",
    "(df_oee)"
   ]
  },
  {
   "cell_type": "code",
   "execution_count": 47,
   "metadata": {},
   "outputs": [
    {
     "data": {
      "application/vnd.plotly.v1+json": {
       "config": {
        "plotlyServerURL": "https://plot.ly"
       },
       "data": [
        {
         "hovertemplate": "<b>Data</b>: %{x}<br><b>OEE</b>: %{y}<extra></extra>",
         "line": {
          "width": 2
         },
         "marker": {
          "size": 8
         },
         "mode": "lines+markers",
         "name": "OEE",
         "type": "scatter",
         "x": [
          "2025-01-13T00:00:00",
          "2025-01-14T00:00:00",
          "2025-01-15T00:00:00",
          "2025-01-16T00:00:00",
          "2025-01-17T00:00:00",
          "2025-01-20T00:00:00",
          "2025-01-21T00:00:00",
          "2025-01-22T00:00:00",
          "2025-01-23T00:00:00",
          "2025-01-24T00:00:00",
          "2025-01-27T00:00:00",
          "2025-01-28T00:00:00",
          "2025-01-29T00:00:00",
          "2025-01-30T00:00:00",
          "2025-01-31T00:00:00",
          "2025-02-03T00:00:00",
          "2025-02-04T00:00:00",
          "2025-02-05T00:00:00",
          "2025-02-06T00:00:00",
          "2025-02-07T00:00:00",
          "2025-02-10T00:00:00",
          "2025-02-11T00:00:00",
          "2025-02-12T00:00:00",
          "2025-02-13T00:00:00",
          "2025-02-14T00:00:00",
          "2025-02-17T00:00:00",
          "2025-02-18T00:00:00",
          "2025-02-19T00:00:00",
          "2025-02-20T00:00:00",
          "2025-02-21T00:00:00",
          "2025-02-24T00:00:00",
          "2025-02-25T00:00:00",
          "2025-02-26T00:00:00",
          "2025-02-27T00:00:00",
          "2025-02-28T00:00:00",
          "2025-03-04T00:00:00",
          "2025-03-05T00:00:00",
          "2025-03-06T00:00:00",
          "2025-03-07T00:00:00",
          "2025-03-10T00:00:00",
          "2025-03-11T00:00:00",
          "2025-03-12T00:00:00",
          "2025-03-13T00:00:00",
          "2025-03-14T00:00:00",
          "2025-03-17T00:00:00",
          "2025-03-18T00:00:00"
         ],
         "y": [
          33.98,
          18.28,
          22.25,
          20.68,
          27.62,
          26.57,
          25.31,
          20.28,
          20.11,
          24.44,
          35.13,
          31.63,
          24.43,
          21.66,
          35.95,
          32.19,
          36.18,
          26.12,
          22.55,
          23.31,
          25.46,
          30.59,
          24.02,
          22.5,
          23.81,
          27.6,
          24.82,
          21.44,
          17.26,
          23.71,
          19.59,
          23.89,
          18.11,
          27.76,
          20.31,
          28.07,
          20.86,
          23.59,
          27.21,
          28.44,
          18.33,
          14.16,
          19.06,
          14.54,
          30.43,
          15.36
         ]
        },
        {
         "hoverinfo": "none",
         "line": {
          "color": "orange",
          "dash": "dash",
          "width": 2
         },
         "mode": "lines",
         "name": "Meta",
         "type": "scatter",
         "x": [
          "2025-01-13T00:00:00",
          "2025-01-14T00:00:00",
          "2025-01-15T00:00:00",
          "2025-01-16T00:00:00",
          "2025-01-17T00:00:00",
          "2025-01-20T00:00:00",
          "2025-01-21T00:00:00",
          "2025-01-22T00:00:00",
          "2025-01-23T00:00:00",
          "2025-01-24T00:00:00",
          "2025-01-27T00:00:00",
          "2025-01-28T00:00:00",
          "2025-01-29T00:00:00",
          "2025-01-30T00:00:00",
          "2025-01-31T00:00:00",
          "2025-02-03T00:00:00",
          "2025-02-04T00:00:00",
          "2025-02-05T00:00:00",
          "2025-02-06T00:00:00",
          "2025-02-07T00:00:00",
          "2025-02-10T00:00:00",
          "2025-02-11T00:00:00",
          "2025-02-12T00:00:00",
          "2025-02-13T00:00:00",
          "2025-02-14T00:00:00",
          "2025-02-17T00:00:00",
          "2025-02-18T00:00:00",
          "2025-02-19T00:00:00",
          "2025-02-20T00:00:00",
          "2025-02-21T00:00:00",
          "2025-02-24T00:00:00",
          "2025-02-25T00:00:00",
          "2025-02-26T00:00:00",
          "2025-02-27T00:00:00",
          "2025-02-28T00:00:00",
          "2025-03-04T00:00:00",
          "2025-03-05T00:00:00",
          "2025-03-06T00:00:00",
          "2025-03-07T00:00:00",
          "2025-03-10T00:00:00",
          "2025-03-11T00:00:00",
          "2025-03-12T00:00:00",
          "2025-03-13T00:00:00",
          "2025-03-14T00:00:00",
          "2025-03-17T00:00:00",
          "2025-03-18T00:00:00"
         ],
         "y": [
          80,
          80,
          80,
          80,
          80,
          80,
          80,
          80,
          80,
          80,
          80,
          80,
          80,
          80,
          80,
          80,
          80,
          80,
          80,
          80,
          80,
          80,
          80,
          80,
          80,
          80,
          80,
          80,
          80,
          80,
          80,
          80,
          80,
          80,
          80,
          80,
          80,
          80,
          80,
          80,
          80,
          80,
          80,
          80,
          80,
          80
         ]
        }
       ],
       "layout": {
        "font": {
         "color": "Black",
         "size": 15
        },
        "height": 500,
        "plot_bgcolor": "rgba(0, 0, 0, 0)",
        "template": {
         "data": {
          "bar": [
           {
            "error_x": {
             "color": "#2a3f5f"
            },
            "error_y": {
             "color": "#2a3f5f"
            },
            "marker": {
             "line": {
              "color": "white",
              "width": 0.5
             },
             "pattern": {
              "fillmode": "overlay",
              "size": 10,
              "solidity": 0.2
             }
            },
            "type": "bar"
           }
          ],
          "barpolar": [
           {
            "marker": {
             "line": {
              "color": "white",
              "width": 0.5
             },
             "pattern": {
              "fillmode": "overlay",
              "size": 10,
              "solidity": 0.2
             }
            },
            "type": "barpolar"
           }
          ],
          "carpet": [
           {
            "aaxis": {
             "endlinecolor": "#2a3f5f",
             "gridcolor": "#C8D4E3",
             "linecolor": "#C8D4E3",
             "minorgridcolor": "#C8D4E3",
             "startlinecolor": "#2a3f5f"
            },
            "baxis": {
             "endlinecolor": "#2a3f5f",
             "gridcolor": "#C8D4E3",
             "linecolor": "#C8D4E3",
             "minorgridcolor": "#C8D4E3",
             "startlinecolor": "#2a3f5f"
            },
            "type": "carpet"
           }
          ],
          "choropleth": [
           {
            "colorbar": {
             "outlinewidth": 0,
             "ticks": ""
            },
            "type": "choropleth"
           }
          ],
          "contour": [
           {
            "colorbar": {
             "outlinewidth": 0,
             "ticks": ""
            },
            "colorscale": [
             [
              0,
              "#0d0887"
             ],
             [
              0.1111111111111111,
              "#46039f"
             ],
             [
              0.2222222222222222,
              "#7201a8"
             ],
             [
              0.3333333333333333,
              "#9c179e"
             ],
             [
              0.4444444444444444,
              "#bd3786"
             ],
             [
              0.5555555555555556,
              "#d8576b"
             ],
             [
              0.6666666666666666,
              "#ed7953"
             ],
             [
              0.7777777777777778,
              "#fb9f3a"
             ],
             [
              0.8888888888888888,
              "#fdca26"
             ],
             [
              1,
              "#f0f921"
             ]
            ],
            "type": "contour"
           }
          ],
          "contourcarpet": [
           {
            "colorbar": {
             "outlinewidth": 0,
             "ticks": ""
            },
            "type": "contourcarpet"
           }
          ],
          "heatmap": [
           {
            "colorbar": {
             "outlinewidth": 0,
             "ticks": ""
            },
            "colorscale": [
             [
              0,
              "#0d0887"
             ],
             [
              0.1111111111111111,
              "#46039f"
             ],
             [
              0.2222222222222222,
              "#7201a8"
             ],
             [
              0.3333333333333333,
              "#9c179e"
             ],
             [
              0.4444444444444444,
              "#bd3786"
             ],
             [
              0.5555555555555556,
              "#d8576b"
             ],
             [
              0.6666666666666666,
              "#ed7953"
             ],
             [
              0.7777777777777778,
              "#fb9f3a"
             ],
             [
              0.8888888888888888,
              "#fdca26"
             ],
             [
              1,
              "#f0f921"
             ]
            ],
            "type": "heatmap"
           }
          ],
          "heatmapgl": [
           {
            "colorbar": {
             "outlinewidth": 0,
             "ticks": ""
            },
            "colorscale": [
             [
              0,
              "#0d0887"
             ],
             [
              0.1111111111111111,
              "#46039f"
             ],
             [
              0.2222222222222222,
              "#7201a8"
             ],
             [
              0.3333333333333333,
              "#9c179e"
             ],
             [
              0.4444444444444444,
              "#bd3786"
             ],
             [
              0.5555555555555556,
              "#d8576b"
             ],
             [
              0.6666666666666666,
              "#ed7953"
             ],
             [
              0.7777777777777778,
              "#fb9f3a"
             ],
             [
              0.8888888888888888,
              "#fdca26"
             ],
             [
              1,
              "#f0f921"
             ]
            ],
            "type": "heatmapgl"
           }
          ],
          "histogram": [
           {
            "marker": {
             "pattern": {
              "fillmode": "overlay",
              "size": 10,
              "solidity": 0.2
             }
            },
            "type": "histogram"
           }
          ],
          "histogram2d": [
           {
            "colorbar": {
             "outlinewidth": 0,
             "ticks": ""
            },
            "colorscale": [
             [
              0,
              "#0d0887"
             ],
             [
              0.1111111111111111,
              "#46039f"
             ],
             [
              0.2222222222222222,
              "#7201a8"
             ],
             [
              0.3333333333333333,
              "#9c179e"
             ],
             [
              0.4444444444444444,
              "#bd3786"
             ],
             [
              0.5555555555555556,
              "#d8576b"
             ],
             [
              0.6666666666666666,
              "#ed7953"
             ],
             [
              0.7777777777777778,
              "#fb9f3a"
             ],
             [
              0.8888888888888888,
              "#fdca26"
             ],
             [
              1,
              "#f0f921"
             ]
            ],
            "type": "histogram2d"
           }
          ],
          "histogram2dcontour": [
           {
            "colorbar": {
             "outlinewidth": 0,
             "ticks": ""
            },
            "colorscale": [
             [
              0,
              "#0d0887"
             ],
             [
              0.1111111111111111,
              "#46039f"
             ],
             [
              0.2222222222222222,
              "#7201a8"
             ],
             [
              0.3333333333333333,
              "#9c179e"
             ],
             [
              0.4444444444444444,
              "#bd3786"
             ],
             [
              0.5555555555555556,
              "#d8576b"
             ],
             [
              0.6666666666666666,
              "#ed7953"
             ],
             [
              0.7777777777777778,
              "#fb9f3a"
             ],
             [
              0.8888888888888888,
              "#fdca26"
             ],
             [
              1,
              "#f0f921"
             ]
            ],
            "type": "histogram2dcontour"
           }
          ],
          "mesh3d": [
           {
            "colorbar": {
             "outlinewidth": 0,
             "ticks": ""
            },
            "type": "mesh3d"
           }
          ],
          "parcoords": [
           {
            "line": {
             "colorbar": {
              "outlinewidth": 0,
              "ticks": ""
             }
            },
            "type": "parcoords"
           }
          ],
          "pie": [
           {
            "automargin": true,
            "type": "pie"
           }
          ],
          "scatter": [
           {
            "fillpattern": {
             "fillmode": "overlay",
             "size": 10,
             "solidity": 0.2
            },
            "type": "scatter"
           }
          ],
          "scatter3d": [
           {
            "line": {
             "colorbar": {
              "outlinewidth": 0,
              "ticks": ""
             }
            },
            "marker": {
             "colorbar": {
              "outlinewidth": 0,
              "ticks": ""
             }
            },
            "type": "scatter3d"
           }
          ],
          "scattercarpet": [
           {
            "marker": {
             "colorbar": {
              "outlinewidth": 0,
              "ticks": ""
             }
            },
            "type": "scattercarpet"
           }
          ],
          "scattergeo": [
           {
            "marker": {
             "colorbar": {
              "outlinewidth": 0,
              "ticks": ""
             }
            },
            "type": "scattergeo"
           }
          ],
          "scattergl": [
           {
            "marker": {
             "colorbar": {
              "outlinewidth": 0,
              "ticks": ""
             }
            },
            "type": "scattergl"
           }
          ],
          "scattermapbox": [
           {
            "marker": {
             "colorbar": {
              "outlinewidth": 0,
              "ticks": ""
             }
            },
            "type": "scattermapbox"
           }
          ],
          "scatterpolar": [
           {
            "marker": {
             "colorbar": {
              "outlinewidth": 0,
              "ticks": ""
             }
            },
            "type": "scatterpolar"
           }
          ],
          "scatterpolargl": [
           {
            "marker": {
             "colorbar": {
              "outlinewidth": 0,
              "ticks": ""
             }
            },
            "type": "scatterpolargl"
           }
          ],
          "scatterternary": [
           {
            "marker": {
             "colorbar": {
              "outlinewidth": 0,
              "ticks": ""
             }
            },
            "type": "scatterternary"
           }
          ],
          "surface": [
           {
            "colorbar": {
             "outlinewidth": 0,
             "ticks": ""
            },
            "colorscale": [
             [
              0,
              "#0d0887"
             ],
             [
              0.1111111111111111,
              "#46039f"
             ],
             [
              0.2222222222222222,
              "#7201a8"
             ],
             [
              0.3333333333333333,
              "#9c179e"
             ],
             [
              0.4444444444444444,
              "#bd3786"
             ],
             [
              0.5555555555555556,
              "#d8576b"
             ],
             [
              0.6666666666666666,
              "#ed7953"
             ],
             [
              0.7777777777777778,
              "#fb9f3a"
             ],
             [
              0.8888888888888888,
              "#fdca26"
             ],
             [
              1,
              "#f0f921"
             ]
            ],
            "type": "surface"
           }
          ],
          "table": [
           {
            "cells": {
             "fill": {
              "color": "#EBF0F8"
             },
             "line": {
              "color": "white"
             }
            },
            "header": {
             "fill": {
              "color": "#C8D4E3"
             },
             "line": {
              "color": "white"
             }
            },
            "type": "table"
           }
          ]
         },
         "layout": {
          "annotationdefaults": {
           "arrowcolor": "#2a3f5f",
           "arrowhead": 0,
           "arrowwidth": 1
          },
          "autotypenumbers": "strict",
          "coloraxis": {
           "colorbar": {
            "outlinewidth": 0,
            "ticks": ""
           }
          },
          "colorscale": {
           "diverging": [
            [
             0,
             "#8e0152"
            ],
            [
             0.1,
             "#c51b7d"
            ],
            [
             0.2,
             "#de77ae"
            ],
            [
             0.3,
             "#f1b6da"
            ],
            [
             0.4,
             "#fde0ef"
            ],
            [
             0.5,
             "#f7f7f7"
            ],
            [
             0.6,
             "#e6f5d0"
            ],
            [
             0.7,
             "#b8e186"
            ],
            [
             0.8,
             "#7fbc41"
            ],
            [
             0.9,
             "#4d9221"
            ],
            [
             1,
             "#276419"
            ]
           ],
           "sequential": [
            [
             0,
             "#0d0887"
            ],
            [
             0.1111111111111111,
             "#46039f"
            ],
            [
             0.2222222222222222,
             "#7201a8"
            ],
            [
             0.3333333333333333,
             "#9c179e"
            ],
            [
             0.4444444444444444,
             "#bd3786"
            ],
            [
             0.5555555555555556,
             "#d8576b"
            ],
            [
             0.6666666666666666,
             "#ed7953"
            ],
            [
             0.7777777777777778,
             "#fb9f3a"
            ],
            [
             0.8888888888888888,
             "#fdca26"
            ],
            [
             1,
             "#f0f921"
            ]
           ],
           "sequentialminus": [
            [
             0,
             "#0d0887"
            ],
            [
             0.1111111111111111,
             "#46039f"
            ],
            [
             0.2222222222222222,
             "#7201a8"
            ],
            [
             0.3333333333333333,
             "#9c179e"
            ],
            [
             0.4444444444444444,
             "#bd3786"
            ],
            [
             0.5555555555555556,
             "#d8576b"
            ],
            [
             0.6666666666666666,
             "#ed7953"
            ],
            [
             0.7777777777777778,
             "#fb9f3a"
            ],
            [
             0.8888888888888888,
             "#fdca26"
            ],
            [
             1,
             "#f0f921"
            ]
           ]
          },
          "colorway": [
           "#636efa",
           "#EF553B",
           "#00cc96",
           "#ab63fa",
           "#FFA15A",
           "#19d3f3",
           "#FF6692",
           "#B6E880",
           "#FF97FF",
           "#FECB52"
          ],
          "font": {
           "color": "#2a3f5f"
          },
          "geo": {
           "bgcolor": "white",
           "lakecolor": "white",
           "landcolor": "white",
           "showlakes": true,
           "showland": true,
           "subunitcolor": "#C8D4E3"
          },
          "hoverlabel": {
           "align": "left"
          },
          "hovermode": "closest",
          "mapbox": {
           "style": "light"
          },
          "paper_bgcolor": "white",
          "plot_bgcolor": "white",
          "polar": {
           "angularaxis": {
            "gridcolor": "#EBF0F8",
            "linecolor": "#EBF0F8",
            "ticks": ""
           },
           "bgcolor": "white",
           "radialaxis": {
            "gridcolor": "#EBF0F8",
            "linecolor": "#EBF0F8",
            "ticks": ""
           }
          },
          "scene": {
           "xaxis": {
            "backgroundcolor": "white",
            "gridcolor": "#DFE8F3",
            "gridwidth": 2,
            "linecolor": "#EBF0F8",
            "showbackground": true,
            "ticks": "",
            "zerolinecolor": "#EBF0F8"
           },
           "yaxis": {
            "backgroundcolor": "white",
            "gridcolor": "#DFE8F3",
            "gridwidth": 2,
            "linecolor": "#EBF0F8",
            "showbackground": true,
            "ticks": "",
            "zerolinecolor": "#EBF0F8"
           },
           "zaxis": {
            "backgroundcolor": "white",
            "gridcolor": "#DFE8F3",
            "gridwidth": 2,
            "linecolor": "#EBF0F8",
            "showbackground": true,
            "ticks": "",
            "zerolinecolor": "#EBF0F8"
           }
          },
          "shapedefaults": {
           "line": {
            "color": "#2a3f5f"
           }
          },
          "ternary": {
           "aaxis": {
            "gridcolor": "#DFE8F3",
            "linecolor": "#A2B1C6",
            "ticks": ""
           },
           "baxis": {
            "gridcolor": "#DFE8F3",
            "linecolor": "#A2B1C6",
            "ticks": ""
           },
           "bgcolor": "white",
           "caxis": {
            "gridcolor": "#DFE8F3",
            "linecolor": "#A2B1C6",
            "ticks": ""
           }
          },
          "title": {
           "x": 0.05
          },
          "xaxis": {
           "automargin": true,
           "gridcolor": "#EBF0F8",
           "linecolor": "#EBF0F8",
           "ticks": "",
           "title": {
            "standoff": 15
           },
           "zerolinecolor": "#EBF0F8",
           "zerolinewidth": 2
          },
          "yaxis": {
           "automargin": true,
           "gridcolor": "#EBF0F8",
           "linecolor": "#EBF0F8",
           "ticks": "",
           "title": {
            "standoff": 15
           },
           "zerolinecolor": "#EBF0F8",
           "zerolinewidth": 2
          }
         }
        },
        "title": {
         "font": {
          "color": "black"
         },
         "text": "DOBRA QUENTE",
         "x": 0.5,
         "xanchor": "center"
        },
        "updatemenus": [
         {
          "buttons": [
           {
            "args": [
             {
              "x": [
               [
                "2025-01-13T00:00:00",
                "2025-01-14T00:00:00",
                "2025-01-15T00:00:00",
                "2025-01-16T00:00:00",
                "2025-01-17T00:00:00",
                "2025-01-20T00:00:00",
                "2025-01-21T00:00:00",
                "2025-01-22T00:00:00",
                "2025-01-23T00:00:00",
                "2025-01-24T00:00:00",
                "2025-01-27T00:00:00",
                "2025-01-28T00:00:00",
                "2025-01-29T00:00:00",
                "2025-01-30T00:00:00",
                "2025-01-31T00:00:00",
                "2025-02-03T00:00:00",
                "2025-02-04T00:00:00",
                "2025-02-05T00:00:00",
                "2025-02-06T00:00:00",
                "2025-02-07T00:00:00",
                "2025-02-10T00:00:00",
                "2025-02-11T00:00:00",
                "2025-02-12T00:00:00",
                "2025-02-13T00:00:00",
                "2025-02-14T00:00:00",
                "2025-02-17T00:00:00",
                "2025-02-18T00:00:00",
                "2025-02-19T00:00:00",
                "2025-02-20T00:00:00",
                "2025-02-21T00:00:00",
                "2025-02-24T00:00:00",
                "2025-02-25T00:00:00",
                "2025-02-26T00:00:00",
                "2025-02-27T00:00:00",
                "2025-02-28T00:00:00",
                "2025-03-04T00:00:00",
                "2025-03-05T00:00:00",
                "2025-03-06T00:00:00",
                "2025-03-07T00:00:00",
                "2025-03-10T00:00:00",
                "2025-03-11T00:00:00",
                "2025-03-12T00:00:00",
                "2025-03-13T00:00:00",
                "2025-03-14T00:00:00",
                "2025-03-17T00:00:00",
                "2025-03-18T00:00:00"
               ],
               [
                "2025-01-13T00:00:00",
                "2025-01-14T00:00:00",
                "2025-01-15T00:00:00",
                "2025-01-16T00:00:00",
                "2025-01-17T00:00:00",
                "2025-01-20T00:00:00",
                "2025-01-21T00:00:00",
                "2025-01-22T00:00:00",
                "2025-01-23T00:00:00",
                "2025-01-24T00:00:00",
                "2025-01-27T00:00:00",
                "2025-01-28T00:00:00",
                "2025-01-29T00:00:00",
                "2025-01-30T00:00:00",
                "2025-01-31T00:00:00",
                "2025-02-03T00:00:00",
                "2025-02-04T00:00:00",
                "2025-02-05T00:00:00",
                "2025-02-06T00:00:00",
                "2025-02-07T00:00:00",
                "2025-02-10T00:00:00",
                "2025-02-11T00:00:00",
                "2025-02-12T00:00:00",
                "2025-02-13T00:00:00",
                "2025-02-14T00:00:00",
                "2025-02-17T00:00:00",
                "2025-02-18T00:00:00",
                "2025-02-19T00:00:00",
                "2025-02-20T00:00:00",
                "2025-02-21T00:00:00",
                "2025-02-24T00:00:00",
                "2025-02-25T00:00:00",
                "2025-02-26T00:00:00",
                "2025-02-27T00:00:00",
                "2025-02-28T00:00:00",
                "2025-03-04T00:00:00",
                "2025-03-05T00:00:00",
                "2025-03-06T00:00:00",
                "2025-03-07T00:00:00",
                "2025-03-10T00:00:00",
                "2025-03-11T00:00:00",
                "2025-03-12T00:00:00",
                "2025-03-13T00:00:00",
                "2025-03-14T00:00:00",
                "2025-03-17T00:00:00",
                "2025-03-18T00:00:00"
               ]
              ],
              "y": [
               [
                33.98,
                18.28,
                22.25,
                20.68,
                27.62,
                26.57,
                25.31,
                20.28,
                20.11,
                24.44,
                35.13,
                31.63,
                24.43,
                21.66,
                35.95,
                32.19,
                36.18,
                26.12,
                22.55,
                23.31,
                25.46,
                30.59,
                24.02,
                22.5,
                23.81,
                27.6,
                24.82,
                21.44,
                17.26,
                23.71,
                19.59,
                23.89,
                18.11,
                27.76,
                20.31,
                28.07,
                20.86,
                23.59,
                27.21,
                28.44,
                18.33,
                14.16,
                19.06,
                14.54,
                30.43,
                15.36
               ],
               [
                80,
                80,
                80,
                80,
                80,
                80,
                80,
                80,
                80,
                80,
                80,
                80,
                80,
                80,
                80,
                80,
                80,
                80,
                80,
                80,
                80,
                80,
                80,
                80,
                80,
                80,
                80,
                80,
                80,
                80,
                80,
                80,
                80,
                80,
                80,
                80,
                80,
                80,
                80,
                80,
                80,
                80,
                80,
                80,
                80,
                80
               ]
              ]
             },
             {
              "annotations": []
             }
            ],
            "label": "Todos os meses",
            "method": "update"
           },
           {
            "args": [
             {
              "x": [
               [
                "2025-01-13T00:00:00",
                "2025-01-14T00:00:00",
                "2025-01-15T00:00:00",
                "2025-01-16T00:00:00",
                "2025-01-17T00:00:00",
                "2025-01-20T00:00:00",
                "2025-01-21T00:00:00",
                "2025-01-22T00:00:00",
                "2025-01-23T00:00:00",
                "2025-01-24T00:00:00",
                "2025-01-27T00:00:00",
                "2025-01-28T00:00:00",
                "2025-01-29T00:00:00",
                "2025-01-30T00:00:00",
                "2025-01-31T00:00:00"
               ],
               [
                "2025-01-13T00:00:00",
                "2025-01-14T00:00:00",
                "2025-01-15T00:00:00",
                "2025-01-16T00:00:00",
                "2025-01-17T00:00:00",
                "2025-01-20T00:00:00",
                "2025-01-21T00:00:00",
                "2025-01-22T00:00:00",
                "2025-01-23T00:00:00",
                "2025-01-24T00:00:00",
                "2025-01-27T00:00:00",
                "2025-01-28T00:00:00",
                "2025-01-29T00:00:00",
                "2025-01-30T00:00:00",
                "2025-01-31T00:00:00"
               ]
              ],
              "y": [
               [
                33.98,
                18.28,
                22.25,
                20.68,
                27.62,
                26.57,
                25.31,
                20.28,
                20.11,
                24.44,
                35.13,
                31.63,
                24.43,
                21.66,
                35.95
               ],
               [
                80,
                80,
                80,
                80,
                80,
                80,
                80,
                80,
                80,
                80,
                80,
                80,
                80,
                80,
                80
               ]
              ]
             },
             {
              "annotations": []
             }
            ],
            "label": "janeiro",
            "method": "update"
           },
           {
            "args": [
             {
              "x": [
               [
                "2025-02-03T00:00:00",
                "2025-02-04T00:00:00",
                "2025-02-05T00:00:00",
                "2025-02-06T00:00:00",
                "2025-02-07T00:00:00",
                "2025-02-10T00:00:00",
                "2025-02-11T00:00:00",
                "2025-02-12T00:00:00",
                "2025-02-13T00:00:00",
                "2025-02-14T00:00:00",
                "2025-02-17T00:00:00",
                "2025-02-18T00:00:00",
                "2025-02-19T00:00:00",
                "2025-02-20T00:00:00",
                "2025-02-21T00:00:00",
                "2025-02-24T00:00:00",
                "2025-02-25T00:00:00",
                "2025-02-26T00:00:00",
                "2025-02-27T00:00:00",
                "2025-02-28T00:00:00"
               ],
               [
                "2025-02-03T00:00:00",
                "2025-02-04T00:00:00",
                "2025-02-05T00:00:00",
                "2025-02-06T00:00:00",
                "2025-02-07T00:00:00",
                "2025-02-10T00:00:00",
                "2025-02-11T00:00:00",
                "2025-02-12T00:00:00",
                "2025-02-13T00:00:00",
                "2025-02-14T00:00:00",
                "2025-02-17T00:00:00",
                "2025-02-18T00:00:00",
                "2025-02-19T00:00:00",
                "2025-02-20T00:00:00",
                "2025-02-21T00:00:00",
                "2025-02-24T00:00:00",
                "2025-02-25T00:00:00",
                "2025-02-26T00:00:00",
                "2025-02-27T00:00:00",
                "2025-02-28T00:00:00"
               ]
              ],
              "y": [
               [
                32.19,
                36.18,
                26.12,
                22.55,
                23.31,
                25.46,
                30.59,
                24.02,
                22.5,
                23.81,
                27.6,
                24.82,
                21.44,
                17.26,
                23.71,
                19.59,
                23.89,
                18.11,
                27.76,
                20.31
               ],
               [
                80,
                80,
                80,
                80,
                80,
                80,
                80,
                80,
                80,
                80,
                80,
                80,
                80,
                80,
                80,
                80,
                80,
                80,
                80,
                80
               ]
              ]
             },
             {
              "annotations": []
             }
            ],
            "label": "fevereiro",
            "method": "update"
           },
           {
            "args": [
             {
              "x": [
               [
                "2025-03-04T00:00:00",
                "2025-03-05T00:00:00",
                "2025-03-06T00:00:00",
                "2025-03-07T00:00:00",
                "2025-03-10T00:00:00",
                "2025-03-11T00:00:00",
                "2025-03-12T00:00:00",
                "2025-03-13T00:00:00",
                "2025-03-14T00:00:00",
                "2025-03-17T00:00:00",
                "2025-03-18T00:00:00"
               ],
               [
                "2025-03-04T00:00:00",
                "2025-03-05T00:00:00",
                "2025-03-06T00:00:00",
                "2025-03-07T00:00:00",
                "2025-03-10T00:00:00",
                "2025-03-11T00:00:00",
                "2025-03-12T00:00:00",
                "2025-03-13T00:00:00",
                "2025-03-14T00:00:00",
                "2025-03-17T00:00:00",
                "2025-03-18T00:00:00"
               ]
              ],
              "y": [
               [
                28.07,
                20.86,
                23.59,
                27.21,
                28.44,
                18.33,
                14.16,
                19.06,
                14.54,
                30.43,
                15.36
               ],
               [
                80,
                80,
                80,
                80,
                80,
                80,
                80,
                80,
                80,
                80,
                80
               ]
              ]
             },
             {
              "annotations": []
             }
            ],
            "label": "marÃ§o",
            "method": "update"
           }
          ],
          "direction": "down",
          "pad": {
           "r": 10,
           "t": 10
          },
          "showactive": true,
          "x": 0.05,
          "xanchor": "left",
          "y": 1.25,
          "yanchor": "top"
         }
        ],
        "width": 1000,
        "xaxis": {
         "anchor": "y",
         "domain": [
          0,
          1
         ],
         "gridcolor": "lightgrey",
         "showgrid": true,
         "tickformat": "%d/%m/%y"
        },
        "yaxis": {
         "anchor": "x",
         "domain": [
          0,
          1
         ],
         "gridcolor": "lightgrey",
         "showgrid": true
        }
       }
      }
     },
     "metadata": {},
     "output_type": "display_data"
    }
   ],
   "source": [
    "# Supondo que df_oee já foi criado corretamente com as datas como índice e as unidades como colunas\n",
    "df_oee.index = pd.to_datetime(df_oee.index, format='%d/%m/%Y')\n",
    "\n",
    "# Filtrar para mostrar apenas os dados de 2024 e até o dia anterior ao atual\n",
    "data_atual = datetime.now().date()\n",
    "df_oee = df_oee[(df_oee.index.year == 2025) & (df_oee.index < pd.Timestamp(data_atual))]\n",
    "df_oee = df_oee[~df_oee.index.weekday.isin([5, 6])]\n",
    "\n",
    "# Extrair os meses do DataFrame para criar os filtros\n",
    "df_oee['Month'] = df_oee.index.strftime('%B')  # Adiciona uma coluna com o nome do mês\n",
    "months = df_oee['Month'].unique()\n",
    "\n",
    "# Criar o gráfico de linha com marcadores para a coluna 'DOBRA QUENTE'\n",
    "fig = make_subplots(rows=1, cols=1, shared_xaxes=True, vertical_spacing=0.05)\n",
    "\n",
    "# Adicionar a linha com os pontos de produção para 'DOBRA QUENTE' (inicialmente mostrando todos os meses de 2024)\n",
    "fig.add_trace(go.Scatter(\n",
    "    x=df_oee.index, \n",
    "    y=df_oee['DOBRA QUENTE'],\n",
    "    mode='lines+markers',\n",
    "    name='OEE',  # Nome da linha na legenda\n",
    "    marker=dict(size=8),\n",
    "    line=dict(width=2),\n",
    "    hovertemplate=\"<b>Data</b>: %{x}<br><b>OEE</b>: %{y}<extra></extra>\"\n",
    "))\n",
    "\n",
    "# Adicionar a linha de referência inicial (meta) - exemplo com valor 8000\n",
    "fig.add_trace(go.Scatter(\n",
    "    x=df_oee.index, \n",
    "    y=[80] * len(df_oee), \n",
    "    mode='lines',\n",
    "    name='Meta',  # Nome da linha de meta na legenda\n",
    "    line=dict(color='orange', width=2, dash='dash'),\n",
    "    hoverinfo='none'\n",
    "))\n",
    "\n",
    "# Configurar o layout com fundo transparente, linhas de grade, e outras customizações\n",
    "fig.update_layout(\n",
    "    title={\n",
    "        'text': 'DOBRA QUENTE',  # Título fixo do gráfico\n",
    "        'x': 0.5,  # Centralizar o título horizontalmente\n",
    "        'xanchor': 'center'\n",
    "    },\n",
    "    xaxis=dict(\n",
    "        tickformat='%d/%m/%y',  # Formato para mostrar o ano abreviado no eixo X\n",
    "        showgrid=True,\n",
    "        gridcolor='lightgrey'\n",
    "    ),\n",
    "    yaxis=dict(\n",
    "        showgrid=True,\n",
    "        gridcolor='lightgrey'\n",
    "    ),\n",
    "    template='plotly_white',\n",
    "    plot_bgcolor='rgba(0, 0, 0, 0)',  # Fundo transparente\n",
    "    height=500, width=1000,\n",
    "    font_color=\"blue\",\n",
    "    title_font_color=\"black\",\n",
    "    font=dict(size=15, color=\"Black\")\n",
    ")\n",
    "\n",
    "# Criar os filtros dinâmicos para o mês\n",
    "dropdown_buttons_month = [\n",
    "    dict(label=\"Todos os meses\",\n",
    "         method=\"update\",\n",
    "         args=[{\"x\": [df_oee.index, df_oee.index], \n",
    "                \"y\": [df_oee['DOBRA QUENTE'], [80] * len(df_oee)]},\n",
    "               {\"annotations\": []}]),  # Remove a atualização do título\n",
    "]\n",
    "\n",
    "# Adicionar uma opção no dropdown para cada mês\n",
    "for month in months:\n",
    "    filtered_df = df_oee[df_oee['Month'] == month]  # Filtra o DataFrame pelo mês atual\n",
    "    dropdown_buttons_month.append(\n",
    "        dict(label=month,  # Nome do mês que aparecerá no menu\n",
    "             method=\"update\",\n",
    "             args=[{\"x\": [filtered_df.index, filtered_df.index], \n",
    "                    \"y\": [filtered_df['DOBRA QUENTE'], [80] * len(filtered_df)]},\n",
    "                   {\"annotations\": []}])  # Remove a atualização do título\n",
    "    )\n",
    "\n",
    "# Adicionar os botões ao layout e posicionar na mesma linha do título\n",
    "fig.update_layout(\n",
    "    updatemenus=[\n",
    "        dict(\n",
    "            buttons=dropdown_buttons_month,\n",
    "            direction=\"down\",  # Direção do menu (dropdown)\n",
    "            pad={\"r\": 10, \"t\": 10},  # Espaçamento do menu em relação ao gráfico\n",
    "            showactive=True,\n",
    "            x=0.05,  # Ajusta a posição horizontal do menu\n",
    "            xanchor='left',\n",
    "            y=1.25,  # Ajusta a posição vertical para alinhar com o título\n",
    "            yanchor='top'\n",
    "        )\n",
    "    ]\n",
    ")\n",
    "\n",
    "# Mostrar o gráfico\n",
    "fig.show()"
   ]
  },
  {
   "cell_type": "code",
   "execution_count": null,
   "metadata": {},
   "outputs": [
    {
     "data": {
      "application/vnd.plotly.v1+json": {
       "config": {
        "plotlyServerURL": "https://plot.ly"
       },
       "data": [
        {
         "hovertemplate": "<b>Data</b>: %{x}<br><b>OEE</b>: %{y}<extra></extra>",
         "line": {
          "color": "blue",
          "width": 2
         },
         "marker": {
          "size": 10
         },
         "mode": "lines+markers",
         "name": "OEE",
         "showlegend": true,
         "type": "scatter",
         "x": [],
         "xaxis": "x",
         "y": [],
         "yaxis": "y"
        },
        {
         "line": {
          "color": "orange",
          "dash": "dash",
          "width": 2
         },
         "mode": "lines",
         "name": "Meta",
         "showlegend": true,
         "type": "scatter",
         "x": [],
         "xaxis": "x",
         "y": [],
         "yaxis": "y"
        },
        {
         "line": {
          "color": "green",
          "dash": "dot",
          "width": 2
         },
         "mode": "lines",
         "name": "Média",
         "showlegend": true,
         "type": "scatter",
         "x": [],
         "xaxis": "x",
         "y": [],
         "yaxis": "y"
        },
        {
         "hovertemplate": "<b>Data</b>: %{x}<br><b>OEE</b>: %{y}<extra></extra>",
         "line": {
          "color": "blue",
          "width": 2
         },
         "marker": {
          "size": 10
         },
         "mode": "lines+markers",
         "name": "OEE",
         "showlegend": false,
         "type": "scatter",
         "x": [],
         "xaxis": "x2",
         "y": [],
         "yaxis": "y2"
        },
        {
         "line": {
          "color": "orange",
          "dash": "dash",
          "width": 2
         },
         "mode": "lines",
         "name": "Meta",
         "showlegend": false,
         "type": "scatter",
         "x": [],
         "xaxis": "x2",
         "y": [],
         "yaxis": "y2"
        },
        {
         "line": {
          "color": "green",
          "dash": "dot",
          "width": 2
         },
         "mode": "lines",
         "name": "Média",
         "showlegend": false,
         "type": "scatter",
         "x": [],
         "xaxis": "x2",
         "y": [],
         "yaxis": "y2"
        },
        {
         "hovertemplate": "<b>Data</b>: %{x}<br><b>OEE</b>: %{y}<extra></extra>",
         "line": {
          "color": "blue",
          "width": 2
         },
         "marker": {
          "size": 10
         },
         "mode": "lines+markers",
         "name": "OEE",
         "showlegend": false,
         "type": "scatter",
         "x": [],
         "xaxis": "x3",
         "y": [],
         "yaxis": "y3"
        },
        {
         "line": {
          "color": "orange",
          "dash": "dash",
          "width": 2
         },
         "mode": "lines",
         "name": "Meta",
         "showlegend": false,
         "type": "scatter",
         "x": [],
         "xaxis": "x3",
         "y": [],
         "yaxis": "y3"
        },
        {
         "line": {
          "color": "green",
          "dash": "dot",
          "width": 2
         },
         "mode": "lines",
         "name": "Média",
         "showlegend": false,
         "type": "scatter",
         "x": [],
         "xaxis": "x3",
         "y": [],
         "yaxis": "y3"
        },
        {
         "hovertemplate": "<b>Data</b>: %{x}<br><b>OEE</b>: %{y}<extra></extra>",
         "line": {
          "color": "blue",
          "width": 2
         },
         "marker": {
          "size": 10
         },
         "mode": "lines+markers",
         "name": "OEE",
         "showlegend": false,
         "type": "scatter",
         "x": [],
         "xaxis": "x4",
         "y": [],
         "yaxis": "y4"
        },
        {
         "line": {
          "color": "orange",
          "dash": "dash",
          "width": 2
         },
         "mode": "lines",
         "name": "Meta",
         "showlegend": false,
         "type": "scatter",
         "x": [],
         "xaxis": "x4",
         "y": [],
         "yaxis": "y4"
        },
        {
         "line": {
          "color": "green",
          "dash": "dot",
          "width": 2
         },
         "mode": "lines",
         "name": "Média",
         "showlegend": false,
         "type": "scatter",
         "x": [],
         "xaxis": "x4",
         "y": [],
         "yaxis": "y4"
        }
       ],
       "layout": {
        "annotations": [
         {
          "font": {
           "size": 16
          },
          "showarrow": false,
          "text": "CORTE",
          "x": 0.2375,
          "xanchor": "center",
          "xref": "paper",
          "y": 1,
          "yanchor": "bottom",
          "yref": "paper"
         },
         {
          "font": {
           "size": 16
          },
          "showarrow": false,
          "text": "APONTAMENTO",
          "x": 0.7625,
          "xanchor": "center",
          "xref": "paper",
          "y": 1,
          "yanchor": "bottom",
          "yref": "paper"
         },
         {
          "font": {
           "size": 16
          },
          "showarrow": false,
          "text": "GRAVAÇÃO",
          "x": 0.2375,
          "xanchor": "center",
          "xref": "paper",
          "y": 0.45,
          "yanchor": "bottom",
          "yref": "paper"
         },
         {
          "font": {
           "size": 16
          },
          "showarrow": false,
          "text": "LAMINAÇÃO",
          "x": 0.7625,
          "xanchor": "center",
          "xref": "paper",
          "y": 0.45,
          "yanchor": "bottom",
          "yref": "paper"
         }
        ],
        "font": {
         "color": "black",
         "size": 15
        },
        "height": 1000,
        "images": [
         {
          "sizex": 0.12,
          "sizey": 0.12,
          "source": "data:image/png;base64,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",
          "x": 0,
          "xanchor": "left",
          "xref": "paper",
          "y": 1.1,
          "yanchor": "top",
          "yref": "paper"
         }
        ],
        "legend": {
         "font": {
          "size": 12
         },
         "title": {
          "text": "Legenda"
         },
         "traceorder": "normal",
         "x": 1.05,
         "y": 1
        },
        "plot_bgcolor": "rgba(0, 0, 0, 0)",
        "template": {
         "data": {
          "bar": [
           {
            "error_x": {
             "color": "#2a3f5f"
            },
            "error_y": {
             "color": "#2a3f5f"
            },
            "marker": {
             "line": {
              "color": "white",
              "width": 0.5
             },
             "pattern": {
              "fillmode": "overlay",
              "size": 10,
              "solidity": 0.2
             }
            },
            "type": "bar"
           }
          ],
          "barpolar": [
           {
            "marker": {
             "line": {
              "color": "white",
              "width": 0.5
             },
             "pattern": {
              "fillmode": "overlay",
              "size": 10,
              "solidity": 0.2
             }
            },
            "type": "barpolar"
           }
          ],
          "carpet": [
           {
            "aaxis": {
             "endlinecolor": "#2a3f5f",
             "gridcolor": "#C8D4E3",
             "linecolor": "#C8D4E3",
             "minorgridcolor": "#C8D4E3",
             "startlinecolor": "#2a3f5f"
            },
            "baxis": {
             "endlinecolor": "#2a3f5f",
             "gridcolor": "#C8D4E3",
             "linecolor": "#C8D4E3",
             "minorgridcolor": "#C8D4E3",
             "startlinecolor": "#2a3f5f"
            },
            "type": "carpet"
           }
          ],
          "choropleth": [
           {
            "colorbar": {
             "outlinewidth": 0,
             "ticks": ""
            },
            "type": "choropleth"
           }
          ],
          "contour": [
           {
            "colorbar": {
             "outlinewidth": 0,
             "ticks": ""
            },
            "colorscale": [
             [
              0,
              "#0d0887"
             ],
             [
              0.1111111111111111,
              "#46039f"
             ],
             [
              0.2222222222222222,
              "#7201a8"
             ],
             [
              0.3333333333333333,
              "#9c179e"
             ],
             [
              0.4444444444444444,
              "#bd3786"
             ],
             [
              0.5555555555555556,
              "#d8576b"
             ],
             [
              0.6666666666666666,
              "#ed7953"
             ],
             [
              0.7777777777777778,
              "#fb9f3a"
             ],
             [
              0.8888888888888888,
              "#fdca26"
             ],
             [
              1,
              "#f0f921"
             ]
            ],
            "type": "contour"
           }
          ],
          "contourcarpet": [
           {
            "colorbar": {
             "outlinewidth": 0,
             "ticks": ""
            },
            "type": "contourcarpet"
           }
          ],
          "heatmap": [
           {
            "colorbar": {
             "outlinewidth": 0,
             "ticks": ""
            },
            "colorscale": [
             [
              0,
              "#0d0887"
             ],
             [
              0.1111111111111111,
              "#46039f"
             ],
             [
              0.2222222222222222,
              "#7201a8"
             ],
             [
              0.3333333333333333,
              "#9c179e"
             ],
             [
              0.4444444444444444,
              "#bd3786"
             ],
             [
              0.5555555555555556,
              "#d8576b"
             ],
             [
              0.6666666666666666,
              "#ed7953"
             ],
             [
              0.7777777777777778,
              "#fb9f3a"
             ],
             [
              0.8888888888888888,
              "#fdca26"
             ],
             [
              1,
              "#f0f921"
             ]
            ],
            "type": "heatmap"
           }
          ],
          "heatmapgl": [
           {
            "colorbar": {
             "outlinewidth": 0,
             "ticks": ""
            },
            "colorscale": [
             [
              0,
              "#0d0887"
             ],
             [
              0.1111111111111111,
              "#46039f"
             ],
             [
              0.2222222222222222,
              "#7201a8"
             ],
             [
              0.3333333333333333,
              "#9c179e"
             ],
             [
              0.4444444444444444,
              "#bd3786"
             ],
             [
              0.5555555555555556,
              "#d8576b"
             ],
             [
              0.6666666666666666,
              "#ed7953"
             ],
             [
              0.7777777777777778,
              "#fb9f3a"
             ],
             [
              0.8888888888888888,
              "#fdca26"
             ],
             [
              1,
              "#f0f921"
             ]
            ],
            "type": "heatmapgl"
           }
          ],
          "histogram": [
           {
            "marker": {
             "pattern": {
              "fillmode": "overlay",
              "size": 10,
              "solidity": 0.2
             }
            },
            "type": "histogram"
           }
          ],
          "histogram2d": [
           {
            "colorbar": {
             "outlinewidth": 0,
             "ticks": ""
            },
            "colorscale": [
             [
              0,
              "#0d0887"
             ],
             [
              0.1111111111111111,
              "#46039f"
             ],
             [
              0.2222222222222222,
              "#7201a8"
             ],
             [
              0.3333333333333333,
              "#9c179e"
             ],
             [
              0.4444444444444444,
              "#bd3786"
             ],
             [
              0.5555555555555556,
              "#d8576b"
             ],
             [
              0.6666666666666666,
              "#ed7953"
             ],
             [
              0.7777777777777778,
              "#fb9f3a"
             ],
             [
              0.8888888888888888,
              "#fdca26"
             ],
             [
              1,
              "#f0f921"
             ]
            ],
            "type": "histogram2d"
           }
          ],
          "histogram2dcontour": [
           {
            "colorbar": {
             "outlinewidth": 0,
             "ticks": ""
            },
            "colorscale": [
             [
              0,
              "#0d0887"
             ],
             [
              0.1111111111111111,
              "#46039f"
             ],
             [
              0.2222222222222222,
              "#7201a8"
             ],
             [
              0.3333333333333333,
              "#9c179e"
             ],
             [
              0.4444444444444444,
              "#bd3786"
             ],
             [
              0.5555555555555556,
              "#d8576b"
             ],
             [
              0.6666666666666666,
              "#ed7953"
             ],
             [
              0.7777777777777778,
              "#fb9f3a"
             ],
             [
              0.8888888888888888,
              "#fdca26"
             ],
             [
              1,
              "#f0f921"
             ]
            ],
            "type": "histogram2dcontour"
           }
          ],
          "mesh3d": [
           {
            "colorbar": {
             "outlinewidth": 0,
             "ticks": ""
            },
            "type": "mesh3d"
           }
          ],
          "parcoords": [
           {
            "line": {
             "colorbar": {
              "outlinewidth": 0,
              "ticks": ""
             }
            },
            "type": "parcoords"
           }
          ],
          "pie": [
           {
            "automargin": true,
            "type": "pie"
           }
          ],
          "scatter": [
           {
            "fillpattern": {
             "fillmode": "overlay",
             "size": 10,
             "solidity": 0.2
            },
            "type": "scatter"
           }
          ],
          "scatter3d": [
           {
            "line": {
             "colorbar": {
              "outlinewidth": 0,
              "ticks": ""
             }
            },
            "marker": {
             "colorbar": {
              "outlinewidth": 0,
              "ticks": ""
             }
            },
            "type": "scatter3d"
           }
          ],
          "scattercarpet": [
           {
            "marker": {
             "colorbar": {
              "outlinewidth": 0,
              "ticks": ""
             }
            },
            "type": "scattercarpet"
           }
          ],
          "scattergeo": [
           {
            "marker": {
             "colorbar": {
              "outlinewidth": 0,
              "ticks": ""
             }
            },
            "type": "scattergeo"
           }
          ],
          "scattergl": [
           {
            "marker": {
             "colorbar": {
              "outlinewidth": 0,
              "ticks": ""
             }
            },
            "type": "scattergl"
           }
          ],
          "scattermapbox": [
           {
            "marker": {
             "colorbar": {
              "outlinewidth": 0,
              "ticks": ""
             }
            },
            "type": "scattermapbox"
           }
          ],
          "scatterpolar": [
           {
            "marker": {
             "colorbar": {
              "outlinewidth": 0,
              "ticks": ""
             }
            },
            "type": "scatterpolar"
           }
          ],
          "scatterpolargl": [
           {
            "marker": {
             "colorbar": {
              "outlinewidth": 0,
              "ticks": ""
             }
            },
            "type": "scatterpolargl"
           }
          ],
          "scatterternary": [
           {
            "marker": {
             "colorbar": {
              "outlinewidth": 0,
              "ticks": ""
             }
            },
            "type": "scatterternary"
           }
          ],
          "surface": [
           {
            "colorbar": {
             "outlinewidth": 0,
             "ticks": ""
            },
            "colorscale": [
             [
              0,
              "#0d0887"
             ],
             [
              0.1111111111111111,
              "#46039f"
             ],
             [
              0.2222222222222222,
              "#7201a8"
             ],
             [
              0.3333333333333333,
              "#9c179e"
             ],
             [
              0.4444444444444444,
              "#bd3786"
             ],
             [
              0.5555555555555556,
              "#d8576b"
             ],
             [
              0.6666666666666666,
              "#ed7953"
             ],
             [
              0.7777777777777778,
              "#fb9f3a"
             ],
             [
              0.8888888888888888,
              "#fdca26"
             ],
             [
              1,
              "#f0f921"
             ]
            ],
            "type": "surface"
           }
          ],
          "table": [
           {
            "cells": {
             "fill": {
              "color": "#EBF0F8"
             },
             "line": {
              "color": "white"
             }
            },
            "header": {
             "fill": {
              "color": "#C8D4E3"
             },
             "line": {
              "color": "white"
             }
            },
            "type": "table"
           }
          ]
         },
         "layout": {
          "annotationdefaults": {
           "arrowcolor": "#2a3f5f",
           "arrowhead": 0,
           "arrowwidth": 1
          },
          "autotypenumbers": "strict",
          "coloraxis": {
           "colorbar": {
            "outlinewidth": 0,
            "ticks": ""
           }
          },
          "colorscale": {
           "diverging": [
            [
             0,
             "#8e0152"
            ],
            [
             0.1,
             "#c51b7d"
            ],
            [
             0.2,
             "#de77ae"
            ],
            [
             0.3,
             "#f1b6da"
            ],
            [
             0.4,
             "#fde0ef"
            ],
            [
             0.5,
             "#f7f7f7"
            ],
            [
             0.6,
             "#e6f5d0"
            ],
            [
             0.7,
             "#b8e186"
            ],
            [
             0.8,
             "#7fbc41"
            ],
            [
             0.9,
             "#4d9221"
            ],
            [
             1,
             "#276419"
            ]
           ],
           "sequential": [
            [
             0,
             "#0d0887"
            ],
            [
             0.1111111111111111,
             "#46039f"
            ],
            [
             0.2222222222222222,
             "#7201a8"
            ],
            [
             0.3333333333333333,
             "#9c179e"
            ],
            [
             0.4444444444444444,
             "#bd3786"
            ],
            [
             0.5555555555555556,
             "#d8576b"
            ],
            [
             0.6666666666666666,
             "#ed7953"
            ],
            [
             0.7777777777777778,
             "#fb9f3a"
            ],
            [
             0.8888888888888888,
             "#fdca26"
            ],
            [
             1,
             "#f0f921"
            ]
           ],
           "sequentialminus": [
            [
             0,
             "#0d0887"
            ],
            [
             0.1111111111111111,
             "#46039f"
            ],
            [
             0.2222222222222222,
             "#7201a8"
            ],
            [
             0.3333333333333333,
             "#9c179e"
            ],
            [
             0.4444444444444444,
             "#bd3786"
            ],
            [
             0.5555555555555556,
             "#d8576b"
            ],
            [
             0.6666666666666666,
             "#ed7953"
            ],
            [
             0.7777777777777778,
             "#fb9f3a"
            ],
            [
             0.8888888888888888,
             "#fdca26"
            ],
            [
             1,
             "#f0f921"
            ]
           ]
          },
          "colorway": [
           "#636efa",
           "#EF553B",
           "#00cc96",
           "#ab63fa",
           "#FFA15A",
           "#19d3f3",
           "#FF6692",
           "#B6E880",
           "#FF97FF",
           "#FECB52"
          ],
          "font": {
           "color": "#2a3f5f"
          },
          "geo": {
           "bgcolor": "white",
           "lakecolor": "white",
           "landcolor": "white",
           "showlakes": true,
           "showland": true,
           "subunitcolor": "#C8D4E3"
          },
          "hoverlabel": {
           "align": "left"
          },
          "hovermode": "closest",
          "mapbox": {
           "style": "light"
          },
          "paper_bgcolor": "white",
          "plot_bgcolor": "white",
          "polar": {
           "angularaxis": {
            "gridcolor": "#EBF0F8",
            "linecolor": "#EBF0F8",
            "ticks": ""
           },
           "bgcolor": "white",
           "radialaxis": {
            "gridcolor": "#EBF0F8",
            "linecolor": "#EBF0F8",
            "ticks": ""
           }
          },
          "scene": {
           "xaxis": {
            "backgroundcolor": "white",
            "gridcolor": "#DFE8F3",
            "gridwidth": 2,
            "linecolor": "#EBF0F8",
            "showbackground": true,
            "ticks": "",
            "zerolinecolor": "#EBF0F8"
           },
           "yaxis": {
            "backgroundcolor": "white",
            "gridcolor": "#DFE8F3",
            "gridwidth": 2,
            "linecolor": "#EBF0F8",
            "showbackground": true,
            "ticks": "",
            "zerolinecolor": "#EBF0F8"
           },
           "zaxis": {
            "backgroundcolor": "white",
            "gridcolor": "#DFE8F3",
            "gridwidth": 2,
            "linecolor": "#EBF0F8",
            "showbackground": true,
            "ticks": "",
            "zerolinecolor": "#EBF0F8"
           }
          },
          "shapedefaults": {
           "line": {
            "color": "#2a3f5f"
           }
          },
          "ternary": {
           "aaxis": {
            "gridcolor": "#DFE8F3",
            "linecolor": "#A2B1C6",
            "ticks": ""
           },
           "baxis": {
            "gridcolor": "#DFE8F3",
            "linecolor": "#A2B1C6",
            "ticks": ""
           },
           "bgcolor": "white",
           "caxis": {
            "gridcolor": "#DFE8F3",
            "linecolor": "#A2B1C6",
            "ticks": ""
           }
          },
          "title": {
           "x": 0.05
          },
          "xaxis": {
           "automargin": true,
           "gridcolor": "#EBF0F8",
           "linecolor": "#EBF0F8",
           "ticks": "",
           "title": {
            "standoff": 15
           },
           "zerolinecolor": "#EBF0F8",
           "zerolinewidth": 2
          },
          "yaxis": {
           "automargin": true,
           "gridcolor": "#EBF0F8",
           "linecolor": "#EBF0F8",
           "ticks": "",
           "title": {
            "standoff": 15
           },
           "zerolinecolor": "#EBF0F8",
           "zerolinewidth": 2
          }
         }
        },
        "title": {
         "font": {
          "color": "black"
         },
         "text": "OEE Mensal - March",
         "x": 0.5,
         "xanchor": "center"
        },
        "width": 1500,
        "xaxis": {
         "anchor": "y",
         "domain": [
          0,
          0.475
         ],
         "tickformat": "%d/%m"
        },
        "xaxis2": {
         "anchor": "y2",
         "domain": [
          0.525,
          1
         ],
         "tickformat": "%d/%m"
        },
        "xaxis3": {
         "anchor": "y3",
         "domain": [
          0,
          0.475
         ],
         "tickformat": "%d/%m"
        },
        "xaxis4": {
         "anchor": "y4",
         "domain": [
          0.525,
          1
         ],
         "tickformat": "%d/%m"
        },
        "yaxis": {
         "anchor": "x",
         "domain": [
          0.55,
          1
         ]
        },
        "yaxis2": {
         "anchor": "x2",
         "domain": [
          0.55,
          1
         ]
        },
        "yaxis3": {
         "anchor": "x3",
         "domain": [
          0,
          0.45
         ]
        },
        "yaxis4": {
         "anchor": "x4",
         "domain": [
          0,
          0.45
         ]
        }
       }
      }
     },
     "metadata": {},
     "output_type": "display_data"
    }
   ],
   "source": [
    "# Definir a localidade para português do Brasil\n",
    "locale.setlocale(locale.LC_TIME, 'pt_BR.utf8')\n",
    "\n",
    "# Supondo que df_oee já foi criado corretamente com as datas como índice e as unidades como colunas\n",
    "df_oee.index = pd.to_datetime(df_oee.index, format='%d/%m/%Y')\n",
    "\n",
    "# Filtrar para mostrar apenas os dados de 2024 e até o dia anterior ao atual\n",
    "data_atual = datetime.now().date()\n",
    "df_oee = df_oee[(df_oee.index.year == 2025) & (df_oee.index < pd.Timestamp(data_atual))]\n",
    "df_oee = df_oee[~df_oee.index.weekday.isin([5, 6])]\n",
    "\n",
    "# Extrair os meses do DataFrame em português\n",
    "df_oee['Month'] = df_oee.index.strftime('%B')  # Nome do mês em português\n",
    "\n",
    "# Filtrar os dados para um mês específico, como \"Setembro\"\n",
    "mes = 'mar'  # Especifique o mês desejado em português (ex: 'janeiro', 'fevereiro', etc.)\n",
    "filtered_df = df_oee[df_oee['Month'].str.lower() == mes.lower()]\n",
    "\n",
    "# Certificar que os valores NaN são preenchidos para evitar quebras na linha\n",
    "filtered_df = filtered_df.fillna(0)\n",
    "\n",
    "# Caminho da imagem\n",
    "image_path = \"I:\\\\22 Gráficos e indicadores produção\\\\GRAMPOS\\\\Relatório\\\\AESA.png\"  # Substitua pelo caminho correto da sua imagem\n",
    "\n",
    "# Converter a imagem para base64\n",
    "with open(image_path, \"rb\") as image_file:\n",
    "    encoded_image = base64.b64encode(image_file.read()).decode()\n",
    "\n",
    "# Criar o gráfico com subplots 2x2\n",
    "fig = make_subplots(\n",
    "    rows=2, cols=2,\n",
    "    subplot_titles=(\"CORTE\", \"APONTAMENTO\", \"GRAVAÇÃO\", \"LAMINAÇÃO\"),\n",
    "    shared_xaxes=False,\n",
    "    shared_yaxes=False,\n",
    "    vertical_spacing=0.1,\n",
    "    horizontal_spacing=0.05\n",
    ")\n",
    "\n",
    "# Lista das unidades que serão plotadas\n",
    "units = ['CORTE', 'APONTAMENTO', 'GRAVAÇÃO', 'LAMINAÇÃO']\n",
    "\n",
    "# Definir a meta para cada unidade\n",
    "meta_values = {\n",
    "    'CORTE': 80,\n",
    "    'APONTAMENTO': 80,\n",
    "    'GRAVAÇÃO': 80,\n",
    "    'LAMINAÇÃO': 80\n",
    "}\n",
    "\n",
    "# Adicionar cada gráfico no subplot\n",
    "for i, unit in enumerate(units):\n",
    "    # Determinar a posição do gráfico\n",
    "    row = (i // 2) + 1\n",
    "    col = (i % 2) + 1\n",
    "    \n",
    "    # Calcular a média dos valores filtrados para a unidade\n",
    "    mean_value = filtered_df[unit].mean()\n",
    "    \n",
    "    # Adicionar a linha de produção com cor azul\n",
    "    show_legend_production = i == 0  # Mostrar legenda apenas para o primeiro gráfico\n",
    "    fig.add_trace(go.Scatter(\n",
    "        x=filtered_df.index,\n",
    "        y=filtered_df[unit],\n",
    "        mode='lines+markers',\n",
    "        name='OEE',\n",
    "        marker=dict(size=10),\n",
    "        line=dict(color='blue', width=2),  # Cor azul para todas as linhas\n",
    "        hovertemplate=\"<b>Data</b>: %{x}<br><b>OEE</b>: %{y}<extra></extra>\",\n",
    "        showlegend=show_legend_production\n",
    "    ), row=row, col=col)\n",
    "    \n",
    "    # Adicionar a linha de meta (laranja)\n",
    "    show_legend_meta = i == 0  # Mostrar legenda apenas para o primeiro gráfico\n",
    "    fig.add_trace(go.Scatter(\n",
    "        x=filtered_df.index,\n",
    "        y=[meta_values[unit]] * len(filtered_df),\n",
    "        mode='lines',\n",
    "        name='Meta',\n",
    "        line=dict(color='orange', width=2, dash='dash'),\n",
    "        showlegend=show_legend_meta\n",
    "    ), row=row, col=col)\n",
    "    \n",
    "    # Adicionar a linha da média (verde)\n",
    "    show_legend_mean = i == 0  # Mostrar legenda apenas para o primeiro gráfico\n",
    "    fig.add_trace(go.Scatter(\n",
    "        x=filtered_df.index,\n",
    "        y=[mean_value] * len(filtered_df),\n",
    "        mode='lines',\n",
    "        name='Média',\n",
    "        line=dict(color='green', width=2, dash='dot'),\n",
    "        showlegend=show_legend_mean\n",
    "    ), row=row, col=col)\n",
    "\n",
    "# Configurar o layout geral do gráfico\n",
    "fig.update_layout(\n",
    "    title={\n",
    "        'text': f'OEE Mensal - {mes.capitalize()}',\n",
    "        'x': 0.5,\n",
    "        'xanchor': 'center'\n",
    "    },\n",
    "    height=1000, width=1500,\n",
    "    template='plotly_white',\n",
    "    plot_bgcolor='rgba(0, 0, 0, 0)',\n",
    "    font=dict(size=15, color=\"black\"),\n",
    "    title_font_color=\"black\",\n",
    "    legend=dict(\n",
    "        title=\"Legenda\",\n",
    "        x=1.05,  # Posicionar a legenda à direita\n",
    "        y=1,     # Posicionar a legenda no topo\n",
    "        traceorder=\"normal\",\n",
    "        font=dict(size=12)\n",
    "    ),\n",
    "    images=[dict(\n",
    "        source=f\"data:image/png;base64,{encoded_image}\",\n",
    "        xref=\"paper\", yref=\"paper\",\n",
    "        x=0, y=1.1,\n",
    "        sizex=0.12, sizey=0.12, # tamanho do logo\n",
    "        xanchor=\"left\", yanchor=\"top\"\n",
    "    )]\n",
    ")\n",
    "\n",
    "# Ajustar o formato das datas no eixo x\n",
    "for i in range(1, 3):\n",
    "    for j in range(1, 3):\n",
    "        fig.update_xaxes(\n",
    "            tickformat=\"%d/%m\",  # Formato: dia/mês\n",
    "            row=i, col=j\n",
    "        )\n",
    "\n",
    "# Mostrar o gráfico\n",
    "fig.show()"
   ]
  },
  {
   "cell_type": "code",
   "execution_count": 49,
   "metadata": {},
   "outputs": [
    {
     "data": {
      "application/vnd.plotly.v1+json": {
       "config": {
        "plotlyServerURL": "https://plot.ly"
       },
       "data": [
        {
         "hovertemplate": "<b>Data</b>: %{x}<br><b>OEE</b>: %{y}<extra></extra>",
         "line": {
          "color": "blue",
          "width": 2
         },
         "marker": {
          "size": 10
         },
         "mode": "lines+markers",
         "name": "OEE",
         "showlegend": true,
         "type": "scatter",
         "x": [],
         "xaxis": "x",
         "y": [],
         "yaxis": "y"
        },
        {
         "line": {
          "color": "orange",
          "dash": "dash",
          "width": 2
         },
         "mode": "lines",
         "name": "Meta",
         "showlegend": true,
         "type": "scatter",
         "x": [],
         "xaxis": "x",
         "y": [],
         "yaxis": "y"
        },
        {
         "line": {
          "color": "green",
          "dash": "dot",
          "width": 2
         },
         "mode": "lines",
         "name": "Média",
         "showlegend": true,
         "type": "scatter",
         "x": [],
         "xaxis": "x",
         "y": [],
         "yaxis": "y"
        },
        {
         "hovertemplate": "<b>Data</b>: %{x}<br><b>OEE</b>: %{y}<extra></extra>",
         "line": {
          "color": "blue",
          "width": 2
         },
         "marker": {
          "size": 10
         },
         "mode": "lines+markers",
         "name": "OEE",
         "showlegend": false,
         "type": "scatter",
         "x": [],
         "xaxis": "x2",
         "y": [],
         "yaxis": "y2"
        },
        {
         "line": {
          "color": "orange",
          "dash": "dash",
          "width": 2
         },
         "mode": "lines",
         "name": "Meta",
         "showlegend": false,
         "type": "scatter",
         "x": [],
         "xaxis": "x2",
         "y": [],
         "yaxis": "y2"
        },
        {
         "line": {
          "color": "green",
          "dash": "dot",
          "width": 2
         },
         "mode": "lines",
         "name": "Média",
         "showlegend": false,
         "type": "scatter",
         "x": [],
         "xaxis": "x2",
         "y": [],
         "yaxis": "y2"
        },
        {
         "hovertemplate": "<b>Data</b>: %{x}<br><b>OEE</b>: %{y}<extra></extra>",
         "line": {
          "color": "blue",
          "width": 2
         },
         "marker": {
          "size": 10
         },
         "mode": "lines+markers",
         "name": "OEE",
         "showlegend": false,
         "type": "scatter",
         "x": [],
         "xaxis": "x3",
         "y": [],
         "yaxis": "y3"
        },
        {
         "line": {
          "color": "orange",
          "dash": "dash",
          "width": 2
         },
         "mode": "lines",
         "name": "Meta",
         "showlegend": false,
         "type": "scatter",
         "x": [],
         "xaxis": "x3",
         "y": [],
         "yaxis": "y3"
        },
        {
         "line": {
          "color": "green",
          "dash": "dot",
          "width": 2
         },
         "mode": "lines",
         "name": "Média",
         "showlegend": false,
         "type": "scatter",
         "x": [],
         "xaxis": "x3",
         "y": [],
         "yaxis": "y3"
        },
        {
         "hovertemplate": "<b>Data</b>: %{x}<br><b>OEE</b>: %{y}<extra></extra>",
         "line": {
          "color": "blue",
          "width": 2
         },
         "marker": {
          "size": 10
         },
         "mode": "lines+markers",
         "name": "OEE",
         "showlegend": false,
         "type": "scatter",
         "x": [],
         "xaxis": "x4",
         "y": [],
         "yaxis": "y4"
        },
        {
         "line": {
          "color": "orange",
          "dash": "dash",
          "width": 2
         },
         "mode": "lines",
         "name": "Meta",
         "showlegend": false,
         "type": "scatter",
         "x": [],
         "xaxis": "x4",
         "y": [],
         "yaxis": "y4"
        },
        {
         "line": {
          "color": "green",
          "dash": "dot",
          "width": 2
         },
         "mode": "lines",
         "name": "Média",
         "showlegend": false,
         "type": "scatter",
         "x": [],
         "xaxis": "x4",
         "y": [],
         "yaxis": "y4"
        }
       ],
       "layout": {
        "annotations": [
         {
          "font": {
           "size": 16
          },
          "showarrow": false,
          "text": "TORNO",
          "x": 0.2375,
          "xanchor": "center",
          "xref": "paper",
          "y": 1,
          "yanchor": "bottom",
          "yref": "paper"
         },
         {
          "font": {
           "size": 16
          },
          "showarrow": false,
          "text": "TRAT. TÉRMICO",
          "x": 0.7625,
          "xanchor": "center",
          "xref": "paper",
          "y": 1,
          "yanchor": "bottom",
          "yref": "paper"
         },
         {
          "font": {
           "size": 16
          },
          "showarrow": false,
          "text": "AJUSTAGEM",
          "x": 0.2375,
          "xanchor": "center",
          "xref": "paper",
          "y": 0.45,
          "yanchor": "bottom",
          "yref": "paper"
         },
         {
          "font": {
           "size": 16
          },
          "showarrow": false,
          "text": "ACAB. EXTERNO",
          "x": 0.7625,
          "xanchor": "center",
          "xref": "paper",
          "y": 0.45,
          "yanchor": "bottom",
          "yref": "paper"
         }
        ],
        "font": {
         "color": "black",
         "size": 15
        },
        "height": 1000,
        "images": [
         {
          "sizex": 0.12,
          "sizey": 0.12,
          "source": "data:image/png;base64,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",
          "x": 0,
          "xanchor": "left",
          "xref": "paper",
          "y": 1.1,
          "yanchor": "top",
          "yref": "paper"
         }
        ],
        "legend": {
         "font": {
          "size": 12
         },
         "title": {
          "text": "Legenda"
         },
         "traceorder": "normal",
         "x": 1.05,
         "y": 1
        },
        "plot_bgcolor": "rgba(0, 0, 0, 0)",
        "template": {
         "data": {
          "bar": [
           {
            "error_x": {
             "color": "#2a3f5f"
            },
            "error_y": {
             "color": "#2a3f5f"
            },
            "marker": {
             "line": {
              "color": "white",
              "width": 0.5
             },
             "pattern": {
              "fillmode": "overlay",
              "size": 10,
              "solidity": 0.2
             }
            },
            "type": "bar"
           }
          ],
          "barpolar": [
           {
            "marker": {
             "line": {
              "color": "white",
              "width": 0.5
             },
             "pattern": {
              "fillmode": "overlay",
              "size": 10,
              "solidity": 0.2
             }
            },
            "type": "barpolar"
           }
          ],
          "carpet": [
           {
            "aaxis": {
             "endlinecolor": "#2a3f5f",
             "gridcolor": "#C8D4E3",
             "linecolor": "#C8D4E3",
             "minorgridcolor": "#C8D4E3",
             "startlinecolor": "#2a3f5f"
            },
            "baxis": {
             "endlinecolor": "#2a3f5f",
             "gridcolor": "#C8D4E3",
             "linecolor": "#C8D4E3",
             "minorgridcolor": "#C8D4E3",
             "startlinecolor": "#2a3f5f"
            },
            "type": "carpet"
           }
          ],
          "choropleth": [
           {
            "colorbar": {
             "outlinewidth": 0,
             "ticks": ""
            },
            "type": "choropleth"
           }
          ],
          "contour": [
           {
            "colorbar": {
             "outlinewidth": 0,
             "ticks": ""
            },
            "colorscale": [
             [
              0,
              "#0d0887"
             ],
             [
              0.1111111111111111,
              "#46039f"
             ],
             [
              0.2222222222222222,
              "#7201a8"
             ],
             [
              0.3333333333333333,
              "#9c179e"
             ],
             [
              0.4444444444444444,
              "#bd3786"
             ],
             [
              0.5555555555555556,
              "#d8576b"
             ],
             [
              0.6666666666666666,
              "#ed7953"
             ],
             [
              0.7777777777777778,
              "#fb9f3a"
             ],
             [
              0.8888888888888888,
              "#fdca26"
             ],
             [
              1,
              "#f0f921"
             ]
            ],
            "type": "contour"
           }
          ],
          "contourcarpet": [
           {
            "colorbar": {
             "outlinewidth": 0,
             "ticks": ""
            },
            "type": "contourcarpet"
           }
          ],
          "heatmap": [
           {
            "colorbar": {
             "outlinewidth": 0,
             "ticks": ""
            },
            "colorscale": [
             [
              0,
              "#0d0887"
             ],
             [
              0.1111111111111111,
              "#46039f"
             ],
             [
              0.2222222222222222,
              "#7201a8"
             ],
             [
              0.3333333333333333,
              "#9c179e"
             ],
             [
              0.4444444444444444,
              "#bd3786"
             ],
             [
              0.5555555555555556,
              "#d8576b"
             ],
             [
              0.6666666666666666,
              "#ed7953"
             ],
             [
              0.7777777777777778,
              "#fb9f3a"
             ],
             [
              0.8888888888888888,
              "#fdca26"
             ],
             [
              1,
              "#f0f921"
             ]
            ],
            "type": "heatmap"
           }
          ],
          "heatmapgl": [
           {
            "colorbar": {
             "outlinewidth": 0,
             "ticks": ""
            },
            "colorscale": [
             [
              0,
              "#0d0887"
             ],
             [
              0.1111111111111111,
              "#46039f"
             ],
             [
              0.2222222222222222,
              "#7201a8"
             ],
             [
              0.3333333333333333,
              "#9c179e"
             ],
             [
              0.4444444444444444,
              "#bd3786"
             ],
             [
              0.5555555555555556,
              "#d8576b"
             ],
             [
              0.6666666666666666,
              "#ed7953"
             ],
             [
              0.7777777777777778,
              "#fb9f3a"
             ],
             [
              0.8888888888888888,
              "#fdca26"
             ],
             [
              1,
              "#f0f921"
             ]
            ],
            "type": "heatmapgl"
           }
          ],
          "histogram": [
           {
            "marker": {
             "pattern": {
              "fillmode": "overlay",
              "size": 10,
              "solidity": 0.2
             }
            },
            "type": "histogram"
           }
          ],
          "histogram2d": [
           {
            "colorbar": {
             "outlinewidth": 0,
             "ticks": ""
            },
            "colorscale": [
             [
              0,
              "#0d0887"
             ],
             [
              0.1111111111111111,
              "#46039f"
             ],
             [
              0.2222222222222222,
              "#7201a8"
             ],
             [
              0.3333333333333333,
              "#9c179e"
             ],
             [
              0.4444444444444444,
              "#bd3786"
             ],
             [
              0.5555555555555556,
              "#d8576b"
             ],
             [
              0.6666666666666666,
              "#ed7953"
             ],
             [
              0.7777777777777778,
              "#fb9f3a"
             ],
             [
              0.8888888888888888,
              "#fdca26"
             ],
             [
              1,
              "#f0f921"
             ]
            ],
            "type": "histogram2d"
           }
          ],
          "histogram2dcontour": [
           {
            "colorbar": {
             "outlinewidth": 0,
             "ticks": ""
            },
            "colorscale": [
             [
              0,
              "#0d0887"
             ],
             [
              0.1111111111111111,
              "#46039f"
             ],
             [
              0.2222222222222222,
              "#7201a8"
             ],
             [
              0.3333333333333333,
              "#9c179e"
             ],
             [
              0.4444444444444444,
              "#bd3786"
             ],
             [
              0.5555555555555556,
              "#d8576b"
             ],
             [
              0.6666666666666666,
              "#ed7953"
             ],
             [
              0.7777777777777778,
              "#fb9f3a"
             ],
             [
              0.8888888888888888,
              "#fdca26"
             ],
             [
              1,
              "#f0f921"
             ]
            ],
            "type": "histogram2dcontour"
           }
          ],
          "mesh3d": [
           {
            "colorbar": {
             "outlinewidth": 0,
             "ticks": ""
            },
            "type": "mesh3d"
           }
          ],
          "parcoords": [
           {
            "line": {
             "colorbar": {
              "outlinewidth": 0,
              "ticks": ""
             }
            },
            "type": "parcoords"
           }
          ],
          "pie": [
           {
            "automargin": true,
            "type": "pie"
           }
          ],
          "scatter": [
           {
            "fillpattern": {
             "fillmode": "overlay",
             "size": 10,
             "solidity": 0.2
            },
            "type": "scatter"
           }
          ],
          "scatter3d": [
           {
            "line": {
             "colorbar": {
              "outlinewidth": 0,
              "ticks": ""
             }
            },
            "marker": {
             "colorbar": {
              "outlinewidth": 0,
              "ticks": ""
             }
            },
            "type": "scatter3d"
           }
          ],
          "scattercarpet": [
           {
            "marker": {
             "colorbar": {
              "outlinewidth": 0,
              "ticks": ""
             }
            },
            "type": "scattercarpet"
           }
          ],
          "scattergeo": [
           {
            "marker": {
             "colorbar": {
              "outlinewidth": 0,
              "ticks": ""
             }
            },
            "type": "scattergeo"
           }
          ],
          "scattergl": [
           {
            "marker": {
             "colorbar": {
              "outlinewidth": 0,
              "ticks": ""
             }
            },
            "type": "scattergl"
           }
          ],
          "scattermapbox": [
           {
            "marker": {
             "colorbar": {
              "outlinewidth": 0,
              "ticks": ""
             }
            },
            "type": "scattermapbox"
           }
          ],
          "scatterpolar": [
           {
            "marker": {
             "colorbar": {
              "outlinewidth": 0,
              "ticks": ""
             }
            },
            "type": "scatterpolar"
           }
          ],
          "scatterpolargl": [
           {
            "marker": {
             "colorbar": {
              "outlinewidth": 0,
              "ticks": ""
             }
            },
            "type": "scatterpolargl"
           }
          ],
          "scatterternary": [
           {
            "marker": {
             "colorbar": {
              "outlinewidth": 0,
              "ticks": ""
             }
            },
            "type": "scatterternary"
           }
          ],
          "surface": [
           {
            "colorbar": {
             "outlinewidth": 0,
             "ticks": ""
            },
            "colorscale": [
             [
              0,
              "#0d0887"
             ],
             [
              0.1111111111111111,
              "#46039f"
             ],
             [
              0.2222222222222222,
              "#7201a8"
             ],
             [
              0.3333333333333333,
              "#9c179e"
             ],
             [
              0.4444444444444444,
              "#bd3786"
             ],
             [
              0.5555555555555556,
              "#d8576b"
             ],
             [
              0.6666666666666666,
              "#ed7953"
             ],
             [
              0.7777777777777778,
              "#fb9f3a"
             ],
             [
              0.8888888888888888,
              "#fdca26"
             ],
             [
              1,
              "#f0f921"
             ]
            ],
            "type": "surface"
           }
          ],
          "table": [
           {
            "cells": {
             "fill": {
              "color": "#EBF0F8"
             },
             "line": {
              "color": "white"
             }
            },
            "header": {
             "fill": {
              "color": "#C8D4E3"
             },
             "line": {
              "color": "white"
             }
            },
            "type": "table"
           }
          ]
         },
         "layout": {
          "annotationdefaults": {
           "arrowcolor": "#2a3f5f",
           "arrowhead": 0,
           "arrowwidth": 1
          },
          "autotypenumbers": "strict",
          "coloraxis": {
           "colorbar": {
            "outlinewidth": 0,
            "ticks": ""
           }
          },
          "colorscale": {
           "diverging": [
            [
             0,
             "#8e0152"
            ],
            [
             0.1,
             "#c51b7d"
            ],
            [
             0.2,
             "#de77ae"
            ],
            [
             0.3,
             "#f1b6da"
            ],
            [
             0.4,
             "#fde0ef"
            ],
            [
             0.5,
             "#f7f7f7"
            ],
            [
             0.6,
             "#e6f5d0"
            ],
            [
             0.7,
             "#b8e186"
            ],
            [
             0.8,
             "#7fbc41"
            ],
            [
             0.9,
             "#4d9221"
            ],
            [
             1,
             "#276419"
            ]
           ],
           "sequential": [
            [
             0,
             "#0d0887"
            ],
            [
             0.1111111111111111,
             "#46039f"
            ],
            [
             0.2222222222222222,
             "#7201a8"
            ],
            [
             0.3333333333333333,
             "#9c179e"
            ],
            [
             0.4444444444444444,
             "#bd3786"
            ],
            [
             0.5555555555555556,
             "#d8576b"
            ],
            [
             0.6666666666666666,
             "#ed7953"
            ],
            [
             0.7777777777777778,
             "#fb9f3a"
            ],
            [
             0.8888888888888888,
             "#fdca26"
            ],
            [
             1,
             "#f0f921"
            ]
           ],
           "sequentialminus": [
            [
             0,
             "#0d0887"
            ],
            [
             0.1111111111111111,
             "#46039f"
            ],
            [
             0.2222222222222222,
             "#7201a8"
            ],
            [
             0.3333333333333333,
             "#9c179e"
            ],
            [
             0.4444444444444444,
             "#bd3786"
            ],
            [
             0.5555555555555556,
             "#d8576b"
            ],
            [
             0.6666666666666666,
             "#ed7953"
            ],
            [
             0.7777777777777778,
             "#fb9f3a"
            ],
            [
             0.8888888888888888,
             "#fdca26"
            ],
            [
             1,
             "#f0f921"
            ]
           ]
          },
          "colorway": [
           "#636efa",
           "#EF553B",
           "#00cc96",
           "#ab63fa",
           "#FFA15A",
           "#19d3f3",
           "#FF6692",
           "#B6E880",
           "#FF97FF",
           "#FECB52"
          ],
          "font": {
           "color": "#2a3f5f"
          },
          "geo": {
           "bgcolor": "white",
           "lakecolor": "white",
           "landcolor": "white",
           "showlakes": true,
           "showland": true,
           "subunitcolor": "#C8D4E3"
          },
          "hoverlabel": {
           "align": "left"
          },
          "hovermode": "closest",
          "mapbox": {
           "style": "light"
          },
          "paper_bgcolor": "white",
          "plot_bgcolor": "white",
          "polar": {
           "angularaxis": {
            "gridcolor": "#EBF0F8",
            "linecolor": "#EBF0F8",
            "ticks": ""
           },
           "bgcolor": "white",
           "radialaxis": {
            "gridcolor": "#EBF0F8",
            "linecolor": "#EBF0F8",
            "ticks": ""
           }
          },
          "scene": {
           "xaxis": {
            "backgroundcolor": "white",
            "gridcolor": "#DFE8F3",
            "gridwidth": 2,
            "linecolor": "#EBF0F8",
            "showbackground": true,
            "ticks": "",
            "zerolinecolor": "#EBF0F8"
           },
           "yaxis": {
            "backgroundcolor": "white",
            "gridcolor": "#DFE8F3",
            "gridwidth": 2,
            "linecolor": "#EBF0F8",
            "showbackground": true,
            "ticks": "",
            "zerolinecolor": "#EBF0F8"
           },
           "zaxis": {
            "backgroundcolor": "white",
            "gridcolor": "#DFE8F3",
            "gridwidth": 2,
            "linecolor": "#EBF0F8",
            "showbackground": true,
            "ticks": "",
            "zerolinecolor": "#EBF0F8"
           }
          },
          "shapedefaults": {
           "line": {
            "color": "#2a3f5f"
           }
          },
          "ternary": {
           "aaxis": {
            "gridcolor": "#DFE8F3",
            "linecolor": "#A2B1C6",
            "ticks": ""
           },
           "baxis": {
            "gridcolor": "#DFE8F3",
            "linecolor": "#A2B1C6",
            "ticks": ""
           },
           "bgcolor": "white",
           "caxis": {
            "gridcolor": "#DFE8F3",
            "linecolor": "#A2B1C6",
            "ticks": ""
           }
          },
          "title": {
           "x": 0.05
          },
          "xaxis": {
           "automargin": true,
           "gridcolor": "#EBF0F8",
           "linecolor": "#EBF0F8",
           "ticks": "",
           "title": {
            "standoff": 15
           },
           "zerolinecolor": "#EBF0F8",
           "zerolinewidth": 2
          },
          "yaxis": {
           "automargin": true,
           "gridcolor": "#EBF0F8",
           "linecolor": "#EBF0F8",
           "ticks": "",
           "title": {
            "standoff": 15
           },
           "zerolinecolor": "#EBF0F8",
           "zerolinewidth": 2
          }
         }
        },
        "title": {
         "font": {
          "color": "black"
         },
         "text": "OEE Mensal - Março",
         "x": 0.5,
         "xanchor": "center"
        },
        "width": 1500,
        "xaxis": {
         "anchor": "y",
         "domain": [
          0,
          0.475
         ],
         "tickformat": "%d/%m"
        },
        "xaxis2": {
         "anchor": "y2",
         "domain": [
          0.525,
          1
         ],
         "tickformat": "%d/%m"
        },
        "xaxis3": {
         "anchor": "y3",
         "domain": [
          0,
          0.475
         ],
         "tickformat": "%d/%m"
        },
        "xaxis4": {
         "anchor": "y4",
         "domain": [
          0.525,
          1
         ],
         "tickformat": "%d/%m"
        },
        "yaxis": {
         "anchor": "x",
         "domain": [
          0.55,
          1
         ]
        },
        "yaxis2": {
         "anchor": "x2",
         "domain": [
          0.55,
          1
         ]
        },
        "yaxis3": {
         "anchor": "x3",
         "domain": [
          0,
          0.45
         ]
        },
        "yaxis4": {
         "anchor": "x4",
         "domain": [
          0,
          0.45
         ]
        }
       }
      }
     },
     "metadata": {},
     "output_type": "display_data"
    }
   ],
   "source": [
    "\n",
    "\n",
    "# Definir a localidade para português do Brasil\n",
    "locale.setlocale(locale.LC_TIME, 'pt_BR.utf8')\n",
    "\n",
    "# Supondo que df_oee já foi criado corretamente com as datas como índice e as unidades como colunas\n",
    "df_oee.index = pd.to_datetime(df_oee.index, format='%d/%m/%Y')\n",
    "\n",
    "# Filtrar para mostrar apenas os dados de 2024 e até o dia anterior ao atual\n",
    "data_atual = datetime.now().date()\n",
    "df_oee = df_oee[(df_oee.index.year == 2025) & (df_oee.index < pd.Timestamp(data_atual))]\n",
    "df_oee = df_oee[~df_oee.index.weekday.isin([5, 6])]\n",
    "\n",
    "\n",
    "# Extrair os meses do DataFrame em português\n",
    "df_oee['Month'] = df_oee.index.strftime('%B')  # Nome do mês em português\n",
    "\n",
    "# Filtrar os dados para um mês específico, como \"Setembro\"\n",
    "mes = 'março'  # Especifique o mês desejado em português (ex: 'janeiro', 'fevereiro', etc.)\n",
    "filtered_df = df_oee[df_oee['Month'].str.lower() == mes.lower()]\n",
    "\n",
    "# Certificar que os valores NaN são preenchidos para evitar quebras na linha\n",
    "filtered_df = filtered_df.fillna(0)\n",
    "\n",
    "# Caminho da imagem\n",
    "image_path = \"I:\\\\22 Gráficos e indicadores produção\\\\GRAMPOS\\\\Relatório\\\\AESA.png\"  # Substitua pelo caminho correto da sua imagem\n",
    "\n",
    "# Converter a imagem para base64\n",
    "with open(image_path, \"rb\") as image_file:\n",
    "    encoded_image = base64.b64encode(image_file.read()).decode()\n",
    "\n",
    "# Criar o gráfico com subplots 2x2\n",
    "fig = make_subplots(\n",
    "    rows=2, cols=2,\n",
    "    subplot_titles=(\"TORNO\", \"TRAT. TÉRMICO\", \"AJUSTAGEM\", \"ACAB. EXTERNO\"),\n",
    "    shared_xaxes=False,\n",
    "    shared_yaxes=False,\n",
    "    vertical_spacing=0.1,\n",
    "    horizontal_spacing=0.05\n",
    ")\n",
    "\n",
    "# Lista das unidades que serão plotadas\n",
    "units = ['TORNO', 'TRAT. TÉRMICO', 'AJUSTAGEM', 'ACAB. EXTERNO']\n",
    "\n",
    "# Definir a meta para cada unidade\n",
    "meta_values = {\n",
    "    'TORNO': 80,\n",
    "    'TRAT. TÉRMICO': 80,\n",
    "    'AJUSTAGEM': 80,\n",
    "    'ACAB. EXTERNO': 80\n",
    "}\n",
    "\n",
    "# Adicionar cada gráfico no subplot\n",
    "for i, unit in enumerate(units):\n",
    "    # Determinar a posição do gráfico\n",
    "    row = (i // 2) + 1\n",
    "    col = (i % 2) + 1\n",
    "    \n",
    "    # Calcular a média dos valores filtrados para a unidade\n",
    "    mean_value = filtered_df[unit].mean()\n",
    "    \n",
    "    # Adicionar a linha de produção com cor azul\n",
    "    show_legend_production = i == 0  # Mostrar legenda apenas para o primeiro gráfico\n",
    "    fig.add_trace(go.Scatter(\n",
    "        x=filtered_df.index,\n",
    "        y=filtered_df[unit],\n",
    "        mode='lines+markers',\n",
    "        name='OEE',\n",
    "        marker=dict(size=10),\n",
    "        line=dict(color='blue', width=2),  # Cor azul para todas as linhas\n",
    "        hovertemplate=\"<b>Data</b>: %{x}<br><b>OEE</b>: %{y}<extra></extra>\",\n",
    "        showlegend=show_legend_production\n",
    "    ), row=row, col=col)\n",
    "    \n",
    "    # Adicionar a linha de meta (laranja)\n",
    "    show_legend_meta = i == 0  # Mostrar legenda apenas para o primeiro gráfico\n",
    "    fig.add_trace(go.Scatter(\n",
    "        x=filtered_df.index,\n",
    "        y=[meta_values[unit]] * len(filtered_df),\n",
    "        mode='lines',\n",
    "        name='Meta',\n",
    "        line=dict(color='orange', width=2, dash='dash'),\n",
    "        showlegend=show_legend_meta\n",
    "    ), row=row, col=col)\n",
    "    \n",
    "    # Adicionar a linha da média (verde)\n",
    "    show_legend_mean = i == 0  # Mostrar legenda apenas para o primeiro gráfico\n",
    "    fig.add_trace(go.Scatter(\n",
    "        x=filtered_df.index,\n",
    "        y=[mean_value] * len(filtered_df),\n",
    "        mode='lines',\n",
    "        name='Média',\n",
    "        line=dict(color='green', width=2, dash='dot'),\n",
    "        showlegend=show_legend_mean\n",
    "    ), row=row, col=col)\n",
    "\n",
    "# Configurar o layout geral do gráfico\n",
    "fig.update_layout(\n",
    "    title={\n",
    "        'text': f'OEE Mensal - {mes.capitalize()}',\n",
    "        'x': 0.5,\n",
    "        'xanchor': 'center'\n",
    "    },\n",
    "    height=1000, width=1500,\n",
    "    template='plotly_white',\n",
    "    plot_bgcolor='rgba(0, 0, 0, 0)',\n",
    "    font=dict(size=15, color=\"black\"),\n",
    "    title_font_color=\"black\",\n",
    "    legend=dict(\n",
    "        title=\"Legenda\",\n",
    "        x=1.05,  # Posicionar a legenda à direita\n",
    "        y=1,     # Posicionar a legenda no topo\n",
    "        traceorder=\"normal\",\n",
    "        font=dict(size=12)\n",
    "    ),\n",
    "    images=[dict(\n",
    "        source=f\"data:image/png;base64,{encoded_image}\",\n",
    "        xref=\"paper\", yref=\"paper\",\n",
    "        x=0, y=1.1,\n",
    "        sizex=0.12, sizey=0.12, # tamanho do logo\n",
    "        xanchor=\"left\", yanchor=\"top\"\n",
    "    )]\n",
    ")\n",
    "\n",
    "# Ajustar o formato das datas no eixo x\n",
    "for i in range(1, 3):\n",
    "    for j in range(1, 3):\n",
    "        fig.update_xaxes(\n",
    "            tickformat=\"%d/%m\",  # Formato: dia/mês\n",
    "            row=i, col=j\n",
    "        )\n",
    "\n",
    "# Mostrar o gráfico\n",
    "fig.show()"
   ]
  },
  {
   "cell_type": "code",
   "execution_count": 50,
   "metadata": {},
   "outputs": [
    {
     "data": {
      "application/vnd.plotly.v1+json": {
       "config": {
        "plotlyServerURL": "https://plot.ly"
       },
       "data": [
        {
         "hovertemplate": "<b>Data</b>: %{x}<br><b>OEE</b>: %{y}<extra></extra>",
         "line": {
          "color": "blue",
          "width": 2
         },
         "marker": {
          "size": 10
         },
         "mode": "lines+markers",
         "name": "OEE",
         "showlegend": true,
         "type": "scatter",
         "x": [],
         "xaxis": "x",
         "y": [],
         "yaxis": "y"
        },
        {
         "line": {
          "color": "orange",
          "dash": "dash",
          "width": 2
         },
         "mode": "lines",
         "name": "Meta",
         "showlegend": true,
         "type": "scatter",
         "x": [],
         "xaxis": "x",
         "y": [],
         "yaxis": "y"
        },
        {
         "line": {
          "color": "green",
          "dash": "dot",
          "width": 2
         },
         "mode": "lines",
         "name": "Média",
         "showlegend": true,
         "type": "scatter",
         "x": [],
         "xaxis": "x",
         "y": [],
         "yaxis": "y"
        },
        {
         "hovertemplate": "<b>Data</b>: %{x}<br><b>OEE</b>: %{y}<extra></extra>",
         "line": {
          "color": "blue",
          "width": 2
         },
         "marker": {
          "size": 10
         },
         "mode": "lines+markers",
         "name": "OEE",
         "showlegend": false,
         "type": "scatter",
         "x": [],
         "xaxis": "x2",
         "y": [],
         "yaxis": "y2"
        },
        {
         "line": {
          "color": "orange",
          "dash": "dash",
          "width": 2
         },
         "mode": "lines",
         "name": "Meta",
         "showlegend": false,
         "type": "scatter",
         "x": [],
         "xaxis": "x2",
         "y": [],
         "yaxis": "y2"
        },
        {
         "line": {
          "color": "green",
          "dash": "dot",
          "width": 2
         },
         "mode": "lines",
         "name": "Média",
         "showlegend": false,
         "type": "scatter",
         "x": [],
         "xaxis": "x2",
         "y": [],
         "yaxis": "y2"
        },
        {
         "hovertemplate": "<b>Data</b>: %{x}<br><b>OEE</b>: %{y}<extra></extra>",
         "line": {
          "color": "blue",
          "width": 2
         },
         "marker": {
          "size": 10
         },
         "mode": "lines+markers",
         "name": "OEE",
         "showlegend": false,
         "type": "scatter",
         "x": [],
         "xaxis": "x3",
         "y": [],
         "yaxis": "y3"
        },
        {
         "line": {
          "color": "orange",
          "dash": "dash",
          "width": 2
         },
         "mode": "lines",
         "name": "Meta",
         "showlegend": false,
         "type": "scatter",
         "x": [],
         "xaxis": "x3",
         "y": [],
         "yaxis": "y3"
        },
        {
         "line": {
          "color": "green",
          "dash": "dot",
          "width": 2
         },
         "mode": "lines",
         "name": "Média",
         "showlegend": false,
         "type": "scatter",
         "x": [],
         "xaxis": "x3",
         "y": [],
         "yaxis": "y3"
        },
        {
         "hovertemplate": "<b>Data</b>: %{x}<br><b>OEE</b>: %{y}<extra></extra>",
         "line": {
          "color": "blue",
          "width": 2
         },
         "marker": {
          "size": 10
         },
         "mode": "lines+markers",
         "name": "OEE",
         "showlegend": false,
         "type": "scatter",
         "x": [],
         "xaxis": "x4",
         "y": [],
         "yaxis": "y4"
        },
        {
         "line": {
          "color": "orange",
          "dash": "dash",
          "width": 2
         },
         "mode": "lines",
         "name": "Meta",
         "showlegend": false,
         "type": "scatter",
         "x": [],
         "xaxis": "x4",
         "y": [],
         "yaxis": "y4"
        },
        {
         "line": {
          "color": "green",
          "dash": "dot",
          "width": 2
         },
         "mode": "lines",
         "name": "Média",
         "showlegend": false,
         "type": "scatter",
         "x": [],
         "xaxis": "x4",
         "y": [],
         "yaxis": "y4"
        }
       ],
       "layout": {
        "annotations": [
         {
          "font": {
           "size": 16
          },
          "showarrow": false,
          "text": "DOBRA FRIA",
          "x": 0.2375,
          "xanchor": "center",
          "xref": "paper",
          "y": 1,
          "yanchor": "bottom",
          "yref": "paper"
         },
         {
          "font": {
           "size": 16
          },
          "showarrow": false,
          "text": "DOBRA QUENTE",
          "x": 0.7625,
          "xanchor": "center",
          "xref": "paper",
          "y": 1,
          "yanchor": "bottom",
          "yref": "paper"
         },
         {
          "font": {
           "size": 16
          },
          "showarrow": false,
          "text": "KTL",
          "x": 0.2375,
          "xanchor": "center",
          "xref": "paper",
          "y": 0.45,
          "yanchor": "bottom",
          "yref": "paper"
         },
         {
          "font": {
           "size": 16
          },
          "showarrow": false,
          "text": "EMBALAGEM",
          "x": 0.7625,
          "xanchor": "center",
          "xref": "paper",
          "y": 0.45,
          "yanchor": "bottom",
          "yref": "paper"
         }
        ],
        "font": {
         "color": "black",
         "size": 15
        },
        "height": 1000,
        "images": [
         {
          "sizex": 0.12,
          "sizey": 0.12,
          "source": "data:image/png;base64,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",
          "x": 0,
          "xanchor": "left",
          "xref": "paper",
          "y": 1.1,
          "yanchor": "top",
          "yref": "paper"
         }
        ],
        "legend": {
         "font": {
          "size": 12
         },
         "title": {
          "text": "Legenda"
         },
         "traceorder": "normal",
         "x": 1.05,
         "y": 1
        },
        "plot_bgcolor": "rgba(0, 0, 0, 0)",
        "template": {
         "data": {
          "bar": [
           {
            "error_x": {
             "color": "#2a3f5f"
            },
            "error_y": {
             "color": "#2a3f5f"
            },
            "marker": {
             "line": {
              "color": "white",
              "width": 0.5
             },
             "pattern": {
              "fillmode": "overlay",
              "size": 10,
              "solidity": 0.2
             }
            },
            "type": "bar"
           }
          ],
          "barpolar": [
           {
            "marker": {
             "line": {
              "color": "white",
              "width": 0.5
             },
             "pattern": {
              "fillmode": "overlay",
              "size": 10,
              "solidity": 0.2
             }
            },
            "type": "barpolar"
           }
          ],
          "carpet": [
           {
            "aaxis": {
             "endlinecolor": "#2a3f5f",
             "gridcolor": "#C8D4E3",
             "linecolor": "#C8D4E3",
             "minorgridcolor": "#C8D4E3",
             "startlinecolor": "#2a3f5f"
            },
            "baxis": {
             "endlinecolor": "#2a3f5f",
             "gridcolor": "#C8D4E3",
             "linecolor": "#C8D4E3",
             "minorgridcolor": "#C8D4E3",
             "startlinecolor": "#2a3f5f"
            },
            "type": "carpet"
           }
          ],
          "choropleth": [
           {
            "colorbar": {
             "outlinewidth": 0,
             "ticks": ""
            },
            "type": "choropleth"
           }
          ],
          "contour": [
           {
            "colorbar": {
             "outlinewidth": 0,
             "ticks": ""
            },
            "colorscale": [
             [
              0,
              "#0d0887"
             ],
             [
              0.1111111111111111,
              "#46039f"
             ],
             [
              0.2222222222222222,
              "#7201a8"
             ],
             [
              0.3333333333333333,
              "#9c179e"
             ],
             [
              0.4444444444444444,
              "#bd3786"
             ],
             [
              0.5555555555555556,
              "#d8576b"
             ],
             [
              0.6666666666666666,
              "#ed7953"
             ],
             [
              0.7777777777777778,
              "#fb9f3a"
             ],
             [
              0.8888888888888888,
              "#fdca26"
             ],
             [
              1,
              "#f0f921"
             ]
            ],
            "type": "contour"
           }
          ],
          "contourcarpet": [
           {
            "colorbar": {
             "outlinewidth": 0,
             "ticks": ""
            },
            "type": "contourcarpet"
           }
          ],
          "heatmap": [
           {
            "colorbar": {
             "outlinewidth": 0,
             "ticks": ""
            },
            "colorscale": [
             [
              0,
              "#0d0887"
             ],
             [
              0.1111111111111111,
              "#46039f"
             ],
             [
              0.2222222222222222,
              "#7201a8"
             ],
             [
              0.3333333333333333,
              "#9c179e"
             ],
             [
              0.4444444444444444,
              "#bd3786"
             ],
             [
              0.5555555555555556,
              "#d8576b"
             ],
             [
              0.6666666666666666,
              "#ed7953"
             ],
             [
              0.7777777777777778,
              "#fb9f3a"
             ],
             [
              0.8888888888888888,
              "#fdca26"
             ],
             [
              1,
              "#f0f921"
             ]
            ],
            "type": "heatmap"
           }
          ],
          "heatmapgl": [
           {
            "colorbar": {
             "outlinewidth": 0,
             "ticks": ""
            },
            "colorscale": [
             [
              0,
              "#0d0887"
             ],
             [
              0.1111111111111111,
              "#46039f"
             ],
             [
              0.2222222222222222,
              "#7201a8"
             ],
             [
              0.3333333333333333,
              "#9c179e"
             ],
             [
              0.4444444444444444,
              "#bd3786"
             ],
             [
              0.5555555555555556,
              "#d8576b"
             ],
             [
              0.6666666666666666,
              "#ed7953"
             ],
             [
              0.7777777777777778,
              "#fb9f3a"
             ],
             [
              0.8888888888888888,
              "#fdca26"
             ],
             [
              1,
              "#f0f921"
             ]
            ],
            "type": "heatmapgl"
           }
          ],
          "histogram": [
           {
            "marker": {
             "pattern": {
              "fillmode": "overlay",
              "size": 10,
              "solidity": 0.2
             }
            },
            "type": "histogram"
           }
          ],
          "histogram2d": [
           {
            "colorbar": {
             "outlinewidth": 0,
             "ticks": ""
            },
            "colorscale": [
             [
              0,
              "#0d0887"
             ],
             [
              0.1111111111111111,
              "#46039f"
             ],
             [
              0.2222222222222222,
              "#7201a8"
             ],
             [
              0.3333333333333333,
              "#9c179e"
             ],
             [
              0.4444444444444444,
              "#bd3786"
             ],
             [
              0.5555555555555556,
              "#d8576b"
             ],
             [
              0.6666666666666666,
              "#ed7953"
             ],
             [
              0.7777777777777778,
              "#fb9f3a"
             ],
             [
              0.8888888888888888,
              "#fdca26"
             ],
             [
              1,
              "#f0f921"
             ]
            ],
            "type": "histogram2d"
           }
          ],
          "histogram2dcontour": [
           {
            "colorbar": {
             "outlinewidth": 0,
             "ticks": ""
            },
            "colorscale": [
             [
              0,
              "#0d0887"
             ],
             [
              0.1111111111111111,
              "#46039f"
             ],
             [
              0.2222222222222222,
              "#7201a8"
             ],
             [
              0.3333333333333333,
              "#9c179e"
             ],
             [
              0.4444444444444444,
              "#bd3786"
             ],
             [
              0.5555555555555556,
              "#d8576b"
             ],
             [
              0.6666666666666666,
              "#ed7953"
             ],
             [
              0.7777777777777778,
              "#fb9f3a"
             ],
             [
              0.8888888888888888,
              "#fdca26"
             ],
             [
              1,
              "#f0f921"
             ]
            ],
            "type": "histogram2dcontour"
           }
          ],
          "mesh3d": [
           {
            "colorbar": {
             "outlinewidth": 0,
             "ticks": ""
            },
            "type": "mesh3d"
           }
          ],
          "parcoords": [
           {
            "line": {
             "colorbar": {
              "outlinewidth": 0,
              "ticks": ""
             }
            },
            "type": "parcoords"
           }
          ],
          "pie": [
           {
            "automargin": true,
            "type": "pie"
           }
          ],
          "scatter": [
           {
            "fillpattern": {
             "fillmode": "overlay",
             "size": 10,
             "solidity": 0.2
            },
            "type": "scatter"
           }
          ],
          "scatter3d": [
           {
            "line": {
             "colorbar": {
              "outlinewidth": 0,
              "ticks": ""
             }
            },
            "marker": {
             "colorbar": {
              "outlinewidth": 0,
              "ticks": ""
             }
            },
            "type": "scatter3d"
           }
          ],
          "scattercarpet": [
           {
            "marker": {
             "colorbar": {
              "outlinewidth": 0,
              "ticks": ""
             }
            },
            "type": "scattercarpet"
           }
          ],
          "scattergeo": [
           {
            "marker": {
             "colorbar": {
              "outlinewidth": 0,
              "ticks": ""
             }
            },
            "type": "scattergeo"
           }
          ],
          "scattergl": [
           {
            "marker": {
             "colorbar": {
              "outlinewidth": 0,
              "ticks": ""
             }
            },
            "type": "scattergl"
           }
          ],
          "scattermapbox": [
           {
            "marker": {
             "colorbar": {
              "outlinewidth": 0,
              "ticks": ""
             }
            },
            "type": "scattermapbox"
           }
          ],
          "scatterpolar": [
           {
            "marker": {
             "colorbar": {
              "outlinewidth": 0,
              "ticks": ""
             }
            },
            "type": "scatterpolar"
           }
          ],
          "scatterpolargl": [
           {
            "marker": {
             "colorbar": {
              "outlinewidth": 0,
              "ticks": ""
             }
            },
            "type": "scatterpolargl"
           }
          ],
          "scatterternary": [
           {
            "marker": {
             "colorbar": {
              "outlinewidth": 0,
              "ticks": ""
             }
            },
            "type": "scatterternary"
           }
          ],
          "surface": [
           {
            "colorbar": {
             "outlinewidth": 0,
             "ticks": ""
            },
            "colorscale": [
             [
              0,
              "#0d0887"
             ],
             [
              0.1111111111111111,
              "#46039f"
             ],
             [
              0.2222222222222222,
              "#7201a8"
             ],
             [
              0.3333333333333333,
              "#9c179e"
             ],
             [
              0.4444444444444444,
              "#bd3786"
             ],
             [
              0.5555555555555556,
              "#d8576b"
             ],
             [
              0.6666666666666666,
              "#ed7953"
             ],
             [
              0.7777777777777778,
              "#fb9f3a"
             ],
             [
              0.8888888888888888,
              "#fdca26"
             ],
             [
              1,
              "#f0f921"
             ]
            ],
            "type": "surface"
           }
          ],
          "table": [
           {
            "cells": {
             "fill": {
              "color": "#EBF0F8"
             },
             "line": {
              "color": "white"
             }
            },
            "header": {
             "fill": {
              "color": "#C8D4E3"
             },
             "line": {
              "color": "white"
             }
            },
            "type": "table"
           }
          ]
         },
         "layout": {
          "annotationdefaults": {
           "arrowcolor": "#2a3f5f",
           "arrowhead": 0,
           "arrowwidth": 1
          },
          "autotypenumbers": "strict",
          "coloraxis": {
           "colorbar": {
            "outlinewidth": 0,
            "ticks": ""
           }
          },
          "colorscale": {
           "diverging": [
            [
             0,
             "#8e0152"
            ],
            [
             0.1,
             "#c51b7d"
            ],
            [
             0.2,
             "#de77ae"
            ],
            [
             0.3,
             "#f1b6da"
            ],
            [
             0.4,
             "#fde0ef"
            ],
            [
             0.5,
             "#f7f7f7"
            ],
            [
             0.6,
             "#e6f5d0"
            ],
            [
             0.7,
             "#b8e186"
            ],
            [
             0.8,
             "#7fbc41"
            ],
            [
             0.9,
             "#4d9221"
            ],
            [
             1,
             "#276419"
            ]
           ],
           "sequential": [
            [
             0,
             "#0d0887"
            ],
            [
             0.1111111111111111,
             "#46039f"
            ],
            [
             0.2222222222222222,
             "#7201a8"
            ],
            [
             0.3333333333333333,
             "#9c179e"
            ],
            [
             0.4444444444444444,
             "#bd3786"
            ],
            [
             0.5555555555555556,
             "#d8576b"
            ],
            [
             0.6666666666666666,
             "#ed7953"
            ],
            [
             0.7777777777777778,
             "#fb9f3a"
            ],
            [
             0.8888888888888888,
             "#fdca26"
            ],
            [
             1,
             "#f0f921"
            ]
           ],
           "sequentialminus": [
            [
             0,
             "#0d0887"
            ],
            [
             0.1111111111111111,
             "#46039f"
            ],
            [
             0.2222222222222222,
             "#7201a8"
            ],
            [
             0.3333333333333333,
             "#9c179e"
            ],
            [
             0.4444444444444444,
             "#bd3786"
            ],
            [
             0.5555555555555556,
             "#d8576b"
            ],
            [
             0.6666666666666666,
             "#ed7953"
            ],
            [
             0.7777777777777778,
             "#fb9f3a"
            ],
            [
             0.8888888888888888,
             "#fdca26"
            ],
            [
             1,
             "#f0f921"
            ]
           ]
          },
          "colorway": [
           "#636efa",
           "#EF553B",
           "#00cc96",
           "#ab63fa",
           "#FFA15A",
           "#19d3f3",
           "#FF6692",
           "#B6E880",
           "#FF97FF",
           "#FECB52"
          ],
          "font": {
           "color": "#2a3f5f"
          },
          "geo": {
           "bgcolor": "white",
           "lakecolor": "white",
           "landcolor": "white",
           "showlakes": true,
           "showland": true,
           "subunitcolor": "#C8D4E3"
          },
          "hoverlabel": {
           "align": "left"
          },
          "hovermode": "closest",
          "mapbox": {
           "style": "light"
          },
          "paper_bgcolor": "white",
          "plot_bgcolor": "white",
          "polar": {
           "angularaxis": {
            "gridcolor": "#EBF0F8",
            "linecolor": "#EBF0F8",
            "ticks": ""
           },
           "bgcolor": "white",
           "radialaxis": {
            "gridcolor": "#EBF0F8",
            "linecolor": "#EBF0F8",
            "ticks": ""
           }
          },
          "scene": {
           "xaxis": {
            "backgroundcolor": "white",
            "gridcolor": "#DFE8F3",
            "gridwidth": 2,
            "linecolor": "#EBF0F8",
            "showbackground": true,
            "ticks": "",
            "zerolinecolor": "#EBF0F8"
           },
           "yaxis": {
            "backgroundcolor": "white",
            "gridcolor": "#DFE8F3",
            "gridwidth": 2,
            "linecolor": "#EBF0F8",
            "showbackground": true,
            "ticks": "",
            "zerolinecolor": "#EBF0F8"
           },
           "zaxis": {
            "backgroundcolor": "white",
            "gridcolor": "#DFE8F3",
            "gridwidth": 2,
            "linecolor": "#EBF0F8",
            "showbackground": true,
            "ticks": "",
            "zerolinecolor": "#EBF0F8"
           }
          },
          "shapedefaults": {
           "line": {
            "color": "#2a3f5f"
           }
          },
          "ternary": {
           "aaxis": {
            "gridcolor": "#DFE8F3",
            "linecolor": "#A2B1C6",
            "ticks": ""
           },
           "baxis": {
            "gridcolor": "#DFE8F3",
            "linecolor": "#A2B1C6",
            "ticks": ""
           },
           "bgcolor": "white",
           "caxis": {
            "gridcolor": "#DFE8F3",
            "linecolor": "#A2B1C6",
            "ticks": ""
           }
          },
          "title": {
           "x": 0.05
          },
          "xaxis": {
           "automargin": true,
           "gridcolor": "#EBF0F8",
           "linecolor": "#EBF0F8",
           "ticks": "",
           "title": {
            "standoff": 15
           },
           "zerolinecolor": "#EBF0F8",
           "zerolinewidth": 2
          },
          "yaxis": {
           "automargin": true,
           "gridcolor": "#EBF0F8",
           "linecolor": "#EBF0F8",
           "ticks": "",
           "title": {
            "standoff": 15
           },
           "zerolinecolor": "#EBF0F8",
           "zerolinewidth": 2
          }
         }
        },
        "title": {
         "font": {
          "color": "black"
         },
         "text": "OEE Mensal - Março",
         "x": 0.5,
         "xanchor": "center"
        },
        "width": 1500,
        "xaxis": {
         "anchor": "y",
         "domain": [
          0,
          0.475
         ],
         "tickformat": "%d/%m"
        },
        "xaxis2": {
         "anchor": "y2",
         "domain": [
          0.525,
          1
         ],
         "tickformat": "%d/%m"
        },
        "xaxis3": {
         "anchor": "y3",
         "domain": [
          0,
          0.475
         ],
         "tickformat": "%d/%m"
        },
        "xaxis4": {
         "anchor": "y4",
         "domain": [
          0.525,
          1
         ],
         "tickformat": "%d/%m"
        },
        "yaxis": {
         "anchor": "x",
         "domain": [
          0.55,
          1
         ]
        },
        "yaxis2": {
         "anchor": "x2",
         "domain": [
          0.55,
          1
         ]
        },
        "yaxis3": {
         "anchor": "x3",
         "domain": [
          0,
          0.45
         ]
        },
        "yaxis4": {
         "anchor": "x4",
         "domain": [
          0,
          0.45
         ]
        }
       }
      }
     },
     "metadata": {},
     "output_type": "display_data"
    }
   ],
   "source": [
    "\n",
    "\n",
    "# Definir a localidade para português do Brasil\n",
    "locale.setlocale(locale.LC_TIME, 'pt_BR.utf8')\n",
    "\n",
    "# Supondo que df_oee já foi criado corretamente com as datas como índice e as unidades como colunas\n",
    "df_oee.index = pd.to_datetime(df_oee.index, format='%d/%m/%Y')\n",
    "\n",
    "# Filtrar para mostrar apenas os dados de 2024 e até o dia anterior ao atual\n",
    "data_atual = datetime.now().date()\n",
    "df_oee = df_oee[(df_oee.index.year == 2025) & (df_oee.index < pd.Timestamp(data_atual))]\n",
    "df_oee = df_oee[~df_oee.index.weekday.isin([5, 6])]\n",
    "\n",
    "\n",
    "# Extrair os meses do DataFrame em português\n",
    "df_oee['Month'] = df_oee.index.strftime('%B')  # Nome do mês em português\n",
    "\n",
    "# Filtrar os dados para um mês específico, como \"Setembro\"\n",
    "mes = 'março'  # Especifique o mês desejado em português (ex: 'janeiro', 'fevereiro', etc.)\n",
    "filtered_df = df_oee[df_oee['Month'].str.lower() == mes.lower()]\n",
    "\n",
    "# Certificar que os valores NaN são preenchidos para evitar quebras na linha\n",
    "filtered_df = filtered_df.fillna(0)\n",
    "\n",
    "# Caminho da imagem\n",
    "image_path = \"I:\\\\22 Gráficos e indicadores produção\\\\GRAMPOS\\\\Relatório\\\\AESA.png\"  # Substitua pelo caminho correto da sua imagem\n",
    "\n",
    "# Converter a imagem para base64\n",
    "with open(image_path, \"rb\") as image_file:\n",
    "    encoded_image = base64.b64encode(image_file.read()).decode()\n",
    "\n",
    "\n",
    "# Criar o gráfico com subplots 2x2\n",
    "fig = make_subplots(\n",
    "    rows=2, cols=2,\n",
    "    subplot_titles=(\"DOBRA FRIA\", \"DOBRA QUENTE\", \"KTL\", \"EMBALAGEM\"),\n",
    "    shared_xaxes=False,\n",
    "    shared_yaxes=False,\n",
    "    vertical_spacing=0.1,\n",
    "    horizontal_spacing=0.05\n",
    ")\n",
    "\n",
    "# Lista das unidades que serão plotadas\n",
    "units = ['DOBRA FRIA',\n",
    "          'DOBRA QUENTE', \n",
    "          'KTL', 'EMBALAGEM']\n",
    "\n",
    "# Definir a meta para cada unidade\n",
    "meta_values = {\n",
    "    'DOBRA FRIA': 80,\n",
    "    'DOBRA QUENTE': 80,\n",
    "    'KTL': 80,\n",
    "    'EMBALAGEM': 80\n",
    "}\n",
    "\n",
    "\n",
    "# Adicionar cada gráfico no subplot\n",
    "for i, unit in enumerate(units):\n",
    "    # Determinar a posição do gráfico\n",
    "    row = (i // 2) + 1\n",
    "    col = (i % 2) + 1\n",
    "    \n",
    "    # Calcular a média dos valores filtrados para a unidade\n",
    "    mean_value = filtered_df[unit].mean()\n",
    "    \n",
    "    # Adicionar a linha de produção com cor azul\n",
    "    show_legend_production = i == 0  # Mostrar legenda apenas para o primeiro gráfico\n",
    "    fig.add_trace(go.Scatter(\n",
    "        x=filtered_df.index,\n",
    "        y=filtered_df[unit],\n",
    "        mode='lines+markers',\n",
    "        name='OEE',\n",
    "        marker=dict(size=10),\n",
    "        line=dict(color='blue', width=2),  # Cor azul para todas as linhas\n",
    "        hovertemplate=\"<b>Data</b>: %{x}<br><b>OEE</b>: %{y}<extra></extra>\",\n",
    "        showlegend=show_legend_production\n",
    "    ), row=row, col=col)\n",
    "    \n",
    "    # Adicionar a linha de meta (laranja)\n",
    "    show_legend_meta = i == 0  # Mostrar legenda apenas para o primeiro gráfico\n",
    "    fig.add_trace(go.Scatter(\n",
    "        x=filtered_df.index,\n",
    "        y=[meta_values[unit]] * len(filtered_df),\n",
    "        mode='lines',\n",
    "        name='Meta',\n",
    "        line=dict(color='orange', width=2, dash='dash'),\n",
    "        showlegend=show_legend_meta\n",
    "    ), row=row, col=col)\n",
    "    \n",
    "    # Adicionar a linha da média (verde)\n",
    "    show_legend_mean = i == 0  # Mostrar legenda apenas para o primeiro gráfico\n",
    "    fig.add_trace(go.Scatter(\n",
    "        x=filtered_df.index,\n",
    "        y=[mean_value] * len(filtered_df),\n",
    "        mode='lines',\n",
    "        name='Média',\n",
    "        line=dict(color='green', width=2, dash='dot'),\n",
    "        showlegend=show_legend_mean\n",
    "    ), row=row, col=col)\n",
    "\n",
    "# Configurar o layout geral do gráfico\n",
    "fig.update_layout(\n",
    "    title={\n",
    "        'text': f'OEE Mensal - {mes.capitalize()}',\n",
    "        'x': 0.5,\n",
    "        'xanchor': 'center'\n",
    "    },\n",
    "    height=1000, width=1500,\n",
    "    template='plotly_white',\n",
    "    plot_bgcolor='rgba(0, 0, 0, 0)',\n",
    "    font=dict(size=15, color=\"black\"),\n",
    "    title_font_color=\"black\",\n",
    "    legend=dict(\n",
    "        title=\"Legenda\",\n",
    "        x=1.05,  # Posicionar a legenda à direita\n",
    "        y=1,     # Posicionar a legenda no topo\n",
    "        traceorder=\"normal\",\n",
    "        font=dict(size=12)\n",
    "    ),\n",
    "    images=[dict(\n",
    "        source=f\"data:image/png;base64,{encoded_image}\",\n",
    "        xref=\"paper\", yref=\"paper\",\n",
    "        x=0, y=1.1,\n",
    "        sizex=0.12, sizey=0.12, # tamanho do logo\n",
    "        xanchor=\"left\", yanchor=\"top\"\n",
    "    )]\n",
    ")\n",
    "\n",
    "# Ajustar o formato das datas no eixo x\n",
    "for i in range(1, 3):\n",
    "    for j in range(1, 3):\n",
    "        fig.update_xaxes(\n",
    "            tickformat=\"%d/%m\",  # Formato: dia/mês\n",
    "            row=i, col=j\n",
    "        )\n",
    "\n",
    "# Mostrar o gráfico\n",
    "fig.show()"
   ]
  },
  {
   "cell_type": "code",
   "execution_count": 51,
   "metadata": {},
   "outputs": [
    {
     "name": "stdout",
     "output_type": "stream",
     "text": [
      "PDF salvo em: I:\\22 Gráficos e indicadores produção\\GRAMPOS\\Relatório Mensal\\OEE_MENSAL.pdf\n"
     ]
    }
   ],
   "source": [
    "# Definir a localidade para português do Brasil\n",
    "locale.setlocale(locale.LC_TIME, 'pt_BR.utf8')\n",
    "\n",
    "# Caminho onde as imagens dos gráficos serão salvas\n",
    "output_dir = \"I:\\\\22 Gráficos e indicadores produção\\\\GRAMPOS\\\\Relatório Mensal\\\\\"\n",
    "\n",
    "# Caminho do logo\n",
    "logo_path = \"I:\\\\22 Gráficos e indicadores produção\\\\GRAMPOS\\\\Relatório\\\\AESA.png\"\n",
    "\n",
    "# Filtrar para mostrar apenas os dados de 2024 e até o dia anterior ao atual\n",
    "data_atual = datetime.now().date()\n",
    "df_oee = df_oee[(df_oee.index.year == 2025) & (df_oee.index < pd.Timestamp(data_atual))]\n",
    "df_oee = df_oee[~df_oee.index.weekday.isin([5, 6])]\n",
    "\n",
    "\n",
    "# Extrair os meses do DataFrame em português\n",
    "df_oee['Month'] = df_oee.index.strftime('%B')\n",
    "\n",
    "# Filtrar os dados para o mês desejado\n",
    "mes = 'março'  # Exemplo\n",
    "filtered_df = df_oee[df_oee['Month'].str.lower() == mes.lower()]\n",
    "\n",
    "# Listas das unidades por página\n",
    "pages = {\n",
    "    \"Página 1\": ['CORTE', 'APONTAMENTO', 'GRAVAÇÃO', 'LAMINAÇÃO'],\n",
    "    \"Página 2\": ['DOBRA FRIA', 'DOBRA QUENTE', 'KTL', 'EMBALAGEM'],\n",
    "    \"Página 3\": ['TORNO', 'TRAT. TÉRMICO', 'AJUSTAGEM', 'ACAB. EXTERNO']\n",
    "}\n",
    "\n",
    "# Definir as metas para cada unidade\n",
    "meta_values = {\n",
    "    'CORTE': 80, 'APONTAMENTO': 80, 'GRAVAÇÃO': 80, 'LAMINAÇÃO': 80,\n",
    "    'DOBRA FRIA': 80, 'DOBRA QUENTE': 80, 'KTL': 80, 'EMBALAGEM': 80,\n",
    "    'TORNO': 80, 'TRAT. TÉRMICO': 80, 'AJUSTAGEM': 80, 'ACAB. EXTERNO': 80\n",
    "}\n",
    "\n",
    "# Classe personalizada para incluir o rodapé\n",
    "class PDF(FPDF):\n",
    "    def footer(self):\n",
    "        # Posição a 10 mm do fim\n",
    "        self.set_y(-10)\n",
    "        self.set_font('Arial', 'I', 8)\n",
    "        # Texto do rodapé\n",
    "        generation_time = datetime.now().strftime('%d/%m/%Y %H:%M:%S')\n",
    "        self.cell(0, 10, f'Depto de Engenharia - by MES AESA - {generation_time}', 0, 0, 'C')\n",
    "\n",
    "# Criar o PDF com FPDF na orientação paisagem (L)\n",
    "pdf = PDF(orientation='L', unit='mm', format='A4')\n",
    "pdf.set_auto_page_break(auto=True, margin=15)\n",
    "\n",
    "# Margens ajustadas para centralizar os gráficos\n",
    "left_margin = 15\n",
    "right_margin = 15\n",
    "top_margin = 15\n",
    "\n",
    "# Criar os gráficos e salvar como imagens para cada unidade e página\n",
    "for page, units in pages.items():\n",
    "    for unit in units:\n",
    "        fig = make_subplots()\n",
    "        mean_value = filtered_df[unit].mean()\n",
    "        fig.add_trace(go.Scatter(\n",
    "            x=filtered_df.index,\n",
    "            y=filtered_df.get(unit, pd.Series([0] * len(filtered_df), index=filtered_df.index)),\n",
    "            mode='lines+markers',\n",
    "            name='OEE',\n",
    "            marker=dict(size=8),\n",
    "            line=dict(color='blue', width=2)\n",
    "        ))\n",
    "        fig.add_trace(go.Scatter(\n",
    "            x=filtered_df.index,\n",
    "            y=[meta_values[unit]] * len(filtered_df),\n",
    "            mode='lines',\n",
    "            name='Meta',\n",
    "            line=dict(color='orange', width=2, dash='dash')\n",
    "        ))\n",
    "        fig.add_trace(go.Scatter(\n",
    "            x=filtered_df.index,\n",
    "            y=[mean_value] * len(filtered_df),\n",
    "            mode='lines',\n",
    "            name='Média',\n",
    "            line=dict(color='green', width=2, dash='dot')\n",
    "        ))\n",
    "        fig.update_layout(\n",
    "            title={\n",
    "                'text': unit,\n",
    "                'x': 0.5,\n",
    "                'xanchor': 'center'\n",
    "            },\n",
    "            xaxis_title=None,\n",
    "            yaxis_title=None,\n",
    "            height=500, width=700,\n",
    "             font=dict(size=12, color=\"black\"),  # Definir a cor da fonte para preta\n",
    "            template='plotly_white',\n",
    "            legend=dict(\n",
    "                title=\"Legenda\",\n",
    "                x=1.05,\n",
    "                y=1,\n",
    "                traceorder=\"normal\"\n",
    "            )\n",
    "        )\n",
    "        # Atualizar o formato das datas no eixo x para o formato DD/MM\n",
    "        fig.update_xaxes(tickformat=\"%d/%m\")\n",
    "\n",
    "        # Salvar a imagem\n",
    "        fig.write_image(f\"{output_dir}{unit}_grafico.png\")\n",
    "\n",
    "for page, units in pages.items():\n",
    "    pdf.add_page()\n",
    "\n",
    "    # Adicionar o logo\n",
    "    pdf.image(logo_path, x=left_margin, y=8, w=33)\n",
    "\n",
    "    # Adicionar o título da página\n",
    "    pdf.set_font('Arial', 'B', 16)\n",
    "    pdf.cell(0, 5, f'OEE Mensal - {mes.capitalize()}', 0, 1, 'C')\n",
    "\n",
    "    # Adicionar gráficos ao PDF\n",
    "    pdf.set_font('Arial', '', 12)\n",
    "    x_offset = left_margin\n",
    "    y_offset = top_margin + 5  # Ajuste para descer o primeiro gráfico\n",
    "\n",
    "    for i, unit in enumerate(units):\n",
    "        # Determinar a posição do gráfico\n",
    "        if i % 2 == 0 and i != 0:\n",
    "            x_offset = left_margin\n",
    "            y_offset += 90  # Aumentar o espaçamento vertical para evitar sobreposição\n",
    "\n",
    "        # Adicionar o gráfico da unidade\n",
    "        pdf.image(f\"{output_dir}{unit}_grafico.png\", x=x_offset, y=y_offset, w=130)\n",
    "        x_offset += 130  # Mover para a próxima coluna com espaçamento ajustado\n",
    "\n",
    "# Salvar o PDF final\n",
    "pdf.output(f\"{output_dir}OEE_MENSAL.pdf\")\n",
    "print(f\"PDF salvo em: {output_dir}OEE_MENSAL.pdf\")\n",
    " "
   ]
  },
  {
   "cell_type": "code",
   "execution_count": 60,
   "metadata": {},
   "outputs": [
    {
     "data": {
      "application/vnd.plotly.v1+json": {
       "config": {
        "plotlyServerURL": "https://plot.ly"
       },
       "data": [
        {
         "hovertemplate": "<b>Data</b>: %{x}<br><b>Produção</b>: %{y}<extra></extra>",
         "line": {
          "width": 2
         },
         "marker": {
          "size": 8
         },
         "mode": "lines+markers",
         "name": "Produção",
         "type": "scatter",
         "x": [
          "2025-01-13T00:00:00",
          "2025-01-14T00:00:00",
          "2025-01-15T00:00:00",
          "2025-01-16T00:00:00",
          "2025-01-17T00:00:00",
          "2025-01-20T00:00:00",
          "2025-01-21T00:00:00",
          "2025-01-22T00:00:00",
          "2025-01-23T00:00:00",
          "2025-01-24T00:00:00",
          "2025-01-27T00:00:00",
          "2025-01-28T00:00:00",
          "2025-01-29T00:00:00",
          "2025-01-30T00:00:00",
          "2025-01-31T00:00:00",
          "2025-02-03T00:00:00",
          "2025-02-04T00:00:00",
          "2025-02-05T00:00:00",
          "2025-02-06T00:00:00",
          "2025-02-07T00:00:00",
          "2025-02-10T00:00:00",
          "2025-02-11T00:00:00",
          "2025-02-12T00:00:00",
          "2025-02-13T00:00:00",
          "2025-02-14T00:00:00",
          "2025-02-17T00:00:00",
          "2025-02-18T00:00:00",
          "2025-02-19T00:00:00",
          "2025-02-20T00:00:00",
          "2025-02-21T00:00:00",
          "2025-02-24T00:00:00",
          "2025-02-25T00:00:00",
          "2025-02-26T00:00:00",
          "2025-02-27T00:00:00",
          "2025-02-28T00:00:00",
          "2025-03-04T00:00:00",
          "2025-03-05T00:00:00",
          "2025-03-06T00:00:00",
          "2025-03-07T00:00:00",
          "2025-03-10T00:00:00",
          "2025-03-11T00:00:00",
          "2025-03-12T00:00:00",
          "2025-03-13T00:00:00",
          "2025-03-14T00:00:00",
          "2025-03-17T00:00:00",
          "2025-03-18T00:00:00"
         ],
         "y": [
          1416,
          1311,
          1501,
          1454,
          1488,
          1595,
          1666,
          1523,
          1762,
          1690,
          2567,
          2895,
          2305,
          2144,
          2141,
          2175,
          3517,
          2506,
          2302,
          2272,
          1960,
          2480,
          2261,
          2195,
          2379,
          1863,
          1984,
          1644,
          1595,
          1723,
          1924,
          2014,
          2050,
          1662,
          2027,
          1995,
          2059,
          2180,
          2635,
          1798,
          1852,
          1045,
          1779,
          1737,
          2277,
          1791
         ]
        },
        {
         "hoverinfo": "none",
         "line": {
          "color": "orange",
          "dash": "dash",
          "width": 2
         },
         "mode": "lines",
         "name": "Meta",
         "type": "scatter",
         "x": [
          "2025-01-13T00:00:00",
          "2025-01-14T00:00:00",
          "2025-01-15T00:00:00",
          "2025-01-16T00:00:00",
          "2025-01-17T00:00:00",
          "2025-01-20T00:00:00",
          "2025-01-21T00:00:00",
          "2025-01-22T00:00:00",
          "2025-01-23T00:00:00",
          "2025-01-24T00:00:00",
          "2025-01-27T00:00:00",
          "2025-01-28T00:00:00",
          "2025-01-29T00:00:00",
          "2025-01-30T00:00:00",
          "2025-01-31T00:00:00",
          "2025-02-03T00:00:00",
          "2025-02-04T00:00:00",
          "2025-02-05T00:00:00",
          "2025-02-06T00:00:00",
          "2025-02-07T00:00:00",
          "2025-02-10T00:00:00",
          "2025-02-11T00:00:00",
          "2025-02-12T00:00:00",
          "2025-02-13T00:00:00",
          "2025-02-14T00:00:00",
          "2025-02-17T00:00:00",
          "2025-02-18T00:00:00",
          "2025-02-19T00:00:00",
          "2025-02-20T00:00:00",
          "2025-02-21T00:00:00",
          "2025-02-24T00:00:00",
          "2025-02-25T00:00:00",
          "2025-02-26T00:00:00",
          "2025-02-27T00:00:00",
          "2025-02-28T00:00:00",
          "2025-03-04T00:00:00",
          "2025-03-05T00:00:00",
          "2025-03-06T00:00:00",
          "2025-03-07T00:00:00",
          "2025-03-10T00:00:00",
          "2025-03-11T00:00:00",
          "2025-03-12T00:00:00",
          "2025-03-13T00:00:00",
          "2025-03-14T00:00:00",
          "2025-03-17T00:00:00",
          "2025-03-18T00:00:00"
         ],
         "y": [
          8000,
          8000,
          8000,
          8000,
          8000,
          8000,
          8000,
          8000,
          8000,
          8000,
          8000,
          8000,
          8000,
          8000,
          8000,
          8000,
          8000,
          8000,
          8000,
          8000,
          8000,
          8000,
          8000,
          8000,
          8000,
          8000,
          8000,
          8000,
          8000,
          8000,
          8000,
          8000,
          8000,
          8000,
          8000,
          8000,
          8000,
          8000,
          8000,
          8000,
          8000,
          8000,
          8000,
          8000,
          8000,
          8000
         ]
        }
       ],
       "layout": {
        "font": {
         "color": "Black",
         "size": 15
        },
        "height": 500,
        "plot_bgcolor": "rgba(0, 0, 0, 0)",
        "template": {
         "data": {
          "bar": [
           {
            "error_x": {
             "color": "#2a3f5f"
            },
            "error_y": {
             "color": "#2a3f5f"
            },
            "marker": {
             "line": {
              "color": "white",
              "width": 0.5
             },
             "pattern": {
              "fillmode": "overlay",
              "size": 10,
              "solidity": 0.2
             }
            },
            "type": "bar"
           }
          ],
          "barpolar": [
           {
            "marker": {
             "line": {
              "color": "white",
              "width": 0.5
             },
             "pattern": {
              "fillmode": "overlay",
              "size": 10,
              "solidity": 0.2
             }
            },
            "type": "barpolar"
           }
          ],
          "carpet": [
           {
            "aaxis": {
             "endlinecolor": "#2a3f5f",
             "gridcolor": "#C8D4E3",
             "linecolor": "#C8D4E3",
             "minorgridcolor": "#C8D4E3",
             "startlinecolor": "#2a3f5f"
            },
            "baxis": {
             "endlinecolor": "#2a3f5f",
             "gridcolor": "#C8D4E3",
             "linecolor": "#C8D4E3",
             "minorgridcolor": "#C8D4E3",
             "startlinecolor": "#2a3f5f"
            },
            "type": "carpet"
           }
          ],
          "choropleth": [
           {
            "colorbar": {
             "outlinewidth": 0,
             "ticks": ""
            },
            "type": "choropleth"
           }
          ],
          "contour": [
           {
            "colorbar": {
             "outlinewidth": 0,
             "ticks": ""
            },
            "colorscale": [
             [
              0,
              "#0d0887"
             ],
             [
              0.1111111111111111,
              "#46039f"
             ],
             [
              0.2222222222222222,
              "#7201a8"
             ],
             [
              0.3333333333333333,
              "#9c179e"
             ],
             [
              0.4444444444444444,
              "#bd3786"
             ],
             [
              0.5555555555555556,
              "#d8576b"
             ],
             [
              0.6666666666666666,
              "#ed7953"
             ],
             [
              0.7777777777777778,
              "#fb9f3a"
             ],
             [
              0.8888888888888888,
              "#fdca26"
             ],
             [
              1,
              "#f0f921"
             ]
            ],
            "type": "contour"
           }
          ],
          "contourcarpet": [
           {
            "colorbar": {
             "outlinewidth": 0,
             "ticks": ""
            },
            "type": "contourcarpet"
           }
          ],
          "heatmap": [
           {
            "colorbar": {
             "outlinewidth": 0,
             "ticks": ""
            },
            "colorscale": [
             [
              0,
              "#0d0887"
             ],
             [
              0.1111111111111111,
              "#46039f"
             ],
             [
              0.2222222222222222,
              "#7201a8"
             ],
             [
              0.3333333333333333,
              "#9c179e"
             ],
             [
              0.4444444444444444,
              "#bd3786"
             ],
             [
              0.5555555555555556,
              "#d8576b"
             ],
             [
              0.6666666666666666,
              "#ed7953"
             ],
             [
              0.7777777777777778,
              "#fb9f3a"
             ],
             [
              0.8888888888888888,
              "#fdca26"
             ],
             [
              1,
              "#f0f921"
             ]
            ],
            "type": "heatmap"
           }
          ],
          "heatmapgl": [
           {
            "colorbar": {
             "outlinewidth": 0,
             "ticks": ""
            },
            "colorscale": [
             [
              0,
              "#0d0887"
             ],
             [
              0.1111111111111111,
              "#46039f"
             ],
             [
              0.2222222222222222,
              "#7201a8"
             ],
             [
              0.3333333333333333,
              "#9c179e"
             ],
             [
              0.4444444444444444,
              "#bd3786"
             ],
             [
              0.5555555555555556,
              "#d8576b"
             ],
             [
              0.6666666666666666,
              "#ed7953"
             ],
             [
              0.7777777777777778,
              "#fb9f3a"
             ],
             [
              0.8888888888888888,
              "#fdca26"
             ],
             [
              1,
              "#f0f921"
             ]
            ],
            "type": "heatmapgl"
           }
          ],
          "histogram": [
           {
            "marker": {
             "pattern": {
              "fillmode": "overlay",
              "size": 10,
              "solidity": 0.2
             }
            },
            "type": "histogram"
           }
          ],
          "histogram2d": [
           {
            "colorbar": {
             "outlinewidth": 0,
             "ticks": ""
            },
            "colorscale": [
             [
              0,
              "#0d0887"
             ],
             [
              0.1111111111111111,
              "#46039f"
             ],
             [
              0.2222222222222222,
              "#7201a8"
             ],
             [
              0.3333333333333333,
              "#9c179e"
             ],
             [
              0.4444444444444444,
              "#bd3786"
             ],
             [
              0.5555555555555556,
              "#d8576b"
             ],
             [
              0.6666666666666666,
              "#ed7953"
             ],
             [
              0.7777777777777778,
              "#fb9f3a"
             ],
             [
              0.8888888888888888,
              "#fdca26"
             ],
             [
              1,
              "#f0f921"
             ]
            ],
            "type": "histogram2d"
           }
          ],
          "histogram2dcontour": [
           {
            "colorbar": {
             "outlinewidth": 0,
             "ticks": ""
            },
            "colorscale": [
             [
              0,
              "#0d0887"
             ],
             [
              0.1111111111111111,
              "#46039f"
             ],
             [
              0.2222222222222222,
              "#7201a8"
             ],
             [
              0.3333333333333333,
              "#9c179e"
             ],
             [
              0.4444444444444444,
              "#bd3786"
             ],
             [
              0.5555555555555556,
              "#d8576b"
             ],
             [
              0.6666666666666666,
              "#ed7953"
             ],
             [
              0.7777777777777778,
              "#fb9f3a"
             ],
             [
              0.8888888888888888,
              "#fdca26"
             ],
             [
              1,
              "#f0f921"
             ]
            ],
            "type": "histogram2dcontour"
           }
          ],
          "mesh3d": [
           {
            "colorbar": {
             "outlinewidth": 0,
             "ticks": ""
            },
            "type": "mesh3d"
           }
          ],
          "parcoords": [
           {
            "line": {
             "colorbar": {
              "outlinewidth": 0,
              "ticks": ""
             }
            },
            "type": "parcoords"
           }
          ],
          "pie": [
           {
            "automargin": true,
            "type": "pie"
           }
          ],
          "scatter": [
           {
            "fillpattern": {
             "fillmode": "overlay",
             "size": 10,
             "solidity": 0.2
            },
            "type": "scatter"
           }
          ],
          "scatter3d": [
           {
            "line": {
             "colorbar": {
              "outlinewidth": 0,
              "ticks": ""
             }
            },
            "marker": {
             "colorbar": {
              "outlinewidth": 0,
              "ticks": ""
             }
            },
            "type": "scatter3d"
           }
          ],
          "scattercarpet": [
           {
            "marker": {
             "colorbar": {
              "outlinewidth": 0,
              "ticks": ""
             }
            },
            "type": "scattercarpet"
           }
          ],
          "scattergeo": [
           {
            "marker": {
             "colorbar": {
              "outlinewidth": 0,
              "ticks": ""
             }
            },
            "type": "scattergeo"
           }
          ],
          "scattergl": [
           {
            "marker": {
             "colorbar": {
              "outlinewidth": 0,
              "ticks": ""
             }
            },
            "type": "scattergl"
           }
          ],
          "scattermapbox": [
           {
            "marker": {
             "colorbar": {
              "outlinewidth": 0,
              "ticks": ""
             }
            },
            "type": "scattermapbox"
           }
          ],
          "scatterpolar": [
           {
            "marker": {
             "colorbar": {
              "outlinewidth": 0,
              "ticks": ""
             }
            },
            "type": "scatterpolar"
           }
          ],
          "scatterpolargl": [
           {
            "marker": {
             "colorbar": {
              "outlinewidth": 0,
              "ticks": ""
             }
            },
            "type": "scatterpolargl"
           }
          ],
          "scatterternary": [
           {
            "marker": {
             "colorbar": {
              "outlinewidth": 0,
              "ticks": ""
             }
            },
            "type": "scatterternary"
           }
          ],
          "surface": [
           {
            "colorbar": {
             "outlinewidth": 0,
             "ticks": ""
            },
            "colorscale": [
             [
              0,
              "#0d0887"
             ],
             [
              0.1111111111111111,
              "#46039f"
             ],
             [
              0.2222222222222222,
              "#7201a8"
             ],
             [
              0.3333333333333333,
              "#9c179e"
             ],
             [
              0.4444444444444444,
              "#bd3786"
             ],
             [
              0.5555555555555556,
              "#d8576b"
             ],
             [
              0.6666666666666666,
              "#ed7953"
             ],
             [
              0.7777777777777778,
              "#fb9f3a"
             ],
             [
              0.8888888888888888,
              "#fdca26"
             ],
             [
              1,
              "#f0f921"
             ]
            ],
            "type": "surface"
           }
          ],
          "table": [
           {
            "cells": {
             "fill": {
              "color": "#EBF0F8"
             },
             "line": {
              "color": "white"
             }
            },
            "header": {
             "fill": {
              "color": "#C8D4E3"
             },
             "line": {
              "color": "white"
             }
            },
            "type": "table"
           }
          ]
         },
         "layout": {
          "annotationdefaults": {
           "arrowcolor": "#2a3f5f",
           "arrowhead": 0,
           "arrowwidth": 1
          },
          "autotypenumbers": "strict",
          "coloraxis": {
           "colorbar": {
            "outlinewidth": 0,
            "ticks": ""
           }
          },
          "colorscale": {
           "diverging": [
            [
             0,
             "#8e0152"
            ],
            [
             0.1,
             "#c51b7d"
            ],
            [
             0.2,
             "#de77ae"
            ],
            [
             0.3,
             "#f1b6da"
            ],
            [
             0.4,
             "#fde0ef"
            ],
            [
             0.5,
             "#f7f7f7"
            ],
            [
             0.6,
             "#e6f5d0"
            ],
            [
             0.7,
             "#b8e186"
            ],
            [
             0.8,
             "#7fbc41"
            ],
            [
             0.9,
             "#4d9221"
            ],
            [
             1,
             "#276419"
            ]
           ],
           "sequential": [
            [
             0,
             "#0d0887"
            ],
            [
             0.1111111111111111,
             "#46039f"
            ],
            [
             0.2222222222222222,
             "#7201a8"
            ],
            [
             0.3333333333333333,
             "#9c179e"
            ],
            [
             0.4444444444444444,
             "#bd3786"
            ],
            [
             0.5555555555555556,
             "#d8576b"
            ],
            [
             0.6666666666666666,
             "#ed7953"
            ],
            [
             0.7777777777777778,
             "#fb9f3a"
            ],
            [
             0.8888888888888888,
             "#fdca26"
            ],
            [
             1,
             "#f0f921"
            ]
           ],
           "sequentialminus": [
            [
             0,
             "#0d0887"
            ],
            [
             0.1111111111111111,
             "#46039f"
            ],
            [
             0.2222222222222222,
             "#7201a8"
            ],
            [
             0.3333333333333333,
             "#9c179e"
            ],
            [
             0.4444444444444444,
             "#bd3786"
            ],
            [
             0.5555555555555556,
             "#d8576b"
            ],
            [
             0.6666666666666666,
             "#ed7953"
            ],
            [
             0.7777777777777778,
             "#fb9f3a"
            ],
            [
             0.8888888888888888,
             "#fdca26"
            ],
            [
             1,
             "#f0f921"
            ]
           ]
          },
          "colorway": [
           "#636efa",
           "#EF553B",
           "#00cc96",
           "#ab63fa",
           "#FFA15A",
           "#19d3f3",
           "#FF6692",
           "#B6E880",
           "#FF97FF",
           "#FECB52"
          ],
          "font": {
           "color": "#2a3f5f"
          },
          "geo": {
           "bgcolor": "white",
           "lakecolor": "white",
           "landcolor": "white",
           "showlakes": true,
           "showland": true,
           "subunitcolor": "#C8D4E3"
          },
          "hoverlabel": {
           "align": "left"
          },
          "hovermode": "closest",
          "mapbox": {
           "style": "light"
          },
          "paper_bgcolor": "white",
          "plot_bgcolor": "white",
          "polar": {
           "angularaxis": {
            "gridcolor": "#EBF0F8",
            "linecolor": "#EBF0F8",
            "ticks": ""
           },
           "bgcolor": "white",
           "radialaxis": {
            "gridcolor": "#EBF0F8",
            "linecolor": "#EBF0F8",
            "ticks": ""
           }
          },
          "scene": {
           "xaxis": {
            "backgroundcolor": "white",
            "gridcolor": "#DFE8F3",
            "gridwidth": 2,
            "linecolor": "#EBF0F8",
            "showbackground": true,
            "ticks": "",
            "zerolinecolor": "#EBF0F8"
           },
           "yaxis": {
            "backgroundcolor": "white",
            "gridcolor": "#DFE8F3",
            "gridwidth": 2,
            "linecolor": "#EBF0F8",
            "showbackground": true,
            "ticks": "",
            "zerolinecolor": "#EBF0F8"
           },
           "zaxis": {
            "backgroundcolor": "white",
            "gridcolor": "#DFE8F3",
            "gridwidth": 2,
            "linecolor": "#EBF0F8",
            "showbackground": true,
            "ticks": "",
            "zerolinecolor": "#EBF0F8"
           }
          },
          "shapedefaults": {
           "line": {
            "color": "#2a3f5f"
           }
          },
          "ternary": {
           "aaxis": {
            "gridcolor": "#DFE8F3",
            "linecolor": "#A2B1C6",
            "ticks": ""
           },
           "baxis": {
            "gridcolor": "#DFE8F3",
            "linecolor": "#A2B1C6",
            "ticks": ""
           },
           "bgcolor": "white",
           "caxis": {
            "gridcolor": "#DFE8F3",
            "linecolor": "#A2B1C6",
            "ticks": ""
           }
          },
          "title": {
           "x": 0.05
          },
          "xaxis": {
           "automargin": true,
           "gridcolor": "#EBF0F8",
           "linecolor": "#EBF0F8",
           "ticks": "",
           "title": {
            "standoff": 15
           },
           "zerolinecolor": "#EBF0F8",
           "zerolinewidth": 2
          },
          "yaxis": {
           "automargin": true,
           "gridcolor": "#EBF0F8",
           "linecolor": "#EBF0F8",
           "ticks": "",
           "title": {
            "standoff": 15
           },
           "zerolinecolor": "#EBF0F8",
           "zerolinewidth": 2
          }
         }
        },
        "title": {
         "font": {
          "color": "black"
         },
         "text": "DOBRA QUENTE",
         "x": 0.5,
         "xanchor": "center"
        },
        "updatemenus": [
         {
          "buttons": [
           {
            "args": [
             {
              "x": [
               [
                "2025-01-13T00:00:00",
                "2025-01-14T00:00:00",
                "2025-01-15T00:00:00",
                "2025-01-16T00:00:00",
                "2025-01-17T00:00:00",
                "2025-01-20T00:00:00",
                "2025-01-21T00:00:00",
                "2025-01-22T00:00:00",
                "2025-01-23T00:00:00",
                "2025-01-24T00:00:00",
                "2025-01-27T00:00:00",
                "2025-01-28T00:00:00",
                "2025-01-29T00:00:00",
                "2025-01-30T00:00:00",
                "2025-01-31T00:00:00",
                "2025-02-03T00:00:00",
                "2025-02-04T00:00:00",
                "2025-02-05T00:00:00",
                "2025-02-06T00:00:00",
                "2025-02-07T00:00:00",
                "2025-02-10T00:00:00",
                "2025-02-11T00:00:00",
                "2025-02-12T00:00:00",
                "2025-02-13T00:00:00",
                "2025-02-14T00:00:00",
                "2025-02-17T00:00:00",
                "2025-02-18T00:00:00",
                "2025-02-19T00:00:00",
                "2025-02-20T00:00:00",
                "2025-02-21T00:00:00",
                "2025-02-24T00:00:00",
                "2025-02-25T00:00:00",
                "2025-02-26T00:00:00",
                "2025-02-27T00:00:00",
                "2025-02-28T00:00:00",
                "2025-03-04T00:00:00",
                "2025-03-05T00:00:00",
                "2025-03-06T00:00:00",
                "2025-03-07T00:00:00",
                "2025-03-10T00:00:00",
                "2025-03-11T00:00:00",
                "2025-03-12T00:00:00",
                "2025-03-13T00:00:00",
                "2025-03-14T00:00:00",
                "2025-03-17T00:00:00",
                "2025-03-18T00:00:00"
               ],
               [
                "2025-01-13T00:00:00",
                "2025-01-14T00:00:00",
                "2025-01-15T00:00:00",
                "2025-01-16T00:00:00",
                "2025-01-17T00:00:00",
                "2025-01-20T00:00:00",
                "2025-01-21T00:00:00",
                "2025-01-22T00:00:00",
                "2025-01-23T00:00:00",
                "2025-01-24T00:00:00",
                "2025-01-27T00:00:00",
                "2025-01-28T00:00:00",
                "2025-01-29T00:00:00",
                "2025-01-30T00:00:00",
                "2025-01-31T00:00:00",
                "2025-02-03T00:00:00",
                "2025-02-04T00:00:00",
                "2025-02-05T00:00:00",
                "2025-02-06T00:00:00",
                "2025-02-07T00:00:00",
                "2025-02-10T00:00:00",
                "2025-02-11T00:00:00",
                "2025-02-12T00:00:00",
                "2025-02-13T00:00:00",
                "2025-02-14T00:00:00",
                "2025-02-17T00:00:00",
                "2025-02-18T00:00:00",
                "2025-02-19T00:00:00",
                "2025-02-20T00:00:00",
                "2025-02-21T00:00:00",
                "2025-02-24T00:00:00",
                "2025-02-25T00:00:00",
                "2025-02-26T00:00:00",
                "2025-02-27T00:00:00",
                "2025-02-28T00:00:00",
                "2025-03-04T00:00:00",
                "2025-03-05T00:00:00",
                "2025-03-06T00:00:00",
                "2025-03-07T00:00:00",
                "2025-03-10T00:00:00",
                "2025-03-11T00:00:00",
                "2025-03-12T00:00:00",
                "2025-03-13T00:00:00",
                "2025-03-14T00:00:00",
                "2025-03-17T00:00:00",
                "2025-03-18T00:00:00"
               ]
              ],
              "y": [
               [
                1416,
                1311,
                1501,
                1454,
                1488,
                1595,
                1666,
                1523,
                1762,
                1690,
                2567,
                2895,
                2305,
                2144,
                2141,
                2175,
                3517,
                2506,
                2302,
                2272,
                1960,
                2480,
                2261,
                2195,
                2379,
                1863,
                1984,
                1644,
                1595,
                1723,
                1924,
                2014,
                2050,
                1662,
                2027,
                1995,
                2059,
                2180,
                2635,
                1798,
                1852,
                1045,
                1779,
                1737,
                2277,
                1791
               ],
               [
                8000,
                8000,
                8000,
                8000,
                8000,
                8000,
                8000,
                8000,
                8000,
                8000,
                8000,
                8000,
                8000,
                8000,
                8000,
                8000,
                8000,
                8000,
                8000,
                8000,
                8000,
                8000,
                8000,
                8000,
                8000,
                8000,
                8000,
                8000,
                8000,
                8000,
                8000,
                8000,
                8000,
                8000,
                8000,
                8000,
                8000,
                8000,
                8000,
                8000,
                8000,
                8000,
                8000,
                8000,
                8000,
                8000
               ]
              ]
             },
             {
              "annotations": []
             }
            ],
            "label": "Todos os meses",
            "method": "update"
           },
           {
            "args": [
             {
              "x": [
               [
                "2025-01-13T00:00:00",
                "2025-01-14T00:00:00",
                "2025-01-15T00:00:00",
                "2025-01-16T00:00:00",
                "2025-01-17T00:00:00",
                "2025-01-20T00:00:00",
                "2025-01-21T00:00:00",
                "2025-01-22T00:00:00",
                "2025-01-23T00:00:00",
                "2025-01-24T00:00:00",
                "2025-01-27T00:00:00",
                "2025-01-28T00:00:00",
                "2025-01-29T00:00:00",
                "2025-01-30T00:00:00",
                "2025-01-31T00:00:00"
               ],
               [
                "2025-01-13T00:00:00",
                "2025-01-14T00:00:00",
                "2025-01-15T00:00:00",
                "2025-01-16T00:00:00",
                "2025-01-17T00:00:00",
                "2025-01-20T00:00:00",
                "2025-01-21T00:00:00",
                "2025-01-22T00:00:00",
                "2025-01-23T00:00:00",
                "2025-01-24T00:00:00",
                "2025-01-27T00:00:00",
                "2025-01-28T00:00:00",
                "2025-01-29T00:00:00",
                "2025-01-30T00:00:00",
                "2025-01-31T00:00:00"
               ]
              ],
              "y": [
               [
                4365,
                4303,
                1625,
                2595,
                3935,
                7097,
                2944,
                4515,
                6872,
                3614,
                5414,
                4441,
                4660,
                9076,
                6940
               ],
               [
                8000,
                8000,
                8000,
                8000,
                8000,
                8000,
                8000,
                8000,
                8000,
                8000,
                8000,
                8000,
                8000,
                8000,
                8000
               ]
              ]
             },
             {
              "annotations": []
             }
            ],
            "label": "janeiro",
            "method": "update"
           },
           {
            "args": [
             {
              "x": [
               [
                "2025-02-03T00:00:00",
                "2025-02-04T00:00:00",
                "2025-02-05T00:00:00",
                "2025-02-06T00:00:00",
                "2025-02-07T00:00:00",
                "2025-02-10T00:00:00",
                "2025-02-11T00:00:00",
                "2025-02-12T00:00:00",
                "2025-02-13T00:00:00",
                "2025-02-14T00:00:00",
                "2025-02-17T00:00:00",
                "2025-02-18T00:00:00",
                "2025-02-19T00:00:00",
                "2025-02-20T00:00:00",
                "2025-02-21T00:00:00",
                "2025-02-24T00:00:00",
                "2025-02-25T00:00:00",
                "2025-02-26T00:00:00",
                "2025-02-27T00:00:00",
                "2025-02-28T00:00:00"
               ],
               [
                "2025-02-03T00:00:00",
                "2025-02-04T00:00:00",
                "2025-02-05T00:00:00",
                "2025-02-06T00:00:00",
                "2025-02-07T00:00:00",
                "2025-02-10T00:00:00",
                "2025-02-11T00:00:00",
                "2025-02-12T00:00:00",
                "2025-02-13T00:00:00",
                "2025-02-14T00:00:00",
                "2025-02-17T00:00:00",
                "2025-02-18T00:00:00",
                "2025-02-19T00:00:00",
                "2025-02-20T00:00:00",
                "2025-02-21T00:00:00",
                "2025-02-24T00:00:00",
                "2025-02-25T00:00:00",
                "2025-02-26T00:00:00",
                "2025-02-27T00:00:00",
                "2025-02-28T00:00:00"
               ]
              ],
              "y": [
               [
                4197,
                4413,
                4499,
                4392,
                6307,
                3399,
                4720,
                4281,
                4606,
                5541,
                5562,
                1549,
                3304,
                5123,
                5479,
                4352,
                4656,
                1548,
                3923,
                3750
               ],
               [
                8000,
                8000,
                8000,
                8000,
                8000,
                8000,
                8000,
                8000,
                8000,
                8000,
                8000,
                8000,
                8000,
                8000,
                8000,
                8000,
                8000,
                8000,
                8000,
                8000
               ]
              ]
             },
             {
              "annotations": []
             }
            ],
            "label": "fevereiro",
            "method": "update"
           },
           {
            "args": [
             {
              "x": [
               [
                "2025-03-04T00:00:00",
                "2025-03-05T00:00:00",
                "2025-03-06T00:00:00",
                "2025-03-07T00:00:00",
                "2025-03-10T00:00:00",
                "2025-03-11T00:00:00",
                "2025-03-12T00:00:00",
                "2025-03-13T00:00:00",
                "2025-03-14T00:00:00",
                "2025-03-17T00:00:00",
                "2025-03-18T00:00:00"
               ],
               [
                "2025-03-04T00:00:00",
                "2025-03-05T00:00:00",
                "2025-03-06T00:00:00",
                "2025-03-07T00:00:00",
                "2025-03-10T00:00:00",
                "2025-03-11T00:00:00",
                "2025-03-12T00:00:00",
                "2025-03-13T00:00:00",
                "2025-03-14T00:00:00",
                "2025-03-17T00:00:00",
                "2025-03-18T00:00:00"
               ]
              ],
              "y": [
               [
                6122,
                3633,
                6707,
                3237,
                1248,
                4842,
                4608,
                5343,
                5473,
                4835,
                3703
               ],
               [
                8000,
                8000,
                8000,
                8000,
                8000,
                8000,
                8000,
                8000,
                8000,
                8000,
                8000
               ]
              ]
             },
             {
              "annotations": []
             }
            ],
            "label": "marÃ§o",
            "method": "update"
           }
          ],
          "direction": "down",
          "pad": {
           "r": 10,
           "t": 10
          },
          "showactive": true,
          "x": 0.25,
          "xanchor": "left",
          "y": 1.25,
          "yanchor": "top"
         }
        ],
        "width": 1000,
        "xaxis": {
         "anchor": "y",
         "domain": [
          0,
          1
         ],
         "gridcolor": "lightgrey",
         "showgrid": true,
         "tickformat": "%d/%m/%y"
        },
        "yaxis": {
         "anchor": "x",
         "domain": [
          0,
          1
         ],
         "gridcolor": "lightgrey",
         "showgrid": true
        }
       }
      }
     },
     "metadata": {},
     "output_type": "display_data"
    }
   ],
   "source": [
    "df_pivot.index = pd.to_datetime(df_pivot.index, format='%d/%m/%Y')\n",
    "\n",
    "# Filtrar para mostrar apenas os dados de 2024\n",
    "df_pivot = df_pivot[df_pivot.index.year == 2025]\n",
    "\n",
    "# Filtrar para mostrar apenas os dados de 2024 e até o dia anterior ao atual\n",
    "data_atual = datetime.now().date()\n",
    "df_pivot = df_pivot[(df_pivot.index.year == 2025) & (df_pivot.index < pd.Timestamp(data_atual))]\n",
    "df_pivot = df_pivot[~df_pivot.index.weekday.isin([5, 6])]\n",
    "\n",
    "\n",
    "# Extrair os meses do DataFrame para criar os filtros\n",
    "df_pivot['Month'] = df_pivot.index.strftime('%B')  # Adiciona uma coluna com o nome do mês\n",
    "months = df_pivot['Month'].unique()\n",
    "\n",
    "# Criar o gráfico de linha com marcadores para a coluna 'CORTE'\n",
    "fig = make_subplots(rows=1, cols=1, shared_xaxes=True, vertical_spacing=0.05)\n",
    "\n",
    "# Adicionar a linha com os pontos de produção para 'CORTE' (inicialmente mostrando todos os meses de 2024)\n",
    "fig.add_trace(go.Scatter(\n",
    "    x=df_pivot.index, \n",
    "    y=df_pivot['DOBRA QUENTE'],\n",
    "    mode='lines+markers',\n",
    "    name='Produção',  # Nome da linha na legenda\n",
    "    marker=dict(size=8),\n",
    "    line=dict(width=2),\n",
    "    hovertemplate=\"<b>Data</b>: %{x}<br><b>Produção</b>: %{y}<extra></extra>\"\n",
    "))\n",
    "\n",
    "# Adicionar a linha de referência inicial (meta) - exemplo com valor 8000\n",
    "fig.add_trace(go.Scatter(\n",
    "    x=df_pivot.index, \n",
    "    y=[8000] * len(df_pivot), \n",
    "    mode='lines',\n",
    "    name='Meta',  # Nome da linha de meta na legenda\n",
    "    line=dict(color='orange', width=2, dash='dash'),\n",
    "    hoverinfo='none'\n",
    "))\n",
    "\n",
    "# Configurar o layout com fundo transparente, linhas de grade, e outras customizações\n",
    "fig.update_layout(\n",
    "    title={\n",
    "        'text': 'DOBRA QUENTE',  # Título fixo do gráfico\n",
    "        'x': 0.5,  # Centralizar o título horizontalmente\n",
    "        'xanchor': 'center'\n",
    "    },\n",
    "    xaxis=dict(\n",
    "        tickformat='%d/%m/%y',  # Formato para mostrar o ano abreviado no eixo X\n",
    "        showgrid=True,\n",
    "        gridcolor='lightgrey'\n",
    "    ),\n",
    "    yaxis=dict(\n",
    "        showgrid=True,\n",
    "        gridcolor='lightgrey'\n",
    "    ),\n",
    "    template='plotly_white',\n",
    "    plot_bgcolor='rgba(0, 0, 0, 0)',  # Fundo transparente\n",
    "    height=500, width=1000,\n",
    "    font_color=\"blue\",\n",
    "    title_font_color=\"black\",\n",
    "    font=dict(size=15, color=\"Black\")\n",
    ")\n",
    "\n",
    "# Criar os filtros dinâmicos para o mês\n",
    "dropdown_buttons_month = [\n",
    "    dict(label=\"Todos os meses\",\n",
    "         method=\"update\",\n",
    "         args=[{\"x\": [df_pivot.index, df_pivot.index], \n",
    "                \"y\": [df_pivot['DOBRA QUENTE'], [8000] * len(df_pivot)]},\n",
    "               {\"annotations\": []}]),  # Remove a atualização do título\n",
    "]\n",
    "\n",
    "# Adicionar uma opção no dropdown para cada mês\n",
    "for month in months:\n",
    "    filtered_df = df_pivot[df_pivot['Month'] == month]  # Filtra o DataFrame pelo mês atual\n",
    "    dropdown_buttons_month.append(\n",
    "        dict(label=month,  # Nome do mês que aparecerá no menu\n",
    "             method=\"update\",\n",
    "             args=[{\"x\": [filtered_df.index, filtered_df.index], \n",
    "                    \"y\": [filtered_df['CORTE'], [8000] * len(filtered_df)]},\n",
    "                   {\"annotations\": []}])  # Remove a atualização do título\n",
    "    )\n",
    "\n",
    "# Adicionar os botões ao layout e posicionar na mesma linha do título\n",
    "fig.update_layout(\n",
    "    updatemenus=[\n",
    "        dict(\n",
    "            buttons=dropdown_buttons_month,\n",
    "            direction=\"down\",  # Direção do menu (dropdown)\n",
    "            pad={\"r\": 10, \"t\": 10},  # Espaçamento do menu em relação ao gráfico\n",
    "            showactive=True,\n",
    "            x=0.25,  # Ajusta a posição horizontal do menu\n",
    "            xanchor='left',\n",
    "            y=1.25,  # Ajusta a posição vertical para alinhar com o título\n",
    "            yanchor='top'\n",
    "        )\n",
    "    ]\n",
    ")\n",
    "\n",
    "# Mostrar o gráfico\n",
    "fig.show()"
   ]
  },
  {
   "cell_type": "code",
   "execution_count": 53,
   "metadata": {},
   "outputs": [
    {
     "data": {
      "application/vnd.plotly.v1+json": {
       "config": {
        "plotlyServerURL": "https://plot.ly"
       },
       "data": [
        {
         "hovertemplate": "<b>Data</b>: %{x}<br><b>Produção</b>: %{y}<extra></extra>",
         "line": {
          "color": "blue",
          "width": 2
         },
         "marker": {
          "size": 10
         },
         "mode": "lines+markers",
         "name": "Produção",
         "showlegend": true,
         "type": "scatter",
         "x": [],
         "xaxis": "x",
         "y": [],
         "yaxis": "y"
        },
        {
         "line": {
          "color": "orange",
          "dash": "dash",
          "width": 2
         },
         "mode": "lines",
         "name": "Meta",
         "showlegend": true,
         "type": "scatter",
         "x": [],
         "xaxis": "x",
         "y": [],
         "yaxis": "y"
        },
        {
         "line": {
          "color": "green",
          "dash": "dot",
          "width": 2
         },
         "mode": "lines",
         "name": "Média",
         "showlegend": true,
         "type": "scatter",
         "x": [],
         "xaxis": "x",
         "y": [],
         "yaxis": "y"
        },
        {
         "hovertemplate": "<b>Data</b>: %{x}<br><b>Produção</b>: %{y}<extra></extra>",
         "line": {
          "color": "blue",
          "width": 2
         },
         "marker": {
          "size": 10
         },
         "mode": "lines+markers",
         "name": "Produção",
         "showlegend": false,
         "type": "scatter",
         "x": [],
         "xaxis": "x2",
         "y": [],
         "yaxis": "y2"
        },
        {
         "line": {
          "color": "orange",
          "dash": "dash",
          "width": 2
         },
         "mode": "lines",
         "name": "Meta",
         "showlegend": false,
         "type": "scatter",
         "x": [],
         "xaxis": "x2",
         "y": [],
         "yaxis": "y2"
        },
        {
         "line": {
          "color": "green",
          "dash": "dot",
          "width": 2
         },
         "mode": "lines",
         "name": "Média",
         "showlegend": false,
         "type": "scatter",
         "x": [],
         "xaxis": "x2",
         "y": [],
         "yaxis": "y2"
        },
        {
         "hovertemplate": "<b>Data</b>: %{x}<br><b>Produção</b>: %{y}<extra></extra>",
         "line": {
          "color": "blue",
          "width": 2
         },
         "marker": {
          "size": 10
         },
         "mode": "lines+markers",
         "name": "Produção",
         "showlegend": false,
         "type": "scatter",
         "x": [],
         "xaxis": "x3",
         "y": [],
         "yaxis": "y3"
        },
        {
         "line": {
          "color": "orange",
          "dash": "dash",
          "width": 2
         },
         "mode": "lines",
         "name": "Meta",
         "showlegend": false,
         "type": "scatter",
         "x": [],
         "xaxis": "x3",
         "y": [],
         "yaxis": "y3"
        },
        {
         "line": {
          "color": "green",
          "dash": "dot",
          "width": 2
         },
         "mode": "lines",
         "name": "Média",
         "showlegend": false,
         "type": "scatter",
         "x": [],
         "xaxis": "x3",
         "y": [],
         "yaxis": "y3"
        },
        {
         "hovertemplate": "<b>Data</b>: %{x}<br><b>Produção</b>: %{y}<extra></extra>",
         "line": {
          "color": "blue",
          "width": 2
         },
         "marker": {
          "size": 10
         },
         "mode": "lines+markers",
         "name": "Produção",
         "showlegend": false,
         "type": "scatter",
         "x": [],
         "xaxis": "x4",
         "y": [],
         "yaxis": "y4"
        },
        {
         "line": {
          "color": "orange",
          "dash": "dash",
          "width": 2
         },
         "mode": "lines",
         "name": "Meta",
         "showlegend": false,
         "type": "scatter",
         "x": [],
         "xaxis": "x4",
         "y": [],
         "yaxis": "y4"
        },
        {
         "line": {
          "color": "green",
          "dash": "dot",
          "width": 2
         },
         "mode": "lines",
         "name": "Média",
         "showlegend": false,
         "type": "scatter",
         "x": [],
         "xaxis": "x4",
         "y": [],
         "yaxis": "y4"
        }
       ],
       "layout": {
        "annotations": [
         {
          "font": {
           "size": 16
          },
          "showarrow": false,
          "text": "CORTE",
          "x": 0.2375,
          "xanchor": "center",
          "xref": "paper",
          "y": 1,
          "yanchor": "bottom",
          "yref": "paper"
         },
         {
          "font": {
           "size": 16
          },
          "showarrow": false,
          "text": "APONTAMENTO",
          "x": 0.7625,
          "xanchor": "center",
          "xref": "paper",
          "y": 1,
          "yanchor": "bottom",
          "yref": "paper"
         },
         {
          "font": {
           "size": 16
          },
          "showarrow": false,
          "text": "GRAVAÇÃO",
          "x": 0.2375,
          "xanchor": "center",
          "xref": "paper",
          "y": 0.45,
          "yanchor": "bottom",
          "yref": "paper"
         },
         {
          "font": {
           "size": 16
          },
          "showarrow": false,
          "text": "LAMINAÇÃO",
          "x": 0.7625,
          "xanchor": "center",
          "xref": "paper",
          "y": 0.45,
          "yanchor": "bottom",
          "yref": "paper"
         }
        ],
        "font": {
         "color": "black",
         "size": 15
        },
        "height": 1000,
        "images": [
         {
          "sizex": 0.12,
          "sizey": 0.12,
          "source": "data:image/png;base64,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",
          "x": 0,
          "xanchor": "left",
          "xref": "paper",
          "y": 1.1,
          "yanchor": "top",
          "yref": "paper"
         }
        ],
        "legend": {
         "font": {
          "size": 12
         },
         "title": {
          "text": "Legenda"
         },
         "traceorder": "normal",
         "x": 1.05,
         "y": 1
        },
        "plot_bgcolor": "rgba(0, 0, 0, 0)",
        "template": {
         "data": {
          "bar": [
           {
            "error_x": {
             "color": "#2a3f5f"
            },
            "error_y": {
             "color": "#2a3f5f"
            },
            "marker": {
             "line": {
              "color": "white",
              "width": 0.5
             },
             "pattern": {
              "fillmode": "overlay",
              "size": 10,
              "solidity": 0.2
             }
            },
            "type": "bar"
           }
          ],
          "barpolar": [
           {
            "marker": {
             "line": {
              "color": "white",
              "width": 0.5
             },
             "pattern": {
              "fillmode": "overlay",
              "size": 10,
              "solidity": 0.2
             }
            },
            "type": "barpolar"
           }
          ],
          "carpet": [
           {
            "aaxis": {
             "endlinecolor": "#2a3f5f",
             "gridcolor": "#C8D4E3",
             "linecolor": "#C8D4E3",
             "minorgridcolor": "#C8D4E3",
             "startlinecolor": "#2a3f5f"
            },
            "baxis": {
             "endlinecolor": "#2a3f5f",
             "gridcolor": "#C8D4E3",
             "linecolor": "#C8D4E3",
             "minorgridcolor": "#C8D4E3",
             "startlinecolor": "#2a3f5f"
            },
            "type": "carpet"
           }
          ],
          "choropleth": [
           {
            "colorbar": {
             "outlinewidth": 0,
             "ticks": ""
            },
            "type": "choropleth"
           }
          ],
          "contour": [
           {
            "colorbar": {
             "outlinewidth": 0,
             "ticks": ""
            },
            "colorscale": [
             [
              0,
              "#0d0887"
             ],
             [
              0.1111111111111111,
              "#46039f"
             ],
             [
              0.2222222222222222,
              "#7201a8"
             ],
             [
              0.3333333333333333,
              "#9c179e"
             ],
             [
              0.4444444444444444,
              "#bd3786"
             ],
             [
              0.5555555555555556,
              "#d8576b"
             ],
             [
              0.6666666666666666,
              "#ed7953"
             ],
             [
              0.7777777777777778,
              "#fb9f3a"
             ],
             [
              0.8888888888888888,
              "#fdca26"
             ],
             [
              1,
              "#f0f921"
             ]
            ],
            "type": "contour"
           }
          ],
          "contourcarpet": [
           {
            "colorbar": {
             "outlinewidth": 0,
             "ticks": ""
            },
            "type": "contourcarpet"
           }
          ],
          "heatmap": [
           {
            "colorbar": {
             "outlinewidth": 0,
             "ticks": ""
            },
            "colorscale": [
             [
              0,
              "#0d0887"
             ],
             [
              0.1111111111111111,
              "#46039f"
             ],
             [
              0.2222222222222222,
              "#7201a8"
             ],
             [
              0.3333333333333333,
              "#9c179e"
             ],
             [
              0.4444444444444444,
              "#bd3786"
             ],
             [
              0.5555555555555556,
              "#d8576b"
             ],
             [
              0.6666666666666666,
              "#ed7953"
             ],
             [
              0.7777777777777778,
              "#fb9f3a"
             ],
             [
              0.8888888888888888,
              "#fdca26"
             ],
             [
              1,
              "#f0f921"
             ]
            ],
            "type": "heatmap"
           }
          ],
          "heatmapgl": [
           {
            "colorbar": {
             "outlinewidth": 0,
             "ticks": ""
            },
            "colorscale": [
             [
              0,
              "#0d0887"
             ],
             [
              0.1111111111111111,
              "#46039f"
             ],
             [
              0.2222222222222222,
              "#7201a8"
             ],
             [
              0.3333333333333333,
              "#9c179e"
             ],
             [
              0.4444444444444444,
              "#bd3786"
             ],
             [
              0.5555555555555556,
              "#d8576b"
             ],
             [
              0.6666666666666666,
              "#ed7953"
             ],
             [
              0.7777777777777778,
              "#fb9f3a"
             ],
             [
              0.8888888888888888,
              "#fdca26"
             ],
             [
              1,
              "#f0f921"
             ]
            ],
            "type": "heatmapgl"
           }
          ],
          "histogram": [
           {
            "marker": {
             "pattern": {
              "fillmode": "overlay",
              "size": 10,
              "solidity": 0.2
             }
            },
            "type": "histogram"
           }
          ],
          "histogram2d": [
           {
            "colorbar": {
             "outlinewidth": 0,
             "ticks": ""
            },
            "colorscale": [
             [
              0,
              "#0d0887"
             ],
             [
              0.1111111111111111,
              "#46039f"
             ],
             [
              0.2222222222222222,
              "#7201a8"
             ],
             [
              0.3333333333333333,
              "#9c179e"
             ],
             [
              0.4444444444444444,
              "#bd3786"
             ],
             [
              0.5555555555555556,
              "#d8576b"
             ],
             [
              0.6666666666666666,
              "#ed7953"
             ],
             [
              0.7777777777777778,
              "#fb9f3a"
             ],
             [
              0.8888888888888888,
              "#fdca26"
             ],
             [
              1,
              "#f0f921"
             ]
            ],
            "type": "histogram2d"
           }
          ],
          "histogram2dcontour": [
           {
            "colorbar": {
             "outlinewidth": 0,
             "ticks": ""
            },
            "colorscale": [
             [
              0,
              "#0d0887"
             ],
             [
              0.1111111111111111,
              "#46039f"
             ],
             [
              0.2222222222222222,
              "#7201a8"
             ],
             [
              0.3333333333333333,
              "#9c179e"
             ],
             [
              0.4444444444444444,
              "#bd3786"
             ],
             [
              0.5555555555555556,
              "#d8576b"
             ],
             [
              0.6666666666666666,
              "#ed7953"
             ],
             [
              0.7777777777777778,
              "#fb9f3a"
             ],
             [
              0.8888888888888888,
              "#fdca26"
             ],
             [
              1,
              "#f0f921"
             ]
            ],
            "type": "histogram2dcontour"
           }
          ],
          "mesh3d": [
           {
            "colorbar": {
             "outlinewidth": 0,
             "ticks": ""
            },
            "type": "mesh3d"
           }
          ],
          "parcoords": [
           {
            "line": {
             "colorbar": {
              "outlinewidth": 0,
              "ticks": ""
             }
            },
            "type": "parcoords"
           }
          ],
          "pie": [
           {
            "automargin": true,
            "type": "pie"
           }
          ],
          "scatter": [
           {
            "fillpattern": {
             "fillmode": "overlay",
             "size": 10,
             "solidity": 0.2
            },
            "type": "scatter"
           }
          ],
          "scatter3d": [
           {
            "line": {
             "colorbar": {
              "outlinewidth": 0,
              "ticks": ""
             }
            },
            "marker": {
             "colorbar": {
              "outlinewidth": 0,
              "ticks": ""
             }
            },
            "type": "scatter3d"
           }
          ],
          "scattercarpet": [
           {
            "marker": {
             "colorbar": {
              "outlinewidth": 0,
              "ticks": ""
             }
            },
            "type": "scattercarpet"
           }
          ],
          "scattergeo": [
           {
            "marker": {
             "colorbar": {
              "outlinewidth": 0,
              "ticks": ""
             }
            },
            "type": "scattergeo"
           }
          ],
          "scattergl": [
           {
            "marker": {
             "colorbar": {
              "outlinewidth": 0,
              "ticks": ""
             }
            },
            "type": "scattergl"
           }
          ],
          "scattermapbox": [
           {
            "marker": {
             "colorbar": {
              "outlinewidth": 0,
              "ticks": ""
             }
            },
            "type": "scattermapbox"
           }
          ],
          "scatterpolar": [
           {
            "marker": {
             "colorbar": {
              "outlinewidth": 0,
              "ticks": ""
             }
            },
            "type": "scatterpolar"
           }
          ],
          "scatterpolargl": [
           {
            "marker": {
             "colorbar": {
              "outlinewidth": 0,
              "ticks": ""
             }
            },
            "type": "scatterpolargl"
           }
          ],
          "scatterternary": [
           {
            "marker": {
             "colorbar": {
              "outlinewidth": 0,
              "ticks": ""
             }
            },
            "type": "scatterternary"
           }
          ],
          "surface": [
           {
            "colorbar": {
             "outlinewidth": 0,
             "ticks": ""
            },
            "colorscale": [
             [
              0,
              "#0d0887"
             ],
             [
              0.1111111111111111,
              "#46039f"
             ],
             [
              0.2222222222222222,
              "#7201a8"
             ],
             [
              0.3333333333333333,
              "#9c179e"
             ],
             [
              0.4444444444444444,
              "#bd3786"
             ],
             [
              0.5555555555555556,
              "#d8576b"
             ],
             [
              0.6666666666666666,
              "#ed7953"
             ],
             [
              0.7777777777777778,
              "#fb9f3a"
             ],
             [
              0.8888888888888888,
              "#fdca26"
             ],
             [
              1,
              "#f0f921"
             ]
            ],
            "type": "surface"
           }
          ],
          "table": [
           {
            "cells": {
             "fill": {
              "color": "#EBF0F8"
             },
             "line": {
              "color": "white"
             }
            },
            "header": {
             "fill": {
              "color": "#C8D4E3"
             },
             "line": {
              "color": "white"
             }
            },
            "type": "table"
           }
          ]
         },
         "layout": {
          "annotationdefaults": {
           "arrowcolor": "#2a3f5f",
           "arrowhead": 0,
           "arrowwidth": 1
          },
          "autotypenumbers": "strict",
          "coloraxis": {
           "colorbar": {
            "outlinewidth": 0,
            "ticks": ""
           }
          },
          "colorscale": {
           "diverging": [
            [
             0,
             "#8e0152"
            ],
            [
             0.1,
             "#c51b7d"
            ],
            [
             0.2,
             "#de77ae"
            ],
            [
             0.3,
             "#f1b6da"
            ],
            [
             0.4,
             "#fde0ef"
            ],
            [
             0.5,
             "#f7f7f7"
            ],
            [
             0.6,
             "#e6f5d0"
            ],
            [
             0.7,
             "#b8e186"
            ],
            [
             0.8,
             "#7fbc41"
            ],
            [
             0.9,
             "#4d9221"
            ],
            [
             1,
             "#276419"
            ]
           ],
           "sequential": [
            [
             0,
             "#0d0887"
            ],
            [
             0.1111111111111111,
             "#46039f"
            ],
            [
             0.2222222222222222,
             "#7201a8"
            ],
            [
             0.3333333333333333,
             "#9c179e"
            ],
            [
             0.4444444444444444,
             "#bd3786"
            ],
            [
             0.5555555555555556,
             "#d8576b"
            ],
            [
             0.6666666666666666,
             "#ed7953"
            ],
            [
             0.7777777777777778,
             "#fb9f3a"
            ],
            [
             0.8888888888888888,
             "#fdca26"
            ],
            [
             1,
             "#f0f921"
            ]
           ],
           "sequentialminus": [
            [
             0,
             "#0d0887"
            ],
            [
             0.1111111111111111,
             "#46039f"
            ],
            [
             0.2222222222222222,
             "#7201a8"
            ],
            [
             0.3333333333333333,
             "#9c179e"
            ],
            [
             0.4444444444444444,
             "#bd3786"
            ],
            [
             0.5555555555555556,
             "#d8576b"
            ],
            [
             0.6666666666666666,
             "#ed7953"
            ],
            [
             0.7777777777777778,
             "#fb9f3a"
            ],
            [
             0.8888888888888888,
             "#fdca26"
            ],
            [
             1,
             "#f0f921"
            ]
           ]
          },
          "colorway": [
           "#636efa",
           "#EF553B",
           "#00cc96",
           "#ab63fa",
           "#FFA15A",
           "#19d3f3",
           "#FF6692",
           "#B6E880",
           "#FF97FF",
           "#FECB52"
          ],
          "font": {
           "color": "#2a3f5f"
          },
          "geo": {
           "bgcolor": "white",
           "lakecolor": "white",
           "landcolor": "white",
           "showlakes": true,
           "showland": true,
           "subunitcolor": "#C8D4E3"
          },
          "hoverlabel": {
           "align": "left"
          },
          "hovermode": "closest",
          "mapbox": {
           "style": "light"
          },
          "paper_bgcolor": "white",
          "plot_bgcolor": "white",
          "polar": {
           "angularaxis": {
            "gridcolor": "#EBF0F8",
            "linecolor": "#EBF0F8",
            "ticks": ""
           },
           "bgcolor": "white",
           "radialaxis": {
            "gridcolor": "#EBF0F8",
            "linecolor": "#EBF0F8",
            "ticks": ""
           }
          },
          "scene": {
           "xaxis": {
            "backgroundcolor": "white",
            "gridcolor": "#DFE8F3",
            "gridwidth": 2,
            "linecolor": "#EBF0F8",
            "showbackground": true,
            "ticks": "",
            "zerolinecolor": "#EBF0F8"
           },
           "yaxis": {
            "backgroundcolor": "white",
            "gridcolor": "#DFE8F3",
            "gridwidth": 2,
            "linecolor": "#EBF0F8",
            "showbackground": true,
            "ticks": "",
            "zerolinecolor": "#EBF0F8"
           },
           "zaxis": {
            "backgroundcolor": "white",
            "gridcolor": "#DFE8F3",
            "gridwidth": 2,
            "linecolor": "#EBF0F8",
            "showbackground": true,
            "ticks": "",
            "zerolinecolor": "#EBF0F8"
           }
          },
          "shapedefaults": {
           "line": {
            "color": "#2a3f5f"
           }
          },
          "ternary": {
           "aaxis": {
            "gridcolor": "#DFE8F3",
            "linecolor": "#A2B1C6",
            "ticks": ""
           },
           "baxis": {
            "gridcolor": "#DFE8F3",
            "linecolor": "#A2B1C6",
            "ticks": ""
           },
           "bgcolor": "white",
           "caxis": {
            "gridcolor": "#DFE8F3",
            "linecolor": "#A2B1C6",
            "ticks": ""
           }
          },
          "title": {
           "x": 0.05
          },
          "xaxis": {
           "automargin": true,
           "gridcolor": "#EBF0F8",
           "linecolor": "#EBF0F8",
           "ticks": "",
           "title": {
            "standoff": 15
           },
           "zerolinecolor": "#EBF0F8",
           "zerolinewidth": 2
          },
          "yaxis": {
           "automargin": true,
           "gridcolor": "#EBF0F8",
           "linecolor": "#EBF0F8",
           "ticks": "",
           "title": {
            "standoff": 15
           },
           "zerolinecolor": "#EBF0F8",
           "zerolinewidth": 2
          }
         }
        },
        "title": {
         "font": {
          "color": "black"
         },
         "text": "Relatório Mensal - Março",
         "x": 0.5,
         "xanchor": "center"
        },
        "width": 1500,
        "xaxis": {
         "anchor": "y",
         "domain": [
          0,
          0.475
         ],
         "tickformat": "%d/%m"
        },
        "xaxis2": {
         "anchor": "y2",
         "domain": [
          0.525,
          1
         ],
         "tickformat": "%d/%m"
        },
        "xaxis3": {
         "anchor": "y3",
         "domain": [
          0,
          0.475
         ],
         "tickformat": "%d/%m"
        },
        "xaxis4": {
         "anchor": "y4",
         "domain": [
          0.525,
          1
         ],
         "tickformat": "%d/%m"
        },
        "yaxis": {
         "anchor": "x",
         "domain": [
          0.55,
          1
         ]
        },
        "yaxis2": {
         "anchor": "x2",
         "domain": [
          0.55,
          1
         ]
        },
        "yaxis3": {
         "anchor": "x3",
         "domain": [
          0,
          0.45
         ]
        },
        "yaxis4": {
         "anchor": "x4",
         "domain": [
          0,
          0.45
         ]
        }
       }
      }
     },
     "metadata": {},
     "output_type": "display_data"
    }
   ],
   "source": [
    "# Definir a localidade para português do Brasil\n",
    "locale.setlocale(locale.LC_TIME, 'pt_BR.utf8')\n",
    "\n",
    "# Supondo que df_pivot já foi criado corretamente com as datas como índice e as unidades como colunas\n",
    "df_pivot.index = pd.to_datetime(df_pivot.index, format='%d/%m/%Y')\n",
    "\n",
    "# Filtrar para mostrar apenas os dados de 2024 e até o dia anterior ao atual\n",
    "data_atual = datetime.now().date()\n",
    "df_pivot = df_pivot[(df_pivot.index.year == 2025) & (df_pivot.index < pd.Timestamp(data_atual))]\n",
    "df_pivot = df_pivot[~df_pivot.index.weekday.isin([5, 6])]\n",
    "\n",
    "\n",
    "\n",
    "# Extrair os meses do DataFrame em português\n",
    "df_pivot['Month'] = df_pivot.index.strftime('%B')  # Nome do mês em português\n",
    "\n",
    "# Filtrar os dados para um mês específico, como \"Setembro\"\n",
    "mes = 'março'  # Especifique o mês desejado em português (ex: 'janeiro', 'fevereiro', etc.)\n",
    "filtered_df = df_pivot[df_pivot['Month'].str.lower() == mes.lower()]\n",
    "\n",
    "# Certificar que os valores NaN são preenchidos para evitar quebras na linha\n",
    "filtered_df = filtered_df.fillna(0)\n",
    "\n",
    "# Caminho da imagem\n",
    "image_path = \"I:\\\\22 Gráficos e indicadores produção\\\\GRAMPOS\\\\Relatório\\\\AESA.png\"  # Substitua pelo caminho correto da sua imagem\n",
    "\n",
    "# Converter a imagem para base64\n",
    "with open(image_path, \"rb\") as image_file:\n",
    "    encoded_image = base64.b64encode(image_file.read()).decode()\n",
    "\n",
    "# Criar o gráfico com subplots 2x2\n",
    "fig = make_subplots(\n",
    "    rows=2, cols=2,\n",
    "    subplot_titles=(\"CORTE\", \"APONTAMENTO\", \"GRAVAÇÃO\", \"LAMINAÇÃO\"),\n",
    "    shared_xaxes=False,\n",
    "    shared_yaxes=False,\n",
    "    vertical_spacing=0.1,\n",
    "    horizontal_spacing=0.05\n",
    ")\n",
    "\n",
    "# Lista das unidades que serão plotadas\n",
    "units = ['CORTE', 'APONTAMENTO', 'GRAVAÇÃO', 'LAMINAÇÃO']\n",
    "\n",
    "# Definir a meta para cada unidade\n",
    "meta_values = {\n",
    "    'CORTE': 8000,\n",
    "    'APONTAMENTO': 5000,\n",
    "    'GRAVAÇÃO': 4000,\n",
    "    'LAMINAÇÃO': 6000\n",
    "}\n",
    "\n",
    "# Adicionar cada gráfico no subplot\n",
    "for i, unit in enumerate(units):\n",
    "    # Determinar a posição do gráfico\n",
    "    row = (i // 2) + 1\n",
    "    col = (i % 2) + 1\n",
    "    \n",
    "    # Calcular a média dos valores filtrados para a unidade\n",
    "    mean_value = filtered_df[unit].mean()\n",
    "    \n",
    "    # Adicionar a linha de produção com cor azul\n",
    "    show_legend_production = i == 0  # Mostrar legenda apenas para o primeiro gráfico\n",
    "    fig.add_trace(go.Scatter(\n",
    "        x=filtered_df.index,\n",
    "        y=filtered_df[unit],\n",
    "        mode='lines+markers',\n",
    "        name='Produção',\n",
    "        marker=dict(size=10),\n",
    "        line=dict(color='blue', width=2),  # Cor azul para todas as linhas\n",
    "        hovertemplate=\"<b>Data</b>: %{x}<br><b>Produção</b>: %{y}<extra></extra>\",\n",
    "        showlegend=show_legend_production\n",
    "    ), row=row, col=col)\n",
    "    \n",
    "    # Adicionar a linha de meta (laranja)\n",
    "    show_legend_meta = i == 0  # Mostrar legenda apenas para o primeiro gráfico\n",
    "    fig.add_trace(go.Scatter(\n",
    "        x=filtered_df.index,\n",
    "        y=[meta_values[unit]] * len(filtered_df),\n",
    "        mode='lines',\n",
    "        name='Meta',\n",
    "        line=dict(color='orange', width=2, dash='dash'),\n",
    "        showlegend=show_legend_meta\n",
    "    ), row=row, col=col)\n",
    "    \n",
    "    # Adicionar a linha da média (verde)\n",
    "    show_legend_mean = i == 0  # Mostrar legenda apenas para o primeiro gráfico\n",
    "    fig.add_trace(go.Scatter(\n",
    "        x=filtered_df.index,\n",
    "        y=[mean_value] * len(filtered_df),\n",
    "        mode='lines',\n",
    "        name='Média',\n",
    "        line=dict(color='green', width=2, dash='dot'),\n",
    "        showlegend=show_legend_mean\n",
    "    ), row=row, col=col)\n",
    "\n",
    "# Configurar o layout geral do gráfico\n",
    "fig.update_layout(\n",
    "    title={\n",
    "        'text': f'Relatório Mensal - {mes.capitalize()}',\n",
    "        'x': 0.5,\n",
    "        'xanchor': 'center'\n",
    "    },\n",
    "    height=1000, width=1500,\n",
    "    template='plotly_white',\n",
    "    plot_bgcolor='rgba(0, 0, 0, 0)',\n",
    "    font=dict(size=15, color=\"black\"),\n",
    "    title_font_color=\"black\",\n",
    "    legend=dict(\n",
    "        title=\"Legenda\",\n",
    "        x=1.05,  # Posicionar a legenda à direita\n",
    "        y=1,     # Posicionar a legenda no topo\n",
    "        traceorder=\"normal\",\n",
    "        font=dict(size=12)\n",
    "    ),\n",
    "    images=[dict(\n",
    "        source=f\"data:image/png;base64,{encoded_image}\",\n",
    "        xref=\"paper\", yref=\"paper\",\n",
    "        x=0, y=1.1,\n",
    "        sizex=0.12, sizey=0.12, # tamanho do logo\n",
    "        xanchor=\"left\", yanchor=\"top\"\n",
    "    )]\n",
    ")\n",
    "\n",
    "# Ajustar o formato das datas no eixo x\n",
    "for i in range(1, 3):\n",
    "    for j in range(1, 3):\n",
    "        fig.update_xaxes(\n",
    "            tickformat=\"%d/%m\",  # Formato: dia/mês\n",
    "            row=i, col=j\n",
    "        )\n",
    "\n",
    "# Mostrar o gráfico\n",
    "fig.show()\n"
   ]
  },
  {
   "cell_type": "code",
   "execution_count": 54,
   "metadata": {},
   "outputs": [
    {
     "data": {
      "application/vnd.plotly.v1+json": {
       "config": {
        "plotlyServerURL": "https://plot.ly"
       },
       "data": [
        {
         "hovertemplate": "<b>Data</b>: %{x}<br><b>Produção</b>: %{y}<extra></extra>",
         "line": {
          "color": "blue",
          "width": 2
         },
         "marker": {
          "size": 10
         },
         "mode": "lines+markers",
         "name": "Produção",
         "showlegend": true,
         "type": "scatter",
         "x": [],
         "xaxis": "x",
         "y": [],
         "yaxis": "y"
        },
        {
         "line": {
          "color": "orange",
          "dash": "dash",
          "width": 2
         },
         "mode": "lines",
         "name": "Meta",
         "showlegend": true,
         "type": "scatter",
         "x": [],
         "xaxis": "x",
         "y": [],
         "yaxis": "y"
        },
        {
         "line": {
          "color": "green",
          "dash": "dot",
          "width": 2
         },
         "mode": "lines",
         "name": "Média",
         "showlegend": true,
         "type": "scatter",
         "x": [],
         "xaxis": "x",
         "y": [],
         "yaxis": "y"
        },
        {
         "hovertemplate": "<b>Data</b>: %{x}<br><b>Produção</b>: %{y}<extra></extra>",
         "line": {
          "color": "blue",
          "width": 2
         },
         "marker": {
          "size": 10
         },
         "mode": "lines+markers",
         "name": "Produção",
         "showlegend": false,
         "type": "scatter",
         "x": [],
         "xaxis": "x2",
         "y": [],
         "yaxis": "y2"
        },
        {
         "line": {
          "color": "orange",
          "dash": "dash",
          "width": 2
         },
         "mode": "lines",
         "name": "Meta",
         "showlegend": false,
         "type": "scatter",
         "x": [],
         "xaxis": "x2",
         "y": [],
         "yaxis": "y2"
        },
        {
         "line": {
          "color": "green",
          "dash": "dot",
          "width": 2
         },
         "mode": "lines",
         "name": "Média",
         "showlegend": false,
         "type": "scatter",
         "x": [],
         "xaxis": "x2",
         "y": [],
         "yaxis": "y2"
        },
        {
         "hovertemplate": "<b>Data</b>: %{x}<br><b>Produção</b>: %{y}<extra></extra>",
         "line": {
          "color": "blue",
          "width": 2
         },
         "marker": {
          "size": 10
         },
         "mode": "lines+markers",
         "name": "Produção",
         "showlegend": false,
         "type": "scatter",
         "x": [],
         "xaxis": "x3",
         "y": [],
         "yaxis": "y3"
        },
        {
         "line": {
          "color": "orange",
          "dash": "dash",
          "width": 2
         },
         "mode": "lines",
         "name": "Meta",
         "showlegend": false,
         "type": "scatter",
         "x": [],
         "xaxis": "x3",
         "y": [],
         "yaxis": "y3"
        },
        {
         "line": {
          "color": "green",
          "dash": "dot",
          "width": 2
         },
         "mode": "lines",
         "name": "Média",
         "showlegend": false,
         "type": "scatter",
         "x": [],
         "xaxis": "x3",
         "y": [],
         "yaxis": "y3"
        },
        {
         "hovertemplate": "<b>Data</b>: %{x}<br><b>Produção</b>: %{y}<extra></extra>",
         "line": {
          "color": "blue",
          "width": 2
         },
         "marker": {
          "size": 10
         },
         "mode": "lines+markers",
         "name": "Produção",
         "showlegend": false,
         "type": "scatter",
         "x": [],
         "xaxis": "x4",
         "y": [],
         "yaxis": "y4"
        },
        {
         "line": {
          "color": "orange",
          "dash": "dash",
          "width": 2
         },
         "mode": "lines",
         "name": "Meta",
         "showlegend": false,
         "type": "scatter",
         "x": [],
         "xaxis": "x4",
         "y": [],
         "yaxis": "y4"
        },
        {
         "line": {
          "color": "green",
          "dash": "dot",
          "width": 2
         },
         "mode": "lines",
         "name": "Média",
         "showlegend": false,
         "type": "scatter",
         "x": [],
         "xaxis": "x4",
         "y": [],
         "yaxis": "y4"
        }
       ],
       "layout": {
        "annotations": [
         {
          "font": {
           "size": 16
          },
          "showarrow": false,
          "text": "DOBRA FRIA",
          "x": 0.2375,
          "xanchor": "center",
          "xref": "paper",
          "y": 1,
          "yanchor": "bottom",
          "yref": "paper"
         },
         {
          "font": {
           "size": 16
          },
          "showarrow": false,
          "text": "DOBRA QUENTE",
          "x": 0.7625,
          "xanchor": "center",
          "xref": "paper",
          "y": 1,
          "yanchor": "bottom",
          "yref": "paper"
         },
         {
          "font": {
           "size": 16
          },
          "showarrow": false,
          "text": "KTL",
          "x": 0.2375,
          "xanchor": "center",
          "xref": "paper",
          "y": 0.45,
          "yanchor": "bottom",
          "yref": "paper"
         },
         {
          "font": {
           "size": 16
          },
          "showarrow": false,
          "text": "EMBALAGEM",
          "x": 0.7625,
          "xanchor": "center",
          "xref": "paper",
          "y": 0.45,
          "yanchor": "bottom",
          "yref": "paper"
         }
        ],
        "font": {
         "color": "black",
         "size": 15
        },
        "height": 1000,
        "images": [
         {
          "sizex": 0.12,
          "sizey": 0.12,
          "source": "data:image/png;base64,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",
          "x": 0,
          "xanchor": "left",
          "xref": "paper",
          "y": 1.1,
          "yanchor": "top",
          "yref": "paper"
         }
        ],
        "legend": {
         "font": {
          "size": 12
         },
         "title": {
          "text": "Legenda"
         },
         "traceorder": "normal",
         "x": 1.05,
         "y": 1
        },
        "plot_bgcolor": "rgba(0, 0, 0, 0)",
        "template": {
         "data": {
          "bar": [
           {
            "error_x": {
             "color": "#2a3f5f"
            },
            "error_y": {
             "color": "#2a3f5f"
            },
            "marker": {
             "line": {
              "color": "white",
              "width": 0.5
             },
             "pattern": {
              "fillmode": "overlay",
              "size": 10,
              "solidity": 0.2
             }
            },
            "type": "bar"
           }
          ],
          "barpolar": [
           {
            "marker": {
             "line": {
              "color": "white",
              "width": 0.5
             },
             "pattern": {
              "fillmode": "overlay",
              "size": 10,
              "solidity": 0.2
             }
            },
            "type": "barpolar"
           }
          ],
          "carpet": [
           {
            "aaxis": {
             "endlinecolor": "#2a3f5f",
             "gridcolor": "#C8D4E3",
             "linecolor": "#C8D4E3",
             "minorgridcolor": "#C8D4E3",
             "startlinecolor": "#2a3f5f"
            },
            "baxis": {
             "endlinecolor": "#2a3f5f",
             "gridcolor": "#C8D4E3",
             "linecolor": "#C8D4E3",
             "minorgridcolor": "#C8D4E3",
             "startlinecolor": "#2a3f5f"
            },
            "type": "carpet"
           }
          ],
          "choropleth": [
           {
            "colorbar": {
             "outlinewidth": 0,
             "ticks": ""
            },
            "type": "choropleth"
           }
          ],
          "contour": [
           {
            "colorbar": {
             "outlinewidth": 0,
             "ticks": ""
            },
            "colorscale": [
             [
              0,
              "#0d0887"
             ],
             [
              0.1111111111111111,
              "#46039f"
             ],
             [
              0.2222222222222222,
              "#7201a8"
             ],
             [
              0.3333333333333333,
              "#9c179e"
             ],
             [
              0.4444444444444444,
              "#bd3786"
             ],
             [
              0.5555555555555556,
              "#d8576b"
             ],
             [
              0.6666666666666666,
              "#ed7953"
             ],
             [
              0.7777777777777778,
              "#fb9f3a"
             ],
             [
              0.8888888888888888,
              "#fdca26"
             ],
             [
              1,
              "#f0f921"
             ]
            ],
            "type": "contour"
           }
          ],
          "contourcarpet": [
           {
            "colorbar": {
             "outlinewidth": 0,
             "ticks": ""
            },
            "type": "contourcarpet"
           }
          ],
          "heatmap": [
           {
            "colorbar": {
             "outlinewidth": 0,
             "ticks": ""
            },
            "colorscale": [
             [
              0,
              "#0d0887"
             ],
             [
              0.1111111111111111,
              "#46039f"
             ],
             [
              0.2222222222222222,
              "#7201a8"
             ],
             [
              0.3333333333333333,
              "#9c179e"
             ],
             [
              0.4444444444444444,
              "#bd3786"
             ],
             [
              0.5555555555555556,
              "#d8576b"
             ],
             [
              0.6666666666666666,
              "#ed7953"
             ],
             [
              0.7777777777777778,
              "#fb9f3a"
             ],
             [
              0.8888888888888888,
              "#fdca26"
             ],
             [
              1,
              "#f0f921"
             ]
            ],
            "type": "heatmap"
           }
          ],
          "heatmapgl": [
           {
            "colorbar": {
             "outlinewidth": 0,
             "ticks": ""
            },
            "colorscale": [
             [
              0,
              "#0d0887"
             ],
             [
              0.1111111111111111,
              "#46039f"
             ],
             [
              0.2222222222222222,
              "#7201a8"
             ],
             [
              0.3333333333333333,
              "#9c179e"
             ],
             [
              0.4444444444444444,
              "#bd3786"
             ],
             [
              0.5555555555555556,
              "#d8576b"
             ],
             [
              0.6666666666666666,
              "#ed7953"
             ],
             [
              0.7777777777777778,
              "#fb9f3a"
             ],
             [
              0.8888888888888888,
              "#fdca26"
             ],
             [
              1,
              "#f0f921"
             ]
            ],
            "type": "heatmapgl"
           }
          ],
          "histogram": [
           {
            "marker": {
             "pattern": {
              "fillmode": "overlay",
              "size": 10,
              "solidity": 0.2
             }
            },
            "type": "histogram"
           }
          ],
          "histogram2d": [
           {
            "colorbar": {
             "outlinewidth": 0,
             "ticks": ""
            },
            "colorscale": [
             [
              0,
              "#0d0887"
             ],
             [
              0.1111111111111111,
              "#46039f"
             ],
             [
              0.2222222222222222,
              "#7201a8"
             ],
             [
              0.3333333333333333,
              "#9c179e"
             ],
             [
              0.4444444444444444,
              "#bd3786"
             ],
             [
              0.5555555555555556,
              "#d8576b"
             ],
             [
              0.6666666666666666,
              "#ed7953"
             ],
             [
              0.7777777777777778,
              "#fb9f3a"
             ],
             [
              0.8888888888888888,
              "#fdca26"
             ],
             [
              1,
              "#f0f921"
             ]
            ],
            "type": "histogram2d"
           }
          ],
          "histogram2dcontour": [
           {
            "colorbar": {
             "outlinewidth": 0,
             "ticks": ""
            },
            "colorscale": [
             [
              0,
              "#0d0887"
             ],
             [
              0.1111111111111111,
              "#46039f"
             ],
             [
              0.2222222222222222,
              "#7201a8"
             ],
             [
              0.3333333333333333,
              "#9c179e"
             ],
             [
              0.4444444444444444,
              "#bd3786"
             ],
             [
              0.5555555555555556,
              "#d8576b"
             ],
             [
              0.6666666666666666,
              "#ed7953"
             ],
             [
              0.7777777777777778,
              "#fb9f3a"
             ],
             [
              0.8888888888888888,
              "#fdca26"
             ],
             [
              1,
              "#f0f921"
             ]
            ],
            "type": "histogram2dcontour"
           }
          ],
          "mesh3d": [
           {
            "colorbar": {
             "outlinewidth": 0,
             "ticks": ""
            },
            "type": "mesh3d"
           }
          ],
          "parcoords": [
           {
            "line": {
             "colorbar": {
              "outlinewidth": 0,
              "ticks": ""
             }
            },
            "type": "parcoords"
           }
          ],
          "pie": [
           {
            "automargin": true,
            "type": "pie"
           }
          ],
          "scatter": [
           {
            "fillpattern": {
             "fillmode": "overlay",
             "size": 10,
             "solidity": 0.2
            },
            "type": "scatter"
           }
          ],
          "scatter3d": [
           {
            "line": {
             "colorbar": {
              "outlinewidth": 0,
              "ticks": ""
             }
            },
            "marker": {
             "colorbar": {
              "outlinewidth": 0,
              "ticks": ""
             }
            },
            "type": "scatter3d"
           }
          ],
          "scattercarpet": [
           {
            "marker": {
             "colorbar": {
              "outlinewidth": 0,
              "ticks": ""
             }
            },
            "type": "scattercarpet"
           }
          ],
          "scattergeo": [
           {
            "marker": {
             "colorbar": {
              "outlinewidth": 0,
              "ticks": ""
             }
            },
            "type": "scattergeo"
           }
          ],
          "scattergl": [
           {
            "marker": {
             "colorbar": {
              "outlinewidth": 0,
              "ticks": ""
             }
            },
            "type": "scattergl"
           }
          ],
          "scattermapbox": [
           {
            "marker": {
             "colorbar": {
              "outlinewidth": 0,
              "ticks": ""
             }
            },
            "type": "scattermapbox"
           }
          ],
          "scatterpolar": [
           {
            "marker": {
             "colorbar": {
              "outlinewidth": 0,
              "ticks": ""
             }
            },
            "type": "scatterpolar"
           }
          ],
          "scatterpolargl": [
           {
            "marker": {
             "colorbar": {
              "outlinewidth": 0,
              "ticks": ""
             }
            },
            "type": "scatterpolargl"
           }
          ],
          "scatterternary": [
           {
            "marker": {
             "colorbar": {
              "outlinewidth": 0,
              "ticks": ""
             }
            },
            "type": "scatterternary"
           }
          ],
          "surface": [
           {
            "colorbar": {
             "outlinewidth": 0,
             "ticks": ""
            },
            "colorscale": [
             [
              0,
              "#0d0887"
             ],
             [
              0.1111111111111111,
              "#46039f"
             ],
             [
              0.2222222222222222,
              "#7201a8"
             ],
             [
              0.3333333333333333,
              "#9c179e"
             ],
             [
              0.4444444444444444,
              "#bd3786"
             ],
             [
              0.5555555555555556,
              "#d8576b"
             ],
             [
              0.6666666666666666,
              "#ed7953"
             ],
             [
              0.7777777777777778,
              "#fb9f3a"
             ],
             [
              0.8888888888888888,
              "#fdca26"
             ],
             [
              1,
              "#f0f921"
             ]
            ],
            "type": "surface"
           }
          ],
          "table": [
           {
            "cells": {
             "fill": {
              "color": "#EBF0F8"
             },
             "line": {
              "color": "white"
             }
            },
            "header": {
             "fill": {
              "color": "#C8D4E3"
             },
             "line": {
              "color": "white"
             }
            },
            "type": "table"
           }
          ]
         },
         "layout": {
          "annotationdefaults": {
           "arrowcolor": "#2a3f5f",
           "arrowhead": 0,
           "arrowwidth": 1
          },
          "autotypenumbers": "strict",
          "coloraxis": {
           "colorbar": {
            "outlinewidth": 0,
            "ticks": ""
           }
          },
          "colorscale": {
           "diverging": [
            [
             0,
             "#8e0152"
            ],
            [
             0.1,
             "#c51b7d"
            ],
            [
             0.2,
             "#de77ae"
            ],
            [
             0.3,
             "#f1b6da"
            ],
            [
             0.4,
             "#fde0ef"
            ],
            [
             0.5,
             "#f7f7f7"
            ],
            [
             0.6,
             "#e6f5d0"
            ],
            [
             0.7,
             "#b8e186"
            ],
            [
             0.8,
             "#7fbc41"
            ],
            [
             0.9,
             "#4d9221"
            ],
            [
             1,
             "#276419"
            ]
           ],
           "sequential": [
            [
             0,
             "#0d0887"
            ],
            [
             0.1111111111111111,
             "#46039f"
            ],
            [
             0.2222222222222222,
             "#7201a8"
            ],
            [
             0.3333333333333333,
             "#9c179e"
            ],
            [
             0.4444444444444444,
             "#bd3786"
            ],
            [
             0.5555555555555556,
             "#d8576b"
            ],
            [
             0.6666666666666666,
             "#ed7953"
            ],
            [
             0.7777777777777778,
             "#fb9f3a"
            ],
            [
             0.8888888888888888,
             "#fdca26"
            ],
            [
             1,
             "#f0f921"
            ]
           ],
           "sequentialminus": [
            [
             0,
             "#0d0887"
            ],
            [
             0.1111111111111111,
             "#46039f"
            ],
            [
             0.2222222222222222,
             "#7201a8"
            ],
            [
             0.3333333333333333,
             "#9c179e"
            ],
            [
             0.4444444444444444,
             "#bd3786"
            ],
            [
             0.5555555555555556,
             "#d8576b"
            ],
            [
             0.6666666666666666,
             "#ed7953"
            ],
            [
             0.7777777777777778,
             "#fb9f3a"
            ],
            [
             0.8888888888888888,
             "#fdca26"
            ],
            [
             1,
             "#f0f921"
            ]
           ]
          },
          "colorway": [
           "#636efa",
           "#EF553B",
           "#00cc96",
           "#ab63fa",
           "#FFA15A",
           "#19d3f3",
           "#FF6692",
           "#B6E880",
           "#FF97FF",
           "#FECB52"
          ],
          "font": {
           "color": "#2a3f5f"
          },
          "geo": {
           "bgcolor": "white",
           "lakecolor": "white",
           "landcolor": "white",
           "showlakes": true,
           "showland": true,
           "subunitcolor": "#C8D4E3"
          },
          "hoverlabel": {
           "align": "left"
          },
          "hovermode": "closest",
          "mapbox": {
           "style": "light"
          },
          "paper_bgcolor": "white",
          "plot_bgcolor": "white",
          "polar": {
           "angularaxis": {
            "gridcolor": "#EBF0F8",
            "linecolor": "#EBF0F8",
            "ticks": ""
           },
           "bgcolor": "white",
           "radialaxis": {
            "gridcolor": "#EBF0F8",
            "linecolor": "#EBF0F8",
            "ticks": ""
           }
          },
          "scene": {
           "xaxis": {
            "backgroundcolor": "white",
            "gridcolor": "#DFE8F3",
            "gridwidth": 2,
            "linecolor": "#EBF0F8",
            "showbackground": true,
            "ticks": "",
            "zerolinecolor": "#EBF0F8"
           },
           "yaxis": {
            "backgroundcolor": "white",
            "gridcolor": "#DFE8F3",
            "gridwidth": 2,
            "linecolor": "#EBF0F8",
            "showbackground": true,
            "ticks": "",
            "zerolinecolor": "#EBF0F8"
           },
           "zaxis": {
            "backgroundcolor": "white",
            "gridcolor": "#DFE8F3",
            "gridwidth": 2,
            "linecolor": "#EBF0F8",
            "showbackground": true,
            "ticks": "",
            "zerolinecolor": "#EBF0F8"
           }
          },
          "shapedefaults": {
           "line": {
            "color": "#2a3f5f"
           }
          },
          "ternary": {
           "aaxis": {
            "gridcolor": "#DFE8F3",
            "linecolor": "#A2B1C6",
            "ticks": ""
           },
           "baxis": {
            "gridcolor": "#DFE8F3",
            "linecolor": "#A2B1C6",
            "ticks": ""
           },
           "bgcolor": "white",
           "caxis": {
            "gridcolor": "#DFE8F3",
            "linecolor": "#A2B1C6",
            "ticks": ""
           }
          },
          "title": {
           "x": 0.05
          },
          "xaxis": {
           "automargin": true,
           "gridcolor": "#EBF0F8",
           "linecolor": "#EBF0F8",
           "ticks": "",
           "title": {
            "standoff": 15
           },
           "zerolinecolor": "#EBF0F8",
           "zerolinewidth": 2
          },
          "yaxis": {
           "automargin": true,
           "gridcolor": "#EBF0F8",
           "linecolor": "#EBF0F8",
           "ticks": "",
           "title": {
            "standoff": 15
           },
           "zerolinecolor": "#EBF0F8",
           "zerolinewidth": 2
          }
         }
        },
        "title": {
         "font": {
          "color": "black"
         },
         "text": "Relatório Mensal - Março",
         "x": 0.5,
         "xanchor": "center"
        },
        "width": 1500,
        "xaxis": {
         "anchor": "y",
         "domain": [
          0,
          0.475
         ],
         "tickformat": "%d/%m"
        },
        "xaxis2": {
         "anchor": "y2",
         "domain": [
          0.525,
          1
         ],
         "tickformat": "%d/%m"
        },
        "xaxis3": {
         "anchor": "y3",
         "domain": [
          0,
          0.475
         ],
         "tickformat": "%d/%m"
        },
        "xaxis4": {
         "anchor": "y4",
         "domain": [
          0.525,
          1
         ],
         "tickformat": "%d/%m"
        },
        "yaxis": {
         "anchor": "x",
         "domain": [
          0.55,
          1
         ]
        },
        "yaxis2": {
         "anchor": "x2",
         "domain": [
          0.55,
          1
         ]
        },
        "yaxis3": {
         "anchor": "x3",
         "domain": [
          0,
          0.45
         ]
        },
        "yaxis4": {
         "anchor": "x4",
         "domain": [
          0,
          0.45
         ]
        }
       }
      }
     },
     "metadata": {},
     "output_type": "display_data"
    }
   ],
   "source": [
    "# Definir a localidade para português do Brasil\n",
    "locale.setlocale(locale.LC_TIME, 'pt_BR.utf8')\n",
    "\n",
    "# Supondo que df_pivot já foi criado corretamente com as datas como índice e as unidades como colunas\n",
    "df_pivot.index = pd.to_datetime(df_pivot.index, format='%d/%m/%Y')\n",
    "\n",
    "# Filtrar para mostrar apenas os dados de 2024 e até o dia anterior ao atual\n",
    "data_atual = datetime.now().date()\n",
    "df_pivot = df_pivot[(df_pivot.index.year == 2025) & (df_pivot.index < pd.Timestamp(data_atual))]\n",
    "df_pivot = df_pivot[~df_pivot.index.weekday.isin([5, 6])]\n",
    "\n",
    "# Extrair os meses do DataFrame em português\n",
    "df_pivot['Month'] = df_pivot.index.strftime('%B')  # Nome do mês em português\n",
    "\n",
    "# Filtrar os dados para um mês específico, como \"Setembro\"\n",
    "mes = 'março'  # Especifique o mês desejado em português (ex: 'janeiro', 'fevereiro', etc.)\n",
    "filtered_df = df_pivot[df_pivot['Month'].str.lower() == mes.lower()]\n",
    "\n",
    "# Certificar que os valores NaN são preenchidos para evitar quebras na linha\n",
    "filtered_df = filtered_df.fillna(0)\n",
    "\n",
    "# Caminho da imagem\n",
    "image_path = \"I:\\\\22 Gráficos e indicadores produção\\\\GRAMPOS\\\\Relatório\\\\AESA.png\"  # Substitua pelo caminho correto da sua imagem\n",
    "\n",
    "# Converter a imagem para base64\n",
    "with open(image_path, \"rb\") as image_file:\n",
    "    encoded_image = base64.b64encode(image_file.read()).decode()\n",
    "\n",
    "# Criar o gráfico com subplots 2x2\n",
    "fig = make_subplots(\n",
    "    rows=2, cols=2,\n",
    "    subplot_titles=(\"DOBRA FRIA\", \"DOBRA QUENTE\", \"KTL\", \"EMBALAGEM\"),\n",
    "    shared_xaxes=False,\n",
    "    shared_yaxes=False,\n",
    "    vertical_spacing=0.1,\n",
    "    horizontal_spacing=0.05\n",
    ")\n",
    "\n",
    "# Lista das unidades que serão plotadas\n",
    "units = ['DOBRA FRIA', 'DOBRA QUENTE', 'KTL', 'EMBALAGEM']\n",
    "\n",
    "# Definir a meta para cada unidade\n",
    "meta_values = {\n",
    "    'DOBRA FRIA': 6000,\n",
    "    'DOBRA QUENTE': 3500,\n",
    "    'KTL': 5000,\n",
    "    'EMBALAGEM': 5000\n",
    "}\n",
    "\n",
    "# Adicionar cada gráfico no subplot\n",
    "for i, unit in enumerate(units):\n",
    "    # Determinar a posição do gráfico\n",
    "    row = (i // 2) + 1\n",
    "    col = (i % 2) + 1\n",
    "    \n",
    "    # Calcular a média dos valores filtrados para a unidade\n",
    "    mean_value = filtered_df[unit].mean()\n",
    "    \n",
    "    # Adicionar a linha de produção com cor azul\n",
    "    show_legend_production = i == 0  # Mostrar legenda apenas para o primeiro gráfico\n",
    "    fig.add_trace(go.Scatter(\n",
    "        x=filtered_df.index,\n",
    "        y=filtered_df[unit],\n",
    "        mode='lines+markers',\n",
    "        name='Produção',\n",
    "        marker=dict(size=10),\n",
    "        line=dict(color='blue', width=2),  # Cor azul para todas as linhas\n",
    "        hovertemplate=\"<b>Data</b>: %{x}<br><b>Produção</b>: %{y}<extra></extra>\",\n",
    "        showlegend=show_legend_production\n",
    "    ), row=row, col=col)\n",
    "    \n",
    "    # Adicionar a linha de meta (laranja)\n",
    "    show_legend_meta = i == 0  # Mostrar legenda apenas para o primeiro gráfico\n",
    "    fig.add_trace(go.Scatter(\n",
    "        x=filtered_df.index,\n",
    "        y=[meta_values[unit]] * len(filtered_df),\n",
    "        mode='lines',\n",
    "        name='Meta',\n",
    "        line=dict(color='orange', width=2, dash='dash'),\n",
    "        showlegend=show_legend_meta\n",
    "    ), row=row, col=col)\n",
    "    \n",
    "    # Adicionar a linha da média (verde)\n",
    "    show_legend_mean = i == 0  # Mostrar legenda apenas para o primeiro gráfico\n",
    "    fig.add_trace(go.Scatter(\n",
    "        x=filtered_df.index,\n",
    "        y=[mean_value] * len(filtered_df),\n",
    "        mode='lines',\n",
    "        name='Média',\n",
    "        line=dict(color='green', width=2, dash='dot'),\n",
    "        showlegend=show_legend_mean\n",
    "    ), row=row, col=col)\n",
    "\n",
    "# Configurar o layout geral do gráfico\n",
    "fig.update_layout(\n",
    "    title={\n",
    "        'text': f'Relatório Mensal - {mes.capitalize()}',\n",
    "        'x': 0.5,\n",
    "        'xanchor': 'center'\n",
    "    },\n",
    "    height=1000, width=1500,\n",
    "    template='plotly_white',\n",
    "    plot_bgcolor='rgba(0, 0, 0, 0)',\n",
    "    font=dict(size=15, color=\"black\"),\n",
    "    title_font_color=\"black\",\n",
    "    legend=dict(\n",
    "        title=\"Legenda\",\n",
    "        x=1.05,  # Posicionar a legenda à direita\n",
    "        y=1,     # Posicionar a legenda no topo\n",
    "        traceorder=\"normal\",\n",
    "        font=dict(size=12)\n",
    "    ),\n",
    "    images=[dict(\n",
    "        source=f\"data:image/png;base64,{encoded_image}\",\n",
    "        xref=\"paper\", yref=\"paper\",\n",
    "        x=0, y=1.1,\n",
    "        sizex=0.12, sizey=0.12, # tamanho do logo\n",
    "        xanchor=\"left\", yanchor=\"top\"\n",
    "    )]\n",
    ")\n",
    "\n",
    "# Ajustar o formato das datas no eixo x\n",
    "for i in range(1, 3):\n",
    "    for j in range(1, 3):\n",
    "        fig.update_xaxes(\n",
    "            tickformat=\"%d/%m\",  # Formato: dia/mês\n",
    "            row=i, col=j\n",
    "        )\n",
    "\n",
    "# Mostrar o gráfico\n",
    "fig.show()\n"
   ]
  },
  {
   "cell_type": "code",
   "execution_count": 55,
   "metadata": {},
   "outputs": [
    {
     "data": {
      "application/vnd.plotly.v1+json": {
       "config": {
        "plotlyServerURL": "https://plot.ly"
       },
       "data": [
        {
         "hovertemplate": "<b>Data</b>: %{x}<br><b>Produção</b>: %{y}<extra></extra>",
         "line": {
          "color": "blue",
          "width": 2
         },
         "marker": {
          "size": 10
         },
         "mode": "lines+markers",
         "name": "Produção",
         "showlegend": true,
         "type": "scatter",
         "x": [],
         "xaxis": "x",
         "y": [],
         "yaxis": "y"
        },
        {
         "line": {
          "color": "orange",
          "dash": "dash",
          "width": 2
         },
         "mode": "lines",
         "name": "Meta",
         "showlegend": true,
         "type": "scatter",
         "x": [],
         "xaxis": "x",
         "y": [],
         "yaxis": "y"
        },
        {
         "line": {
          "color": "green",
          "dash": "dot",
          "width": 2
         },
         "mode": "lines",
         "name": "Média",
         "showlegend": true,
         "type": "scatter",
         "x": [],
         "xaxis": "x",
         "y": [],
         "yaxis": "y"
        },
        {
         "hovertemplate": "<b>Data</b>: %{x}<br><b>Produção</b>: %{y}<extra></extra>",
         "line": {
          "color": "blue",
          "width": 2
         },
         "marker": {
          "size": 10
         },
         "mode": "lines+markers",
         "name": "Produção",
         "showlegend": false,
         "type": "scatter",
         "x": [],
         "xaxis": "x2",
         "y": [],
         "yaxis": "y2"
        },
        {
         "line": {
          "color": "orange",
          "dash": "dash",
          "width": 2
         },
         "mode": "lines",
         "name": "Meta",
         "showlegend": false,
         "type": "scatter",
         "x": [],
         "xaxis": "x2",
         "y": [],
         "yaxis": "y2"
        },
        {
         "line": {
          "color": "green",
          "dash": "dot",
          "width": 2
         },
         "mode": "lines",
         "name": "Média",
         "showlegend": false,
         "type": "scatter",
         "x": [],
         "xaxis": "x2",
         "y": [],
         "yaxis": "y2"
        },
        {
         "hovertemplate": "<b>Data</b>: %{x}<br><b>Produção</b>: %{y}<extra></extra>",
         "line": {
          "color": "blue",
          "width": 2
         },
         "marker": {
          "size": 10
         },
         "mode": "lines+markers",
         "name": "Produção",
         "showlegend": false,
         "type": "scatter",
         "x": [],
         "xaxis": "x3",
         "y": [],
         "yaxis": "y3"
        },
        {
         "line": {
          "color": "orange",
          "dash": "dash",
          "width": 2
         },
         "mode": "lines",
         "name": "Meta",
         "showlegend": false,
         "type": "scatter",
         "x": [],
         "xaxis": "x3",
         "y": [],
         "yaxis": "y3"
        },
        {
         "line": {
          "color": "green",
          "dash": "dot",
          "width": 2
         },
         "mode": "lines",
         "name": "Média",
         "showlegend": false,
         "type": "scatter",
         "x": [],
         "xaxis": "x3",
         "y": [],
         "yaxis": "y3"
        },
        {
         "hovertemplate": "<b>Data</b>: %{x}<br><b>Produção</b>: %{y}<extra></extra>",
         "line": {
          "color": "blue",
          "width": 2
         },
         "marker": {
          "size": 10
         },
         "mode": "lines+markers",
         "name": "Produção",
         "showlegend": false,
         "type": "scatter",
         "x": [],
         "xaxis": "x4",
         "y": [],
         "yaxis": "y4"
        },
        {
         "line": {
          "color": "orange",
          "dash": "dash",
          "width": 2
         },
         "mode": "lines",
         "name": "Meta",
         "showlegend": false,
         "type": "scatter",
         "x": [],
         "xaxis": "x4",
         "y": [],
         "yaxis": "y4"
        },
        {
         "line": {
          "color": "green",
          "dash": "dot",
          "width": 2
         },
         "mode": "lines",
         "name": "Média",
         "showlegend": false,
         "type": "scatter",
         "x": [],
         "xaxis": "x4",
         "y": [],
         "yaxis": "y4"
        }
       ],
       "layout": {
        "annotations": [
         {
          "font": {
           "size": 16
          },
          "showarrow": false,
          "text": "TORNO",
          "x": 0.2375,
          "xanchor": "center",
          "xref": "paper",
          "y": 1,
          "yanchor": "bottom",
          "yref": "paper"
         },
         {
          "font": {
           "size": 16
          },
          "showarrow": false,
          "text": "TRAT. TÉRMICO",
          "x": 0.7625,
          "xanchor": "center",
          "xref": "paper",
          "y": 1,
          "yanchor": "bottom",
          "yref": "paper"
         },
         {
          "font": {
           "size": 16
          },
          "showarrow": false,
          "text": "AJUSTAGEM",
          "x": 0.2375,
          "xanchor": "center",
          "xref": "paper",
          "y": 0.45,
          "yanchor": "bottom",
          "yref": "paper"
         },
         {
          "font": {
           "size": 16
          },
          "showarrow": false,
          "text": "ACAB. EXTERNO",
          "x": 0.7625,
          "xanchor": "center",
          "xref": "paper",
          "y": 0.45,
          "yanchor": "bottom",
          "yref": "paper"
         }
        ],
        "font": {
         "color": "black",
         "size": 15
        },
        "height": 1000,
        "images": [
         {
          "sizex": 0.12,
          "sizey": 0.12,
          "source": "data:image/png;base64,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",
          "x": 0,
          "xanchor": "left",
          "xref": "paper",
          "y": 1.1,
          "yanchor": "top",
          "yref": "paper"
         }
        ],
        "legend": {
         "font": {
          "size": 12
         },
         "title": {
          "text": "Legenda"
         },
         "traceorder": "normal",
         "x": 1.05,
         "y": 1
        },
        "plot_bgcolor": "rgba(0, 0, 0, 0)",
        "template": {
         "data": {
          "bar": [
           {
            "error_x": {
             "color": "#2a3f5f"
            },
            "error_y": {
             "color": "#2a3f5f"
            },
            "marker": {
             "line": {
              "color": "white",
              "width": 0.5
             },
             "pattern": {
              "fillmode": "overlay",
              "size": 10,
              "solidity": 0.2
             }
            },
            "type": "bar"
           }
          ],
          "barpolar": [
           {
            "marker": {
             "line": {
              "color": "white",
              "width": 0.5
             },
             "pattern": {
              "fillmode": "overlay",
              "size": 10,
              "solidity": 0.2
             }
            },
            "type": "barpolar"
           }
          ],
          "carpet": [
           {
            "aaxis": {
             "endlinecolor": "#2a3f5f",
             "gridcolor": "#C8D4E3",
             "linecolor": "#C8D4E3",
             "minorgridcolor": "#C8D4E3",
             "startlinecolor": "#2a3f5f"
            },
            "baxis": {
             "endlinecolor": "#2a3f5f",
             "gridcolor": "#C8D4E3",
             "linecolor": "#C8D4E3",
             "minorgridcolor": "#C8D4E3",
             "startlinecolor": "#2a3f5f"
            },
            "type": "carpet"
           }
          ],
          "choropleth": [
           {
            "colorbar": {
             "outlinewidth": 0,
             "ticks": ""
            },
            "type": "choropleth"
           }
          ],
          "contour": [
           {
            "colorbar": {
             "outlinewidth": 0,
             "ticks": ""
            },
            "colorscale": [
             [
              0,
              "#0d0887"
             ],
             [
              0.1111111111111111,
              "#46039f"
             ],
             [
              0.2222222222222222,
              "#7201a8"
             ],
             [
              0.3333333333333333,
              "#9c179e"
             ],
             [
              0.4444444444444444,
              "#bd3786"
             ],
             [
              0.5555555555555556,
              "#d8576b"
             ],
             [
              0.6666666666666666,
              "#ed7953"
             ],
             [
              0.7777777777777778,
              "#fb9f3a"
             ],
             [
              0.8888888888888888,
              "#fdca26"
             ],
             [
              1,
              "#f0f921"
             ]
            ],
            "type": "contour"
           }
          ],
          "contourcarpet": [
           {
            "colorbar": {
             "outlinewidth": 0,
             "ticks": ""
            },
            "type": "contourcarpet"
           }
          ],
          "heatmap": [
           {
            "colorbar": {
             "outlinewidth": 0,
             "ticks": ""
            },
            "colorscale": [
             [
              0,
              "#0d0887"
             ],
             [
              0.1111111111111111,
              "#46039f"
             ],
             [
              0.2222222222222222,
              "#7201a8"
             ],
             [
              0.3333333333333333,
              "#9c179e"
             ],
             [
              0.4444444444444444,
              "#bd3786"
             ],
             [
              0.5555555555555556,
              "#d8576b"
             ],
             [
              0.6666666666666666,
              "#ed7953"
             ],
             [
              0.7777777777777778,
              "#fb9f3a"
             ],
             [
              0.8888888888888888,
              "#fdca26"
             ],
             [
              1,
              "#f0f921"
             ]
            ],
            "type": "heatmap"
           }
          ],
          "heatmapgl": [
           {
            "colorbar": {
             "outlinewidth": 0,
             "ticks": ""
            },
            "colorscale": [
             [
              0,
              "#0d0887"
             ],
             [
              0.1111111111111111,
              "#46039f"
             ],
             [
              0.2222222222222222,
              "#7201a8"
             ],
             [
              0.3333333333333333,
              "#9c179e"
             ],
             [
              0.4444444444444444,
              "#bd3786"
             ],
             [
              0.5555555555555556,
              "#d8576b"
             ],
             [
              0.6666666666666666,
              "#ed7953"
             ],
             [
              0.7777777777777778,
              "#fb9f3a"
             ],
             [
              0.8888888888888888,
              "#fdca26"
             ],
             [
              1,
              "#f0f921"
             ]
            ],
            "type": "heatmapgl"
           }
          ],
          "histogram": [
           {
            "marker": {
             "pattern": {
              "fillmode": "overlay",
              "size": 10,
              "solidity": 0.2
             }
            },
            "type": "histogram"
           }
          ],
          "histogram2d": [
           {
            "colorbar": {
             "outlinewidth": 0,
             "ticks": ""
            },
            "colorscale": [
             [
              0,
              "#0d0887"
             ],
             [
              0.1111111111111111,
              "#46039f"
             ],
             [
              0.2222222222222222,
              "#7201a8"
             ],
             [
              0.3333333333333333,
              "#9c179e"
             ],
             [
              0.4444444444444444,
              "#bd3786"
             ],
             [
              0.5555555555555556,
              "#d8576b"
             ],
             [
              0.6666666666666666,
              "#ed7953"
             ],
             [
              0.7777777777777778,
              "#fb9f3a"
             ],
             [
              0.8888888888888888,
              "#fdca26"
             ],
             [
              1,
              "#f0f921"
             ]
            ],
            "type": "histogram2d"
           }
          ],
          "histogram2dcontour": [
           {
            "colorbar": {
             "outlinewidth": 0,
             "ticks": ""
            },
            "colorscale": [
             [
              0,
              "#0d0887"
             ],
             [
              0.1111111111111111,
              "#46039f"
             ],
             [
              0.2222222222222222,
              "#7201a8"
             ],
             [
              0.3333333333333333,
              "#9c179e"
             ],
             [
              0.4444444444444444,
              "#bd3786"
             ],
             [
              0.5555555555555556,
              "#d8576b"
             ],
             [
              0.6666666666666666,
              "#ed7953"
             ],
             [
              0.7777777777777778,
              "#fb9f3a"
             ],
             [
              0.8888888888888888,
              "#fdca26"
             ],
             [
              1,
              "#f0f921"
             ]
            ],
            "type": "histogram2dcontour"
           }
          ],
          "mesh3d": [
           {
            "colorbar": {
             "outlinewidth": 0,
             "ticks": ""
            },
            "type": "mesh3d"
           }
          ],
          "parcoords": [
           {
            "line": {
             "colorbar": {
              "outlinewidth": 0,
              "ticks": ""
             }
            },
            "type": "parcoords"
           }
          ],
          "pie": [
           {
            "automargin": true,
            "type": "pie"
           }
          ],
          "scatter": [
           {
            "fillpattern": {
             "fillmode": "overlay",
             "size": 10,
             "solidity": 0.2
            },
            "type": "scatter"
           }
          ],
          "scatter3d": [
           {
            "line": {
             "colorbar": {
              "outlinewidth": 0,
              "ticks": ""
             }
            },
            "marker": {
             "colorbar": {
              "outlinewidth": 0,
              "ticks": ""
             }
            },
            "type": "scatter3d"
           }
          ],
          "scattercarpet": [
           {
            "marker": {
             "colorbar": {
              "outlinewidth": 0,
              "ticks": ""
             }
            },
            "type": "scattercarpet"
           }
          ],
          "scattergeo": [
           {
            "marker": {
             "colorbar": {
              "outlinewidth": 0,
              "ticks": ""
             }
            },
            "type": "scattergeo"
           }
          ],
          "scattergl": [
           {
            "marker": {
             "colorbar": {
              "outlinewidth": 0,
              "ticks": ""
             }
            },
            "type": "scattergl"
           }
          ],
          "scattermapbox": [
           {
            "marker": {
             "colorbar": {
              "outlinewidth": 0,
              "ticks": ""
             }
            },
            "type": "scattermapbox"
           }
          ],
          "scatterpolar": [
           {
            "marker": {
             "colorbar": {
              "outlinewidth": 0,
              "ticks": ""
             }
            },
            "type": "scatterpolar"
           }
          ],
          "scatterpolargl": [
           {
            "marker": {
             "colorbar": {
              "outlinewidth": 0,
              "ticks": ""
             }
            },
            "type": "scatterpolargl"
           }
          ],
          "scatterternary": [
           {
            "marker": {
             "colorbar": {
              "outlinewidth": 0,
              "ticks": ""
             }
            },
            "type": "scatterternary"
           }
          ],
          "surface": [
           {
            "colorbar": {
             "outlinewidth": 0,
             "ticks": ""
            },
            "colorscale": [
             [
              0,
              "#0d0887"
             ],
             [
              0.1111111111111111,
              "#46039f"
             ],
             [
              0.2222222222222222,
              "#7201a8"
             ],
             [
              0.3333333333333333,
              "#9c179e"
             ],
             [
              0.4444444444444444,
              "#bd3786"
             ],
             [
              0.5555555555555556,
              "#d8576b"
             ],
             [
              0.6666666666666666,
              "#ed7953"
             ],
             [
              0.7777777777777778,
              "#fb9f3a"
             ],
             [
              0.8888888888888888,
              "#fdca26"
             ],
             [
              1,
              "#f0f921"
             ]
            ],
            "type": "surface"
           }
          ],
          "table": [
           {
            "cells": {
             "fill": {
              "color": "#EBF0F8"
             },
             "line": {
              "color": "white"
             }
            },
            "header": {
             "fill": {
              "color": "#C8D4E3"
             },
             "line": {
              "color": "white"
             }
            },
            "type": "table"
           }
          ]
         },
         "layout": {
          "annotationdefaults": {
           "arrowcolor": "#2a3f5f",
           "arrowhead": 0,
           "arrowwidth": 1
          },
          "autotypenumbers": "strict",
          "coloraxis": {
           "colorbar": {
            "outlinewidth": 0,
            "ticks": ""
           }
          },
          "colorscale": {
           "diverging": [
            [
             0,
             "#8e0152"
            ],
            [
             0.1,
             "#c51b7d"
            ],
            [
             0.2,
             "#de77ae"
            ],
            [
             0.3,
             "#f1b6da"
            ],
            [
             0.4,
             "#fde0ef"
            ],
            [
             0.5,
             "#f7f7f7"
            ],
            [
             0.6,
             "#e6f5d0"
            ],
            [
             0.7,
             "#b8e186"
            ],
            [
             0.8,
             "#7fbc41"
            ],
            [
             0.9,
             "#4d9221"
            ],
            [
             1,
             "#276419"
            ]
           ],
           "sequential": [
            [
             0,
             "#0d0887"
            ],
            [
             0.1111111111111111,
             "#46039f"
            ],
            [
             0.2222222222222222,
             "#7201a8"
            ],
            [
             0.3333333333333333,
             "#9c179e"
            ],
            [
             0.4444444444444444,
             "#bd3786"
            ],
            [
             0.5555555555555556,
             "#d8576b"
            ],
            [
             0.6666666666666666,
             "#ed7953"
            ],
            [
             0.7777777777777778,
             "#fb9f3a"
            ],
            [
             0.8888888888888888,
             "#fdca26"
            ],
            [
             1,
             "#f0f921"
            ]
           ],
           "sequentialminus": [
            [
             0,
             "#0d0887"
            ],
            [
             0.1111111111111111,
             "#46039f"
            ],
            [
             0.2222222222222222,
             "#7201a8"
            ],
            [
             0.3333333333333333,
             "#9c179e"
            ],
            [
             0.4444444444444444,
             "#bd3786"
            ],
            [
             0.5555555555555556,
             "#d8576b"
            ],
            [
             0.6666666666666666,
             "#ed7953"
            ],
            [
             0.7777777777777778,
             "#fb9f3a"
            ],
            [
             0.8888888888888888,
             "#fdca26"
            ],
            [
             1,
             "#f0f921"
            ]
           ]
          },
          "colorway": [
           "#636efa",
           "#EF553B",
           "#00cc96",
           "#ab63fa",
           "#FFA15A",
           "#19d3f3",
           "#FF6692",
           "#B6E880",
           "#FF97FF",
           "#FECB52"
          ],
          "font": {
           "color": "#2a3f5f"
          },
          "geo": {
           "bgcolor": "white",
           "lakecolor": "white",
           "landcolor": "white",
           "showlakes": true,
           "showland": true,
           "subunitcolor": "#C8D4E3"
          },
          "hoverlabel": {
           "align": "left"
          },
          "hovermode": "closest",
          "mapbox": {
           "style": "light"
          },
          "paper_bgcolor": "white",
          "plot_bgcolor": "white",
          "polar": {
           "angularaxis": {
            "gridcolor": "#EBF0F8",
            "linecolor": "#EBF0F8",
            "ticks": ""
           },
           "bgcolor": "white",
           "radialaxis": {
            "gridcolor": "#EBF0F8",
            "linecolor": "#EBF0F8",
            "ticks": ""
           }
          },
          "scene": {
           "xaxis": {
            "backgroundcolor": "white",
            "gridcolor": "#DFE8F3",
            "gridwidth": 2,
            "linecolor": "#EBF0F8",
            "showbackground": true,
            "ticks": "",
            "zerolinecolor": "#EBF0F8"
           },
           "yaxis": {
            "backgroundcolor": "white",
            "gridcolor": "#DFE8F3",
            "gridwidth": 2,
            "linecolor": "#EBF0F8",
            "showbackground": true,
            "ticks": "",
            "zerolinecolor": "#EBF0F8"
           },
           "zaxis": {
            "backgroundcolor": "white",
            "gridcolor": "#DFE8F3",
            "gridwidth": 2,
            "linecolor": "#EBF0F8",
            "showbackground": true,
            "ticks": "",
            "zerolinecolor": "#EBF0F8"
           }
          },
          "shapedefaults": {
           "line": {
            "color": "#2a3f5f"
           }
          },
          "ternary": {
           "aaxis": {
            "gridcolor": "#DFE8F3",
            "linecolor": "#A2B1C6",
            "ticks": ""
           },
           "baxis": {
            "gridcolor": "#DFE8F3",
            "linecolor": "#A2B1C6",
            "ticks": ""
           },
           "bgcolor": "white",
           "caxis": {
            "gridcolor": "#DFE8F3",
            "linecolor": "#A2B1C6",
            "ticks": ""
           }
          },
          "title": {
           "x": 0.05
          },
          "xaxis": {
           "automargin": true,
           "gridcolor": "#EBF0F8",
           "linecolor": "#EBF0F8",
           "ticks": "",
           "title": {
            "standoff": 15
           },
           "zerolinecolor": "#EBF0F8",
           "zerolinewidth": 2
          },
          "yaxis": {
           "automargin": true,
           "gridcolor": "#EBF0F8",
           "linecolor": "#EBF0F8",
           "ticks": "",
           "title": {
            "standoff": 15
           },
           "zerolinecolor": "#EBF0F8",
           "zerolinewidth": 2
          }
         }
        },
        "title": {
         "font": {
          "color": "black"
         },
         "text": "Relatório Mensal - Março",
         "x": 0.5,
         "xanchor": "center"
        },
        "width": 1500,
        "xaxis": {
         "anchor": "y",
         "domain": [
          0,
          0.475
         ],
         "tickformat": "%d/%m"
        },
        "xaxis2": {
         "anchor": "y2",
         "domain": [
          0.525,
          1
         ],
         "tickformat": "%d/%m"
        },
        "xaxis3": {
         "anchor": "y3",
         "domain": [
          0,
          0.475
         ],
         "tickformat": "%d/%m"
        },
        "xaxis4": {
         "anchor": "y4",
         "domain": [
          0.525,
          1
         ],
         "tickformat": "%d/%m"
        },
        "yaxis": {
         "anchor": "x",
         "domain": [
          0.55,
          1
         ]
        },
        "yaxis2": {
         "anchor": "x2",
         "domain": [
          0.55,
          1
         ]
        },
        "yaxis3": {
         "anchor": "x3",
         "domain": [
          0,
          0.45
         ]
        },
        "yaxis4": {
         "anchor": "x4",
         "domain": [
          0,
          0.45
         ]
        }
       }
      }
     },
     "metadata": {},
     "output_type": "display_data"
    }
   ],
   "source": [
    "# Definir a localidade para português do Brasil\n",
    "locale.setlocale(locale.LC_TIME, 'pt_BR.utf8')\n",
    "\n",
    "# Supondo que df_pivot já foi criado corretamente com as datas como índice e as unidades como colunas\n",
    "df_pivot.index = pd.to_datetime(df_pivot.index, format='%d/%m/%Y')\n",
    "df_pivot = df_pivot[~df_pivot.index.weekday.isin([5, 6])]\n",
    "\n",
    "\n",
    "# Extrair os meses do DataFrame em português\n",
    "df_pivot['Month'] = df_pivot.index.strftime('%B')  # Nome do mês em português\n",
    "\n",
    "# Filtrar os dados para um mês específico, como \"Setembro\"\n",
    "mes = 'março'  # Especifique o mês desejado em português (ex: 'janeiro', 'fevereiro', etc.)\n",
    "filtered_df = df_pivot[df_pivot['Month'].str.lower() == mes.lower()]\n",
    "\n",
    "# Certificar que os valores NaN são preenchidos para evitar quebras na linha\n",
    "filtered_df = filtered_df.fillna(0)\n",
    "\n",
    "# Caminho da imagem\n",
    "image_path = \"I:\\\\22 Gráficos e indicadores produção\\\\GRAMPOS\\\\Relatório\\\\AESA.png\"  # Substitua pelo caminho correto da sua imagem\n",
    "\n",
    "# Converter a imagem para base64\n",
    "with open(image_path, \"rb\") as image_file:\n",
    "    encoded_image = base64.b64encode(image_file.read()).decode()\n",
    "\n",
    "# Criar o gráfico com subplots 2x2\n",
    "fig = make_subplots(\n",
    "    rows=2, cols=2,\n",
    "    subplot_titles=(\"TORNO\", \"TRAT. TÉRMICO\", \"AJUSTAGEM\", \"ACAB. EXTERNO\"),\n",
    "    shared_xaxes=False,\n",
    "    shared_yaxes=False,\n",
    "    vertical_spacing=0.1,\n",
    "    horizontal_spacing=0.05\n",
    ")\n",
    "\n",
    "# Lista das unidades que serão plotadas\n",
    "units = ['TORNO', 'TRAT. TÉRMICO', 'AJUSTAGEM', 'ACAB. EXTERNO']\n",
    "\n",
    "# Definir a meta para cada unidade\n",
    "meta_values = {\n",
    "    'TORNO': 900,\n",
    "    'TRAT. TÉRMICO': 3000,\n",
    "    'AJUSTAGEM': 4000,\n",
    "    'ACAB. EXTERNO': 4000\n",
    "}\n",
    "\n",
    "# Adicionar cada gráfico no subplot\n",
    "for i, unit in enumerate(units):\n",
    "    # Determinar a posição do gráfico\n",
    "    row = (i // 2) + 1\n",
    "    col = (i % 2) + 1\n",
    "    \n",
    "    # Calcular a média dos valores filtrados para a unidade\n",
    "    mean_value = filtered_df[unit].mean()\n",
    "    \n",
    "    # Adicionar a linha de produção com cor azul\n",
    "    show_legend_production = i == 0  # Mostrar legenda apenas para o primeiro gráfico\n",
    "    fig.add_trace(go.Scatter(\n",
    "        x=filtered_df.index,\n",
    "        y=filtered_df[unit],\n",
    "        mode='lines+markers',\n",
    "        name='Produção',\n",
    "        marker=dict(size=10),\n",
    "        line=dict(color='blue', width=2),  # Cor azul para todas as linhas\n",
    "        hovertemplate=\"<b>Data</b>: %{x}<br><b>Produção</b>: %{y}<extra></extra>\",\n",
    "        showlegend=show_legend_production\n",
    "    ), row=row, col=col)\n",
    "    \n",
    "    # Adicionar a linha de meta (laranja)\n",
    "    show_legend_meta = i == 0  # Mostrar legenda apenas para o primeiro gráfico\n",
    "    fig.add_trace(go.Scatter(\n",
    "        x=filtered_df.index,\n",
    "        y=[meta_values[unit]] * len(filtered_df),\n",
    "        mode='lines',\n",
    "        name='Meta',\n",
    "        line=dict(color='orange', width=2, dash='dash'),\n",
    "        showlegend=show_legend_meta\n",
    "    ), row=row, col=col)\n",
    "    \n",
    "    # Adicionar a linha da média (verde)\n",
    "    show_legend_mean = i == 0  # Mostrar legenda apenas para o primeiro gráfico\n",
    "    fig.add_trace(go.Scatter(\n",
    "        x=filtered_df.index,\n",
    "        y=[mean_value] * len(filtered_df),\n",
    "        mode='lines',\n",
    "        name='Média',\n",
    "        line=dict(color='green', width=2, dash='dot'),\n",
    "        showlegend=show_legend_mean\n",
    "    ), row=row, col=col)\n",
    "\n",
    "# Configurar o layout geral do gráfico\n",
    "fig.update_layout(\n",
    "    title={\n",
    "        'text': f'Relatório Mensal - {mes.capitalize()}',\n",
    "        'x': 0.5,\n",
    "        'xanchor': 'center'\n",
    "    },\n",
    "    height=1000, width=1500,\n",
    "    template='plotly_white',\n",
    "    plot_bgcolor='rgba(0, 0, 0, 0)',\n",
    "    font=dict(size=15, color=\"black\"),\n",
    "    title_font_color=\"black\",\n",
    "    legend=dict(\n",
    "        title=\"Legenda\",\n",
    "        x=1.05,  # Posicionar a legenda à direita\n",
    "        y=1,     # Posicionar a legenda no topo\n",
    "        traceorder=\"normal\",\n",
    "        font=dict(size=12)\n",
    "    ),\n",
    "    images=[dict(\n",
    "        source=f\"data:image/png;base64,{encoded_image}\",\n",
    "        xref=\"paper\", yref=\"paper\",\n",
    "        x=0, y=1.1,\n",
    "        sizex=0.12, sizey=0.12, # tamanho do logo\n",
    "        xanchor=\"left\", yanchor=\"top\"\n",
    "    )]\n",
    ")\n",
    "\n",
    "# Ajustar o formato das datas no eixo x\n",
    "for i in range(1, 3):\n",
    "    for j in range(1, 3):\n",
    "        fig.update_xaxes(\n",
    "            tickformat=\"%d/%m\",  # Formato: dia/mês\n",
    "            row=i, col=j\n",
    "        )\n",
    "\n",
    "# Mostrar o gráfico\n",
    "fig.show()"
   ]
  },
  {
   "cell_type": "code",
   "execution_count": 56,
   "metadata": {},
   "outputs": [
    {
     "data": {
      "text/plain": [
       "''"
      ]
     },
     "execution_count": 56,
     "metadata": {},
     "output_type": "execute_result"
    }
   ],
   "source": [
    "# Definir a localidade para português do Brasil\n",
    "locale.setlocale(locale.LC_TIME, 'pt_BR.utf8')\n",
    "\n",
    "# Caminho onde as imagens dos gráficos serão salvas\n",
    "output_dir = \"I:\\\\22 Gráficos e indicadores produção\\\\GRAMPOS\\\\Relatório Mensal\\\\\"\n",
    "\n",
    "# Caminho do logo\n",
    "logo_path = \"I:\\\\22 Gráficos e indicadores produção\\\\GRAMPOS\\\\Relatório\\\\AESA.png\"\n",
    "\n",
    "# Extrair os meses do DataFrame em português\n",
    "df_pivot['Month'] = df_pivot.index.strftime('%B')\n",
    "\n",
    "# Filtrar para mostrar apenas os dados de 2024 e até o dia anterior ao atual\n",
    "data_atual = datetime.now().date()\n",
    "df_pivot = df_pivot[(df_pivot.index.year == 2025) & (df_pivot.index < pd.Timestamp(data_atual))]\n",
    "df_pivot = df_pivot[~df_pivot.index.weekday.isin([5, 6])]\n",
    "\n",
    "\n",
    "# Filtrar os dados para o mês desejado\n",
    "mes = 'março'  # Exemplo\n",
    "filtered_df = df_pivot[df_pivot['Month'].str.lower() == mes.lower()]\n",
    "\n",
    "# Listas das unidades por página\n",
    "pages = {\n",
    "    \"Página 1\": ['CORTE', 'APONTAMENTO', 'GRAVAÇÃO', 'LAMINAÇÃO'],\n",
    "    \"Página 2\": ['DOBRA FRIA', 'DOBRA QUENTE', 'KTL', 'EMBALAGEM'],\n",
    "    \"Página 3\": ['TORNO', 'TRAT. TÉRMICO', 'AJUSTAGEM', 'ACAB. EXTERNO']\n",
    "}\n",
    "\n",
    "# Definir as metas para cada unidade\n",
    "meta_values = {\n",
    "    'CORTE': 80, 'APONTAMENTO': 80, 'GRAVAÇÃO': 80, 'LAMINAÇÃO': 80,\n",
    "    'DOBRA FRIA': 80, 'DOBRA QUENTE': 80, 'KTL': 80, 'EMBALAGEM': 80,\n",
    "    'TORNO': 80, 'TRAT. TÉRMICO': 80, 'AJUSTAGEM': 80, 'ACAB. EXTERNO': 80\n",
    "}\n",
    "\n",
    "# Criar os gráficos e salvar como imagens para cada unidade e página\n",
    "for page, units in pages.items():\n",
    "    for unit in units:\n",
    "        fig = make_subplots()\n",
    "        mean_value = filtered_df[unit].mean()\n",
    "        fig.add_trace(go.Scatter(\n",
    "            x=filtered_df.index,\n",
    "            y=filtered_df.get(unit, pd.Series([0] * len(filtered_df), index=filtered_df.index)),\n",
    "            mode='lines+markers',\n",
    "            name='Produção',\n",
    "            marker=dict(size=8),\n",
    "            line=dict(color='blue', width=2)\n",
    "        ))\n",
    "        fig.add_trace(go.Scatter(\n",
    "            x=filtered_df.index,\n",
    "            y=[meta_values[unit]] * len(filtered_df),\n",
    "            mode='lines',\n",
    "            name='Meta',\n",
    "            line=dict(color='orange', width=2, dash='dash')\n",
    "        ))\n",
    "        fig.add_trace(go.Scatter(\n",
    "            x=filtered_df.index,\n",
    "            y=[mean_value] * len(filtered_df),\n",
    "            mode='lines',\n",
    "            name='Média',\n",
    "            line=dict(color='green', width=2, dash='dot')\n",
    "        ))\n",
    "        fig.update_layout(\n",
    "            title=f'{unit} - {mes.capitalize()}',\n",
    "            height=400, width=600,\n",
    "            template='plotly_white',\n",
    "            legend=dict(\n",
    "                title=\"Legenda\",\n",
    "                x=1.05,\n",
    "                y=1,\n",
    "                traceorder=\"normal\"\n",
    "            )\n",
    "        )\n",
    "        # Salvar a imagem\n",
    "        fig.write_image(f\"{output_dir}{unit}_grafico.png\")\n",
    "\n",
    "# Criar o PDF com FPDF na orientação paisagem (L)\n",
    "pdf = FPDF(orientation='L', unit='mm', format='A4')\n",
    "pdf.set_auto_page_break(auto=True, margin=15)\n",
    "\n",
    "for page, units in pages.items():\n",
    "    pdf.add_page()\n",
    "\n",
    "    # Adicionar o logo\n",
    "    pdf.image(logo_path, 10, 8, 33)\n",
    "\n",
    "    # Adicionar o título da página\n",
    "    pdf.set_font('Arial', 'B', 16)\n",
    "    pdf.cell(0, 10, f'Relatório Mensal - {mes.capitalize()}', 0, 1, 'C')\n",
    "\n",
    "    # Adicionar gráficos ao PDF\n",
    "    pdf.set_font('Arial', '', 12)\n",
    "    x_offset = 10\n",
    "    y_offset = 40\n",
    "    for i, unit in enumerate(units):\n",
    "        # Determinar a posição do gráfico\n",
    "        if i % 2 == 0 and i != 0:\n",
    "            x_offset = 10\n",
    "            y_offset += 100  # Pular linha após dois gráficos\n",
    "\n",
    "        # Adicionar o gráfico da unidade\n",
    "        pdf.image(f\"{output_dir}{unit}_grafico.png\", x=x_offset, y=y_offset, w=130)  # Ajuste de largura para orientação paisagem\n",
    "        x_offset += 150  # Mover para a próxima coluna\n",
    "\n",
    "# Salvar o PDF final\n",
    "pdf.output(f\"{output_dir}Relatorio_Mensal_Completo_Paisagem.pdf\")\n"
   ]
  },
  {
   "cell_type": "code",
   "execution_count": 57,
   "metadata": {},
   "outputs": [
    {
     "name": "stdout",
     "output_type": "stream",
     "text": [
      "PDF salvo em: I:\\22 Gráficos e indicadores produção\\GRAMPOS\\Relatório Mensal\\Relatorio_Mensal.pdf\n"
     ]
    }
   ],
   "source": [
    "# Definir a localidade para português do Brasil\n",
    "locale.setlocale(locale.LC_TIME, 'pt_BR.utf8')\n",
    "\n",
    "# Caminho onde as imagens dos gráficos serão salvas\n",
    "output_dir = \"I:\\\\22 Gráficos e indicadores produção\\\\GRAMPOS\\\\Relatório Mensal\\\\\"\n",
    "\n",
    "# Caminho do logo\n",
    "logo_path = \"I:\\\\22 Gráficos e indicadores produção\\\\GRAMPOS\\\\Relatório\\\\AESA.png\"\n",
    "\n",
    "# Filtrar para mostrar apenas os dados de 2024 e até o dia anterior ao atual\n",
    "data_atual = datetime.now().date()\n",
    "df_pivot = df_pivot[(df_pivot.index.year == 2025) & (df_pivot.index < pd.Timestamp(data_atual))]\n",
    "df_pivot = df_pivot[~df_pivot.index.weekday.isin([5, 6])]\n",
    "\n",
    "\n",
    "# Extrair os meses do DataFrame em português\n",
    "df_pivot['Month'] = df_pivot.index.strftime('%B')\n",
    "\n",
    "# Filtrar os dados para o mês desejado\n",
    "mes = 'março'  # Exemplo\n",
    "filtered_df = df_pivot[df_pivot['Month'].str.lower() == mes.lower()]\n",
    "\n",
    "# Verificar se há dados ausentes ou nulos\n",
    "filtered_df = filtered_df.fillna(0)  # Substituir valores nulos por 0\n",
    "\n",
    "# Listas das unidades por página\n",
    "pages = {\n",
    "    \"Página 1\": ['CORTE', 'APONTAMENTO', 'GRAVAÇÃO', 'LAMINAÇÃO'],\n",
    "    \"Página 2\": ['DOBRA FRIA', 'DOBRA QUENTE', 'KTL', 'EMBALAGEM'],\n",
    "    \"Página 3\": ['TORNO', 'TRAT. TÉRMICO', 'AJUSTAGEM', 'ACAB. EXTERNO']\n",
    "}\n",
    "\n",
    "# Definir as metas para cada unidade\n",
    "meta_values = {\n",
    "    'CORTE': 8000, 'APONTAMENTO': 5000, 'GRAVAÇÃO': 4000, 'LAMINAÇÃO': 6000,\n",
    "    'DOBRA FRIA': 6000, 'DOBRA QUENTE': 3500, 'KTL': 5000, 'EMBALAGEM': 5000,\n",
    "    'TORNO': 900, 'TRAT. TÉRMICO': 3000, 'AJUSTAGEM': 4000, 'ACAB. EXTERNO': 4000\n",
    "}\n",
    "\n",
    "# Classe personalizada para incluir o rodapé\n",
    "class PDF(FPDF):\n",
    "    def footer(self):\n",
    "        # Posição a 10 mm do fim\n",
    "        self.set_y(-10)\n",
    "        self.set_font('Arial', 'I', 8)\n",
    "        # Texto do rodapé\n",
    "        generation_time = datetime.now().strftime('%d/%m/%Y %H:%M:%S')\n",
    "        self.cell(0, 10, f'Depto de Engenharia - by MES AESA - {generation_time}', 0, 0, 'C')\n",
    "\n",
    "# Criar o PDF com FPDF na orientação paisagem (L)\n",
    "pdf = PDF(orientation='L', unit='mm', format='A4')\n",
    "pdf.set_auto_page_break(auto=True, margin=15)\n",
    "\n",
    "# Margens ajustadas para centralizar os gráficos\n",
    "left_margin = 15\n",
    "right_margin = 15\n",
    "top_margin = 15\n",
    "\n",
    "# Criar os gráficos e salvar como imagens para cada unidade e página\n",
    "for page, units in pages.items():\n",
    "    for unit in units:\n",
    "        fig = make_subplots()\n",
    "        mean_value = filtered_df[unit].mean()\n",
    "        fig.add_trace(go.Scatter(\n",
    "            x=filtered_df.index,\n",
    "            y=filtered_df.get(unit, pd.Series([0] * len(filtered_df), index=filtered_df.index)),\n",
    "            mode='lines+markers',\n",
    "            name='Produção',\n",
    "            marker=dict(size=8),\n",
    "            line=dict(color='blue', width=2)\n",
    "        ))\n",
    "        fig.add_trace(go.Scatter(\n",
    "            x=filtered_df.index,\n",
    "            y=[meta_values[unit]] * len(filtered_df),\n",
    "            mode='lines',\n",
    "            name='Meta',\n",
    "            line=dict(color='orange', width=2, dash='dash')\n",
    "        ))\n",
    "        fig.add_trace(go.Scatter(\n",
    "            x=filtered_df.index,\n",
    "            y=[mean_value] * len(filtered_df),\n",
    "            mode='lines',\n",
    "            name='Média',\n",
    "            line=dict(color='green', width=2, dash='dot')\n",
    "        ))\n",
    "        fig.update_layout(\n",
    "            title={\n",
    "                'text': unit,\n",
    "                'x': 0.5,\n",
    "                'xanchor': 'center'\n",
    "            },\n",
    "            xaxis_title=None,\n",
    "            yaxis_title=None,\n",
    "            height=500, width=700,\n",
    "             font=dict(size=12, color=\"black\"),  # Definir a cor da fonte para preta\n",
    "            template='plotly_white',\n",
    "            legend=dict(\n",
    "                title=\"Legenda\",\n",
    "                x=1.05,\n",
    "                y=1,\n",
    "                traceorder=\"normal\"\n",
    "            )\n",
    "        )\n",
    "        # Atualizar o formato das datas no eixo x para o formato DD/MM\n",
    "        fig.update_xaxes(tickformat=\"%d/%m\")\n",
    "\n",
    "        # Salvar a imagem\n",
    "        fig.write_image(f\"{output_dir}{unit}_grafico.png\")\n",
    "\n",
    "for page, units in pages.items():\n",
    "    pdf.add_page()\n",
    "\n",
    "    # Adicionar o logo\n",
    "    pdf.image(logo_path, x=left_margin, y=8, w=33)\n",
    "\n",
    "    # Adicionar o título da página\n",
    "    pdf.set_font('Arial', 'B', 16)\n",
    "    pdf.cell(0, 5, f'Relatório Mensal - {mes.capitalize()}', 0, 1, 'C')\n",
    "\n",
    "    # Adicionar gráficos ao PDF\n",
    "    pdf.set_font('Arial', '', 12)\n",
    "    x_offset = left_margin\n",
    "    y_offset = top_margin + 5  # Ajuste para descer o primeiro gráfico\n",
    "\n",
    "    for i, unit in enumerate(units):\n",
    "        # Determinar a posição do gráfico\n",
    "        if i % 2 == 0 and i != 0:\n",
    "            x_offset = left_margin\n",
    "            y_offset += 90  # Aumentar o espaçamento vertical para evitar sobreposição\n",
    "\n",
    "        # Adicionar o gráfico da unidade\n",
    "        pdf.image(f\"{output_dir}{unit}_grafico.png\", x=x_offset, y=y_offset, w=130)\n",
    "        x_offset += 130  # Mover para a próxima coluna com espaçamento ajustado\n",
    "\n",
    "# Salvar o PDF final\n",
    "pdf.output(f\"{output_dir}Relatorio_Mensal.pdf\")\n",
    "print(f\"PDF salvo em: {output_dir}Relatorio_Mensal.pdf\")"
   ]
  }
 ],
 "metadata": {
  "kernelspec": {
   "display_name": "Python 3",
   "language": "python",
   "name": "python3"
  },
  "language_info": {
   "codemirror_mode": {
    "name": "ipython",
    "version": 3
   },
   "file_extension": ".py",
   "mimetype": "text/x-python",
   "name": "python",
   "nbconvert_exporter": "python",
   "pygments_lexer": "ipython3",
   "version": "3.13.0"
  }
 },
 "nbformat": 4,
 "nbformat_minor": 2
}
